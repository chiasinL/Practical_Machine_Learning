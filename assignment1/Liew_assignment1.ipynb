{
 "cells": [
  {
   "cell_type": "markdown",
   "id": "381f5db9",
   "metadata": {},
   "source": [
    "# Assignment 1\n",
    "\n",
    "Name        : Chia Sin Liew   \n",
    "Last edited : February 2nd, 2022 \n",
    "\n",
    "The goal of this assignment is to study the K-Nearest Neighbors(K-N) classifier model.\n",
    "\n",
    "- **Part A**: Model optimization via feature selection & varying threshold\n",
    "- **Part B**: Understanding the curse of dimensionality & the fundamental limitation of the K-NN model"
   ]
  },
  {
   "cell_type": "markdown",
   "id": "2b69ce3d",
   "metadata": {},
   "source": [
    "## Part A: Classification of Structured Data\n",
    "\n",
    "### **Dataset**:\n",
    "The *KNNDataset.csv* has 250 samples & 300 features.\n",
    "\n",
    "  - Feature columns: column '0' to column '299'.\n",
    "  - Target column: column 'target'.\n"
   ]
  },
  {
   "cell_type": "markdown",
   "id": "838913da",
   "metadata": {},
   "source": [
    "### **Pre-Processing**:\n",
    "\n",
    "- Load the CSV file as a Pandas DataFrame object\n"
   ]
  },
  {
   "cell_type": "code",
   "execution_count": null,
   "id": "e3907865",
   "metadata": {},
   "outputs": [],
   "source": [
    "import pandas as pd\n",
    "\n",
    "df = pd.read_csv(\"KNNDataset.csv\")\n",
    "df"
   ]
  },
  {
   "cell_type": "markdown",
   "id": "64b09257",
   "metadata": {},
   "source": [
    "  - Create a data frame object for the features and another data frame object for the target"
   ]
  },
  {
   "cell_type": "code",
   "execution_count": null,
   "id": "9b93b291",
   "metadata": {},
   "outputs": [],
   "source": [
    "# Y for target\n",
    "Y = df.target.to_frame()\n",
    "# X for features\n",
    "X = df.drop(columns=[\"id\", \"target\"])\n",
    "\n",
    "print(\"\\nData frame for features(X): \\n\", X.iloc[:6, :6])\n",
    "print(\"\\nDimension of X: \", X.shape)\n",
    "print(\"\\nData frame for target(Y): \\n\", Y)"
   ]
  },
  {
   "cell_type": "markdown",
   "id": "6358b9ae",
   "metadata": {},
   "source": [
    "- Convert the above two data frame objects into two NumPy arrays (you may use te NumPy \"asarray\" function)."
   ]
  },
  {
   "cell_type": "code",
   "execution_count": null,
   "id": "0d5e0bba",
   "metadata": {},
   "outputs": [],
   "source": [
    "import numpy as np\n",
    "\n",
    "X = np.asarray(X)\n",
    "X"
   ]
  },
  {
   "cell_type": "code",
   "execution_count": null,
   "id": "2efa2287",
   "metadata": {},
   "outputs": [],
   "source": [
    "Y = np.asarray(Y)\n",
    "Y"
   ]
  },
  {
   "cell_type": "markdown",
   "id": "27166c98",
   "metadata": {},
   "source": [
    "- Convert the target array type into \"int\""
   ]
  },
  {
   "cell_type": "code",
   "execution_count": null,
   "id": "35db9078",
   "metadata": {
    "scrolled": true
   },
   "outputs": [],
   "source": [
    "print(\"X data type: \", X.dtype)\n",
    "print(\"Y data type: \", Y.dtype)\n",
    "\n",
    "Y = Y.astype(int)\n",
    "print(\"\\nY data type after conversion: \", Y.dtype)"
   ]
  },
  {
   "cell_type": "markdown",
   "id": "89edd23c",
   "metadata": {},
   "source": [
    "- Partition the dataset into training & test subsets: 80% training & 20% test(you may use Scikit_learn's train_test_split() function)"
   ]
  },
  {
   "cell_type": "code",
   "execution_count": null,
   "id": "6bb6e3fe",
   "metadata": {},
   "outputs": [],
   "source": []
  }
 ],
 "metadata": {
  "kernelspec": {
   "display_name": "Python 3 (ipykernel)",
   "language": "python",
   "name": "python3"
  },
  "language_info": {
   "codemirror_mode": {
    "name": "ipython",
    "version": 3
   },
   "file_extension": ".py",
   "mimetype": "text/x-python",
   "name": "python",
   "nbconvert_exporter": "python",
   "pygments_lexer": "ipython3",
   "version": "3.9.9"
  }
 },
 "nbformat": 4,
 "nbformat_minor": 5
}
