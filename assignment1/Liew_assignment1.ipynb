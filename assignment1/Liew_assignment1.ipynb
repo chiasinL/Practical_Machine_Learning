{
 "cells": [
  {
   "cell_type": "markdown",
   "id": "381f5db9",
   "metadata": {},
   "source": [
    "# Assignment 1\n",
    "\n",
    "Name        : Chia Sin Liew   \n",
    "Last edited : February 17th, 2022 \n",
    "\n",
    "The goal of this assignment is to study the K-Nearest Neighbors(K-N) classifier model.\n",
    "\n",
    "- **Part A**: Model optimization via feature selection & varying threshold\n",
    "- **Part B**: Understanding the curse of dimensionality & the fundamental limitation of the K-NN model"
   ]
  },
  {
   "cell_type": "markdown",
   "id": "2b69ce3d",
   "metadata": {},
   "source": [
    "## Part A: Classification of Structured Data\n",
    "\n",
    "You will create a K-NN classifier (using Scikit-Learn) to perform binary classification on the following structured dataset.\n",
    "\n",
    "### **Dataset**:\n",
    "The *KNNDataset.csv* has 250 samples & 300 features.\n",
    "\n",
    "  - Feature columns: column '0' to column '299'.\n",
    "  - Target column: column 'target'.\n"
   ]
  },
  {
   "cell_type": "code",
   "execution_count": 598,
   "id": "47ae0ff4",
   "metadata": {},
   "outputs": [],
   "source": [
    "import pandas as pd\n",
    "import numpy as np\n",
    "import warnings\n",
    "import matplotlib.pyplot as plt\n",
    "from sklearn.preprocessing import StandardScaler\n",
    "from sklearn.model_selection import train_test_split, GridSearchCV, cross_val_predict\n",
    "from sklearn.neighbors import KNeighborsClassifier\n",
    "from sklearn.metrics import confusion_matrix, precision_score, recall_score, f1_score\n",
    "from sklearn.metrics import roc_curve, roc_auc_score, precision_recall_curve\n",
    "from collections import defaultdict\n",
    "from scipy import stats"
   ]
  },
  {
   "cell_type": "markdown",
   "id": "838913da",
   "metadata": {},
   "source": [
    "### **Pre-Processing**:\n",
    "\n",
    "- Load the CSV file as a Pandas DataFrame object\n"
   ]
  },
  {
   "cell_type": "code",
   "execution_count": 599,
   "id": "e3907865",
   "metadata": {},
   "outputs": [
    {
     "data": {
      "text/html": [
       "<div>\n",
       "<style scoped>\n",
       "    .dataframe tbody tr th:only-of-type {\n",
       "        vertical-align: middle;\n",
       "    }\n",
       "\n",
       "    .dataframe tbody tr th {\n",
       "        vertical-align: top;\n",
       "    }\n",
       "\n",
       "    .dataframe thead th {\n",
       "        text-align: right;\n",
       "    }\n",
       "</style>\n",
       "<table border=\"1\" class=\"dataframe\">\n",
       "  <thead>\n",
       "    <tr style=\"text-align: right;\">\n",
       "      <th></th>\n",
       "      <th>id</th>\n",
       "      <th>target</th>\n",
       "      <th>0</th>\n",
       "      <th>1</th>\n",
       "      <th>2</th>\n",
       "      <th>3</th>\n",
       "      <th>4</th>\n",
       "      <th>5</th>\n",
       "      <th>6</th>\n",
       "      <th>7</th>\n",
       "      <th>...</th>\n",
       "      <th>290</th>\n",
       "      <th>291</th>\n",
       "      <th>292</th>\n",
       "      <th>293</th>\n",
       "      <th>294</th>\n",
       "      <th>295</th>\n",
       "      <th>296</th>\n",
       "      <th>297</th>\n",
       "      <th>298</th>\n",
       "      <th>299</th>\n",
       "    </tr>\n",
       "  </thead>\n",
       "  <tbody>\n",
       "    <tr>\n",
       "      <th>0</th>\n",
       "      <td>0</td>\n",
       "      <td>1</td>\n",
       "      <td>-1.067</td>\n",
       "      <td>-1.114</td>\n",
       "      <td>-0.616</td>\n",
       "      <td>0.376</td>\n",
       "      <td>1.090</td>\n",
       "      <td>0.467</td>\n",
       "      <td>-0.422</td>\n",
       "      <td>0.460</td>\n",
       "      <td>...</td>\n",
       "      <td>0.220</td>\n",
       "      <td>-0.339</td>\n",
       "      <td>0.254</td>\n",
       "      <td>-0.179</td>\n",
       "      <td>0.352</td>\n",
       "      <td>0.125</td>\n",
       "      <td>0.347</td>\n",
       "      <td>0.436</td>\n",
       "      <td>0.958</td>\n",
       "      <td>-0.824</td>\n",
       "    </tr>\n",
       "    <tr>\n",
       "      <th>1</th>\n",
       "      <td>1</td>\n",
       "      <td>0</td>\n",
       "      <td>-0.831</td>\n",
       "      <td>0.271</td>\n",
       "      <td>1.716</td>\n",
       "      <td>1.096</td>\n",
       "      <td>1.731</td>\n",
       "      <td>-0.197</td>\n",
       "      <td>1.904</td>\n",
       "      <td>-0.265</td>\n",
       "      <td>...</td>\n",
       "      <td>-0.765</td>\n",
       "      <td>-0.735</td>\n",
       "      <td>-1.158</td>\n",
       "      <td>2.554</td>\n",
       "      <td>0.856</td>\n",
       "      <td>-1.506</td>\n",
       "      <td>0.462</td>\n",
       "      <td>-0.029</td>\n",
       "      <td>-1.932</td>\n",
       "      <td>-0.343</td>\n",
       "    </tr>\n",
       "    <tr>\n",
       "      <th>2</th>\n",
       "      <td>2</td>\n",
       "      <td>0</td>\n",
       "      <td>0.099</td>\n",
       "      <td>1.390</td>\n",
       "      <td>-0.732</td>\n",
       "      <td>-1.065</td>\n",
       "      <td>0.005</td>\n",
       "      <td>-0.081</td>\n",
       "      <td>-1.450</td>\n",
       "      <td>0.317</td>\n",
       "      <td>...</td>\n",
       "      <td>-1.311</td>\n",
       "      <td>0.799</td>\n",
       "      <td>-1.001</td>\n",
       "      <td>1.544</td>\n",
       "      <td>0.575</td>\n",
       "      <td>-0.309</td>\n",
       "      <td>-0.339</td>\n",
       "      <td>-0.148</td>\n",
       "      <td>-0.646</td>\n",
       "      <td>0.725</td>\n",
       "    </tr>\n",
       "    <tr>\n",
       "      <th>3</th>\n",
       "      <td>3</td>\n",
       "      <td>1</td>\n",
       "      <td>-0.989</td>\n",
       "      <td>-0.916</td>\n",
       "      <td>-1.343</td>\n",
       "      <td>0.145</td>\n",
       "      <td>0.543</td>\n",
       "      <td>0.636</td>\n",
       "      <td>1.127</td>\n",
       "      <td>0.189</td>\n",
       "      <td>...</td>\n",
       "      <td>-1.370</td>\n",
       "      <td>1.093</td>\n",
       "      <td>0.596</td>\n",
       "      <td>-0.589</td>\n",
       "      <td>-0.649</td>\n",
       "      <td>-0.163</td>\n",
       "      <td>-0.958</td>\n",
       "      <td>-1.081</td>\n",
       "      <td>0.805</td>\n",
       "      <td>3.401</td>\n",
       "    </tr>\n",
       "    <tr>\n",
       "      <th>4</th>\n",
       "      <td>4</td>\n",
       "      <td>0</td>\n",
       "      <td>0.811</td>\n",
       "      <td>-1.509</td>\n",
       "      <td>0.522</td>\n",
       "      <td>-0.360</td>\n",
       "      <td>-0.220</td>\n",
       "      <td>-0.959</td>\n",
       "      <td>0.334</td>\n",
       "      <td>-0.566</td>\n",
       "      <td>...</td>\n",
       "      <td>-0.178</td>\n",
       "      <td>0.718</td>\n",
       "      <td>-1.017</td>\n",
       "      <td>1.249</td>\n",
       "      <td>-0.596</td>\n",
       "      <td>-0.445</td>\n",
       "      <td>1.751</td>\n",
       "      <td>1.442</td>\n",
       "      <td>-0.393</td>\n",
       "      <td>-0.643</td>\n",
       "    </tr>\n",
       "    <tr>\n",
       "      <th>...</th>\n",
       "      <td>...</td>\n",
       "      <td>...</td>\n",
       "      <td>...</td>\n",
       "      <td>...</td>\n",
       "      <td>...</td>\n",
       "      <td>...</td>\n",
       "      <td>...</td>\n",
       "      <td>...</td>\n",
       "      <td>...</td>\n",
       "      <td>...</td>\n",
       "      <td>...</td>\n",
       "      <td>...</td>\n",
       "      <td>...</td>\n",
       "      <td>...</td>\n",
       "      <td>...</td>\n",
       "      <td>...</td>\n",
       "      <td>...</td>\n",
       "      <td>...</td>\n",
       "      <td>...</td>\n",
       "      <td>...</td>\n",
       "      <td>...</td>\n",
       "    </tr>\n",
       "    <tr>\n",
       "      <th>245</th>\n",
       "      <td>245</td>\n",
       "      <td>1</td>\n",
       "      <td>-0.068</td>\n",
       "      <td>-0.184</td>\n",
       "      <td>-1.153</td>\n",
       "      <td>0.610</td>\n",
       "      <td>0.414</td>\n",
       "      <td>1.557</td>\n",
       "      <td>-0.234</td>\n",
       "      <td>0.950</td>\n",
       "      <td>...</td>\n",
       "      <td>1.492</td>\n",
       "      <td>1.430</td>\n",
       "      <td>-0.333</td>\n",
       "      <td>-0.200</td>\n",
       "      <td>-1.073</td>\n",
       "      <td>0.797</td>\n",
       "      <td>1.980</td>\n",
       "      <td>1.191</td>\n",
       "      <td>1.032</td>\n",
       "      <td>-0.402</td>\n",
       "    </tr>\n",
       "    <tr>\n",
       "      <th>246</th>\n",
       "      <td>246</td>\n",
       "      <td>0</td>\n",
       "      <td>-0.234</td>\n",
       "      <td>-1.373</td>\n",
       "      <td>-2.050</td>\n",
       "      <td>-0.408</td>\n",
       "      <td>-0.255</td>\n",
       "      <td>0.784</td>\n",
       "      <td>0.986</td>\n",
       "      <td>-0.891</td>\n",
       "      <td>...</td>\n",
       "      <td>-0.996</td>\n",
       "      <td>0.678</td>\n",
       "      <td>1.395</td>\n",
       "      <td>0.714</td>\n",
       "      <td>0.215</td>\n",
       "      <td>-0.537</td>\n",
       "      <td>-1.267</td>\n",
       "      <td>-1.021</td>\n",
       "      <td>0.747</td>\n",
       "      <td>0.128</td>\n",
       "    </tr>\n",
       "    <tr>\n",
       "      <th>247</th>\n",
       "      <td>247</td>\n",
       "      <td>0</td>\n",
       "      <td>-2.327</td>\n",
       "      <td>-1.834</td>\n",
       "      <td>-0.762</td>\n",
       "      <td>0.660</td>\n",
       "      <td>-0.858</td>\n",
       "      <td>-2.764</td>\n",
       "      <td>-0.539</td>\n",
       "      <td>-0.065</td>\n",
       "      <td>...</td>\n",
       "      <td>-1.237</td>\n",
       "      <td>-0.620</td>\n",
       "      <td>0.670</td>\n",
       "      <td>-2.010</td>\n",
       "      <td>0.438</td>\n",
       "      <td>1.972</td>\n",
       "      <td>-0.379</td>\n",
       "      <td>0.676</td>\n",
       "      <td>-1.220</td>\n",
       "      <td>-0.855</td>\n",
       "    </tr>\n",
       "    <tr>\n",
       "      <th>248</th>\n",
       "      <td>248</td>\n",
       "      <td>1</td>\n",
       "      <td>-0.451</td>\n",
       "      <td>-0.204</td>\n",
       "      <td>-0.762</td>\n",
       "      <td>0.261</td>\n",
       "      <td>0.022</td>\n",
       "      <td>-1.487</td>\n",
       "      <td>-1.122</td>\n",
       "      <td>0.141</td>\n",
       "      <td>...</td>\n",
       "      <td>0.729</td>\n",
       "      <td>0.411</td>\n",
       "      <td>2.366</td>\n",
       "      <td>-0.021</td>\n",
       "      <td>0.160</td>\n",
       "      <td>0.045</td>\n",
       "      <td>0.208</td>\n",
       "      <td>-2.117</td>\n",
       "      <td>-0.546</td>\n",
       "      <td>-0.093</td>\n",
       "    </tr>\n",
       "    <tr>\n",
       "      <th>249</th>\n",
       "      <td>249</td>\n",
       "      <td>0</td>\n",
       "      <td>0.725</td>\n",
       "      <td>1.064</td>\n",
       "      <td>1.333</td>\n",
       "      <td>-2.863</td>\n",
       "      <td>0.203</td>\n",
       "      <td>1.898</td>\n",
       "      <td>0.434</td>\n",
       "      <td>1.207</td>\n",
       "      <td>...</td>\n",
       "      <td>-1.028</td>\n",
       "      <td>1.081</td>\n",
       "      <td>0.607</td>\n",
       "      <td>0.550</td>\n",
       "      <td>-2.621</td>\n",
       "      <td>-0.143</td>\n",
       "      <td>-0.544</td>\n",
       "      <td>-1.690</td>\n",
       "      <td>-0.198</td>\n",
       "      <td>0.643</td>\n",
       "    </tr>\n",
       "  </tbody>\n",
       "</table>\n",
       "<p>250 rows × 302 columns</p>\n",
       "</div>"
      ],
      "text/plain": [
       "      id  target      0      1      2      3      4      5      6      7  ...  \\\n",
       "0      0       1 -1.067 -1.114 -0.616  0.376  1.090  0.467 -0.422  0.460  ...   \n",
       "1      1       0 -0.831  0.271  1.716  1.096  1.731 -0.197  1.904 -0.265  ...   \n",
       "2      2       0  0.099  1.390 -0.732 -1.065  0.005 -0.081 -1.450  0.317  ...   \n",
       "3      3       1 -0.989 -0.916 -1.343  0.145  0.543  0.636  1.127  0.189  ...   \n",
       "4      4       0  0.811 -1.509  0.522 -0.360 -0.220 -0.959  0.334 -0.566  ...   \n",
       "..   ...     ...    ...    ...    ...    ...    ...    ...    ...    ...  ...   \n",
       "245  245       1 -0.068 -0.184 -1.153  0.610  0.414  1.557 -0.234  0.950  ...   \n",
       "246  246       0 -0.234 -1.373 -2.050 -0.408 -0.255  0.784  0.986 -0.891  ...   \n",
       "247  247       0 -2.327 -1.834 -0.762  0.660 -0.858 -2.764 -0.539 -0.065  ...   \n",
       "248  248       1 -0.451 -0.204 -0.762  0.261  0.022 -1.487 -1.122  0.141  ...   \n",
       "249  249       0  0.725  1.064  1.333 -2.863  0.203  1.898  0.434  1.207  ...   \n",
       "\n",
       "       290    291    292    293    294    295    296    297    298    299  \n",
       "0    0.220 -0.339  0.254 -0.179  0.352  0.125  0.347  0.436  0.958 -0.824  \n",
       "1   -0.765 -0.735 -1.158  2.554  0.856 -1.506  0.462 -0.029 -1.932 -0.343  \n",
       "2   -1.311  0.799 -1.001  1.544  0.575 -0.309 -0.339 -0.148 -0.646  0.725  \n",
       "3   -1.370  1.093  0.596 -0.589 -0.649 -0.163 -0.958 -1.081  0.805  3.401  \n",
       "4   -0.178  0.718 -1.017  1.249 -0.596 -0.445  1.751  1.442 -0.393 -0.643  \n",
       "..     ...    ...    ...    ...    ...    ...    ...    ...    ...    ...  \n",
       "245  1.492  1.430 -0.333 -0.200 -1.073  0.797  1.980  1.191  1.032 -0.402  \n",
       "246 -0.996  0.678  1.395  0.714  0.215 -0.537 -1.267 -1.021  0.747  0.128  \n",
       "247 -1.237 -0.620  0.670 -2.010  0.438  1.972 -0.379  0.676 -1.220 -0.855  \n",
       "248  0.729  0.411  2.366 -0.021  0.160  0.045  0.208 -2.117 -0.546 -0.093  \n",
       "249 -1.028  1.081  0.607  0.550 -2.621 -0.143 -0.544 -1.690 -0.198  0.643  \n",
       "\n",
       "[250 rows x 302 columns]"
      ]
     },
     "execution_count": 599,
     "metadata": {},
     "output_type": "execute_result"
    }
   ],
   "source": [
    "df = pd.read_csv(\"KNNDataset.csv\")\n",
    "df"
   ]
  },
  {
   "cell_type": "markdown",
   "id": "64b09257",
   "metadata": {},
   "source": [
    "  - Create a data frame object for the features and another data frame object for the target"
   ]
  },
  {
   "cell_type": "code",
   "execution_count": 600,
   "id": "9b93b291",
   "metadata": {},
   "outputs": [
    {
     "name": "stdout",
     "output_type": "stream",
     "text": [
      "\n",
      "Data frame for features(X): \n",
      "        0      1      2      3      4      5\n",
      "0 -1.067 -1.114 -0.616  0.376  1.090  0.467\n",
      "1 -0.831  0.271  1.716  1.096  1.731 -0.197\n",
      "2  0.099  1.390 -0.732 -1.065  0.005 -0.081\n",
      "3 -0.989 -0.916 -1.343  0.145  0.543  0.636\n",
      "4  0.811 -1.509  0.522 -0.360 -0.220 -0.959\n",
      "5  0.739  0.211 -0.836 -1.430 -0.291 -0.989\n",
      "\n",
      "Dimension of X:  (250, 300)\n",
      "\n",
      "Data frame for target(Y): \n",
      "      target\n",
      "0         1\n",
      "1         0\n",
      "2         0\n",
      "3         1\n",
      "4         0\n",
      "..      ...\n",
      "245       1\n",
      "246       0\n",
      "247       0\n",
      "248       1\n",
      "249       0\n",
      "\n",
      "[250 rows x 1 columns]\n",
      "\n",
      "Dimension of Y:  (250, 1)\n"
     ]
    }
   ],
   "source": [
    "# Y for target\n",
    "Y = df.target.to_frame()\n",
    "# X for features\n",
    "X = df.drop(columns=[\"id\", \"target\"])\n",
    "\n",
    "print(\"\\nData frame for features(X): \\n\", X.iloc[:6, :6])\n",
    "print(\"\\nDimension of X: \", X.shape)\n",
    "print(\"\\nData frame for target(Y): \\n\", Y)\n",
    "print(\"\\nDimension of Y: \", Y.shape)"
   ]
  },
  {
   "cell_type": "markdown",
   "id": "6358b9ae",
   "metadata": {},
   "source": [
    "- Convert the above two data frame objects into two NumPy arrays (you may use te NumPy \"asarray\" function)."
   ]
  },
  {
   "cell_type": "code",
   "execution_count": 601,
   "id": "0d5e0bba",
   "metadata": {},
   "outputs": [
    {
     "name": "stdout",
     "output_type": "stream",
     "text": [
      "(250, 300)\n"
     ]
    },
    {
     "data": {
      "text/plain": [
       "array([[-1.067, -1.114, -0.616, ...,  0.436,  0.958, -0.824],\n",
       "       [-0.831,  0.271,  1.716, ..., -0.029, -1.932, -0.343],\n",
       "       [ 0.099,  1.39 , -0.732, ..., -0.148, -0.646,  0.725],\n",
       "       ...,\n",
       "       [-2.327, -1.834, -0.762, ...,  0.676, -1.22 , -0.855],\n",
       "       [-0.451, -0.204, -0.762, ..., -2.117, -0.546, -0.093],\n",
       "       [ 0.725,  1.064,  1.333, ..., -1.69 , -0.198,  0.643]])"
      ]
     },
     "execution_count": 601,
     "metadata": {},
     "output_type": "execute_result"
    }
   ],
   "source": [
    "X = np.asarray(X)\n",
    "print(X.shape)\n",
    "X"
   ]
  },
  {
   "cell_type": "code",
   "execution_count": 602,
   "id": "2efa2287",
   "metadata": {},
   "outputs": [
    {
     "name": "stdout",
     "output_type": "stream",
     "text": [
      "(250,)\n"
     ]
    },
    {
     "data": {
      "text/plain": [
       "array([1, 0, 0, 1, 0, 0, 1, 0, 0, 0, 0, 0, 0, 0, 0, 0, 0, 1, 0, 1, 0, 0,\n",
       "       0, 0, 0, 1, 0, 1, 1, 0, 1, 1, 1, 0, 1, 0, 1, 0, 0, 0, 0, 0, 0, 0,\n",
       "       1, 0, 0, 0, 0, 0, 0, 0, 0, 1, 1, 0, 0, 1, 0, 1, 0, 0, 0, 0, 0, 0,\n",
       "       1, 0, 1, 0, 1, 0, 0, 0, 1, 0, 0, 0, 0, 0, 0, 0, 0, 0, 0, 0, 1, 0,\n",
       "       1, 0, 1, 1, 0, 0, 0, 0, 0, 0, 0, 1, 1, 0, 0, 1, 0, 0, 0, 0, 0, 1,\n",
       "       0, 0, 0, 0, 0, 1, 0, 1, 0, 0, 0, 0, 1, 1, 0, 0, 0, 0, 0, 0, 1, 0,\n",
       "       0, 0, 0, 0, 0, 0, 1, 0, 0, 0, 0, 0, 0, 1, 1, 0, 0, 1, 0, 0, 0, 0,\n",
       "       1, 0, 1, 0, 1, 0, 0, 0, 0, 0, 1, 0, 1, 0, 0, 1, 0, 0, 0, 0, 0, 0,\n",
       "       0, 0, 0, 1, 0, 0, 0, 0, 0, 1, 0, 1, 1, 0, 0, 0, 0, 1, 0, 1, 1, 1,\n",
       "       1, 0, 1, 0, 0, 1, 1, 0, 0, 0, 0, 1, 0, 0, 0, 1, 0, 0, 0, 0, 1, 0,\n",
       "       1, 0, 0, 0, 0, 0, 0, 0, 0, 1, 1, 0, 1, 0, 0, 0, 0, 0, 0, 0, 0, 0,\n",
       "       1, 0, 0, 1, 0, 0, 1, 0])"
      ]
     },
     "execution_count": 602,
     "metadata": {},
     "output_type": "execute_result"
    }
   ],
   "source": [
    "Y = np.asarray(Y).ravel()\n",
    "print(Y.shape)\n",
    "Y"
   ]
  },
  {
   "cell_type": "markdown",
   "id": "27166c98",
   "metadata": {},
   "source": [
    "- Convert the target array type into \"int\""
   ]
  },
  {
   "cell_type": "code",
   "execution_count": 603,
   "id": "35db9078",
   "metadata": {
    "scrolled": true
   },
   "outputs": [
    {
     "name": "stdout",
     "output_type": "stream",
     "text": [
      "X data type:  float64\n",
      "Y data type:  int64\n",
      "\n",
      "Y data type after conversion:  int64\n"
     ]
    }
   ],
   "source": [
    "print(\"X data type: \", X.dtype)\n",
    "print(\"Y data type: \", Y.dtype)\n",
    "\n",
    "Y = Y.astype(int)\n",
    "print(\"\\nY data type after conversion: \", Y.dtype)"
   ]
  },
  {
   "cell_type": "markdown",
   "id": "89edd23c",
   "metadata": {},
   "source": [
    "- Partition the dataset into training & test subsets: 80% training & 20% test(you may use Scikit_learn's train_test_split() function)"
   ]
  },
  {
   "cell_type": "code",
   "execution_count": 604,
   "id": "6bb6e3fe",
   "metadata": {},
   "outputs": [
    {
     "name": "stdout",
     "output_type": "stream",
     "text": [
      "(200, 300)\n",
      "(50, 300)\n",
      "(200,)\n",
      "(50,)\n"
     ]
    }
   ],
   "source": [
    "X_train, X_test, y_train, y_test = train_test_split(X, Y, test_size=0.2)\n",
    "\n",
    "print(X_train.shape)\n",
    "print(X_test.shape)\n",
    "print(y_train.shape)\n",
    "print(y_test.shape)"
   ]
  },
  {
   "cell_type": "markdown",
   "id": "2598cff4",
   "metadata": {},
   "source": [
    "### **Experiments**:\n",
    "Perform binary classification using K-NN models for the following experiments. \n",
    "\n",
    "Do hyperparameter tuning to determine optimal values for the following hyperparameters: <span style=\"color:red\">*n_neighbors*</span>, <span style=\"color:red\">*p*</span>, and <span style=\"color:red\">*weights*</span>."
   ]
  },
  {
   "cell_type": "code",
   "execution_count": 605,
   "id": "bf74aaa7",
   "metadata": {},
   "outputs": [],
   "source": [
    "# Create a dictionary to store results for experiments\n",
    "exp_res_list = defaultdict(dict)"
   ]
  },
  {
   "cell_type": "markdown",
   "id": "fb1e8bc7",
   "metadata": {},
   "source": [
    "- **Experiment 1)** All features & no standardization. Report train accuracy, test accuracy, and test confusion matrix."
   ]
  },
  {
   "cell_type": "markdown",
   "id": "5da5594a",
   "metadata": {},
   "source": [
    "#### **Hyperparameter tuning**"
   ]
  },
  {
   "cell_type": "code",
   "execution_count": 606,
   "id": "512cb236",
   "metadata": {},
   "outputs": [
    {
     "name": "stdout",
     "output_type": "stream",
     "text": [
      "Fitting 5 folds for each of 686 candidates, totalling 3430 fits\n",
      "Best Score:  0.2815584415584415\n",
      "Optimal Hyperparameter Values:  {'n_neighbors': 1, 'p': 2, 'weights': 'uniform'}\n",
      "\n",
      "\n",
      "CPU times: user 1.47 s, sys: 321 ms, total: 1.8 s\n",
      "Wall time: 24.5 s\n"
     ]
    }
   ],
   "source": [
    "%%time\n",
    "\n",
    "### Do hyperparameter tuning using cross-validation\n",
    "\n",
    "warnings.filterwarnings('ignore')\n",
    "\n",
    "# define param_grid for GridSearchCV\n",
    "param_grid = {'n_neighbors': np.arange(1,50),\n",
    "              'p': [1, 2, 10, 50, 100, 500, 1000],\n",
    "              'weights': ['uniform', 'distance']}\n",
    "\n",
    "knn_clf = KNeighborsClassifier()\n",
    "\n",
    "knn_cv = GridSearchCV(knn_clf, param_grid, scoring='f1', cv=5, verbose=1, n_jobs=-1)\n",
    "knn_cv.fit(X_train, y_train)\n",
    "\n",
    "params_optimal_knn = knn_cv.best_params_\n",
    "exp_res_list[\"exp1\"].update(params_optimal_knn)\n",
    "\n",
    "print(\"Best Score: \", knn_cv.best_score_)\n",
    "print(\"Optimal Hyperparameter Values: \", params_optimal_knn)\n",
    "print(\"\\n\")"
   ]
  },
  {
   "cell_type": "markdown",
   "id": "cfdc622d",
   "metadata": {},
   "source": [
    "#### Train model and compute performance metrics"
   ]
  },
  {
   "cell_type": "code",
   "execution_count": 607,
   "id": "7de485f4",
   "metadata": {},
   "outputs": [
    {
     "name": "stdout",
     "output_type": "stream",
     "text": [
      "\n",
      "Training Accuracy:  1.0\n",
      "\n",
      "Test Accuracy:  0.64\n",
      "\n",
      "No. of correct prediction (Test): 32/50\n",
      "\n",
      "Confusion Matrix (Test):\n",
      " [[26  8]\n",
      " [10  6]]\n"
     ]
    }
   ],
   "source": [
    "# create best model using the optimal hyperparameter values\n",
    "\n",
    "knn = KNeighborsClassifier(**params_optimal_knn)\n",
    "\n",
    "knn.fit(X_train, y_train)\n",
    "\n",
    "y_train_predicted = knn.predict(X_train)\n",
    "\n",
    "# alternatively, use the optimal knn model from above for prediction, \n",
    "# yield same accuracy\n",
    "# y_train_predicted = knn_cv.predict(X_train)\n",
    "\n",
    "\n",
    "# calculate:\n",
    "#   - training accuracy\n",
    "train_accuracy_knn = np.mean(y_train_predicted == y_train)\n",
    "print(\"\\nTraining Accuracy: \", train_accuracy_knn)\n",
    "exp_res_list[\"exp1\"][\"training_accuracy\"] = train_accuracy_knn\n",
    "\n",
    "#   - test accuracy\n",
    "test_accuracy_knn = knn.score(X_test, y_test)\n",
    "print(\"\\nTest Accuracy: \", test_accuracy_knn)\n",
    "exp_res_list[\"exp1\"][\"test_accuracy\"] = test_accuracy_knn\n",
    "\n",
    "#   - test confusion matrix\n",
    "# first calculate the no. of correct prediction\n",
    "y_test_predicted = knn.predict(X_test)\n",
    "print(\"\\nNo. of correct prediction (Test): %d/%d\" % (np.sum(y_test_predicted == y_test), len(y_test)))\n",
    "exp_res_list[\"exp1\"][\"test_no_correct\"] = np.sum(y_test_predicted == y_test)\n",
    "\n",
    "# then calculate confusion matrix\n",
    "print(\"\\nConfusion Matrix (Test):\\n\", confusion_matrix(y_test, y_test_predicted))"
   ]
  },
  {
   "cell_type": "markdown",
   "id": "6e4e3061",
   "metadata": {},
   "source": [
    "- **Experiment 2)** All features & standardization. Report train accuracy, test accuracy, and test confusion matrix."
   ]
  },
  {
   "cell_type": "markdown",
   "id": "6f991038",
   "metadata": {},
   "source": [
    "#### Standardize the data"
   ]
  },
  {
   "cell_type": "code",
   "execution_count": 608,
   "id": "ad578278",
   "metadata": {},
   "outputs": [],
   "source": [
    "scaler = StandardScaler()\n",
    "\n",
    "# Fit on training set only\n",
    "scaler.fit(X_train)\n",
    "\n",
    "# Apply transform to both the training and test sets\n",
    "X_train = scaler.transform(X_train)\n",
    "X_test = scaler.transform(X_test)"
   ]
  },
  {
   "cell_type": "markdown",
   "id": "c2a58a54",
   "metadata": {},
   "source": [
    "#### **Hyperparameter tuning**"
   ]
  },
  {
   "cell_type": "code",
   "execution_count": 609,
   "id": "11136517",
   "metadata": {},
   "outputs": [
    {
     "name": "stdout",
     "output_type": "stream",
     "text": [
      "Fitting 5 folds for each of 686 candidates, totalling 3430 fits\n",
      "Best Score:  0.2723378582202111\n",
      "Optimal Hyperparameter Values (Standardized data):  {'n_neighbors': 4, 'p': 2, 'weights': 'distance'}\n",
      "\n",
      "\n",
      "CPU times: user 1.57 s, sys: 227 ms, total: 1.79 s\n",
      "Wall time: 24.7 s\n"
     ]
    }
   ],
   "source": [
    "%%time\n",
    "\n",
    "### Do hyperparameter tuning using cross-validation\n",
    "\n",
    "warnings.filterwarnings('ignore')\n",
    "\n",
    "# define param_grid for GridSearchCV\n",
    "param_grid = {'n_neighbors': np.arange(1,50),\n",
    "              'p': [1, 2, 10, 50, 100, 500, 1000],\n",
    "              'weights': ['uniform', 'distance']}\n",
    "\n",
    "knn_clf = KNeighborsClassifier()\n",
    "\n",
    "knn_cv = GridSearchCV(knn_clf, param_grid, scoring='f1', cv=5, verbose=1, n_jobs=-1)\n",
    "knn_cv.fit(X_train, y_train)\n",
    "\n",
    "params_optimal_knn = knn_cv.best_params_\n",
    "exp_res_list[\"exp2\"].update(params_optimal_knn)\n",
    "\n",
    "print(\"Best Score: \", knn_cv.best_score_)\n",
    "print(\"Optimal Hyperparameter Values (Standardized data): \", params_optimal_knn)\n",
    "print(\"\\n\")"
   ]
  },
  {
   "cell_type": "markdown",
   "id": "22bf0011",
   "metadata": {},
   "source": [
    "#### Train model and compute performance metrics"
   ]
  },
  {
   "cell_type": "code",
   "execution_count": 610,
   "id": "e24033a5",
   "metadata": {},
   "outputs": [
    {
     "name": "stdout",
     "output_type": "stream",
     "text": [
      "\n",
      "Training Accuracy (Standardized data):  1.0\n",
      "\n",
      "Test Accuracy (Standardized data):  0.6\n",
      "\n",
      "No. of correct prediction (Test - Standardized data): 30/50\n",
      "\n",
      "Confusion Matrix (Test - Standardized data):\n",
      " [[27  7]\n",
      " [13  3]]\n"
     ]
    }
   ],
   "source": [
    "# create best model using the optimal hyperparameter values\n",
    "\n",
    "knn = KNeighborsClassifier(**params_optimal_knn)\n",
    "\n",
    "knn.fit(X_train, y_train)\n",
    "\n",
    "y_train_predicted = knn.predict(X_train)\n",
    "\n",
    "# alternatively, use the optimal knn model from above for prediction, \n",
    "# yield same accuracy\n",
    "# y_train_predicted = knn_cv.predict(X_train)\n",
    "\n",
    "\n",
    "# calculate:\n",
    "#   - training accuracy\n",
    "train_accuracy_knn = np.mean(y_train_predicted == y_train)\n",
    "print(\"\\nTraining Accuracy (Standardized data): \", train_accuracy_knn)\n",
    "exp_res_list[\"exp2\"][\"training_accuracy\"] = train_accuracy_knn\n",
    "\n",
    "#   - test accuracy\n",
    "test_accuracy_knn = knn.score(X_test, y_test)\n",
    "print(\"\\nTest Accuracy (Standardized data): \", test_accuracy_knn)\n",
    "exp_res_list[\"exp2\"][\"test_accuracy\"] = test_accuracy_knn\n",
    "\n",
    "#   - test confusion matrix\n",
    "# first calculate the no. of correct prediction\n",
    "y_test_predicted = knn.predict(X_test)\n",
    "print(\"\\nNo. of correct prediction (Test - Standardized data): %d/%d\" % (np.sum(y_test_predicted == y_test), len(y_test)))\n",
    "exp_res_list[\"exp2\"][\"test_no_correct\"] = np.sum(y_test_predicted == y_test)\n",
    "\n",
    "# then calculate confusion matrix\n",
    "print(\"\\nConfusion Matrix (Test - Standardized data):\\n\", confusion_matrix(y_test, y_test_predicted))"
   ]
  },
  {
   "cell_type": "code",
   "execution_count": 611,
   "id": "ecdeadc3",
   "metadata": {},
   "outputs": [
    {
     "data": {
      "text/plain": [
       "defaultdict(dict,\n",
       "            {'exp1': {'n_neighbors': 1,\n",
       "              'p': 2,\n",
       "              'weights': 'uniform',\n",
       "              'training_accuracy': 1.0,\n",
       "              'test_accuracy': 0.64,\n",
       "              'test_no_correct': 32},\n",
       "             'exp2': {'n_neighbors': 4,\n",
       "              'p': 2,\n",
       "              'weights': 'distance',\n",
       "              'training_accuracy': 1.0,\n",
       "              'test_accuracy': 0.6,\n",
       "              'test_no_correct': 30}})"
      ]
     },
     "execution_count": 611,
     "metadata": {},
     "output_type": "execute_result"
    }
   ],
   "source": [
    "exp_res_list"
   ]
  },
  {
   "cell_type": "markdown",
   "id": "8ddfc453",
   "metadata": {},
   "source": [
    "- **Experiment 3)** A subset of the features & standardization. Report train accuracy, test accuracy, test precision, test recall, test F1 score, and test confusion matrix.\n",
    "\n",
    "    * (Dr. Hasan's note:) You may use Pearson's correlation coefficient to select features. However, it's up to you to decide the threshold for feature selection. Your goal would be to increase the test accuracy. You are free to try any combinations of the features. "
   ]
  },
  {
   "cell_type": "markdown",
   "id": "b92f7757",
   "metadata": {},
   "source": [
    "#### **Calculate Pearson's correlation and subset features**"
   ]
  },
  {
   "cell_type": "code",
   "execution_count": 612,
   "id": "f7d6c51f",
   "metadata": {},
   "outputs": [
    {
     "name": "stdout",
     "output_type": "stream",
     "text": [
      "target    1.000000\n",
      "127       0.337540\n",
      "18        0.206452\n",
      "241       0.173879\n",
      "3         0.153317\n",
      "66        0.140056\n",
      "93        0.136455\n",
      "260       0.134119\n",
      "213       0.121495\n",
      "167       0.121217\n",
      "175       0.120121\n",
      "261       0.118305\n",
      "278       0.118187\n",
      "211       0.116670\n",
      "151       0.110165\n",
      "178       0.108901\n",
      "169       0.106084\n",
      "208       0.103583\n",
      "196       0.101347\n",
      "183       0.098502\n",
      "160       0.092978\n",
      "6         0.090943\n",
      "79        0.090335\n",
      "96        0.090275\n",
      "32        0.088310\n",
      "107       0.087064\n",
      "237       0.086818\n",
      "212       0.086428\n",
      "218       0.085592\n",
      "10        0.084763\n",
      "39        0.082893\n",
      "119       0.080552\n",
      "247       0.080201\n",
      "106       0.078429\n",
      "4         0.077830\n",
      "288       0.076556\n",
      "25        0.073828\n",
      "180       0.072806\n",
      "281       0.071828\n",
      "57        0.070536\n",
      "103       0.069955\n",
      "55        0.068370\n",
      "115       0.067714\n",
      "85        0.066308\n",
      "217       0.065218\n",
      "163       0.064434\n",
      "26        0.064222\n",
      "34        0.061221\n",
      "235       0.059790\n",
      "81        0.059440\n",
      "13        0.057648\n",
      "60        0.057102\n",
      "98        0.057014\n",
      "191       0.054677\n",
      "37        0.053080\n",
      "129       0.051965\n",
      "279       0.051004\n",
      "299       0.050805\n",
      "265       0.050425\n",
      "28        0.049756\n",
      "268       0.046797\n",
      "104       0.045889\n",
      "148       0.045682\n",
      "42        0.044673\n",
      "88        0.044142\n",
      "83        0.043908\n",
      "194       0.043610\n",
      "99        0.042308\n",
      "252       0.039765\n",
      "210       0.037947\n",
      "147       0.036405\n",
      "284       0.035915\n",
      "48        0.035415\n",
      "294       0.035138\n",
      "195       0.035042\n",
      "77        0.028783\n",
      "84        0.028726\n",
      "62        0.028410\n",
      "166       0.027569\n",
      "122       0.027262\n",
      "270       0.027076\n",
      "234       0.024943\n",
      "146       0.024047\n",
      "173       0.023377\n",
      "71        0.023187\n",
      "123       0.022767\n",
      "221       0.022691\n",
      "128       0.022679\n",
      "216       0.021945\n",
      "274       0.020583\n",
      "8         0.020330\n",
      "92        0.020099\n",
      "114       0.020074\n",
      "245       0.018713\n",
      "257       0.018574\n",
      "229       0.018526\n",
      "50        0.018475\n",
      "174       0.018296\n",
      "232       0.018019\n",
      "105       0.017588\n",
      "43        0.017409\n",
      "168       0.016304\n",
      "233       0.015683\n",
      "165       0.014588\n",
      "182       0.014226\n",
      "214       0.013650\n",
      "67        0.013521\n",
      "44        0.013260\n",
      "27        0.012815\n",
      "22        0.012593\n",
      "11        0.012569\n",
      "121       0.012425\n",
      "58        0.012118\n",
      "228       0.011823\n",
      "21        0.011821\n",
      "52        0.011478\n",
      "161       0.011203\n",
      "187       0.011159\n",
      "292       0.010295\n",
      "82        0.010153\n",
      "132       0.009979\n",
      "170       0.009919\n",
      "248       0.009625\n",
      "31        0.009376\n",
      "91        0.009186\n",
      "254       0.008697\n",
      "266       0.008559\n",
      "87        0.007504\n",
      "179       0.006788\n",
      "5         0.006206\n",
      "156       0.005693\n",
      "157       0.005079\n",
      "203       0.004088\n",
      "142       0.003135\n",
      "id        0.002565\n",
      "277       0.001633\n",
      "111       0.000971\n",
      "263       0.000624\n",
      "269       0.000211\n",
      "246      -0.000778\n",
      "108      -0.001018\n",
      "36       -0.002200\n",
      "224      -0.002300\n",
      "290      -0.003138\n",
      "7        -0.003443\n",
      "14       -0.003526\n",
      "256      -0.004490\n",
      "226      -0.004921\n",
      "197      -0.005620\n",
      "118      -0.007277\n",
      "130      -0.007302\n",
      "236      -0.008130\n",
      "209      -0.008280\n",
      "35       -0.008800\n",
      "280      -0.010193\n",
      "259      -0.012886\n",
      "298      -0.012973\n",
      "68       -0.014152\n",
      "72       -0.014294\n",
      "293      -0.016191\n",
      "276      -0.016316\n",
      "190      -0.016692\n",
      "138      -0.017222\n",
      "29       -0.017479\n",
      "120      -0.017526\n",
      "219      -0.017548\n",
      "20       -0.017565\n",
      "56       -0.017645\n",
      "150      -0.018342\n",
      "258      -0.018824\n",
      "171      -0.019504\n",
      "149      -0.020019\n",
      "143      -0.020178\n",
      "296      -0.020375\n",
      "153      -0.020580\n",
      "227      -0.020795\n",
      "273      -0.020813\n",
      "188      -0.021700\n",
      "19       -0.022242\n",
      "230      -0.022335\n",
      "267      -0.023500\n",
      "249      -0.023617\n",
      "152      -0.023646\n",
      "109      -0.025269\n",
      "65       -0.027380\n",
      "94       -0.027384\n",
      "242      -0.027668\n",
      "285      -0.027774\n",
      "139      -0.028335\n",
      "287      -0.029660\n",
      "223      -0.030485\n",
      "40       -0.031030\n",
      "225      -0.031325\n",
      "51       -0.031343\n",
      "131      -0.031938\n",
      "23       -0.033032\n",
      "193      -0.033057\n",
      "30       -0.034375\n",
      "12       -0.034581\n",
      "2        -0.036050\n",
      "49       -0.036238\n",
      "189      -0.036636\n",
      "283      -0.037007\n",
      "202      -0.037373\n",
      "9        -0.037787\n",
      "41       -0.038551\n",
      "198      -0.039769\n",
      "38       -0.040273\n",
      "186      -0.042331\n",
      "282      -0.042381\n",
      "45       -0.042528\n",
      "222      -0.042990\n",
      "112      -0.043750\n",
      "141      -0.043847\n",
      "24       -0.044745\n",
      "64       -0.044912\n",
      "75       -0.044982\n",
      "207      -0.045800\n",
      "289      -0.045844\n",
      "47       -0.047401\n",
      "116      -0.047624\n",
      "78       -0.047627\n",
      "184      -0.048360\n",
      "137      -0.048606\n",
      "172      -0.049188\n",
      "90       -0.050046\n",
      "125      -0.052089\n",
      "86       -0.052217\n",
      "206      -0.052377\n",
      "164      -0.053431\n",
      "15       -0.053627\n",
      "201      -0.054516\n",
      "70       -0.055198\n",
      "61       -0.056595\n",
      "154      -0.056639\n",
      "155      -0.057406\n",
      "53       -0.058386\n",
      "255      -0.059855\n",
      "33       -0.060511\n",
      "275      -0.060838\n",
      "181      -0.061976\n",
      "102      -0.063425\n",
      "239      -0.064455\n",
      "297      -0.065313\n",
      "215      -0.066298\n",
      "272      -0.067257\n",
      "97       -0.067354\n",
      "243      -0.067382\n",
      "204      -0.069645\n",
      "101      -0.069870\n",
      "185      -0.070276\n",
      "253      -0.071058\n",
      "295      -0.071524\n",
      "286      -0.072292\n",
      "140      -0.073726\n",
      "89       -0.075760\n",
      "46       -0.076379\n",
      "124      -0.078303\n",
      "100      -0.078415\n",
      "17       -0.079410\n",
      "117      -0.079963\n",
      "134      -0.082185\n",
      "145      -0.082692\n",
      "158      -0.083098\n",
      "54       -0.083920\n",
      "240      -0.084303\n",
      "238      -0.084821\n",
      "0        -0.085268\n",
      "251      -0.086120\n",
      "76       -0.089290\n",
      "205      -0.091594\n",
      "264      -0.091707\n",
      "200      -0.092032\n",
      "250      -0.093285\n",
      "73       -0.094478\n",
      "162      -0.100351\n",
      "110      -0.102351\n",
      "144      -0.104153\n",
      "244      -0.105266\n",
      "291      -0.105296\n",
      "80       -0.111101\n",
      "1        -0.111172\n",
      "192      -0.114118\n",
      "95       -0.116410\n",
      "220      -0.117128\n",
      "262      -0.119571\n",
      "177      -0.123470\n",
      "63       -0.128926\n",
      "159      -0.128942\n",
      "271      -0.132168\n",
      "231      -0.137473\n",
      "136      -0.140761\n",
      "199      -0.145666\n",
      "113      -0.146098\n",
      "133      -0.147518\n",
      "74       -0.157756\n",
      "69       -0.164571\n",
      "126      -0.167064\n",
      "16       -0.179796\n",
      "135      -0.179960\n",
      "59       -0.203166\n",
      "176      -0.217100\n"
     ]
    }
   ],
   "source": [
    "corr_threshold = 0.15\n",
    "\n",
    "# Get values of Pearson correlation coefficient\n",
    "feature_corr = df.corr()['target'].sort_values(ascending=False)\n",
    "print(feature_corr.to_string())\n"
   ]
  },
  {
   "cell_type": "code",
   "execution_count": 613,
   "id": "b6ca2313",
   "metadata": {
    "scrolled": true
   },
   "outputs": [
    {
     "data": {
      "text/plain": [
       "target    1.000000\n",
       "127       0.337540\n",
       "18        0.206452\n",
       "241       0.173879\n",
       "3         0.153317\n",
       "74       -0.157756\n",
       "69       -0.164571\n",
       "126      -0.167064\n",
       "16       -0.179796\n",
       "135      -0.179960\n",
       "59       -0.203166\n",
       "176      -0.217100\n",
       "Name: target, dtype: float64"
      ]
     },
     "execution_count": 613,
     "metadata": {},
     "output_type": "execute_result"
    }
   ],
   "source": [
    "# Get features above the selected threshold\n",
    "feature_corr[feature_corr.abs() >= corr_threshold]"
   ]
  },
  {
   "cell_type": "code",
   "execution_count": 614,
   "id": "767b80bc",
   "metadata": {},
   "outputs": [
    {
     "data": {
      "text/html": [
       "<div>\n",
       "<style scoped>\n",
       "    .dataframe tbody tr th:only-of-type {\n",
       "        vertical-align: middle;\n",
       "    }\n",
       "\n",
       "    .dataframe tbody tr th {\n",
       "        vertical-align: top;\n",
       "    }\n",
       "\n",
       "    .dataframe thead th {\n",
       "        text-align: right;\n",
       "    }\n",
       "</style>\n",
       "<table border=\"1\" class=\"dataframe\">\n",
       "  <thead>\n",
       "    <tr style=\"text-align: right;\">\n",
       "      <th></th>\n",
       "      <th>target</th>\n",
       "      <th>127</th>\n",
       "      <th>18</th>\n",
       "      <th>241</th>\n",
       "      <th>3</th>\n",
       "      <th>74</th>\n",
       "      <th>126</th>\n",
       "      <th>135</th>\n",
       "      <th>59</th>\n",
       "      <th>176</th>\n",
       "    </tr>\n",
       "  </thead>\n",
       "  <tbody>\n",
       "    <tr>\n",
       "      <th>0</th>\n",
       "      <td>1</td>\n",
       "      <td>1.573</td>\n",
       "      <td>-0.502</td>\n",
       "      <td>0.513</td>\n",
       "      <td>0.376</td>\n",
       "      <td>0.847</td>\n",
       "      <td>1.494</td>\n",
       "      <td>-0.230</td>\n",
       "      <td>-1.370</td>\n",
       "      <td>-0.608</td>\n",
       "    </tr>\n",
       "    <tr>\n",
       "      <th>1</th>\n",
       "      <td>0</td>\n",
       "      <td>1.290</td>\n",
       "      <td>-1.490</td>\n",
       "      <td>0.962</td>\n",
       "      <td>1.096</td>\n",
       "      <td>0.416</td>\n",
       "      <td>0.336</td>\n",
       "      <td>-0.614</td>\n",
       "      <td>3.080</td>\n",
       "      <td>1.068</td>\n",
       "    </tr>\n",
       "    <tr>\n",
       "      <th>2</th>\n",
       "      <td>0</td>\n",
       "      <td>0.016</td>\n",
       "      <td>0.508</td>\n",
       "      <td>1.004</td>\n",
       "      <td>-1.065</td>\n",
       "      <td>-0.978</td>\n",
       "      <td>0.649</td>\n",
       "      <td>-0.312</td>\n",
       "      <td>0.693</td>\n",
       "      <td>1.999</td>\n",
       "    </tr>\n",
       "    <tr>\n",
       "      <th>3</th>\n",
       "      <td>1</td>\n",
       "      <td>0.816</td>\n",
       "      <td>-0.943</td>\n",
       "      <td>-1.140</td>\n",
       "      <td>0.145</td>\n",
       "      <td>-1.822</td>\n",
       "      <td>-0.723</td>\n",
       "      <td>1.261</td>\n",
       "      <td>-1.248</td>\n",
       "      <td>-2.854</td>\n",
       "    </tr>\n",
       "    <tr>\n",
       "      <th>4</th>\n",
       "      <td>0</td>\n",
       "      <td>-0.815</td>\n",
       "      <td>0.402</td>\n",
       "      <td>-1.009</td>\n",
       "      <td>-0.360</td>\n",
       "      <td>1.730</td>\n",
       "      <td>-0.763</td>\n",
       "      <td>0.462</td>\n",
       "      <td>-0.414</td>\n",
       "      <td>1.524</td>\n",
       "    </tr>\n",
       "    <tr>\n",
       "      <th>...</th>\n",
       "      <td>...</td>\n",
       "      <td>...</td>\n",
       "      <td>...</td>\n",
       "      <td>...</td>\n",
       "      <td>...</td>\n",
       "      <td>...</td>\n",
       "      <td>...</td>\n",
       "      <td>...</td>\n",
       "      <td>...</td>\n",
       "      <td>...</td>\n",
       "    </tr>\n",
       "    <tr>\n",
       "      <th>245</th>\n",
       "      <td>1</td>\n",
       "      <td>0.124</td>\n",
       "      <td>-0.367</td>\n",
       "      <td>-0.846</td>\n",
       "      <td>0.610</td>\n",
       "      <td>-0.947</td>\n",
       "      <td>-0.351</td>\n",
       "      <td>0.036</td>\n",
       "      <td>1.802</td>\n",
       "      <td>-0.249</td>\n",
       "    </tr>\n",
       "    <tr>\n",
       "      <th>246</th>\n",
       "      <td>0</td>\n",
       "      <td>-2.212</td>\n",
       "      <td>-0.598</td>\n",
       "      <td>-0.773</td>\n",
       "      <td>-0.408</td>\n",
       "      <td>-0.577</td>\n",
       "      <td>0.446</td>\n",
       "      <td>-0.310</td>\n",
       "      <td>0.080</td>\n",
       "      <td>0.914</td>\n",
       "    </tr>\n",
       "    <tr>\n",
       "      <th>247</th>\n",
       "      <td>0</td>\n",
       "      <td>0.053</td>\n",
       "      <td>-0.502</td>\n",
       "      <td>-0.771</td>\n",
       "      <td>0.660</td>\n",
       "      <td>-0.947</td>\n",
       "      <td>1.846</td>\n",
       "      <td>-0.825</td>\n",
       "      <td>0.594</td>\n",
       "      <td>0.403</td>\n",
       "    </tr>\n",
       "    <tr>\n",
       "      <th>248</th>\n",
       "      <td>1</td>\n",
       "      <td>-0.542</td>\n",
       "      <td>-0.446</td>\n",
       "      <td>0.155</td>\n",
       "      <td>0.261</td>\n",
       "      <td>-0.102</td>\n",
       "      <td>0.612</td>\n",
       "      <td>-0.620</td>\n",
       "      <td>0.428</td>\n",
       "      <td>1.986</td>\n",
       "    </tr>\n",
       "    <tr>\n",
       "      <th>249</th>\n",
       "      <td>0</td>\n",
       "      <td>-0.709</td>\n",
       "      <td>0.674</td>\n",
       "      <td>0.083</td>\n",
       "      <td>-2.863</td>\n",
       "      <td>-0.726</td>\n",
       "      <td>-0.293</td>\n",
       "      <td>0.641</td>\n",
       "      <td>0.413</td>\n",
       "      <td>1.550</td>\n",
       "    </tr>\n",
       "  </tbody>\n",
       "</table>\n",
       "<p>250 rows × 10 columns</p>\n",
       "</div>"
      ],
      "text/plain": [
       "     target    127     18    241      3     74    126    135     59    176\n",
       "0         1  1.573 -0.502  0.513  0.376  0.847  1.494 -0.230 -1.370 -0.608\n",
       "1         0  1.290 -1.490  0.962  1.096  0.416  0.336 -0.614  3.080  1.068\n",
       "2         0  0.016  0.508  1.004 -1.065 -0.978  0.649 -0.312  0.693  1.999\n",
       "3         1  0.816 -0.943 -1.140  0.145 -1.822 -0.723  1.261 -1.248 -2.854\n",
       "4         0 -0.815  0.402 -1.009 -0.360  1.730 -0.763  0.462 -0.414  1.524\n",
       "..      ...    ...    ...    ...    ...    ...    ...    ...    ...    ...\n",
       "245       1  0.124 -0.367 -0.846  0.610 -0.947 -0.351  0.036  1.802 -0.249\n",
       "246       0 -2.212 -0.598 -0.773 -0.408 -0.577  0.446 -0.310  0.080  0.914\n",
       "247       0  0.053 -0.502 -0.771  0.660 -0.947  1.846 -0.825  0.594  0.403\n",
       "248       1 -0.542 -0.446  0.155  0.261 -0.102  0.612 -0.620  0.428  1.986\n",
       "249       0 -0.709  0.674  0.083 -2.863 -0.726 -0.293  0.641  0.413  1.550\n",
       "\n",
       "[250 rows x 10 columns]"
      ]
     },
     "execution_count": 614,
     "metadata": {},
     "output_type": "execute_result"
    }
   ],
   "source": [
    "# filter by threshold and drop highly correlated features\n",
    "retained_features = feature_corr[feature_corr.abs() >= corr_threshold].drop(labels=['69', '16'])\n",
    "\n",
    "# Subset columns/features\n",
    "df_sub = df.loc[:, retained_features.index.to_list()]\n",
    "df_sub"
   ]
  },
  {
   "cell_type": "markdown",
   "id": "61b782de",
   "metadata": {},
   "source": [
    "#### **Preparing the feature and target arrays**"
   ]
  },
  {
   "cell_type": "code",
   "execution_count": 615,
   "id": "d69452e8",
   "metadata": {},
   "outputs": [
    {
     "name": "stdout",
     "output_type": "stream",
     "text": [
      "\n",
      "Data frame for features(X): \n",
      "      127     18    241      3     74    126\n",
      "0  1.573 -0.502  0.513  0.376  0.847  1.494\n",
      "1  1.290 -1.490  0.962  1.096  0.416  0.336\n",
      "2  0.016  0.508  1.004 -1.065 -0.978  0.649\n",
      "3  0.816 -0.943 -1.140  0.145 -1.822 -0.723\n",
      "4 -0.815  0.402 -1.009 -0.360  1.730 -0.763\n",
      "5 -0.507 -0.876 -1.108 -1.430 -0.017 -0.233\n",
      "\n",
      "Dimension of X:  (250, 9)\n",
      "\n",
      "Data frame for target(Y): \n",
      "      target\n",
      "0         1\n",
      "1         0\n",
      "2         0\n",
      "3         1\n",
      "4         0\n",
      "..      ...\n",
      "245       1\n",
      "246       0\n",
      "247       0\n",
      "248       1\n",
      "249       0\n",
      "\n",
      "[250 rows x 1 columns]\n",
      "\n",
      "Dimension of Y:  (250, 1)\n",
      "X data type:  float64\n",
      "Y data type:  int64\n"
     ]
    }
   ],
   "source": [
    "# Y for target\n",
    "y = df_sub.target.to_frame()\n",
    "# X for features\n",
    "X = df_sub.drop(columns=[\"target\"])\n",
    "\n",
    "print(\"\\nData frame for features(X): \\n\", X.iloc[:6, :6])\n",
    "print(\"\\nDimension of X: \", X.shape)\n",
    "print(\"\\nData frame for target(Y): \\n\", y)\n",
    "print(\"\\nDimension of Y: \", y.shape)\n",
    "\n",
    "# convert into np arrays\n",
    "X = np.asarray(X)\n",
    "y = np.asarray(y).ravel()\n",
    "\n",
    "# check to make sure y is \"int\"\n",
    "print(\"X data type: \", X.dtype)\n",
    "print(\"Y data type: \", y.dtype)\n",
    "y = y.astype(int)"
   ]
  },
  {
   "cell_type": "markdown",
   "id": "c2b97d94",
   "metadata": {},
   "source": [
    "#### **Create training and test datasets**"
   ]
  },
  {
   "cell_type": "code",
   "execution_count": 616,
   "id": "d315a509",
   "metadata": {},
   "outputs": [
    {
     "name": "stdout",
     "output_type": "stream",
     "text": [
      "(200, 9)\n",
      "(50, 9)\n",
      "(200,)\n",
      "(50,)\n"
     ]
    }
   ],
   "source": [
    "X_train, X_test, y_train, y_test = train_test_split(X, y, test_size=0.2)\n",
    "\n",
    "print(X_train.shape)\n",
    "print(X_test.shape)\n",
    "print(y_train.shape)\n",
    "print(y_test.shape)"
   ]
  },
  {
   "cell_type": "markdown",
   "id": "efdbf0d7",
   "metadata": {},
   "source": [
    "#### Standardize the data"
   ]
  },
  {
   "cell_type": "code",
   "execution_count": 617,
   "id": "2092af89",
   "metadata": {},
   "outputs": [],
   "source": [
    "scaler = StandardScaler()\n",
    "\n",
    "# Fit on training set only\n",
    "scaler.fit(X_train)\n",
    "\n",
    "# Apply transform to both the training and test sets\n",
    "X_train = scaler.transform(X_train)\n",
    "X_test = scaler.transform(X_test)"
   ]
  },
  {
   "cell_type": "markdown",
   "id": "b3651f73",
   "metadata": {},
   "source": [
    "#### **Hyperparameter tuning**"
   ]
  },
  {
   "cell_type": "code",
   "execution_count": 618,
   "id": "abc730d0",
   "metadata": {},
   "outputs": [
    {
     "name": "stdout",
     "output_type": "stream",
     "text": [
      "Fitting 5 folds for each of 686 candidates, totalling 3430 fits\n",
      "Best Score:  0.4900653594771242\n",
      "Optimal Hyperparameter Values (Data subset):  {'n_neighbors': 5, 'p': 1, 'weights': 'uniform'}\n",
      "\n",
      "\n",
      "CPU times: user 877 ms, sys: 104 ms, total: 981 ms\n",
      "Wall time: 1.95 s\n"
     ]
    }
   ],
   "source": [
    "%%time\n",
    "\n",
    "### Do hyperparameter tuning using cross-validation\n",
    "\n",
    "warnings.filterwarnings('ignore')\n",
    "\n",
    "# define param_grid for GridSearchCV\n",
    "param_grid = {'n_neighbors': np.arange(1,50),\n",
    "              'p': [1, 2, 10, 50, 100, 500, 1000],\n",
    "              'weights': ['uniform', 'distance']}\n",
    "\n",
    "knn_clf = KNeighborsClassifier()\n",
    "\n",
    "knn_cv = GridSearchCV(knn_clf, param_grid, scoring='f1', cv=5, verbose=1, n_jobs=-1)\n",
    "knn_cv.fit(X_train, y_train)\n",
    "\n",
    "params_optimal_knn = knn_cv.best_params_\n",
    "exp_res_list[\"exp3\"].update(params_optimal_knn)\n",
    "\n",
    "print(\"Best Score: \", knn_cv.best_score_)\n",
    "print(\"Optimal Hyperparameter Values (Data subset): \", params_optimal_knn)\n",
    "print(\"\\n\")"
   ]
  },
  {
   "cell_type": "markdown",
   "id": "e37d360c",
   "metadata": {},
   "source": [
    "#### Train model and compute performance metrics"
   ]
  },
  {
   "cell_type": "code",
   "execution_count": 619,
   "id": "e4717a94",
   "metadata": {},
   "outputs": [
    {
     "name": "stdout",
     "output_type": "stream",
     "text": [
      "\n",
      "Training Accuracy (Data subset):  0.83\n",
      "\n",
      "Test Accuracy (Data subset):  0.88\n",
      "\n",
      "No. of correct prediction (Test - Data subset): 44/50\n",
      "\n",
      "Confusion Matrix (Test - Data subset):\n",
      " [[42  0]\n",
      " [ 6  2]]\n",
      "\n",
      "Precision (Test - Data subset): 1.000000\n",
      "\n",
      "Recall (Test - Data subset): 0.250000\n",
      "\n",
      "F1 Score (Test - Data subset): 0.400000\n"
     ]
    }
   ],
   "source": [
    "# create best model using the optimal hyperparameter values\n",
    "\n",
    "knn = KNeighborsClassifier(**params_optimal_knn)\n",
    "\n",
    "knn.fit(X_train, y_train)\n",
    "\n",
    "y_train_predicted = knn.predict(X_train)\n",
    "\n",
    "# alternatively, use the optimal knn model from above for prediction, \n",
    "# yield same accuracy\n",
    "# y_train_predicted = knn_cv.predict(X_train)\n",
    "\n",
    "\n",
    "# calculate:\n",
    "#   - training accuracy\n",
    "train_accuracy_knn = np.mean(y_train_predicted == y_train)\n",
    "print(\"\\nTraining Accuracy (Data subset): \", train_accuracy_knn)\n",
    "exp_res_list[\"exp3\"][\"training_accuracy\"] = train_accuracy_knn\n",
    "\n",
    "#   - test accuracy\n",
    "test_accuracy_knn = knn.score(X_test, y_test)\n",
    "print(\"\\nTest Accuracy (Data subset): \", test_accuracy_knn)\n",
    "exp_res_list[\"exp3\"][\"test_accuracy\"] = test_accuracy_knn\n",
    "\n",
    "#   - test confusion matrix\n",
    "# first calculate the no. of correct prediction\n",
    "y_test_predicted = knn.predict(X_test)\n",
    "print(\"\\nNo. of correct prediction (Test - Data subset): %d/%d\" % (np.sum(y_test_predicted == y_test), len(y_test)))\n",
    "exp_res_list[\"exp3\"][\"test_no_correct\"] = np.sum(y_test_predicted == y_test)\n",
    "\n",
    "# then calculate confusion matrix\n",
    "print(\"\\nConfusion Matrix (Test - Data subset):\\n\", confusion_matrix(y_test, y_test_predicted))\n",
    "\n",
    "#   - test precision\n",
    "test_precision = precision_score(y_test, y_test_predicted)\n",
    "print(\"\\nPrecision (Test - Data subset): %f\" % test_precision)\n",
    "exp_res_list[\"exp3\"][\"precision\"] = test_precision\n",
    "\n",
    "#   - test recall\n",
    "test_recall = recall_score(y_test, y_test_predicted)\n",
    "print(\"\\nRecall (Test - Data subset): %f\" % test_recall)\n",
    "exp_res_list[\"exp3\"][\"recall\"] = test_recall\n",
    "\n",
    "#   - test F1 score\n",
    "test_f1 = f1_score(y_test, y_test_predicted)\n",
    "print(\"\\nF1 Score (Test - Data subset): %f\" % test_f1)\n",
    "exp_res_list[\"exp3\"][\"f1_score\"] = test_f1"
   ]
  },
  {
   "cell_type": "code",
   "execution_count": 620,
   "id": "35649f52",
   "metadata": {},
   "outputs": [
    {
     "data": {
      "text/plain": [
       "defaultdict(dict,\n",
       "            {'exp1': {'n_neighbors': 1,\n",
       "              'p': 2,\n",
       "              'weights': 'uniform',\n",
       "              'training_accuracy': 1.0,\n",
       "              'test_accuracy': 0.64,\n",
       "              'test_no_correct': 32},\n",
       "             'exp2': {'n_neighbors': 4,\n",
       "              'p': 2,\n",
       "              'weights': 'distance',\n",
       "              'training_accuracy': 1.0,\n",
       "              'test_accuracy': 0.6,\n",
       "              'test_no_correct': 30},\n",
       "             'exp3': {'n_neighbors': 5,\n",
       "              'p': 1,\n",
       "              'weights': 'uniform',\n",
       "              'training_accuracy': 0.83,\n",
       "              'test_accuracy': 0.88,\n",
       "              'test_no_correct': 44,\n",
       "              'precision': 1.0,\n",
       "              'recall': 0.25,\n",
       "              'f1_score': 0.4}})"
      ]
     },
     "execution_count": 620,
     "metadata": {},
     "output_type": "execute_result"
    }
   ],
   "source": [
    "exp_res_list"
   ]
  },
  {
   "cell_type": "markdown",
   "id": "b4188a76",
   "metadata": {},
   "source": [
    "- **Experiment 4)** Generate the ROC curve and the Precision-Recall Curve for the model of experiment 3. Find the optimal threshold. Using the optimal threshold, compute train accuracy, test accuracy, test precision, test recall, test F1 score, and test confusion matrix."
   ]
  },
  {
   "cell_type": "markdown",
   "id": "7ed9279a",
   "metadata": {},
   "source": [
    "#### Generate ROC curve"
   ]
  },
  {
   "cell_type": "code",
   "execution_count": 621,
   "id": "1dcbcb0e",
   "metadata": {},
   "outputs": [
    {
     "name": "stdout",
     "output_type": "stream",
     "text": [
      "\n",
      "FPR & TPR for various threshold values: \n",
      " \n",
      "\n",
      "FPR:  [0.         0.0070922  0.02836879 0.07092199 0.29787234 0.65957447\n",
      " 1.        ]\n",
      "\n",
      "TPR:  [0.         0.         0.06779661 0.38983051 0.59322034 0.79661017\n",
      " 1.        ]\n",
      "\n",
      "Thresholds:  [2.  1.  0.8 0.6 0.4 0.2 0. ]\n"
     ]
    }
   ],
   "source": [
    "# Calculate the probabilities of positive class\n",
    "y_scores = cross_val_predict(knn, X_train, y_train, method=\"predict_proba\", cv=5)[:, 1]\n",
    "\n",
    "# Get FPR, TPR to plot ROC curve\n",
    "fpr, tpr, thresholds = roc_curve(y_train, y_scores)\n",
    "\n",
    "print(\"\\nFPR & TPR for various threshold values: \\n \")\n",
    "print(\"\\nFPR: \", fpr)\n",
    "print(\"\\nTPR: \", tpr)\n",
    "print(\"\\nThresholds: \", thresholds)"
   ]
  },
  {
   "cell_type": "code",
   "execution_count": 622,
   "id": "3faf4c16",
   "metadata": {},
   "outputs": [
    {
     "data": {
      "image/png": "[encoded data removed]",
      "text/plain": [
       "<Figure size 720x432 with 1 Axes>"
      ]
     },
     "metadata": {},
     "output_type": "display_data"
    }
   ],
   "source": [
    "plt.style.use('ggplot')\n",
    "\n",
    "fig = plt.figure(figsize=(10, 6))\n",
    "def plot_roc_curve(fpr, tpr, label=None):\n",
    "    plt.plot(fpr, tpr, color=\"darkorange\", linewidth=6, label=label)\n",
    "    plt.plot([0, 1], [0, 1], color=\"navy\", lw=2, linestyle=\"--\")\n",
    "    plt.axis([0, 1, 0, 1])\n",
    "    plt.title(label)\n",
    "    plt.xlabel('False Positive Rate')\n",
    "    plt.ylabel('True Positive Rate')\n",
    "    \n",
    "plot_roc_curve(fpr, tpr, \"ROC Curve (Train data)\")\n",
    "plt.show()"
   ]
  },
  {
   "cell_type": "code",
   "execution_count": 623,
   "id": "87c7a1ee",
   "metadata": {},
   "outputs": [
    {
     "data": {
      "text/plain": [
       "0.679168169251112"
      ]
     },
     "execution_count": 623,
     "metadata": {},
     "output_type": "execute_result"
    }
   ],
   "source": [
    "# Area under the ROC curve\n",
    "roc_auc_score(y_train, y_scores)"
   ]
  },
  {
   "cell_type": "markdown",
   "id": "c7e8ae41",
   "metadata": {},
   "source": [
    "#### Precision-Recall Curve"
   ]
  },
  {
   "cell_type": "code",
   "execution_count": 624,
   "id": "1716669b",
   "metadata": {},
   "outputs": [
    {
     "name": "stdout",
     "output_type": "stream",
     "text": [
      "\n",
      "Precisions & Recalls for various threshold values: \n",
      "\n",
      "\n",
      "Precisions:  [0.295      0.33793103 0.5        0.62857143 0.71428571 1.        ]\n",
      "\n",
      "Recalls:  [1.         0.83050847 0.66101695 0.37288136 0.08474576 0.        ]\n",
      "\n",
      "Thresholds:  [0.  0.2 0.4 0.6 0.8]\n"
     ]
    }
   ],
   "source": [
    "y_scores = cross_val_predict(knn, X_train, y_train, method=\"predict_proba\", cv=3)[:, 1]\n",
    "\n",
    "# Get Precision, Recall to plot Precision-Reall Curve\n",
    "precisions, recalls, thresholds = precision_recall_curve(y_train, y_scores)\n",
    "\n",
    "print(\"\\nPrecisions & Recalls for various threshold values: \\n\")\n",
    "print(\"\\nPrecisions: \", precisions)\n",
    "print(\"\\nRecalls: \", recalls)\n",
    "print(\"\\nThresholds: \", thresholds)"
   ]
  },
  {
   "cell_type": "code",
   "execution_count": 625,
   "id": "4ea79d48",
   "metadata": {},
   "outputs": [
    {
     "data": {
      "image/png": "[encoded data removed]",
      "text/plain": [
       "<Figure size 720x432 with 1 Axes>"
      ]
     },
     "metadata": {},
     "output_type": "display_data"
    },
    {
     "name": "stdout",
     "output_type": "stream",
     "text": [
      "\n",
      "Optimal Threshold:  -1\n",
      "\n",
      "Optimal Threshold (approx., second try):  0.4\n"
     ]
    }
   ],
   "source": [
    "fig = plt.figure(figsize=(10, 6))\n",
    "def plot_precision_recall_vs_threshold(precisions, recalls, thresholds):\n",
    "    plt.plot(thresholds, precisions[:-1], \"b--\", linewidth=6, label=\"Precision\")\n",
    "    plt.plot(thresholds, recalls[:-1], \"g-\", linewidth=3, label=\"Recall\")\n",
    "    plt.xlabel(\"Threshold\")\n",
    "    plt.legend(loc=\"lower right\")\n",
    "    plt.title('Precision-Recall Curve')\n",
    "    plt.ylim([0, 1.1])\n",
    "\n",
    "plot_precision_recall_vs_threshold(precisions, recalls, thresholds)\n",
    "plt.show()\n",
    "\n",
    "# find optimal threshold\n",
    "threshold_optimal = -1\n",
    "for i in range(len(precisions)):\n",
    "    if(round(precisions[i], 1) == round(recalls[i], 1)):\n",
    "        threshold_optimal = thresholds[i]\n",
    "\n",
    "print(\"\\nOptimal Threshold: \", threshold_optimal)\n",
    "\n",
    "# There is no similar threshold for the arrays of precisions & recalls\n",
    "#  -> approximate by calculating the threshold with the smallest difference between precisions & recall\n",
    "optimal_threshold = sorted(list(zip(np.abs(precisions - recalls), thresholds)), key=lambda i: i[0], reverse=False)[0][1]\n",
    "\n",
    "print(\"\\nOptimal Threshold (approx., second try): \", optimal_threshold)"
   ]
  },
  {
   "cell_type": "markdown",
   "id": "ee9d0c6b",
   "metadata": {},
   "source": [
    "#### After thresholding"
   ]
  },
  {
   "cell_type": "code",
   "execution_count": 626,
   "id": "dc0a955a",
   "metadata": {},
   "outputs": [
    {
     "name": "stdout",
     "output_type": "stream",
     "text": [
      "\n",
      "Performance Measures Using Optimal Threshold from Precision-Recall Curve: \n",
      "\n",
      "Training Accuracy (Data subset - After thresholding 0.40): 0.750000 \n",
      "\n",
      "Test Accuracy (Data subset - After thresholding 0.400000): 0.84 \n",
      "\n",
      "Test Confusion Matrix (Data subset - After thresholding 0.40):\n",
      "\n",
      "[[42  0]\n",
      " [ 8  0]]\n",
      "\n",
      "Test Precision (Data subset - After thresholding 0.40): 0.000000\n",
      "\n",
      "Test Recall (Data subset - After thresholding 0.40): 0.000000\n",
      "\n",
      "Test F1 Score (Data subset - After thresholding 0.40): 0.000000\n"
     ]
    }
   ],
   "source": [
    "# Optimal threshold from precision-recall curve \n",
    "t = optimal_threshold\n",
    "\n",
    "# Compute predictions based on new t by using the following method:\n",
    "#  - Get the probability of the positive class from the 2nd column [:, 1]\n",
    "#  - If that probability is greater than or equal to t, then the test data belongs to the positive class\n",
    "\n",
    "# training dataset\n",
    "y_train_predicted_new = (cross_val_predict(knn, X_train, y_train, method=\"predict_proba\", cv=3)[:, 1] > t).astype(int)\n",
    "\n",
    "# test dataset\n",
    "y_test_predicted_new = (cross_val_predict(knn, X_test, y_test, method=\"predict_proba\", cv=3)[:, 1] > t).astype(int)\n",
    "\n",
    "\n",
    "\n",
    "print(\"\\nPerformance Measures Using Optimal Threshold from Precision-Recall Curve: \")\n",
    "# calculate:\n",
    "#   - training accuracy\n",
    "train_accuracy_knn_thres = np.mean(y_train_predicted_new == y_train)\n",
    "print(\"\\nTraining Accuracy (Data subset - After thresholding %.2f): %f \"% (t, train_accuracy_knn_thres))\n",
    "exp_res_list[\"exp4\"][\"training_accuracy\"] = train_accuracy_knn_thres\n",
    "\n",
    "#   - test accuracy\n",
    "test_accuracy_knn_thres = np.mean(y_test == y_test_predicted_new)\n",
    "print(\"\\nTest Accuracy (Data subset - After thresholding %f): %.2f \" % (t, test_accuracy_knn_thres))\n",
    "exp_res_list[\"exp4\"][\"test_accuracy\"] = test_accuracy_knn_thres\n",
    "\n",
    "#   - test confusion matrix\n",
    "print(\"\\nTest Confusion Matrix (Data subset - After thresholding %.2f):\\n\" % t)\n",
    "print(confusion_matrix(y_test, y_test_predicted_new))\n",
    "\n",
    "#   - test precision\n",
    "test_precision_thres = precision_score(y_test, y_test_predicted_new)\n",
    "print(\"\\nTest Precision (Data subset - After thresholding %.2f): %f\" % (t, test_precision_thres))\n",
    "exp_res_list[\"exp4\"][\"precision\"] = test_precision_thres\n",
    "\n",
    "#   - test recall\n",
    "test_recall_thres = recall_score(y_test, y_test_predicted_new)\n",
    "print(\"\\nTest Recall (Data subset - After thresholding %.2f): %f\" % (t, test_recall_thres))\n",
    "exp_res_list[\"exp4\"][\"recall\"] = test_recall_thres\n",
    "\n",
    "#   - test F1 score\n",
    "test_f1_thres = f1_score(y_test, y_test_predicted_new)\n",
    "print(\"\\nTest F1 Score (Data subset - After thresholding %.2f): %f\" % (t, test_f1_thres))\n",
    "exp_res_list[\"exp4\"][\"f1_score\"] = test_f1_thres"
   ]
  },
  {
   "cell_type": "code",
   "execution_count": 627,
   "id": "9911ab89",
   "metadata": {},
   "outputs": [
    {
     "data": {
      "text/plain": [
       "defaultdict(dict,\n",
       "            {'exp1': {'n_neighbors': 1,\n",
       "              'p': 2,\n",
       "              'weights': 'uniform',\n",
       "              'training_accuracy': 1.0,\n",
       "              'test_accuracy': 0.64,\n",
       "              'test_no_correct': 32},\n",
       "             'exp2': {'n_neighbors': 4,\n",
       "              'p': 2,\n",
       "              'weights': 'distance',\n",
       "              'training_accuracy': 1.0,\n",
       "              'test_accuracy': 0.6,\n",
       "              'test_no_correct': 30},\n",
       "             'exp3': {'n_neighbors': 5,\n",
       "              'p': 1,\n",
       "              'weights': 'uniform',\n",
       "              'training_accuracy': 0.83,\n",
       "              'test_accuracy': 0.88,\n",
       "              'test_no_correct': 44,\n",
       "              'precision': 1.0,\n",
       "              'recall': 0.25,\n",
       "              'f1_score': 0.4},\n",
       "             'exp4': {'training_accuracy': 0.75,\n",
       "              'test_accuracy': 0.84,\n",
       "              'precision': 0.0,\n",
       "              'recall': 0.0,\n",
       "              'f1_score': 0.0}})"
      ]
     },
     "execution_count": 627,
     "metadata": {},
     "output_type": "execute_result"
    }
   ],
   "source": [
    "exp_res_list"
   ]
  },
  {
   "cell_type": "code",
   "execution_count": 628,
   "id": "f5483054",
   "metadata": {},
   "outputs": [
    {
     "data": {
      "text/html": [
       "<div>\n",
       "<style scoped>\n",
       "    .dataframe tbody tr th:only-of-type {\n",
       "        vertical-align: middle;\n",
       "    }\n",
       "\n",
       "    .dataframe tbody tr th {\n",
       "        vertical-align: top;\n",
       "    }\n",
       "\n",
       "    .dataframe thead th {\n",
       "        text-align: right;\n",
       "    }\n",
       "</style>\n",
       "<table border=\"1\" class=\"dataframe\">\n",
       "  <thead>\n",
       "    <tr style=\"text-align: right;\">\n",
       "      <th></th>\n",
       "      <th>n_neighbors</th>\n",
       "      <th>p</th>\n",
       "      <th>weights</th>\n",
       "      <th>training_accuracy</th>\n",
       "      <th>test_accuracy</th>\n",
       "      <th>test_no_correct</th>\n",
       "      <th>precision</th>\n",
       "      <th>recall</th>\n",
       "      <th>f1_score</th>\n",
       "    </tr>\n",
       "  </thead>\n",
       "  <tbody>\n",
       "    <tr>\n",
       "      <th>exp1</th>\n",
       "      <td>1.0</td>\n",
       "      <td>2.0</td>\n",
       "      <td>uniform</td>\n",
       "      <td>1.00</td>\n",
       "      <td>0.64</td>\n",
       "      <td>32.0</td>\n",
       "      <td>NaN</td>\n",
       "      <td>NaN</td>\n",
       "      <td>NaN</td>\n",
       "    </tr>\n",
       "    <tr>\n",
       "      <th>exp2</th>\n",
       "      <td>4.0</td>\n",
       "      <td>2.0</td>\n",
       "      <td>distance</td>\n",
       "      <td>1.00</td>\n",
       "      <td>0.60</td>\n",
       "      <td>30.0</td>\n",
       "      <td>NaN</td>\n",
       "      <td>NaN</td>\n",
       "      <td>NaN</td>\n",
       "    </tr>\n",
       "    <tr>\n",
       "      <th>exp3</th>\n",
       "      <td>5.0</td>\n",
       "      <td>1.0</td>\n",
       "      <td>uniform</td>\n",
       "      <td>0.83</td>\n",
       "      <td>0.88</td>\n",
       "      <td>44.0</td>\n",
       "      <td>1.0</td>\n",
       "      <td>0.25</td>\n",
       "      <td>0.4</td>\n",
       "    </tr>\n",
       "    <tr>\n",
       "      <th>exp4</th>\n",
       "      <td>NaN</td>\n",
       "      <td>NaN</td>\n",
       "      <td>NaN</td>\n",
       "      <td>0.75</td>\n",
       "      <td>0.84</td>\n",
       "      <td>NaN</td>\n",
       "      <td>0.0</td>\n",
       "      <td>0.00</td>\n",
       "      <td>0.0</td>\n",
       "    </tr>\n",
       "  </tbody>\n",
       "</table>\n",
       "</div>"
      ],
      "text/plain": [
       "      n_neighbors    p   weights  training_accuracy  test_accuracy  \\\n",
       "exp1          1.0  2.0   uniform               1.00           0.64   \n",
       "exp2          4.0  2.0  distance               1.00           0.60   \n",
       "exp3          5.0  1.0   uniform               0.83           0.88   \n",
       "exp4          NaN  NaN       NaN               0.75           0.84   \n",
       "\n",
       "      test_no_correct  precision  recall  f1_score  \n",
       "exp1             32.0        NaN     NaN       NaN  \n",
       "exp2             30.0        NaN     NaN       NaN  \n",
       "exp3             44.0        1.0    0.25       0.4  \n",
       "exp4              NaN        0.0    0.00       0.0  "
      ]
     },
     "execution_count": 628,
     "metadata": {},
     "output_type": "execute_result"
    }
   ],
   "source": [
    "# Experiments 1-4 at a glance\n",
    "pd.DataFrame.from_dict(exp_res_list, orient=\"index\")"
   ]
  },
  {
   "cell_type": "markdown",
   "id": "4389f879",
   "metadata": {},
   "source": [
    "#### Question 1:\n",
    "Which experiment has the highest test accuracy between experiment 1 and\n",
    "2? **Why**?"
   ]
  },
  {
   "cell_type": "markdown",
   "id": "9ae014ce",
   "metadata": {},
   "source": [
    "Ans: "
   ]
  },
  {
   "cell_type": "markdown",
   "id": "fdc44f51",
   "metadata": {},
   "source": [
    "## Part B: Classification of Unstructured Data\n",
    "\n",
    "You will create a K-NN classifier (using Scikit-Learn) to perform multi-class classification on the following unstructured dataset.\n",
    "\n",
    "### **Dataset**:\n",
    "The CIFAR-10 dataset (Canadian Institute For Advanced Research) contains 60,000 32 x 32 color images in 10 different classes. The 10 different classes represent airplanes, cars, birds, cats, deer, dogs, frogs, horses, ships, and trucks. There are 6,000 images of each class. You may directly load this dataset using the Keras API: https://keras.io/api/datasets/cifar10/\n"
   ]
  },
  {
   "cell_type": "markdown",
   "id": "136f6065",
   "metadata": {},
   "source": [
    "### **Preprocessing**:\n",
    "\n",
    "You will need to perform some pre-processing steps. First step is to reshape the data. The dimension of the training set is 50000 x 32 x 32 x 3 and test set is 10000 x 32 x 32 x 3. Before you use this data for the K-NN model, you need to flatten each sample (i.e., 32 x 32 x 3 = 3072) such the dimension of training and test set becomes:\n",
    "- 50000 x 3072\n",
    "- 10000 x 3072"
   ]
  },
  {
   "cell_type": "code",
   "execution_count": 629,
   "id": "d179d9e1",
   "metadata": {},
   "outputs": [],
   "source": [
    "import keras\n",
    "\n",
    "# first load data\n",
    "(X_train, y_train), (X_test, y_test) = keras.datasets.cifar10.load_data()"
   ]
  },
  {
   "cell_type": "code",
   "execution_count": 630,
   "id": "3bcf8ac6",
   "metadata": {},
   "outputs": [
    {
     "name": "stdout",
     "output_type": "stream",
     "text": [
      "(50000, 32, 32, 3)\n",
      "(50000, 1)\n",
      "(10000, 32, 32, 3)\n",
      "(10000, 1)\n"
     ]
    }
   ],
   "source": [
    "print(X_train.shape)\n",
    "print(y_train.shape)\n",
    "print(X_test.shape)\n",
    "print(y_test.shape)"
   ]
  },
  {
   "cell_type": "code",
   "execution_count": 631,
   "id": "4fb86d1e",
   "metadata": {},
   "outputs": [
    {
     "name": "stdout",
     "output_type": "stream",
     "text": [
      "(50000, 3072)\n",
      "(50000,)\n",
      "(10000, 3072)\n",
      "(10000,)\n"
     ]
    }
   ],
   "source": [
    "# Reshape data \n",
    "X_train = X_train.reshape(50000, 3072)\n",
    "X_test = X_test.reshape(10000, 3072)\n",
    "\n",
    "# Convert 1D vector into 1D array\n",
    "y_train = y_train.ravel()\n",
    "y_test = y_test.ravel()\n",
    "\n",
    "\n",
    "print(X_train.shape)\n",
    "print(y_train.shape)\n",
    "print(X_test.shape)\n",
    "print(y_test.shape)"
   ]
  },
  {
   "cell_type": "markdown",
   "id": "9238d874",
   "metadata": {},
   "source": [
    "#### Data Scaling - Min-Max Scaling"
   ]
  },
  {
   "cell_type": "code",
   "execution_count": 632,
   "id": "42817e39",
   "metadata": {},
   "outputs": [
    {
     "name": "stdout",
     "output_type": "stream",
     "text": [
      "\n",
      "Min, max for X_train: 0.00, 1.00\n",
      "\n",
      "Min, max for X_test: 0.00, 1.00\n"
     ]
    }
   ],
   "source": [
    "X_train = X_train/255.0\n",
    "X_test = X_test/255.0\n",
    "\n",
    "print(\"\\nMin, max for X_train: %.2f, %.2f\" % (X_train.min(), X_train.max()))\n",
    "print(\"\\nMin, max for X_test: %.2f, %.2f\" % (X_test.min(), X_test.max()))"
   ]
  },
  {
   "cell_type": "markdown",
   "id": "9c728cf6",
   "metadata": {},
   "source": [
    "### **Experiments**:"
   ]
  },
  {
   "cell_type": "markdown",
   "id": "f3728d12",
   "metadata": {},
   "source": [
    "- **Experiment 5)** Create a K-NN classifier (using Scikit-Learn) and perform multi- class classification. Report train accuracy, test accuracy, and test confusion matrix."
   ]
  },
  {
   "cell_type": "code",
   "execution_count": null,
   "id": "1c96c0c5",
   "metadata": {},
   "outputs": [],
   "source": [
    "%%time\n",
    "\n",
    "# Create a KNN classifier\n",
    "knn_mult = KNeighborsClassifier(n_neighbors=5, p=1)\n",
    "\n",
    "knn_mult.fit(X_train, y_train)\n",
    "\n",
    "y_train_predicted = knn_mult.predict(X_train)\n"
   ]
  },
  {
   "cell_type": "code",
   "execution_count": null,
   "id": "8aab5929",
   "metadata": {},
   "outputs": [],
   "source": [
    "# Calculate:\n",
    "#    - training accuracy\n",
    "train_accuracy_knn = np.mean(y_train_predicted == y_train)\n",
    "print(\"\\nTraining Accuracy: \", train_accuracy_knn)\n",
    "exp_res_list[\"exp5\"][\"training_accuracy\"] = train_accuracy_knn\n",
    "\n",
    "#    - test accuracy\n",
    "test_accuracy_knn = knn.score(X_test, y_test)\n",
    "print(\"\\nTest Accuracy: \", test_accuracy_knn)\n",
    "exp_res_list[\"exp5\"][\"test_accuracy\"] = test_accuracy_knn\n",
    "\n",
    "#    - test confusion matrix\n",
    "# first calculate the no. of correct predictions\n",
    "y_test_predicted = knn.predict(X_test)\n",
    "print(\"\\nNo. of correct predictions (Test): %d/%d\" % (np.sum(y_test_predicted == y_test), len(y_test)))\n",
    "exp_res_list[\"exp5\"][\"test_no_correct\"] = np.sum(y_test_predicted == y_test)\n",
    "\n",
    "# then calculate confusion matrix\n",
    "print(\"\\nConfusion Matrix (Test):\\n\", confusion_matrix(y_test, y_test_predicted))"
   ]
  },
  {
   "cell_type": "markdown",
   "id": "d0f11bae",
   "metadata": {},
   "source": [
    "### Question 2:\n",
    "To answer the questions below you need to compare the poor performance of your K-NN model on the CIFAR-10 dataset with the performance of a K-NN model on the MNIST handwritten digits image dataset. Click on the following link and observe the performance of a [K-NN model on the MNIST dataset](https://github.com/rhasanbd/K-Nearest-Neighbors-Learning-Without-Learning/blob/master/K-NN-6-Curse%20of%20Dimensionality.ipynb). The model obtained over 97% test accuracy. \n",
    "\n",
    "\n",
    "However, your K-NN model on the CIFAR-10 dataset would perform awfully poorly.\n"
   ]
  },
  {
   "cell_type": "markdown",
   "id": "8a6c6fa5",
   "metadata": {},
   "source": [
    "a) Explain why your K-NN model was unable to obtain high test accuracy on the CIFAR-10 image classification problem."
   ]
  },
  {
   "cell_type": "markdown",
   "id": "5414d038",
   "metadata": {},
   "source": [
    "Ans:"
   ]
  },
  {
   "cell_type": "markdown",
   "id": "a9683db9",
   "metadata": {},
   "source": [
    "b) Why does a K-NN model perform accurately on the MNIST handwritten\n",
    "digits image classification problem? Following notebooks might be useful to answer this question: https://github.com/rhasanbd/Study-of-Analogy-based-Learning-Image-Classification"
   ]
  },
  {
   "cell_type": "markdown",
   "id": "678ab04b",
   "metadata": {},
   "source": [
    "Ans: "
   ]
  },
  {
   "cell_type": "markdown",
   "id": "5e36732b",
   "metadata": {},
   "source": [
    "c) Is it possible to achieve above 90% accuracy on the CIFAR-10 dataset using a K-NN model? Justify your answer."
   ]
  },
  {
   "cell_type": "markdown",
   "id": "05eafc60",
   "metadata": {},
   "source": [
    "Ans:"
   ]
  }
 ],
 "metadata": {
  "kernelspec": {
   "display_name": "Python 3 (ipykernel)",
   "language": "python",
   "name": "python3"
  },
  "language_info": {
   "codemirror_mode": {
    "name": "ipython",
    "version": 3
   },
   "file_extension": ".py",
   "mimetype": "text/x-python",
   "name": "python",
   "nbconvert_exporter": "python",
   "pygments_lexer": "ipython3",
   "version": "3.9.9"
  }
 },
 "nbformat": 4,
 "nbformat_minor": 5
}
