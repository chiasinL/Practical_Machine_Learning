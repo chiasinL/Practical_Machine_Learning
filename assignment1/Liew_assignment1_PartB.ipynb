{
 "cells": [
  {
   "cell_type": "markdown",
   "id": "381f5db9",
   "metadata": {},
   "source": [
    "# Assignment 1\n",
    "\n",
    "Name        : Chia Sin Liew   \n",
    "Last edited : February 21st, 2022 \n",
    "\n",
    "The goal of this assignment is to study the K-Nearest Neighbors(K-N) classifier model.\n",
    "\n",
    "- **Part A**: Model optimization via feature selection & varying threshold\n",
    "- **Part B**: Understanding the curse of dimensionality & the fundamental limitation of the K-NN model"
   ]
  },
  {
   "cell_type": "code",
   "execution_count": 8,
   "id": "47ae0ff4",
   "metadata": {},
   "outputs": [],
   "source": [
    "import pandas as pd\n",
    "import numpy as np\n",
    "import warnings\n",
    "import matplotlib.pyplot as plt\n",
    "from sklearn.preprocessing import StandardScaler\n",
    "from sklearn.model_selection import train_test_split, GridSearchCV, cross_val_predict\n",
    "from sklearn.neighbors import KNeighborsClassifier\n",
    "from sklearn.metrics import confusion_matrix, precision_score, recall_score, f1_score\n",
    "from sklearn.metrics import roc_curve, roc_auc_score, precision_recall_curve\n",
    "from collections import defaultdict\n",
    "from scipy import stats"
   ]
  },
  {
   "cell_type": "markdown",
   "id": "fdc44f51",
   "metadata": {},
   "source": [
    "## Part B: Classification of Unstructured Data\n",
    "\n",
    "You will create a K-NN classifier (using Scikit-Learn) to perform multi-class classification on the following unstructured dataset.\n",
    "\n",
    "### **Dataset**:\n",
    "The CIFAR-10 dataset (Canadian Institute For Advanced Research) contains 60,000 32 x 32 color images in 10 different classes. The 10 different classes represent airplanes, cars, birds, cats, deer, dogs, frogs, horses, ships, and trucks. There are 6,000 images of each class. You may directly load this dataset using the Keras API: https://keras.io/api/datasets/cifar10/\n"
   ]
  },
  {
   "cell_type": "markdown",
   "id": "136f6065",
   "metadata": {},
   "source": [
    "### **Preprocessing**:\n",
    "\n",
    "You will need to perform some pre-processing steps. First step is to reshape the data. The dimension of the training set is 50000 x 32 x 32 x 3 and test set is 10000 x 32 x 32 x 3. Before you use this data for the K-NN model, you need to flatten each sample (i.e., 32 x 32 x 3 = 3072) such the dimension of training and test set becomes:\n",
    "- 50000 x 3072\n",
    "- 10000 x 3072"
   ]
  },
  {
   "cell_type": "code",
   "execution_count": 9,
   "id": "d179d9e1",
   "metadata": {},
   "outputs": [],
   "source": [
    "import keras\n",
    "\n",
    "# first load data\n",
    "(X_train, y_train), (X_test, y_test) = keras.datasets.cifar10.load_data()"
   ]
  },
  {
   "cell_type": "code",
   "execution_count": 10,
   "id": "3bcf8ac6",
   "metadata": {},
   "outputs": [
    {
     "name": "stdout",
     "output_type": "stream",
     "text": [
      "(50000, 32, 32, 3)\n",
      "(50000, 1)\n",
      "(10000, 32, 32, 3)\n",
      "(10000, 1)\n"
     ]
    }
   ],
   "source": [
    "print(X_train.shape)\n",
    "print(y_train.shape)\n",
    "print(X_test.shape)\n",
    "print(y_test.shape)"
   ]
  },
  {
   "cell_type": "code",
   "execution_count": 11,
   "id": "4fb86d1e",
   "metadata": {},
   "outputs": [
    {
     "name": "stdout",
     "output_type": "stream",
     "text": [
      "(50000, 3072)\n",
      "(50000,)\n",
      "(10000, 3072)\n",
      "(10000,)\n"
     ]
    }
   ],
   "source": [
    "# Reshape data \n",
    "X_train = X_train.reshape(50000, 3072)\n",
    "X_test = X_test.reshape(10000, 3072)\n",
    "\n",
    "# Convert 1D vector into 1D array\n",
    "y_train = y_train.ravel()\n",
    "y_test = y_test.ravel()\n",
    "\n",
    "\n",
    "print(X_train.shape)\n",
    "print(y_train.shape)\n",
    "print(X_test.shape)\n",
    "print(y_test.shape)"
   ]
  },
  {
   "cell_type": "markdown",
   "id": "9238d874",
   "metadata": {},
   "source": [
    "#### Data Scaling - Min-Max Scaling"
   ]
  },
  {
   "cell_type": "code",
   "execution_count": 12,
   "id": "42817e39",
   "metadata": {},
   "outputs": [
    {
     "name": "stdout",
     "output_type": "stream",
     "text": [
      "\n",
      "Min, max for X_train: 0.00, 1.00\n",
      "\n",
      "Min, max for X_test: 0.00, 1.00\n"
     ]
    }
   ],
   "source": [
    "X_train = X_train/255.0\n",
    "X_test = X_test/255.0\n",
    "\n",
    "print(\"\\nMin, max for X_train: %.2f, %.2f\" % (X_train.min(), X_train.max()))\n",
    "print(\"\\nMin, max for X_test: %.2f, %.2f\" % (X_test.min(), X_test.max()))"
   ]
  },
  {
   "cell_type": "markdown",
   "id": "9c728cf6",
   "metadata": {},
   "source": [
    "### **Experiments**:"
   ]
  },
  {
   "cell_type": "markdown",
   "id": "f3728d12",
   "metadata": {},
   "source": [
    "- **Experiment 5)** Create a K-NN classifier (using Scikit-Learn) and perform multi- class classification. Report train accuracy, test accuracy, and test confusion matrix."
   ]
  },
  {
   "cell_type": "code",
   "execution_count": 13,
   "id": "1c96c0c5",
   "metadata": {},
   "outputs": [
    {
     "name": "stdout",
     "output_type": "stream",
     "text": [
      "CPU times: user 1h 12min 38s, sys: 56.6 s, total: 1h 13min 35s\n",
      "Wall time: 2h 40min 33s\n"
     ]
    }
   ],
   "source": [
    "%%time\n",
    "\n",
    "# Create a KNN classifier\n",
    "knn_mult = KNeighborsClassifier(n_neighbors=5, p=1)\n",
    "\n",
    "knn_mult.fit(X_train, y_train)\n",
    "\n",
    "y_train_predicted = knn_mult.predict(X_train)\n"
   ]
  },
  {
   "cell_type": "code",
   "execution_count": 15,
   "id": "8aab5929",
   "metadata": {},
   "outputs": [
    {
     "name": "stdout",
     "output_type": "stream",
     "text": [
      "\n",
      "Training Accuracy:  0.53512\n",
      "\n",
      "Test Accuracy:  0.377\n",
      "\n",
      "No. of correct predictions (Test): 3770/10000\n",
      "\n",
      "Confusion Matrix (Test):\n",
      " [[582   9 101  10  49   7  25   7 195  15]\n",
      " [139 288  89  50 130  40  44  17 168  35]\n",
      " [145   5 456  54 206  30  55  13  34   2]\n",
      " [ 82  11 215 246 162 109 101  14  52   8]\n",
      " [ 92   4 259  40 489  18  43  14  40   1]\n",
      " [ 72   4 214 151 166 266  64  14  43   6]\n",
      " [ 36   4 259  74 285  27 288   1  25   1]\n",
      " [116  10 155  50 259  58  38 267  37  10]\n",
      " [154  20  47  33  43  17  10   6 662   8]\n",
      " [166  90  71  40  91  30  46  27 213 226]]\n"
     ]
    }
   ],
   "source": [
    "# Calculate:\n",
    "#    - training accuracy\n",
    "train_accuracy_knn = np.mean(y_train_predicted == y_train)\n",
    "print(\"\\nTraining Accuracy: \", train_accuracy_knn)\n",
    "\n",
    "#    - test accuracy\n",
    "test_accuracy_knn = knn_mult.score(X_test, y_test)\n",
    "print(\"\\nTest Accuracy: \", test_accuracy_knn)\n",
    "\n",
    "#    - test confusion matrix\n",
    "# first calculate the no. of correct predictions\n",
    "y_test_predicted = knn_mult.predict(X_test)\n",
    "print(\"\\nNo. of correct predictions (Test): %d/%d\" % (np.sum(y_test_predicted == y_test), len(y_test)))\n",
    "\n",
    "# then calculate confusion matrix\n",
    "print(\"\\nConfusion Matrix (Test):\\n\", confusion_matrix(y_test, y_test_predicted))"
   ]
  },
  {
   "cell_type": "markdown",
   "id": "d0f11bae",
   "metadata": {},
   "source": [
    "### Question 2:\n",
    "To answer the questions below you need to compare the poor performance of your K-NN model on the CIFAR-10 dataset with the performance of a K-NN model on the MNIST handwritten digits image dataset. Click on the following link and observe the performance of a [K-NN model on the MNIST dataset](https://github.com/rhasanbd/K-Nearest-Neighbors-Learning-Without-Learning/blob/master/K-NN-6-Curse%20of%20Dimensionality.ipynb). The model obtained over 97% test accuracy. \n",
    "\n",
    "\n",
    "However, your K-NN model on the CIFAR-10 dataset would perform awfully poorly.\n"
   ]
  },
  {
   "cell_type": "markdown",
   "id": "8a6c6fa5",
   "metadata": {},
   "source": [
    "a) Explain why your K-NN model was unable to obtain high test accuracy on the CIFAR-10 image classification problem."
   ]
  },
  {
   "cell_type": "markdown",
   "id": "5414d038",
   "metadata": {},
   "source": [
    "**Ans**: The K-NN model can not achieve high accuracy for the CIFAR-10 dataset because there is too much variability in the images, from different backgrounds to different angles and scales of the same objects being photographed. Therefore, the distance between and within classes are similar and renders the K-NN model useless."
   ]
  },
  {
   "cell_type": "markdown",
   "id": "a9683db9",
   "metadata": {},
   "source": [
    "b) Why does a K-NN model perform accurately on the MNIST handwritten\n",
    "digits image classification problem? Following notebooks might be useful to answer this question: https://github.com/rhasanbd/Study-of-Analogy-based-Learning-Image-Classification"
   ]
  },
  {
   "cell_type": "markdown",
   "id": "678ab04b",
   "metadata": {},
   "source": [
    "**Ans**: The MNIST dataset is a grayscale data set, where the handwritten digits are \"centralized\" and \"scaled\". Because all the digits have a similar white background and the somewhat uniform scale and angle of the digits, a K-NN model can accurately determine the digit classes based on pixel-by-pixel distance of the images.\n",
    "\n",
    "This observation is also being supported by the t-SNE plot in this [notebook](https://github.com/rhasanbd/Study-of-Analogy-based-Learning-Image-Classification/blob/main/Study%20of%20Analogy%20based%20Learning-Image%20Classification-3.ipynb), which displays clear separation of the digit images for the MNIST dataset but a big blob of overlapped images for the CIFAR-10 dataset."
   ]
  },
  {
   "cell_type": "markdown",
   "id": "5e36732b",
   "metadata": {},
   "source": [
    "c) Is it possible to achieve above 90% accuracy on the CIFAR-10 dataset using a K-NN model? Justify your answer."
   ]
  },
  {
   "cell_type": "markdown",
   "id": "05eafc60",
   "metadata": {},
   "source": [
    "**Ans**: Theoretically, it is possible to achieve above 90% accuracy on the CIFAR-10 dataset using a K-NN model if high-level features with meaningful distinctive traits for the 10 classes are available. In order to obtain these features, more sophisticated model(s) with the ability to extract them from the raw pixel CIFAR-10 dataset have to be used. Once these features are available, a K-NN model or other K-NN like model can be utilized to classify them , such as the implementation by [Xu et al. 2020](https://arxiv.org/pdf/2012.02733v1.pdf)."
   ]
  }
 ],
 "metadata": {
  "kernelspec": {
   "display_name": "Python 3 (ipykernel)",
   "language": "python",
   "name": "python3"
  },
  "language_info": {
   "codemirror_mode": {
    "name": "ipython",
    "version": 3
   },
   "file_extension": ".py",
   "mimetype": "text/x-python",
   "name": "python",
   "nbconvert_exporter": "python",
   "pygments_lexer": "ipython3",
   "version": "3.9.9"
  }
 },
 "nbformat": 4,
 "nbformat_minor": 5
}
