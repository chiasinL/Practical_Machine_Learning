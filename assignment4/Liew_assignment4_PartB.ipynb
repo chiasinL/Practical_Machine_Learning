{
 "cells": [
  {
   "cell_type": "markdown",
   "id": "830af1c8",
   "metadata": {},
   "source": [
    "# Assignment 4\n",
    "\n",
    "Name        : Chia Sin Liew   \n",
    "Last edited : May 5th, 2022 \n",
    "\n",
    "The goal of this assignment is to solve regression and classification problems using following models.\n",
    "\n",
    "- **Part A**: Extensive Study of the MLP Model\n",
    "- **Part B**: Design an MLP for Optimal Performance"
   ]
  },
  {
   "cell_type": "markdown",
   "id": "30ae4f7b",
   "metadata": {},
   "source": [
    "## Part A: Design an MLP for Optimal Performance\n",
    "\n",
    "You will design an MLP for the optimal performance on the following dataset.\n",
    "\n",
    "### **Dataset**:\n",
    "The CIFAR-10 dataset (Canadian Institute For Advanced Research) contains 60,000 32 x 32 color images in 10 different classes. The 10 different classes represent airplanes, cars, birds, cats, deer, dogs, frogs, horses, ships, and trucks. There are 6,000 images of each class. You may directly load this dataset using the Keras API: https://keras.io/api/datasets/cifar10/\n",
    "\n",
    "The train set contains 50,000 images, and the test set contains 10,000 images."
   ]
  },
  {
   "cell_type": "markdown",
   "id": "136f6065",
   "metadata": {},
   "source": [
    "### **Preprocessing**:\n",
    "\n",
    "You will need to perform some pre-processing steps. First step is to reshape the data. The dimension of the training set is 50000 x 32 x 32 x 3 and test set is 10000 x 32 x 32 x 3. Before you use this data for the MLP model, you need to flatten each sample (i.e., 32 x 32 x 3 = 3072) such the dimension of training and test set becomes:\n",
    "- 50000 x 3072\n",
    "- 10000 x 3072"
   ]
  },
  {
   "cell_type": "code",
   "execution_count": 1,
   "id": "d179d9e1",
   "metadata": {},
   "outputs": [],
   "source": [
    "import keras\n",
    "import numpy as np\n",
    "import matplotlib.pyplot as plt\n",
    "\n",
    "from sklearn.metrics import confusion_matrix, accuracy_score, classification_report\n",
    "\n",
    "import tensorflow as tf"
   ]
  },
  {
   "cell_type": "code",
   "execution_count": 2,
   "id": "3bcf8ac6",
   "metadata": {
    "scrolled": true
   },
   "outputs": [
    {
     "name": "stdout",
     "output_type": "stream",
     "text": [
      "(50000, 32, 32, 3)\n",
      "(50000, 1)\n",
      "(10000, 32, 32, 3)\n",
      "(10000, 1)\n"
     ]
    }
   ],
   "source": [
    "# first load data\n",
    "(X_train_full, y_train_full), (X_test, y_test) = keras.datasets.cifar10.load_data()\n",
    "print(X_train_full.shape)\n",
    "print(y_train_full.shape)\n",
    "print(X_test.shape)\n",
    "print(y_test.shape)"
   ]
  },
  {
   "cell_type": "code",
   "execution_count": 3,
   "id": "4fb86d1e",
   "metadata": {},
   "outputs": [
    {
     "name": "stdout",
     "output_type": "stream",
     "text": [
      "(50000, 3072)\n",
      "(50000,)\n",
      "(10000, 3072)\n",
      "(10000,)\n"
     ]
    }
   ],
   "source": [
    "# Reshape data \n",
    "X_train_full = X_train_full.reshape(50000, 3072)\n",
    "X_test = X_test.reshape(10000, 3072)\n",
    "\n",
    "# Convert 1D vector into 1D array\n",
    "y_train_full = y_train_full.ravel()\n",
    "y_test = y_test.ravel()\n",
    "\n",
    "\n",
    "print(X_train_full.shape)\n",
    "print(y_train_full.shape)\n",
    "print(X_test.shape)\n",
    "print(y_test.shape)"
   ]
  },
  {
   "cell_type": "code",
   "execution_count": 4,
   "id": "9e9f4573",
   "metadata": {},
   "outputs": [
    {
     "name": "stdout",
     "output_type": "stream",
     "text": [
      "No. of Training Samples:  (45000, 3072)\n",
      "No. of Training Labels:  (45000,)\n",
      "\n",
      "No. of Validation Samples:  (5000, 3072)\n",
      "No. of Validation Labels:  (5000,)\n",
      "\n",
      "No. of Testing Samples:  (10000, 3072)\n",
      "No. of Testing Labels:  (10000,)\n",
      "\n",
      "X type:  float64\n",
      "y type:  uint8\n"
     ]
    }
   ],
   "source": [
    "# Create a validation subset as well as scale (max-min scaling) the data\n",
    "X_valid, X_train = X_train_full[:5000] / 255.0, X_train_full[5000:] / 255.0\n",
    "y_valid, y_train = y_train_full[:5000], y_train_full[5000:]\n",
    "X_test = X_test / 255.0\n",
    "\n",
    "print(\"No. of Training Samples: \", X_train.shape)\n",
    "print(\"No. of Training Labels: \", y_train.shape)\n",
    "\n",
    "print(\"\\nNo. of Validation Samples: \", X_valid.shape)\n",
    "print(\"No. of Validation Labels: \", y_valid.shape)\n",
    "\n",
    "print(\"\\nNo. of Testing Samples: \", X_test.shape)\n",
    "print(\"No. of Testing Labels: \", y_test.shape)\n",
    "\n",
    "print(\"\\nX type: \", X_train.dtype)\n",
    "print(\"y type: \", y_train.dtype)"
   ]
  },
  {
   "cell_type": "markdown",
   "id": "b2529931",
   "metadata": {},
   "source": [
    "### Experiments\n",
    "Design an MLP classifier and perform multi-class classification. You must have an optimal design by finding optimal values for the following attributes: \n",
    "- hidden layers \n",
    "- neurons in each hidden layer\n",
    "- initializer for the weights \n",
    "- activation function for the hidden layers \n",
    "- regularization technique (weight decay, dropout, early stopping)\n",
    "- size of mini batch\n",
    "- learning rate. \n",
    "\n",
    "You may optimize additional attributes.\n"
   ]
  },
  {
   "cell_type": "markdown",
   "id": "c827bb55",
   "metadata": {},
   "source": [
    "#### Experiment 1"
   ]
  },
  {
   "cell_type": "markdown",
   "id": "f62e3e79",
   "metadata": {},
   "source": [
    "##### Build the MLP Model"
   ]
  },
  {
   "cell_type": "code",
   "execution_count": 5,
   "id": "980086bf",
   "metadata": {},
   "outputs": [
    {
     "name": "stdout",
     "output_type": "stream",
     "text": [
      "Model: \"MLP_Multiclass_Classifier\"\n",
      "_________________________________________________________________\n",
      "Layer (type)                 Output Shape              Param #   \n",
      "=================================================================\n",
      "flatten (Flatten)            (None, 3072)              0         \n",
      "_________________________________________________________________\n",
      "dense (Dense)                (None, 300)               921900    \n",
      "_________________________________________________________________\n",
      "dense_1 (Dense)              (None, 100)               30100     \n",
      "_________________________________________________________________\n",
      "dense_2 (Dense)              (None, 10)                1010      \n",
      "=================================================================\n",
      "Total params: 953,010\n",
      "Trainable params: 953,010\n",
      "Non-trainable params: 0\n",
      "_________________________________________________________________\n",
      "CPU times: user 153 ms, sys: 26.5 ms, total: 179 ms\n",
      "Wall time: 145 ms\n"
     ]
    },
    {
     "name": "stderr",
     "output_type": "stream",
     "text": [
      "2022-05-05 08:29:17.473528: I tensorflow/core/platform/cpu_feature_guard.cc:142] This TensorFlow binary is optimized with oneAPI Deep Neural Network Library (oneDNN) to use the following CPU instructions in performance-critical operations:  SSE4.1 SSE4.2\n",
      "To enable them in other operations, rebuild TensorFlow with the appropriate compiler flags.\n"
     ]
    }
   ],
   "source": [
    "%%time\n",
    "\n",
    "'''\n",
    "Delete the TensorFlow graph before creating a new model, otherwise memory overflow will occur.\n",
    "'''\n",
    "tf.keras.backend.clear_session()\n",
    "\n",
    "'''\n",
    "To reproduce the same result by the model in each iteration, we use fixed seeds for random number generation. \n",
    "'''\n",
    "np.random.seed(42)\n",
    "tf.random.set_seed(42)\n",
    "\n",
    "\n",
    "'''\n",
    "Set the values for weight initializer and activation function\n",
    "'''\n",
    "kernel_initializer = 'random_normal'\n",
    "activation = 'relu'\n",
    "number_of_classes = 10\n",
    "\n",
    "\n",
    "'''\n",
    "Create a Sequential model composed of a single stack of layers connected sequentially. \n",
    "- Add the layers one by one.\n",
    "- Apply Dropout regularization\n",
    "'''\n",
    "model = tf.keras.models.Sequential(name=\"MLP_Multiclass_Classifier\")\n",
    "model.add(tf.keras.layers.Flatten(input_shape=[3072]))\n",
    "model.add(tf.keras.layers.Dense(units=300, kernel_initializer=kernel_initializer, activation=activation, \n",
    "                             bias_initializer=\"zeros\"))\n",
    "# model.add(tf.keras.layers.Dropout(rate=0.1)) # add if needed\n",
    "model.add(tf.keras.layers.Dense(units=100, kernel_initializer=kernel_initializer, activation=activation,\n",
    "                            bias_initializer=\"zeros\"))\n",
    "# model.add(tf.keras.layers.Dropout(rate=0.1)) # add if needed\n",
    "model.add(tf.keras.layers.Dense(units=number_of_classes, kernel_initializer=kernel_initializer, \n",
    "                             activation=\"softmax\"))\n",
    "\n",
    "model.summary()"
   ]
  },
  {
   "cell_type": "markdown",
   "id": "06e0224d",
   "metadata": {},
   "source": [
    "##### Train the MLP Model"
   ]
  },
  {
   "cell_type": "code",
   "execution_count": 6,
   "id": "31f64e49",
   "metadata": {},
   "outputs": [
    {
     "name": "stderr",
     "output_type": "stream",
     "text": [
      "2022-05-05 08:29:17.987378: I tensorflow/compiler/mlir/mlir_graph_optimization_pass.cc:116] None of the MLIR optimization passes are enabled (registered 2)\n"
     ]
    },
    {
     "name": "stdout",
     "output_type": "stream",
     "text": [
      "Epoch 1/50\n",
      "704/704 [==============================] - 13s 19ms/step - loss: 2.0201 - accuracy: 0.2615 - val_loss: 1.9497 - val_accuracy: 0.2880\n",
      "Epoch 2/50\n",
      "704/704 [==============================] - 12s 17ms/step - loss: 1.7350 - accuracy: 0.3806 - val_loss: 2.4600 - val_accuracy: 0.2616\n",
      "Epoch 3/50\n",
      "704/704 [==============================] - 10s 15ms/step - loss: 1.6597 - accuracy: 0.4115 - val_loss: 2.6547 - val_accuracy: 0.2188\n",
      "Epoch 4/50\n",
      "704/704 [==============================] - 12s 16ms/step - loss: 1.5782 - accuracy: 0.4356 - val_loss: 2.8448 - val_accuracy: 0.2180\n",
      "Epoch 5/50\n",
      "704/704 [==============================] - 13s 19ms/step - loss: 1.5467 - accuracy: 0.4500 - val_loss: 1.9816 - val_accuracy: 0.3292\n",
      "Epoch 6/50\n",
      "704/704 [==============================] - 11s 15ms/step - loss: 1.4825 - accuracy: 0.4683 - val_loss: 1.9295 - val_accuracy: 0.3516\n",
      "Epoch 7/50\n",
      "704/704 [==============================] - 9s 13ms/step - loss: 1.4459 - accuracy: 0.4835 - val_loss: 2.1608 - val_accuracy: 0.2858\n",
      "Epoch 8/50\n",
      "704/704 [==============================] - 9s 13ms/step - loss: 1.4003 - accuracy: 0.4994 - val_loss: 2.0147 - val_accuracy: 0.3670\n",
      "Epoch 9/50\n",
      "704/704 [==============================] - 10s 14ms/step - loss: 1.3903 - accuracy: 0.5056 - val_loss: 1.6024 - val_accuracy: 0.4404\n",
      "Epoch 10/50\n",
      "704/704 [==============================] - 9s 13ms/step - loss: 1.3522 - accuracy: 0.5156 - val_loss: 2.1812 - val_accuracy: 0.3150\n",
      "Epoch 11/50\n",
      "704/704 [==============================] - 10s 15ms/step - loss: 1.3280 - accuracy: 0.5270 - val_loss: 2.4806 - val_accuracy: 0.3086\n",
      "Epoch 12/50\n",
      "704/704 [==============================] - 10s 14ms/step - loss: 1.3136 - accuracy: 0.5331 - val_loss: 1.5987 - val_accuracy: 0.4514\n",
      "Epoch 13/50\n",
      "704/704 [==============================] - 9s 13ms/step - loss: 1.2764 - accuracy: 0.5387 - val_loss: 1.5464 - val_accuracy: 0.4566\n",
      "Epoch 14/50\n",
      "704/704 [==============================] - 9s 13ms/step - loss: 1.2469 - accuracy: 0.5533 - val_loss: 2.0408 - val_accuracy: 0.3740\n",
      "Epoch 15/50\n",
      "704/704 [==============================] - 10s 14ms/step - loss: 1.2548 - accuracy: 0.5537 - val_loss: 1.8583 - val_accuracy: 0.3736\n",
      "Epoch 16/50\n",
      "704/704 [==============================] - 10s 15ms/step - loss: 1.2182 - accuracy: 0.5660 - val_loss: 1.8913 - val_accuracy: 0.4156\n",
      "Epoch 17/50\n",
      "704/704 [==============================] - 12s 18ms/step - loss: 1.2013 - accuracy: 0.5684 - val_loss: 1.7081 - val_accuracy: 0.4476\n",
      "Epoch 18/50\n",
      "704/704 [==============================] - 10s 15ms/step - loss: 1.1843 - accuracy: 0.5768 - val_loss: 5.0855 - val_accuracy: 0.2054\n",
      "Epoch 19/50\n",
      "704/704 [==============================] - 10s 14ms/step - loss: 1.2557 - accuracy: 0.5641 - val_loss: 1.6307 - val_accuracy: 0.4642\n",
      "Epoch 20/50\n",
      "704/704 [==============================] - 10s 14ms/step - loss: 1.1402 - accuracy: 0.5930 - val_loss: 2.0637 - val_accuracy: 0.3530\n",
      "Epoch 21/50\n",
      "704/704 [==============================] - 10s 14ms/step - loss: 1.1431 - accuracy: 0.5882 - val_loss: 2.2715 - val_accuracy: 0.3720\n",
      "Epoch 22/50\n",
      "704/704 [==============================] - 10s 14ms/step - loss: 1.1351 - accuracy: 0.5936 - val_loss: 2.0791 - val_accuracy: 0.3882\n",
      "Epoch 23/50\n",
      "704/704 [==============================] - 9s 13ms/step - loss: 1.1035 - accuracy: 0.6048 - val_loss: 1.9101 - val_accuracy: 0.4022\n",
      "Epoch 00023: early stopping\n",
      "CPU times: user 12min 8s, sys: 23.1 s, total: 12min 31s\n",
      "Wall time: 3min 59s\n"
     ]
    }
   ],
   "source": [
    "%%time\n",
    "\n",
    "'''\n",
    "Define the optimizer\n",
    "'''\n",
    "optimizer = tf.keras.optimizers.SGD(learning_rate=0.1)\n",
    "\n",
    "\n",
    "'''\n",
    "Compile the model\n",
    "'''\n",
    "model.compile(loss=\"sparse_categorical_crossentropy\",\n",
    "              optimizer=optimizer,\n",
    "              metrics=[\"accuracy\"])\n",
    "\n",
    "\n",
    "\n",
    "'''\n",
    "Create the early stopping callback function.\n",
    "'''\n",
    "early_stopping_cb = tf.keras.callbacks.EarlyStopping(monitor='val_loss',\n",
    "                                  min_delta=0, \n",
    "                                  patience=10, \n",
    "                                  verbose=1, \n",
    "                                  mode='auto',\n",
    "                                  restore_best_weights=False)\n",
    "\n",
    "'''\n",
    "Set the epochs and mini batch size\n",
    "'''\n",
    "no_of_epochs = 50\n",
    "size_of_mini_batch = 64\n",
    "\n",
    "\n",
    "'''\n",
    "Train the model\n",
    "'''\n",
    "history = model.fit(X_train, y_train, \n",
    "                    batch_size=size_of_mini_batch, \n",
    "                    epochs=no_of_epochs,\n",
    "                    verbose=1,\n",
    "                    validation_data=(X_valid, y_valid),\n",
    "                    callbacks=[early_stopping_cb])"
   ]
  },
  {
   "cell_type": "markdown",
   "id": "335c899d",
   "metadata": {},
   "source": [
    "##### History object"
   ]
  },
  {
   "cell_type": "code",
   "execution_count": 7,
   "id": "35ebbf3b",
   "metadata": {
    "scrolled": true
   },
   "outputs": [
    {
     "name": "stdout",
     "output_type": "stream",
     "text": [
      "Training Parameters:  {'verbose': 1, 'epochs': 50, 'steps': 704}\n",
      "\n",
      "List of Epochs:  [0, 1, 2, 3, 4, 5, 6, 7, 8, 9, 10, 11, 12, 13, 14, 15, 16, 17, 18, 19, 20, 21, 22]\n",
      "\n",
      "Evaluation Metrics:  dict_keys(['loss', 'accuracy', 'val_loss', 'val_accuracy'])\n"
     ]
    }
   ],
   "source": [
    "print(\"Training Parameters: \", history.params)\n",
    "print(\"\\nList of Epochs: \", history.epoch)\n",
    "print(\"\\nEvaluation Metrics: \", history.history.keys())"
   ]
  },
  {
   "cell_type": "markdown",
   "id": "c7c7630f",
   "metadata": {},
   "source": [
    "##### Model evaluation"
   ]
  },
  {
   "cell_type": "code",
   "execution_count": 8,
   "id": "d73c0e21",
   "metadata": {},
   "outputs": [
    {
     "name": "stdout",
     "output_type": "stream",
     "text": [
      "Epochs:  23\n",
      "\n",
      "Test Data: Loss & Accuracy:  [1.9210180044174194, 0.3991999924182892]\n",
      "\n",
      "Train Accuracy:  0.47257777777777776\n",
      "\n",
      "Test Accuracy:  0.3992\n",
      "\n",
      "Test Confusion Matrix:\n",
      "[[ 90 104  54  34 114 231   6  49 266  52]\n",
      " [  9 666  23  19  30  53   6  21  96  77]\n",
      " [  8  20 310  70 196 302  17  35  31  11]\n",
      " [  0  36  71 239  81 484  21  27  29  12]\n",
      " [  3  11 136  31 431 277  30  53  24   4]\n",
      " [  1  14  90 120  80 623  22  28  16   6]\n",
      " [  1  27 149  90 158 293 259   7  11   5]\n",
      " [  9  30  84  48 124 245   5 396  34  25]\n",
      " [ 10 155  18  20  51  86   1  14 615  30]\n",
      " [  4 292  25  59  41  65   9  37 105 363]]\n",
      "\n",
      "Classification Report:\n",
      "              precision    recall  f1-score   support\n",
      "\n",
      "           0       0.67      0.09      0.16      1000\n",
      "           1       0.49      0.67      0.57      1000\n",
      "           2       0.32      0.31      0.32      1000\n",
      "           3       0.33      0.24      0.28      1000\n",
      "           4       0.33      0.43      0.37      1000\n",
      "           5       0.23      0.62      0.34      1000\n",
      "           6       0.69      0.26      0.38      1000\n",
      "           7       0.59      0.40      0.48      1000\n",
      "           8       0.50      0.61      0.55      1000\n",
      "           9       0.62      0.36      0.46      1000\n",
      "\n",
      "    accuracy                           0.40     10000\n",
      "   macro avg       0.48      0.40      0.39     10000\n",
      "weighted avg       0.48      0.40      0.39     10000\n",
      "\n"
     ]
    }
   ],
   "source": [
    "numOfEpochs = len(history.history['loss'])\n",
    "print(\"Epochs: \", numOfEpochs)\n",
    "\n",
    "print(\"\\nTest Data: Loss & Accuracy: \", model.evaluate(X_test, y_test, verbose=0))\n",
    "\n",
    "# model.predict() method returns 10 probabilities per class for each instance (Dimension Nx10)\n",
    "y_test_predicted = model.predict(X_test)\n",
    "y_test_predicted = np.argmax(y_test_predicted, axis=1) # get the label/index of the highest probability class\n",
    "\n",
    "\n",
    "y_train_predicted = model.predict(X_train)\n",
    "y_train_predicted = np.argmax(y_train_predicted, axis=1) # get the label/index of the highest probability class\n",
    "\n",
    "train_accuracy = np.mean(y_train_predicted == y_train)\n",
    "print(\"\\nTrain Accuracy: \", train_accuracy)\n",
    "\n",
    "test_accuracy = np.mean(y_test_predicted == y_test)\n",
    "print(\"\\nTest Accuracy: \", test_accuracy)\n",
    "\n",
    "print(\"\\nTest Confusion Matrix:\")\n",
    "print(confusion_matrix(y_test, y_test_predicted))\n",
    "\n",
    "print(\"\\nClassification Report:\")\n",
    "print(classification_report(y_test, y_test_predicted))"
   ]
  },
  {
   "cell_type": "markdown",
   "id": "018ac587",
   "metadata": {},
   "source": [
    "##### Plot Learning Curves"
   ]
  },
  {
   "cell_type": "code",
   "execution_count": 9,
   "id": "59f483d3",
   "metadata": {
    "scrolled": true
   },
   "outputs": [
    {
     "data": {
      "image/png": "[encoded data removed]",
      "text/plain": [
       "<Figure size 1296x432 with 2 Axes>"
      ]
     },
     "metadata": {
      "needs_background": "light"
     },
     "output_type": "display_data"
    }
   ],
   "source": [
    "plt.figure(figsize=(18,6))\n",
    "\n",
    "plt.subplot(121)\n",
    "plt.plot(range(1,numOfEpochs+1),history.history['val_accuracy'],label='validation')\n",
    "plt.plot(range(1,numOfEpochs+1),history.history['accuracy'],label='training')\n",
    "plt.legend(loc=0)\n",
    "plt.xlabel('Epochs')\n",
    "plt.ylabel('Accuracy')\n",
    "plt.xlim([1,numOfEpochs])\n",
    "plt.grid(True)\n",
    "plt.title(\"Model Accuracy\")\n",
    "\n",
    "plt.subplot(122)\n",
    "plt.plot(range(1,numOfEpochs+1),history.history['val_loss'],label='validation')\n",
    "plt.plot(range(1,numOfEpochs+1),history.history['loss'],label='training')\n",
    "plt.legend(loc=0)\n",
    "plt.xlabel('Epochs')\n",
    "plt.ylabel('Loss')\n",
    "plt.xlim([1,numOfEpochs])\n",
    "plt.grid(True)\n",
    "plt.title(\"Model Loss\")\n",
    "\n",
    "plt.show() "
   ]
  },
  {
   "cell_type": "markdown",
   "id": "5bffd1f0",
   "metadata": {},
   "source": [
    "#### Experiment 2"
   ]
  },
  {
   "cell_type": "markdown",
   "id": "e24bef6a",
   "metadata": {},
   "source": [
    "##### Build the MLP Model"
   ]
  },
  {
   "cell_type": "code",
   "execution_count": 10,
   "id": "0470a475",
   "metadata": {},
   "outputs": [
    {
     "name": "stdout",
     "output_type": "stream",
     "text": [
      "Model: \"MLP_Multiclass_Classifier\"\n",
      "_________________________________________________________________\n",
      "Layer (type)                 Output Shape              Param #   \n",
      "=================================================================\n",
      "flatten (Flatten)            (None, 3072)              0         \n",
      "_________________________________________________________________\n",
      "dense (Dense)                (None, 300)               921900    \n",
      "_________________________________________________________________\n",
      "dropout (Dropout)            (None, 300)               0         \n",
      "_________________________________________________________________\n",
      "dense_1 (Dense)              (None, 100)               30100     \n",
      "_________________________________________________________________\n",
      "dropout_1 (Dropout)          (None, 100)               0         \n",
      "_________________________________________________________________\n",
      "dense_2 (Dense)              (None, 10)                1010      \n",
      "=================================================================\n",
      "Total params: 953,010\n",
      "Trainable params: 953,010\n",
      "Non-trainable params: 0\n",
      "_________________________________________________________________\n",
      "CPU times: user 62.1 ms, sys: 25.5 ms, total: 87.5 ms\n",
      "Wall time: 48.2 ms\n"
     ]
    }
   ],
   "source": [
    "%%time\n",
    "\n",
    "'''\n",
    "Delete the TensorFlow graph before creating a new model, otherwise memory overflow will occur.\n",
    "'''\n",
    "tf.keras.backend.clear_session()\n",
    "\n",
    "'''\n",
    "To reproduce the same result by the model in each iteration, we use fixed seeds for random number generation. \n",
    "'''\n",
    "np.random.seed(42)\n",
    "tf.random.set_seed(42)\n",
    "\n",
    "\n",
    "'''\n",
    "Set the values for weight initializer and activation function\n",
    "'''\n",
    "kernel_initializer = 'random_normal'\n",
    "activation = 'relu'\n",
    "number_of_classes = 10\n",
    "\n",
    "\n",
    "'''\n",
    "Create a Sequential model composed of a single stack of layers connected sequentially. \n",
    "- Add the layers one by one.\n",
    "- Apply Dropout regularization\n",
    "'''\n",
    "model = tf.keras.models.Sequential(name=\"MLP_Multiclass_Classifier\")\n",
    "model.add(tf.keras.layers.Flatten(input_shape=[3072]))\n",
    "model.add(tf.keras.layers.Dense(units=300, kernel_initializer=kernel_initializer, activation=activation, \n",
    "                             bias_initializer=\"zeros\"))\n",
    "model.add(tf.keras.layers.Dropout(rate=0.1)) # add if needed\n",
    "model.add(tf.keras.layers.Dense(units=100, kernel_initializer=kernel_initializer, activation=activation,\n",
    "                            bias_initializer=\"zeros\"))\n",
    "model.add(tf.keras.layers.Dropout(rate=0.1)) # add if needed\n",
    "model.add(tf.keras.layers.Dense(units=number_of_classes, kernel_initializer=kernel_initializer, \n",
    "                             activation=\"softmax\"))\n",
    "\n",
    "model.summary()"
   ]
  },
  {
   "cell_type": "markdown",
   "id": "3d577597",
   "metadata": {},
   "source": [
    "##### Train the MLP Model"
   ]
  },
  {
   "cell_type": "code",
   "execution_count": 11,
   "id": "b5548349",
   "metadata": {},
   "outputs": [
    {
     "name": "stdout",
     "output_type": "stream",
     "text": [
      "Epoch 1/50\n",
      "704/704 [==============================] - 11s 15ms/step - loss: 2.0391 - accuracy: 0.2547 - val_loss: 2.0586 - val_accuracy: 0.2632\n",
      "Epoch 2/50\n",
      "704/704 [==============================] - 10s 15ms/step - loss: 1.7684 - accuracy: 0.3684 - val_loss: 2.2898 - val_accuracy: 0.2694\n",
      "Epoch 3/50\n",
      "704/704 [==============================] - 9s 13ms/step - loss: 1.6937 - accuracy: 0.3956 - val_loss: 2.5126 - val_accuracy: 0.2094\n",
      "Epoch 4/50\n",
      "704/704 [==============================] - 10s 14ms/step - loss: 1.6264 - accuracy: 0.4185 - val_loss: 3.0718 - val_accuracy: 0.2184\n",
      "Epoch 5/50\n",
      "704/704 [==============================] - 12s 17ms/step - loss: 1.6029 - accuracy: 0.4244 - val_loss: 2.5435 - val_accuracy: 0.2258\n",
      "Epoch 6/50\n",
      "704/704 [==============================] - 11s 15ms/step - loss: 1.5724 - accuracy: 0.4374 - val_loss: 1.9040 - val_accuracy: 0.3378\n",
      "Epoch 7/50\n",
      "704/704 [==============================] - 9s 13ms/step - loss: 1.5086 - accuracy: 0.4586 - val_loss: 1.7450 - val_accuracy: 0.3794\n",
      "Epoch 8/50\n",
      "704/704 [==============================] - 9s 13ms/step - loss: 1.4769 - accuracy: 0.4720 - val_loss: 1.8972 - val_accuracy: 0.3794\n",
      "Epoch 9/50\n",
      "704/704 [==============================] - 9s 13ms/step - loss: 1.4632 - accuracy: 0.4743 - val_loss: 1.6441 - val_accuracy: 0.4160\n",
      "Epoch 10/50\n",
      "704/704 [==============================] - 9s 13ms/step - loss: 1.4311 - accuracy: 0.4868 - val_loss: 1.7960 - val_accuracy: 0.3776\n",
      "Epoch 11/50\n",
      "704/704 [==============================] - 9s 13ms/step - loss: 1.4021 - accuracy: 0.4976 - val_loss: 1.9395 - val_accuracy: 0.3570\n",
      "Epoch 12/50\n",
      "704/704 [==============================] - 10s 14ms/step - loss: 1.3896 - accuracy: 0.5016 - val_loss: 1.5237 - val_accuracy: 0.4658\n",
      "Epoch 13/50\n",
      "704/704 [==============================] - 9s 13ms/step - loss: 1.3672 - accuracy: 0.5062 - val_loss: 1.5493 - val_accuracy: 0.4432\n",
      "Epoch 14/50\n",
      "704/704 [==============================] - 10s 14ms/step - loss: 1.3394 - accuracy: 0.5176 - val_loss: 1.8427 - val_accuracy: 0.3714\n",
      "Epoch 15/50\n",
      "704/704 [==============================] - 11s 15ms/step - loss: 1.3460 - accuracy: 0.5157 - val_loss: 1.6820 - val_accuracy: 0.4180\n",
      "Epoch 16/50\n",
      "704/704 [==============================] - 10s 14ms/step - loss: 1.3288 - accuracy: 0.5238 - val_loss: 1.6433 - val_accuracy: 0.4360\n",
      "Epoch 17/50\n",
      "704/704 [==============================] - 11s 16ms/step - loss: 1.3116 - accuracy: 0.5289 - val_loss: 1.6648 - val_accuracy: 0.4146\n",
      "Epoch 18/50\n",
      "704/704 [==============================] - 10s 15ms/step - loss: 1.3003 - accuracy: 0.5307 - val_loss: 1.6465 - val_accuracy: 0.4580\n",
      "Epoch 19/50\n",
      "704/704 [==============================] - 10s 15ms/step - loss: 1.2741 - accuracy: 0.5441 - val_loss: 1.5394 - val_accuracy: 0.4570\n",
      "Epoch 20/50\n",
      "704/704 [==============================] - 9s 13ms/step - loss: 1.2741 - accuracy: 0.5408 - val_loss: 1.6558 - val_accuracy: 0.4332\n",
      "Epoch 21/50\n",
      "704/704 [==============================] - 10s 14ms/step - loss: 1.2648 - accuracy: 0.5453 - val_loss: 1.7234 - val_accuracy: 0.4284\n",
      "Epoch 22/50\n",
      "704/704 [==============================] - 10s 15ms/step - loss: 1.2558 - accuracy: 0.5482 - val_loss: 1.6550 - val_accuracy: 0.4248\n",
      "Epoch 00022: early stopping\n",
      "CPU times: user 11min 19s, sys: 21.6 s, total: 11min 40s\n",
      "Wall time: 3min 41s\n"
     ]
    }
   ],
   "source": [
    "%%time\n",
    "\n",
    "'''\n",
    "Define the optimizer\n",
    "'''\n",
    "optimizer = tf.keras.optimizers.SGD(learning_rate=0.1)\n",
    "\n",
    "\n",
    "'''\n",
    "Compile the model\n",
    "'''\n",
    "model.compile(loss=\"sparse_categorical_crossentropy\",\n",
    "              optimizer=optimizer,\n",
    "              metrics=[\"accuracy\"])\n",
    "\n",
    "\n",
    "\n",
    "'''\n",
    "Create the early stopping callback function.\n",
    "'''\n",
    "early_stopping_cb = tf.keras.callbacks.EarlyStopping(monitor='val_loss',\n",
    "                                  min_delta=0, \n",
    "                                  patience=10, \n",
    "                                  verbose=1, \n",
    "                                  mode='auto',\n",
    "                                  restore_best_weights=False)\n",
    "\n",
    "'''\n",
    "Set the epochs and mini batch size\n",
    "'''\n",
    "no_of_epochs = 50\n",
    "size_of_mini_batch = 64\n",
    "\n",
    "\n",
    "'''\n",
    "Train the model\n",
    "'''\n",
    "history = model.fit(X_train, y_train, \n",
    "                    batch_size=size_of_mini_batch, \n",
    "                    epochs=no_of_epochs,\n",
    "                    verbose=1,\n",
    "                    validation_data=(X_valid, y_valid),\n",
    "                    callbacks=[early_stopping_cb])"
   ]
  },
  {
   "cell_type": "markdown",
   "id": "b623fc42",
   "metadata": {},
   "source": [
    "##### History object"
   ]
  },
  {
   "cell_type": "code",
   "execution_count": 12,
   "id": "31c241fc",
   "metadata": {
    "scrolled": true
   },
   "outputs": [
    {
     "name": "stdout",
     "output_type": "stream",
     "text": [
      "Training Parameters:  {'verbose': 1, 'epochs': 50, 'steps': 704}\n",
      "\n",
      "List of Epochs:  [0, 1, 2, 3, 4, 5, 6, 7, 8, 9, 10, 11, 12, 13, 14, 15, 16, 17, 18, 19, 20, 21]\n",
      "\n",
      "Evaluation Metrics:  dict_keys(['loss', 'accuracy', 'val_loss', 'val_accuracy'])\n"
     ]
    }
   ],
   "source": [
    "print(\"Training Parameters: \", history.params)\n",
    "print(\"\\nList of Epochs: \", history.epoch)\n",
    "print(\"\\nEvaluation Metrics: \", history.history.keys())"
   ]
  },
  {
   "cell_type": "markdown",
   "id": "8332cc03",
   "metadata": {},
   "source": [
    "##### Model evaluation"
   ]
  },
  {
   "cell_type": "code",
   "execution_count": 13,
   "id": "a18273e6",
   "metadata": {},
   "outputs": [
    {
     "name": "stdout",
     "output_type": "stream",
     "text": [
      "Epochs:  22\n",
      "\n",
      "Test Data: Loss & Accuracy:  [1.6492360830307007, 0.4189000129699707]\n",
      "\n",
      "Train Accuracy:  0.4676888888888889\n",
      "\n",
      "Test Accuracy:  0.4189\n",
      "\n",
      "Test Confusion Matrix:\n",
      "[[851   6   8   9  15   0  36   5  26  44]\n",
      " [183 521  22  10  13   6  36   9  15 185]\n",
      " [322  11 136  37 173  27 244  23  10  17]\n",
      " [196   9  47 189  53  61 366  19  13  47]\n",
      " [194   4  37  29 462  14 215  20   7  18]\n",
      " [174   5  57 155  68 185 295  21  16  24]\n",
      " [ 97  11  18  24 109   7 708   4   6  16]\n",
      " [266  11  24  54 138  37 134 282   2  52]\n",
      " [455  55   6   7   7   7  45   1 305 112]\n",
      " [201 132  10   9  16   8  51   6  17 550]]\n",
      "\n",
      "Classification Report:\n",
      "              precision    recall  f1-score   support\n",
      "\n",
      "           0       0.29      0.85      0.43      1000\n",
      "           1       0.68      0.52      0.59      1000\n",
      "           2       0.37      0.14      0.20      1000\n",
      "           3       0.36      0.19      0.25      1000\n",
      "           4       0.44      0.46      0.45      1000\n",
      "           5       0.53      0.18      0.27      1000\n",
      "           6       0.33      0.71      0.45      1000\n",
      "           7       0.72      0.28      0.41      1000\n",
      "           8       0.73      0.30      0.43      1000\n",
      "           9       0.52      0.55      0.53      1000\n",
      "\n",
      "    accuracy                           0.42     10000\n",
      "   macro avg       0.50      0.42      0.40     10000\n",
      "weighted avg       0.50      0.42      0.40     10000\n",
      "\n"
     ]
    }
   ],
   "source": [
    "numOfEpochs = len(history.history['loss'])\n",
    "print(\"Epochs: \", numOfEpochs)\n",
    "\n",
    "print(\"\\nTest Data: Loss & Accuracy: \", model.evaluate(X_test, y_test, verbose=0))\n",
    "\n",
    "# model.predict() method returns 10 probabilities per class for each instance (Dimension Nx10)\n",
    "y_test_predicted = model.predict(X_test)\n",
    "y_test_predicted = np.argmax(y_test_predicted, axis=1) # get the label/index of the highest probability class\n",
    "\n",
    "\n",
    "y_train_predicted = model.predict(X_train)\n",
    "y_train_predicted = np.argmax(y_train_predicted, axis=1) # get the label/index of the highest probability class\n",
    "\n",
    "train_accuracy = np.mean(y_train_predicted == y_train)\n",
    "print(\"\\nTrain Accuracy: \", train_accuracy)\n",
    "\n",
    "test_accuracy = np.mean(y_test_predicted == y_test)\n",
    "print(\"\\nTest Accuracy: \", test_accuracy)\n",
    "\n",
    "print(\"\\nTest Confusion Matrix:\")\n",
    "print(confusion_matrix(y_test, y_test_predicted))\n",
    "\n",
    "print(\"\\nClassification Report:\")\n",
    "print(classification_report(y_test, y_test_predicted))"
   ]
  },
  {
   "cell_type": "markdown",
   "id": "da273ade",
   "metadata": {},
   "source": [
    "##### Plot Learning Curves"
   ]
  },
  {
   "cell_type": "code",
   "execution_count": 14,
   "id": "27284e65",
   "metadata": {
    "scrolled": false
   },
   "outputs": [
    {
     "data": {
      "image/png": "[encoded data removed]",
      "text/plain": [
       "<Figure size 1296x432 with 2 Axes>"
      ]
     },
     "metadata": {
      "needs_background": "light"
     },
     "output_type": "display_data"
    }
   ],
   "source": [
    "plt.figure(figsize=(18,6))\n",
    "\n",
    "plt.subplot(121)\n",
    "plt.plot(range(1,numOfEpochs+1),history.history['val_accuracy'],label='validation')\n",
    "plt.plot(range(1,numOfEpochs+1),history.history['accuracy'],label='training')\n",
    "plt.legend(loc=0)\n",
    "plt.xlabel('Epochs')\n",
    "plt.ylabel('Accuracy')\n",
    "plt.xlim([1,numOfEpochs])\n",
    "plt.grid(True)\n",
    "plt.title(\"Model Accuracy\")\n",
    "\n",
    "plt.subplot(122)\n",
    "plt.plot(range(1,numOfEpochs+1),history.history['val_loss'],label='validation')\n",
    "plt.plot(range(1,numOfEpochs+1),history.history['loss'],label='training')\n",
    "plt.legend(loc=0)\n",
    "plt.xlabel('Epochs')\n",
    "plt.ylabel('Loss')\n",
    "plt.xlim([1,numOfEpochs])\n",
    "plt.grid(True)\n",
    "plt.title(\"Model Loss\")\n",
    "\n",
    "plt.show() "
   ]
  },
  {
   "cell_type": "markdown",
   "id": "a505271f",
   "metadata": {},
   "source": [
    "#### Experiment 3"
   ]
  },
  {
   "cell_type": "markdown",
   "id": "871f5a95",
   "metadata": {},
   "source": [
    "##### Build the MLP Model"
   ]
  },
  {
   "cell_type": "code",
   "execution_count": 15,
   "id": "344e1c3d",
   "metadata": {},
   "outputs": [
    {
     "name": "stdout",
     "output_type": "stream",
     "text": [
      "Model: \"MLP_Multiclass_Classifier\"\n",
      "_________________________________________________________________\n",
      "Layer (type)                 Output Shape              Param #   \n",
      "=================================================================\n",
      "flatten (Flatten)            (None, 3072)              0         \n",
      "_________________________________________________________________\n",
      "dense (Dense)                (None, 300)               921900    \n",
      "_________________________________________________________________\n",
      "dense_1 (Dense)              (None, 100)               30100     \n",
      "_________________________________________________________________\n",
      "dense_2 (Dense)              (None, 10)                1010      \n",
      "=================================================================\n",
      "Total params: 953,010\n",
      "Trainable params: 953,010\n",
      "Non-trainable params: 0\n",
      "_________________________________________________________________\n",
      "CPU times: user 56.8 ms, sys: 40.8 ms, total: 97.6 ms\n",
      "Wall time: 67.6 ms\n"
     ]
    }
   ],
   "source": [
    "%%time\n",
    "\n",
    "'''\n",
    "Delete the TensorFlow graph before creating a new model, otherwise memory overflow will occur.\n",
    "'''\n",
    "tf.keras.backend.clear_session()\n",
    "\n",
    "'''\n",
    "To reproduce the same result by the model in each iteration, we use fixed seeds for random number generation. \n",
    "'''\n",
    "np.random.seed(42)\n",
    "tf.random.set_seed(42)\n",
    "\n",
    "\n",
    "'''\n",
    "Set the values for weight initializer and activation function\n",
    "'''\n",
    "kernel_initializer = 'random_normal'\n",
    "activation = 'sigmoid'\n",
    "number_of_classes = 10\n",
    "\n",
    "\n",
    "'''\n",
    "Create a Sequential model composed of a single stack of layers connected sequentially. \n",
    "- Add the layers one by one.\n",
    "- Apply Dropout regularization\n",
    "'''\n",
    "model = tf.keras.models.Sequential(name=\"MLP_Multiclass_Classifier\")\n",
    "model.add(tf.keras.layers.Flatten(input_shape=[3072]))\n",
    "model.add(tf.keras.layers.Dense(units=300, kernel_initializer=kernel_initializer, activation=activation, \n",
    "                             bias_initializer=\"zeros\"))\n",
    "# model.add(tf.keras.layers.Dropout(rate=0.1)) # add if needed\n",
    "model.add(tf.keras.layers.Dense(units=100, kernel_initializer=kernel_initializer, activation=activation,\n",
    "                            bias_initializer=\"zeros\"))\n",
    "# model.add(tf.keras.layers.Dropout(rate=0.1)) # add if needed\n",
    "model.add(tf.keras.layers.Dense(units=number_of_classes, kernel_initializer=kernel_initializer, \n",
    "                             activation=\"softmax\"))\n",
    "\n",
    "model.summary()"
   ]
  },
  {
   "cell_type": "markdown",
   "id": "10459c44",
   "metadata": {},
   "source": [
    "##### Train the MLP Model"
   ]
  },
  {
   "cell_type": "code",
   "execution_count": 16,
   "id": "7526ffa9",
   "metadata": {},
   "outputs": [
    {
     "name": "stdout",
     "output_type": "stream",
     "text": [
      "Epoch 1/50\n",
      "704/704 [==============================] - 11s 15ms/step - loss: 2.2629 - accuracy: 0.1390 - val_loss: 2.0643 - val_accuracy: 0.1928\n",
      "Epoch 2/50\n",
      "704/704 [==============================] - 11s 15ms/step - loss: 1.9754 - accuracy: 0.2763 - val_loss: 2.0425 - val_accuracy: 0.2308\n",
      "Epoch 3/50\n",
      "704/704 [==============================] - 10s 15ms/step - loss: 1.8876 - accuracy: 0.3203 - val_loss: 2.0093 - val_accuracy: 0.2668\n",
      "Epoch 4/50\n",
      "704/704 [==============================] - 11s 15ms/step - loss: 1.8336 - accuracy: 0.3413 - val_loss: 2.4575 - val_accuracy: 0.1908\n",
      "Epoch 5/50\n",
      "704/704 [==============================] - 11s 16ms/step - loss: 1.7860 - accuracy: 0.3570 - val_loss: 1.9042 - val_accuracy: 0.3040\n",
      "Epoch 6/50\n",
      "704/704 [==============================] - 10s 15ms/step - loss: 1.7357 - accuracy: 0.3732 - val_loss: 1.7329 - val_accuracy: 0.3672\n",
      "Epoch 7/50\n",
      "704/704 [==============================] - 11s 16ms/step - loss: 1.7048 - accuracy: 0.3878 - val_loss: 1.9365 - val_accuracy: 0.2870\n",
      "Epoch 8/50\n",
      "704/704 [==============================] - 12s 17ms/step - loss: 1.6667 - accuracy: 0.4024 - val_loss: 1.7248 - val_accuracy: 0.3804\n",
      "Epoch 9/50\n",
      "704/704 [==============================] - 10s 14ms/step - loss: 1.6460 - accuracy: 0.4092 - val_loss: 1.7589 - val_accuracy: 0.3594\n",
      "Epoch 10/50\n",
      "704/704 [==============================] - 11s 15ms/step - loss: 1.6130 - accuracy: 0.4231 - val_loss: 1.8166 - val_accuracy: 0.3460\n",
      "Epoch 11/50\n",
      "704/704 [==============================] - 10s 14ms/step - loss: 1.5906 - accuracy: 0.4335 - val_loss: 2.1795 - val_accuracy: 0.2562\n",
      "Epoch 12/50\n",
      "704/704 [==============================] - 9s 13ms/step - loss: 1.5817 - accuracy: 0.4349 - val_loss: 1.7248 - val_accuracy: 0.3880\n",
      "Epoch 13/50\n",
      "704/704 [==============================] - 9s 13ms/step - loss: 1.5519 - accuracy: 0.4440 - val_loss: 1.8074 - val_accuracy: 0.3538\n",
      "Epoch 14/50\n",
      "704/704 [==============================] - 10s 14ms/step - loss: 1.5157 - accuracy: 0.4601 - val_loss: 1.6841 - val_accuracy: 0.3824\n",
      "Epoch 15/50\n",
      "704/704 [==============================] - 10s 14ms/step - loss: 1.5150 - accuracy: 0.4596 - val_loss: 1.6145 - val_accuracy: 0.4182\n",
      "Epoch 16/50\n",
      "704/704 [==============================] - 10s 14ms/step - loss: 1.4988 - accuracy: 0.4669 - val_loss: 1.6442 - val_accuracy: 0.4070\n",
      "Epoch 17/50\n",
      "704/704 [==============================] - 10s 14ms/step - loss: 1.4780 - accuracy: 0.4752 - val_loss: 1.7670 - val_accuracy: 0.4032\n",
      "Epoch 18/50\n",
      "704/704 [==============================] - 10s 15ms/step - loss: 1.4627 - accuracy: 0.4799 - val_loss: 1.5821 - val_accuracy: 0.4290\n",
      "Epoch 19/50\n",
      "704/704 [==============================] - 12s 17ms/step - loss: 1.4396 - accuracy: 0.4882 - val_loss: 1.5471 - val_accuracy: 0.4462\n",
      "Epoch 20/50\n",
      "704/704 [==============================] - 10s 15ms/step - loss: 1.4236 - accuracy: 0.4899 - val_loss: 1.6040 - val_accuracy: 0.4326\n",
      "Epoch 21/50\n",
      "704/704 [==============================] - 11s 15ms/step - loss: 1.4158 - accuracy: 0.4938 - val_loss: 1.6671 - val_accuracy: 0.4064\n",
      "Epoch 22/50\n",
      "704/704 [==============================] - 10s 14ms/step - loss: 1.3979 - accuracy: 0.5002 - val_loss: 1.9666 - val_accuracy: 0.3500\n",
      "Epoch 23/50\n",
      "704/704 [==============================] - 11s 15ms/step - loss: 1.3891 - accuracy: 0.5058 - val_loss: 1.8116 - val_accuracy: 0.3764\n",
      "Epoch 24/50\n",
      "704/704 [==============================] - 10s 15ms/step - loss: 1.3777 - accuracy: 0.5094 - val_loss: 2.2691 - val_accuracy: 0.2708\n",
      "Epoch 25/50\n",
      "704/704 [==============================] - 11s 16ms/step - loss: 1.3672 - accuracy: 0.5130 - val_loss: 1.4946 - val_accuracy: 0.4714\n",
      "Epoch 26/50\n",
      "704/704 [==============================] - 11s 15ms/step - loss: 1.3307 - accuracy: 0.5262 - val_loss: 1.6489 - val_accuracy: 0.4306\n",
      "Epoch 27/50\n",
      "704/704 [==============================] - 11s 15ms/step - loss: 1.3365 - accuracy: 0.5224 - val_loss: 1.4032 - val_accuracy: 0.4952\n",
      "Epoch 28/50\n",
      "704/704 [==============================] - 10s 14ms/step - loss: 1.3144 - accuracy: 0.5317 - val_loss: 2.7958 - val_accuracy: 0.2202\n",
      "Epoch 29/50\n",
      "704/704 [==============================] - 10s 14ms/step - loss: 1.3197 - accuracy: 0.5296 - val_loss: 1.6052 - val_accuracy: 0.4250\n",
      "Epoch 30/50\n",
      "704/704 [==============================] - 10s 15ms/step - loss: 1.3065 - accuracy: 0.5339 - val_loss: 5.9854 - val_accuracy: 0.1182\n",
      "Epoch 31/50\n",
      "704/704 [==============================] - 10s 15ms/step - loss: 1.3573 - accuracy: 0.5239 - val_loss: 2.1162 - val_accuracy: 0.3052\n",
      "Epoch 32/50\n",
      "704/704 [==============================] - 10s 14ms/step - loss: 1.2746 - accuracy: 0.5471 - val_loss: 1.7156 - val_accuracy: 0.4122\n",
      "Epoch 33/50\n",
      "704/704 [==============================] - 10s 14ms/step - loss: 1.2635 - accuracy: 0.5489 - val_loss: 1.8217 - val_accuracy: 0.3900\n",
      "Epoch 34/50\n",
      "704/704 [==============================] - 10s 15ms/step - loss: 1.2605 - accuracy: 0.5466 - val_loss: 1.8671 - val_accuracy: 0.3916\n",
      "Epoch 35/50\n",
      "704/704 [==============================] - 10s 15ms/step - loss: 1.2529 - accuracy: 0.5547 - val_loss: 1.9085 - val_accuracy: 0.3776\n",
      "Epoch 36/50\n",
      "704/704 [==============================] - 11s 15ms/step - loss: 1.2385 - accuracy: 0.5594 - val_loss: 1.4125 - val_accuracy: 0.4940\n",
      "Epoch 37/50\n",
      "704/704 [==============================] - 11s 15ms/step - loss: 1.2182 - accuracy: 0.5678 - val_loss: 1.4933 - val_accuracy: 0.4742\n",
      "Epoch 00037: early stopping\n",
      "CPU times: user 19min 41s, sys: 37 s, total: 20min 18s\n",
      "Wall time: 6min 26s\n"
     ]
    }
   ],
   "source": [
    "%%time\n",
    "\n",
    "'''\n",
    "Define the optimizer\n",
    "'''\n",
    "optimizer = tf.keras.optimizers.SGD(learning_rate=0.1)\n",
    "\n",
    "\n",
    "'''\n",
    "Compile the model\n",
    "'''\n",
    "model.compile(loss=\"sparse_categorical_crossentropy\",\n",
    "              optimizer=optimizer,\n",
    "              metrics=[\"accuracy\"])\n",
    "\n",
    "\n",
    "\n",
    "'''\n",
    "Create the early stopping callback function.\n",
    "'''\n",
    "early_stopping_cb = tf.keras.callbacks.EarlyStopping(monitor='val_loss',\n",
    "                                  min_delta=0, \n",
    "                                  patience=10, \n",
    "                                  verbose=1, \n",
    "                                  mode='auto',\n",
    "                                  restore_best_weights=False)\n",
    "\n",
    "'''\n",
    "Set the epochs and mini batch size\n",
    "'''\n",
    "no_of_epochs = 50\n",
    "size_of_mini_batch = 64\n",
    "\n",
    "\n",
    "'''\n",
    "Train the model\n",
    "'''\n",
    "history = model.fit(X_train, y_train, \n",
    "                    batch_size=size_of_mini_batch, \n",
    "                    epochs=no_of_epochs,\n",
    "                    verbose=1,\n",
    "                    validation_data=(X_valid, y_valid),\n",
    "                    callbacks=[early_stopping_cb])"
   ]
  },
  {
   "cell_type": "markdown",
   "id": "09eef56d",
   "metadata": {},
   "source": [
    "##### History object"
   ]
  },
  {
   "cell_type": "code",
   "execution_count": 17,
   "id": "f8dd9f18",
   "metadata": {
    "scrolled": true
   },
   "outputs": [
    {
     "name": "stdout",
     "output_type": "stream",
     "text": [
      "Training Parameters:  {'verbose': 1, 'epochs': 50, 'steps': 704}\n",
      "\n",
      "List of Epochs:  [0, 1, 2, 3, 4, 5, 6, 7, 8, 9, 10, 11, 12, 13, 14, 15, 16, 17, 18, 19, 20, 21, 22, 23, 24, 25, 26, 27, 28, 29, 30, 31, 32, 33, 34, 35, 36]\n",
      "\n",
      "Evaluation Metrics:  dict_keys(['loss', 'accuracy', 'val_loss', 'val_accuracy'])\n"
     ]
    }
   ],
   "source": [
    "print(\"Training Parameters: \", history.params)\n",
    "print(\"\\nList of Epochs: \", history.epoch)\n",
    "print(\"\\nEvaluation Metrics: \", history.history.keys())"
   ]
  },
  {
   "cell_type": "markdown",
   "id": "d7c50a55",
   "metadata": {},
   "source": [
    "##### Model evaluation"
   ]
  },
  {
   "cell_type": "code",
   "execution_count": 18,
   "id": "d1d6e681",
   "metadata": {},
   "outputs": [
    {
     "name": "stdout",
     "output_type": "stream",
     "text": [
      "Epochs:  37\n",
      "\n",
      "Test Data: Loss & Accuracy:  [1.4808027744293213, 0.48170000314712524]\n",
      "\n",
      "Train Accuracy:  0.532\n",
      "\n",
      "Test Accuracy:  0.4817\n",
      "\n",
      "Test Confusion Matrix:\n",
      "[[495  74  64 120   8   9  67   6  96  61]\n",
      " [ 12 735   7  63   1   8  29   8  19 118]\n",
      " [ 51  26 278 267  32  57 245  17   7  20]\n",
      " [  8  25  30 626   3  84 176   4  12  32]\n",
      " [ 39  18 128 213 179  39 321  27  17  19]\n",
      " [  7  15  34 462  17 287 131  14  14  19]\n",
      " [  4  18  26 143  15  16 758   2   4  14]\n",
      " [ 28  32  50 225  37  77 100 369   9  73]\n",
      " [ 79 132   8 105   6   8  21   6 559  76]\n",
      " [ 31 254   4  96   4  12  37   8  23 531]]\n",
      "\n",
      "Classification Report:\n",
      "              precision    recall  f1-score   support\n",
      "\n",
      "           0       0.66      0.49      0.56      1000\n",
      "           1       0.55      0.73      0.63      1000\n",
      "           2       0.44      0.28      0.34      1000\n",
      "           3       0.27      0.63      0.38      1000\n",
      "           4       0.59      0.18      0.27      1000\n",
      "           5       0.48      0.29      0.36      1000\n",
      "           6       0.40      0.76      0.53      1000\n",
      "           7       0.80      0.37      0.51      1000\n",
      "           8       0.74      0.56      0.64      1000\n",
      "           9       0.55      0.53      0.54      1000\n",
      "\n",
      "    accuracy                           0.48     10000\n",
      "   macro avg       0.55      0.48      0.48     10000\n",
      "weighted avg       0.55      0.48      0.48     10000\n",
      "\n"
     ]
    }
   ],
   "source": [
    "numOfEpochs = len(history.history['loss'])\n",
    "print(\"Epochs: \", numOfEpochs)\n",
    "\n",
    "print(\"\\nTest Data: Loss & Accuracy: \", model.evaluate(X_test, y_test, verbose=0))\n",
    "\n",
    "# model.predict() method returns 10 probabilities per class for each instance (Dimension Nx10)\n",
    "y_test_predicted = model.predict(X_test)\n",
    "y_test_predicted = np.argmax(y_test_predicted, axis=1) # get the label/index of the highest probability class\n",
    "\n",
    "\n",
    "y_train_predicted = model.predict(X_train)\n",
    "y_train_predicted = np.argmax(y_train_predicted, axis=1) # get the label/index of the highest probability class\n",
    "\n",
    "train_accuracy = np.mean(y_train_predicted == y_train)\n",
    "print(\"\\nTrain Accuracy: \", train_accuracy)\n",
    "\n",
    "test_accuracy = np.mean(y_test_predicted == y_test)\n",
    "print(\"\\nTest Accuracy: \", test_accuracy)\n",
    "\n",
    "print(\"\\nTest Confusion Matrix:\")\n",
    "print(confusion_matrix(y_test, y_test_predicted))\n",
    "\n",
    "print(\"\\nClassification Report:\")\n",
    "print(classification_report(y_test, y_test_predicted))"
   ]
  },
  {
   "cell_type": "markdown",
   "id": "a3eaf794",
   "metadata": {},
   "source": [
    "##### Plot Learning Curves"
   ]
  },
  {
   "cell_type": "code",
   "execution_count": 19,
   "id": "27c08a33",
   "metadata": {
    "scrolled": false
   },
   "outputs": [
    {
     "data": {
      "image/png": "[encoded data removed]",
      "text/plain": [
       "<Figure size 1296x432 with 2 Axes>"
      ]
     },
     "metadata": {
      "needs_background": "light"
     },
     "output_type": "display_data"
    }
   ],
   "source": [
    "plt.figure(figsize=(18,6))\n",
    "\n",
    "plt.subplot(121)\n",
    "plt.plot(range(1,numOfEpochs+1),history.history['val_accuracy'],label='validation')\n",
    "plt.plot(range(1,numOfEpochs+1),history.history['accuracy'],label='training')\n",
    "plt.legend(loc=0)\n",
    "plt.xlabel('Epochs')\n",
    "plt.ylabel('Accuracy')\n",
    "plt.xlim([1,numOfEpochs])\n",
    "plt.grid(True)\n",
    "plt.title(\"Model Accuracy\")\n",
    "\n",
    "plt.subplot(122)\n",
    "plt.plot(range(1,numOfEpochs+1),history.history['val_loss'],label='validation')\n",
    "plt.plot(range(1,numOfEpochs+1),history.history['loss'],label='training')\n",
    "plt.legend(loc=0)\n",
    "plt.xlabel('Epochs')\n",
    "plt.ylabel('Loss')\n",
    "plt.xlim([1,numOfEpochs])\n",
    "plt.grid(True)\n",
    "plt.title(\"Model Loss\")\n",
    "\n",
    "plt.show() "
   ]
  },
  {
   "cell_type": "markdown",
   "id": "15866a48",
   "metadata": {},
   "source": [
    "#### Experiment 4"
   ]
  },
  {
   "cell_type": "markdown",
   "id": "06f7f376",
   "metadata": {},
   "source": [
    "##### Build the MLP Model"
   ]
  },
  {
   "cell_type": "code",
   "execution_count": 20,
   "id": "7dc34493",
   "metadata": {},
   "outputs": [
    {
     "name": "stdout",
     "output_type": "stream",
     "text": [
      "Model: \"MLP_Multiclass_Classifier\"\n",
      "_________________________________________________________________\n",
      "Layer (type)                 Output Shape              Param #   \n",
      "=================================================================\n",
      "flatten (Flatten)            (None, 3072)              0         \n",
      "_________________________________________________________________\n",
      "dense (Dense)                (None, 300)               921900    \n",
      "_________________________________________________________________\n",
      "dropout (Dropout)            (None, 300)               0         \n",
      "_________________________________________________________________\n",
      "dense_1 (Dense)              (None, 100)               30100     \n",
      "_________________________________________________________________\n",
      "dropout_1 (Dropout)          (None, 100)               0         \n",
      "_________________________________________________________________\n",
      "dense_2 (Dense)              (None, 10)                1010      \n",
      "=================================================================\n",
      "Total params: 953,010\n",
      "Trainable params: 953,010\n",
      "Non-trainable params: 0\n",
      "_________________________________________________________________\n",
      "CPU times: user 63.6 ms, sys: 25.2 ms, total: 88.8 ms\n",
      "Wall time: 60 ms\n"
     ]
    }
   ],
   "source": [
    "%%time\n",
    "\n",
    "'''\n",
    "Delete the TensorFlow graph before creating a new model, otherwise memory overflow will occur.\n",
    "'''\n",
    "tf.keras.backend.clear_session()\n",
    "\n",
    "'''\n",
    "To reproduce the same result by the model in each iteration, we use fixed seeds for random number generation. \n",
    "'''\n",
    "np.random.seed(42)\n",
    "tf.random.set_seed(42)\n",
    "\n",
    "\n",
    "'''\n",
    "Set the values for weight initializer and activation function\n",
    "'''\n",
    "kernel_initializer = 'random_normal'\n",
    "activation = 'sigmoid'\n",
    "number_of_classes = 10\n",
    "\n",
    "\n",
    "'''\n",
    "Create a Sequential model composed of a single stack of layers connected sequentially. \n",
    "- Add the layers one by one.\n",
    "- Apply Dropout regularization\n",
    "'''\n",
    "model = tf.keras.models.Sequential(name=\"MLP_Multiclass_Classifier\")\n",
    "model.add(tf.keras.layers.Flatten(input_shape=[3072]))\n",
    "model.add(tf.keras.layers.Dense(units=300, kernel_initializer=kernel_initializer, activation=activation, \n",
    "                             bias_initializer=\"zeros\"))\n",
    "model.add(tf.keras.layers.Dropout(rate=0.1)) # add if needed\n",
    "model.add(tf.keras.layers.Dense(units=100, kernel_initializer=kernel_initializer, activation=activation,\n",
    "                            bias_initializer=\"zeros\"))\n",
    "model.add(tf.keras.layers.Dropout(rate=0.1)) # add if needed\n",
    "model.add(tf.keras.layers.Dense(units=number_of_classes, kernel_initializer=kernel_initializer, \n",
    "                             activation=\"softmax\"))\n",
    "\n",
    "model.summary()"
   ]
  },
  {
   "cell_type": "markdown",
   "id": "f7bfdd98",
   "metadata": {},
   "source": [
    "##### Train the MLP Model"
   ]
  },
  {
   "cell_type": "code",
   "execution_count": 21,
   "id": "afa689d2",
   "metadata": {},
   "outputs": [
    {
     "name": "stdout",
     "output_type": "stream",
     "text": [
      "Epoch 1/50\n",
      "704/704 [==============================] - 12s 17ms/step - loss: 2.2717 - accuracy: 0.1317 - val_loss: 2.0583 - val_accuracy: 0.1998\n",
      "Epoch 2/50\n",
      "704/704 [==============================] - 11s 16ms/step - loss: 2.0031 - accuracy: 0.2613 - val_loss: 2.0001 - val_accuracy: 0.2422\n",
      "Epoch 3/50\n",
      "704/704 [==============================] - 10s 15ms/step - loss: 1.9161 - accuracy: 0.3048 - val_loss: 1.8981 - val_accuracy: 0.2978\n",
      "Epoch 4/50\n",
      "704/704 [==============================] - 11s 15ms/step - loss: 1.8715 - accuracy: 0.3233 - val_loss: 2.1813 - val_accuracy: 0.2482\n",
      "Epoch 5/50\n",
      "704/704 [==============================] - 11s 16ms/step - loss: 1.8273 - accuracy: 0.3411 - val_loss: 1.8624 - val_accuracy: 0.3124\n",
      "Epoch 6/50\n",
      "704/704 [==============================] - 11s 16ms/step - loss: 1.7866 - accuracy: 0.3516 - val_loss: 1.7364 - val_accuracy: 0.3682\n",
      "Epoch 7/50\n",
      "704/704 [==============================] - 11s 16ms/step - loss: 1.7586 - accuracy: 0.3659 - val_loss: 1.7848 - val_accuracy: 0.3466\n",
      "Epoch 8/50\n",
      "704/704 [==============================] - 11s 16ms/step - loss: 1.7263 - accuracy: 0.3757 - val_loss: 1.6981 - val_accuracy: 0.3836\n",
      "Epoch 9/50\n",
      "704/704 [==============================] - 11s 16ms/step - loss: 1.7071 - accuracy: 0.3871 - val_loss: 1.7525 - val_accuracy: 0.3666\n",
      "Epoch 10/50\n",
      "704/704 [==============================] - 12s 17ms/step - loss: 1.6810 - accuracy: 0.3953 - val_loss: 1.7185 - val_accuracy: 0.3688\n",
      "Epoch 11/50\n",
      "704/704 [==============================] - 12s 18ms/step - loss: 1.6610 - accuracy: 0.4025 - val_loss: 1.8751 - val_accuracy: 0.3078\n",
      "Epoch 12/50\n",
      "704/704 [==============================] - 12s 17ms/step - loss: 1.6466 - accuracy: 0.4067 - val_loss: 1.6956 - val_accuracy: 0.3814\n",
      "Epoch 13/50\n",
      "704/704 [==============================] - 12s 18ms/step - loss: 1.6244 - accuracy: 0.4187 - val_loss: 1.6837 - val_accuracy: 0.3884\n",
      "Epoch 14/50\n",
      "704/704 [==============================] - 10s 14ms/step - loss: 1.5980 - accuracy: 0.4265 - val_loss: 1.6427 - val_accuracy: 0.4080\n",
      "Epoch 15/50\n",
      "704/704 [==============================] - 10s 14ms/step - loss: 1.5949 - accuracy: 0.4277 - val_loss: 1.5909 - val_accuracy: 0.4230\n",
      "Epoch 16/50\n",
      "704/704 [==============================] - 10s 14ms/step - loss: 1.5802 - accuracy: 0.4354 - val_loss: 1.6436 - val_accuracy: 0.4054\n",
      "Epoch 17/50\n",
      "704/704 [==============================] - 10s 14ms/step - loss: 1.5671 - accuracy: 0.4410 - val_loss: 1.6152 - val_accuracy: 0.4236\n",
      "Epoch 18/50\n",
      "704/704 [==============================] - 10s 14ms/step - loss: 1.5521 - accuracy: 0.4443 - val_loss: 1.5419 - val_accuracy: 0.4460\n",
      "Epoch 19/50\n",
      "704/704 [==============================] - 10s 14ms/step - loss: 1.5323 - accuracy: 0.4516 - val_loss: 1.5307 - val_accuracy: 0.4458\n",
      "Epoch 20/50\n",
      "704/704 [==============================] - 12s 17ms/step - loss: 1.5190 - accuracy: 0.4536 - val_loss: 1.5624 - val_accuracy: 0.4310\n",
      "Epoch 21/50\n",
      "704/704 [==============================] - 12s 16ms/step - loss: 1.5120 - accuracy: 0.4581 - val_loss: 1.6195 - val_accuracy: 0.4068\n",
      "Epoch 22/50\n",
      "704/704 [==============================] - 11s 15ms/step - loss: 1.5047 - accuracy: 0.4592 - val_loss: 1.5961 - val_accuracy: 0.4232\n",
      "Epoch 23/50\n",
      "704/704 [==============================] - 12s 17ms/step - loss: 1.4888 - accuracy: 0.4696 - val_loss: 1.6851 - val_accuracy: 0.4034\n",
      "Epoch 24/50\n",
      "704/704 [==============================] - 11s 16ms/step - loss: 1.4807 - accuracy: 0.4700 - val_loss: 1.6836 - val_accuracy: 0.4140\n",
      "Epoch 25/50\n",
      "704/704 [==============================] - 11s 15ms/step - loss: 1.4667 - accuracy: 0.4754 - val_loss: 1.4792 - val_accuracy: 0.4632\n",
      "Epoch 26/50\n",
      "704/704 [==============================] - 11s 15ms/step - loss: 1.4372 - accuracy: 0.4842 - val_loss: 1.5373 - val_accuracy: 0.4506\n",
      "Epoch 27/50\n",
      "704/704 [==============================] - 11s 15ms/step - loss: 1.4467 - accuracy: 0.4799 - val_loss: 1.4453 - val_accuracy: 0.4816\n",
      "Epoch 28/50\n",
      "704/704 [==============================] - 12s 16ms/step - loss: 1.4297 - accuracy: 0.4877 - val_loss: 1.9848 - val_accuracy: 0.3264\n",
      "Epoch 29/50\n",
      "704/704 [==============================] - 12s 17ms/step - loss: 1.4330 - accuracy: 0.4860 - val_loss: 1.4334 - val_accuracy: 0.4890\n",
      "Epoch 30/50\n",
      "704/704 [==============================] - 12s 16ms/step - loss: 1.4213 - accuracy: 0.4914 - val_loss: 2.5126 - val_accuracy: 0.2482\n",
      "Epoch 31/50\n",
      "704/704 [==============================] - 10s 14ms/step - loss: 1.4257 - accuracy: 0.4891 - val_loss: 1.5943 - val_accuracy: 0.4210\n",
      "Epoch 32/50\n",
      "704/704 [==============================] - 11s 16ms/step - loss: 1.3852 - accuracy: 0.5052 - val_loss: 1.4835 - val_accuracy: 0.4728\n",
      "Epoch 33/50\n",
      "704/704 [==============================] - 10s 15ms/step - loss: 1.3954 - accuracy: 0.5010 - val_loss: 1.4702 - val_accuracy: 0.4756\n",
      "Epoch 34/50\n",
      "704/704 [==============================] - 10s 15ms/step - loss: 1.3740 - accuracy: 0.5068 - val_loss: 1.4593 - val_accuracy: 0.4720\n",
      "Epoch 35/50\n",
      "704/704 [==============================] - 12s 16ms/step - loss: 1.3743 - accuracy: 0.5078 - val_loss: 1.6160 - val_accuracy: 0.4464\n",
      "Epoch 36/50\n",
      "704/704 [==============================] - 11s 15ms/step - loss: 1.3672 - accuracy: 0.5114 - val_loss: 1.3900 - val_accuracy: 0.5038\n",
      "Epoch 37/50\n",
      "704/704 [==============================] - 11s 16ms/step - loss: 1.3533 - accuracy: 0.5178 - val_loss: 1.4843 - val_accuracy: 0.4646\n",
      "Epoch 38/50\n",
      "704/704 [==============================] - 11s 16ms/step - loss: 1.3371 - accuracy: 0.5221 - val_loss: 1.4610 - val_accuracy: 0.4840\n",
      "Epoch 39/50\n",
      "704/704 [==============================] - 11s 15ms/step - loss: 1.3408 - accuracy: 0.5190 - val_loss: 1.3841 - val_accuracy: 0.5046\n",
      "Epoch 40/50\n",
      "704/704 [==============================] - 10s 15ms/step - loss: 1.3307 - accuracy: 0.5204 - val_loss: 1.4672 - val_accuracy: 0.4730\n",
      "Epoch 41/50\n",
      "704/704 [==============================] - 12s 17ms/step - loss: 1.3303 - accuracy: 0.5213 - val_loss: 1.3794 - val_accuracy: 0.5138\n",
      "Epoch 42/50\n",
      "704/704 [==============================] - 11s 15ms/step - loss: 1.3242 - accuracy: 0.5245 - val_loss: 1.8871 - val_accuracy: 0.3822\n",
      "Epoch 43/50\n",
      "704/704 [==============================] - 13s 18ms/step - loss: 1.3242 - accuracy: 0.5277 - val_loss: 1.5209 - val_accuracy: 0.4612\n",
      "Epoch 44/50\n",
      "704/704 [==============================] - 13s 18ms/step - loss: 1.2988 - accuracy: 0.5378 - val_loss: 1.4985 - val_accuracy: 0.4660\n",
      "Epoch 45/50\n",
      "704/704 [==============================] - 11s 16ms/step - loss: 1.2943 - accuracy: 0.5364 - val_loss: 1.5472 - val_accuracy: 0.4640\n",
      "Epoch 46/50\n",
      "704/704 [==============================] - 13s 18ms/step - loss: 1.2835 - accuracy: 0.5392 - val_loss: 1.4125 - val_accuracy: 0.5004\n",
      "Epoch 47/50\n",
      "704/704 [==============================] - 13s 18ms/step - loss: 1.2847 - accuracy: 0.5397 - val_loss: 1.4346 - val_accuracy: 0.4854\n",
      "Epoch 48/50\n",
      "704/704 [==============================] - 14s 20ms/step - loss: 1.2834 - accuracy: 0.5415 - val_loss: 1.4284 - val_accuracy: 0.4900\n",
      "Epoch 49/50\n",
      "704/704 [==============================] - 11s 16ms/step - loss: 1.2775 - accuracy: 0.5366 - val_loss: 1.3801 - val_accuracy: 0.5080\n",
      "Epoch 50/50\n",
      "704/704 [==============================] - 11s 15ms/step - loss: 1.2594 - accuracy: 0.5463 - val_loss: 1.5444 - val_accuracy: 0.4588\n",
      "CPU times: user 27min 51s, sys: 56.9 s, total: 28min 48s\n",
      "Wall time: 9min 22s\n"
     ]
    }
   ],
   "source": [
    "%%time\n",
    "\n",
    "'''\n",
    "Define the optimizer\n",
    "'''\n",
    "optimizer = tf.keras.optimizers.SGD(learning_rate=0.1)\n",
    "\n",
    "\n",
    "'''\n",
    "Compile the model\n",
    "'''\n",
    "model.compile(loss=\"sparse_categorical_crossentropy\",\n",
    "              optimizer=optimizer,\n",
    "              metrics=[\"accuracy\"])\n",
    "\n",
    "\n",
    "\n",
    "'''\n",
    "Create the early stopping callback function.\n",
    "'''\n",
    "early_stopping_cb = tf.keras.callbacks.EarlyStopping(monitor='val_loss',\n",
    "                                  min_delta=0, \n",
    "                                  patience=10, \n",
    "                                  verbose=1, \n",
    "                                  mode='auto',\n",
    "                                  restore_best_weights=False)\n",
    "\n",
    "'''\n",
    "Set the epochs and mini batch size\n",
    "'''\n",
    "no_of_epochs = 50\n",
    "size_of_mini_batch = 64\n",
    "\n",
    "\n",
    "'''\n",
    "Train the model\n",
    "'''\n",
    "history = model.fit(X_train, y_train, \n",
    "                    batch_size=size_of_mini_batch, \n",
    "                    epochs=no_of_epochs,\n",
    "                    verbose=1,\n",
    "                    validation_data=(X_valid, y_valid),\n",
    "                    callbacks=[early_stopping_cb])"
   ]
  },
  {
   "cell_type": "markdown",
   "id": "9a444261",
   "metadata": {},
   "source": [
    "##### History object"
   ]
  },
  {
   "cell_type": "code",
   "execution_count": 22,
   "id": "a841f27d",
   "metadata": {
    "scrolled": true
   },
   "outputs": [
    {
     "name": "stdout",
     "output_type": "stream",
     "text": [
      "Training Parameters:  {'verbose': 1, 'epochs': 50, 'steps': 704}\n",
      "\n",
      "List of Epochs:  [0, 1, 2, 3, 4, 5, 6, 7, 8, 9, 10, 11, 12, 13, 14, 15, 16, 17, 18, 19, 20, 21, 22, 23, 24, 25, 26, 27, 28, 29, 30, 31, 32, 33, 34, 35, 36, 37, 38, 39, 40, 41, 42, 43, 44, 45, 46, 47, 48, 49]\n",
      "\n",
      "Evaluation Metrics:  dict_keys(['loss', 'accuracy', 'val_loss', 'val_accuracy'])\n"
     ]
    }
   ],
   "source": [
    "print(\"Training Parameters: \", history.params)\n",
    "print(\"\\nList of Epochs: \", history.epoch)\n",
    "print(\"\\nEvaluation Metrics: \", history.history.keys())"
   ]
  },
  {
   "cell_type": "markdown",
   "id": "b8a35a93",
   "metadata": {},
   "source": [
    "##### Model evaluation"
   ]
  },
  {
   "cell_type": "code",
   "execution_count": 23,
   "id": "9c64fff5",
   "metadata": {},
   "outputs": [
    {
     "name": "stdout",
     "output_type": "stream",
     "text": [
      "Epochs:  50\n",
      "\n",
      "Test Data: Loss & Accuracy:  [1.5200598239898682, 0.4636000096797943]\n",
      "\n",
      "Train Accuracy:  0.5076\n",
      "\n",
      "Test Accuracy:  0.4636\n",
      "\n",
      "Test Confusion Matrix:\n",
      "[[276 294 134  23  45   9  18   9  87 105]\n",
      " [  0 872  10  12   8   4   7   5   5  77]\n",
      " [ 34  88 367 101 169  47  93  40  15  46]\n",
      " [  4 124  82 388  72 109  88  26  17  90]\n",
      " [ 16  97 127  67 467  25 101  51  11  38]\n",
      " [  4  70  96 267  78 304  65  40  19  57]\n",
      " [  2 106  50  94 120  25 544  12  10  37]\n",
      " [ 10 103  50  75  82  48  28 457   5 142]\n",
      " [ 20 336  16  18  29  14   1   5 481  80]\n",
      " [  2 452   4  21   4   6  12   9  10 480]]\n",
      "\n",
      "Classification Report:\n",
      "              precision    recall  f1-score   support\n",
      "\n",
      "           0       0.75      0.28      0.40      1000\n",
      "           1       0.34      0.87      0.49      1000\n",
      "           2       0.39      0.37      0.38      1000\n",
      "           3       0.36      0.39      0.38      1000\n",
      "           4       0.43      0.47      0.45      1000\n",
      "           5       0.51      0.30      0.38      1000\n",
      "           6       0.57      0.54      0.56      1000\n",
      "           7       0.70      0.46      0.55      1000\n",
      "           8       0.73      0.48      0.58      1000\n",
      "           9       0.42      0.48      0.45      1000\n",
      "\n",
      "    accuracy                           0.46     10000\n",
      "   macro avg       0.52      0.46      0.46     10000\n",
      "weighted avg       0.52      0.46      0.46     10000\n",
      "\n"
     ]
    }
   ],
   "source": [
    "numOfEpochs = len(history.history['loss'])\n",
    "print(\"Epochs: \", numOfEpochs)\n",
    "\n",
    "print(\"\\nTest Data: Loss & Accuracy: \", model.evaluate(X_test, y_test, verbose=0))\n",
    "\n",
    "# model.predict() method returns 10 probabilities per class for each instance (Dimension Nx10)\n",
    "y_test_predicted = model.predict(X_test)\n",
    "y_test_predicted = np.argmax(y_test_predicted, axis=1) # get the label/index of the highest probability class\n",
    "\n",
    "\n",
    "y_train_predicted = model.predict(X_train)\n",
    "y_train_predicted = np.argmax(y_train_predicted, axis=1) # get the label/index of the highest probability class\n",
    "\n",
    "train_accuracy = np.mean(y_train_predicted == y_train)\n",
    "print(\"\\nTrain Accuracy: \", train_accuracy)\n",
    "\n",
    "test_accuracy = np.mean(y_test_predicted == y_test)\n",
    "print(\"\\nTest Accuracy: \", test_accuracy)\n",
    "\n",
    "print(\"\\nTest Confusion Matrix:\")\n",
    "print(confusion_matrix(y_test, y_test_predicted))\n",
    "\n",
    "print(\"\\nClassification Report:\")\n",
    "print(classification_report(y_test, y_test_predicted))"
   ]
  },
  {
   "cell_type": "markdown",
   "id": "022df3f8",
   "metadata": {},
   "source": [
    "##### Plot Learning Curves"
   ]
  },
  {
   "cell_type": "code",
   "execution_count": 24,
   "id": "8daed101",
   "metadata": {
    "scrolled": true
   },
   "outputs": [
    {
     "data": {
      "image/png": "[encoded data removed]",
      "text/plain": [
       "<Figure size 1296x432 with 2 Axes>"
      ]
     },
     "metadata": {
      "needs_background": "light"
     },
     "output_type": "display_data"
    }
   ],
   "source": [
    "plt.figure(figsize=(18,6))\n",
    "\n",
    "plt.subplot(121)\n",
    "plt.plot(range(1,numOfEpochs+1),history.history['val_accuracy'],label='validation')\n",
    "plt.plot(range(1,numOfEpochs+1),history.history['accuracy'],label='training')\n",
    "plt.legend(loc=0)\n",
    "plt.xlabel('Epochs')\n",
    "plt.ylabel('Accuracy')\n",
    "plt.xlim([1,numOfEpochs])\n",
    "plt.grid(True)\n",
    "plt.title(\"Model Accuracy\")\n",
    "\n",
    "plt.subplot(122)\n",
    "plt.plot(range(1,numOfEpochs+1),history.history['val_loss'],label='validation')\n",
    "plt.plot(range(1,numOfEpochs+1),history.history['loss'],label='training')\n",
    "plt.legend(loc=0)\n",
    "plt.xlabel('Epochs')\n",
    "plt.ylabel('Loss')\n",
    "plt.xlim([1,numOfEpochs])\n",
    "plt.grid(True)\n",
    "plt.title(\"Model Loss\")\n",
    "\n",
    "plt.show() "
   ]
  },
  {
   "cell_type": "markdown",
   "id": "7ae6f0ae",
   "metadata": {},
   "source": [
    "#### Experiment 5"
   ]
  },
  {
   "cell_type": "markdown",
   "id": "3e7ec615",
   "metadata": {},
   "source": [
    "##### Build the MLP Model"
   ]
  },
  {
   "cell_type": "code",
   "execution_count": 36,
   "id": "3d577299",
   "metadata": {},
   "outputs": [
    {
     "name": "stdout",
     "output_type": "stream",
     "text": [
      "Model: \"MLP_Multiclass_Classifier\"\n",
      "_________________________________________________________________\n",
      "Layer (type)                 Output Shape              Param #   \n",
      "=================================================================\n",
      "flatten (Flatten)            (None, 3072)              0         \n",
      "_________________________________________________________________\n",
      "dense (Dense)                (None, 300)               921900    \n",
      "_________________________________________________________________\n",
      "dense_1 (Dense)              (None, 100)               30100     \n",
      "_________________________________________________________________\n",
      "dense_2 (Dense)              (None, 10)                1010      \n",
      "=================================================================\n",
      "Total params: 953,010\n",
      "Trainable params: 953,010\n",
      "Non-trainable params: 0\n",
      "_________________________________________________________________\n",
      "CPU times: user 62.7 ms, sys: 42.4 ms, total: 105 ms\n",
      "Wall time: 70.9 ms\n"
     ]
    }
   ],
   "source": [
    "%%time\n",
    "\n",
    "'''\n",
    "Delete the TensorFlow graph before creating a new model, otherwise memory overflow will occur.\n",
    "'''\n",
    "tf.keras.backend.clear_session()\n",
    "\n",
    "'''\n",
    "To reproduce the same result by the model in each iteration, we use fixed seeds for random number generation. \n",
    "'''\n",
    "np.random.seed(42)\n",
    "tf.random.set_seed(42)\n",
    "\n",
    "\n",
    "'''\n",
    "Set the values for weight initializer and activation function\n",
    "'''\n",
    "kernel_initializer = 'random_normal'\n",
    "activation = 'relu'\n",
    "number_of_classes = 10\n",
    "\n",
    "\n",
    "'''\n",
    "Create a Sequential model composed of a single stack of layers connected sequentially. \n",
    "- Add the layers one by one.\n",
    "- Apply Dropout regularization\n",
    "'''\n",
    "model = tf.keras.models.Sequential(name=\"MLP_Multiclass_Classifier\")\n",
    "model.add(tf.keras.layers.Flatten(input_shape=[3072]))\n",
    "model.add(tf.keras.layers.Dense(units=300, kernel_initializer=kernel_initializer, activation=activation, \n",
    "                             bias_initializer=\"zeros\"))\n",
    "# model.add(tf.keras.layers.Dropout(rate=0.1)) # add if needed\n",
    "model.add(tf.keras.layers.Dense(units=100, kernel_initializer=kernel_initializer, activation=activation,\n",
    "                            bias_initializer=\"zeros\"))\n",
    "# model.add(tf.keras.layers.Dropout(rate=0.1)) # add if needed\n",
    "model.add(tf.keras.layers.Dense(units=number_of_classes, kernel_initializer=kernel_initializer, \n",
    "                             activation=\"softmax\"))\n",
    "\n",
    "model.summary()"
   ]
  },
  {
   "cell_type": "markdown",
   "id": "f6922444",
   "metadata": {},
   "source": [
    "##### Train the MLP Model"
   ]
  },
  {
   "cell_type": "code",
   "execution_count": 37,
   "id": "ab73aaea",
   "metadata": {},
   "outputs": [
    {
     "name": "stdout",
     "output_type": "stream",
     "text": [
      "Epoch 1/50\n",
      "45/45 [==============================] - 7s 148ms/step - loss: 2.2248 - accuracy: 0.1901 - val_loss: 2.0145 - val_accuracy: 0.2914\n",
      "Epoch 2/50\n",
      "45/45 [==============================] - 6s 128ms/step - loss: 2.0242 - accuracy: 0.2810 - val_loss: 2.0467 - val_accuracy: 0.2616\n",
      "Epoch 3/50\n",
      "45/45 [==============================] - 6s 126ms/step - loss: 1.9623 - accuracy: 0.3073 - val_loss: 1.8592 - val_accuracy: 0.3448\n",
      "Epoch 4/50\n",
      "45/45 [==============================] - 6s 136ms/step - loss: 1.8796 - accuracy: 0.3356 - val_loss: 1.8900 - val_accuracy: 0.3272\n",
      "Epoch 5/50\n",
      "45/45 [==============================] - 5s 113ms/step - loss: 1.8539 - accuracy: 0.3435 - val_loss: 1.7899 - val_accuracy: 0.3646\n",
      "Epoch 6/50\n",
      "45/45 [==============================] - 5s 113ms/step - loss: 1.8047 - accuracy: 0.3580 - val_loss: 1.8026 - val_accuracy: 0.3406\n",
      "Epoch 7/50\n",
      "45/45 [==============================] - 5s 112ms/step - loss: 1.7830 - accuracy: 0.3648 - val_loss: 1.7498 - val_accuracy: 0.3734\n",
      "Epoch 8/50\n",
      "45/45 [==============================] - 6s 133ms/step - loss: 1.7732 - accuracy: 0.3748 - val_loss: 1.6992 - val_accuracy: 0.4016\n",
      "Epoch 9/50\n",
      "45/45 [==============================] - 6s 130ms/step - loss: 1.7307 - accuracy: 0.3879 - val_loss: 1.8192 - val_accuracy: 0.3390\n",
      "Epoch 10/50\n",
      "45/45 [==============================] - 5s 115ms/step - loss: 1.7186 - accuracy: 0.3925 - val_loss: 1.6553 - val_accuracy: 0.4130\n",
      "Epoch 11/50\n",
      "45/45 [==============================] - 5s 120ms/step - loss: 1.6999 - accuracy: 0.3969 - val_loss: 1.6848 - val_accuracy: 0.3902\n",
      "Epoch 12/50\n",
      "45/45 [==============================] - 5s 113ms/step - loss: 1.6869 - accuracy: 0.4010 - val_loss: 1.8937 - val_accuracy: 0.3392\n",
      "Epoch 13/50\n",
      "45/45 [==============================] - 5s 113ms/step - loss: 1.6973 - accuracy: 0.3978 - val_loss: 1.6450 - val_accuracy: 0.4124\n",
      "Epoch 14/50\n",
      "45/45 [==============================] - 5s 113ms/step - loss: 1.6447 - accuracy: 0.4185 - val_loss: 1.6608 - val_accuracy: 0.4050\n",
      "Epoch 15/50\n",
      "45/45 [==============================] - 5s 123ms/step - loss: 1.6325 - accuracy: 0.4228 - val_loss: 1.6184 - val_accuracy: 0.4200\n",
      "Epoch 16/50\n",
      "45/45 [==============================] - 5s 122ms/step - loss: 1.6337 - accuracy: 0.4207 - val_loss: 1.7839 - val_accuracy: 0.3774\n",
      "Epoch 17/50\n",
      "45/45 [==============================] - 5s 115ms/step - loss: 1.6518 - accuracy: 0.4145 - val_loss: 1.5702 - val_accuracy: 0.4480\n",
      "Epoch 18/50\n",
      "45/45 [==============================] - 5s 115ms/step - loss: 1.5888 - accuracy: 0.4412 - val_loss: 1.6620 - val_accuracy: 0.4078\n",
      "Epoch 19/50\n",
      "45/45 [==============================] - 5s 114ms/step - loss: 1.6033 - accuracy: 0.4339 - val_loss: 1.6139 - val_accuracy: 0.4274\n",
      "Epoch 20/50\n",
      "45/45 [==============================] - 5s 115ms/step - loss: 1.5748 - accuracy: 0.4417 - val_loss: 1.7016 - val_accuracy: 0.3988\n",
      "Epoch 21/50\n",
      "45/45 [==============================] - 5s 115ms/step - loss: 1.5784 - accuracy: 0.4444 - val_loss: 1.5756 - val_accuracy: 0.4372\n",
      "Epoch 22/50\n",
      "45/45 [==============================] - 5s 115ms/step - loss: 1.5481 - accuracy: 0.4532 - val_loss: 1.5429 - val_accuracy: 0.4538\n",
      "Epoch 23/50\n",
      "45/45 [==============================] - 5s 114ms/step - loss: 1.5313 - accuracy: 0.4562 - val_loss: 1.5365 - val_accuracy: 0.4522\n",
      "Epoch 24/50\n",
      "45/45 [==============================] - 5s 114ms/step - loss: 1.5314 - accuracy: 0.4579 - val_loss: 1.5218 - val_accuracy: 0.4606\n",
      "Epoch 25/50\n",
      "45/45 [==============================] - 6s 133ms/step - loss: 1.5254 - accuracy: 0.4592 - val_loss: 1.5532 - val_accuracy: 0.4514\n",
      "Epoch 26/50\n",
      "45/45 [==============================] - 6s 126ms/step - loss: 1.5084 - accuracy: 0.4672 - val_loss: 1.5598 - val_accuracy: 0.4516\n",
      "Epoch 27/50\n",
      "45/45 [==============================] - 6s 124ms/step - loss: 1.5205 - accuracy: 0.4651 - val_loss: 1.5350 - val_accuracy: 0.4616\n",
      "Epoch 28/50\n",
      "45/45 [==============================] - 6s 132ms/step - loss: 1.4972 - accuracy: 0.4716 - val_loss: 1.5255 - val_accuracy: 0.4598\n",
      "Epoch 29/50\n",
      "45/45 [==============================] - 5s 115ms/step - loss: 1.4957 - accuracy: 0.4707 - val_loss: 1.5314 - val_accuracy: 0.4602\n",
      "Epoch 30/50\n",
      "45/45 [==============================] - 6s 130ms/step - loss: 1.4908 - accuracy: 0.4744 - val_loss: 1.5144 - val_accuracy: 0.4648\n",
      "Epoch 31/50\n",
      "45/45 [==============================] - 5s 116ms/step - loss: 1.4971 - accuracy: 0.4709 - val_loss: 1.4870 - val_accuracy: 0.4712\n",
      "Epoch 32/50\n",
      "45/45 [==============================] - 6s 129ms/step - loss: 1.4589 - accuracy: 0.4814 - val_loss: 1.4803 - val_accuracy: 0.4740\n",
      "Epoch 33/50\n",
      "45/45 [==============================] - 5s 116ms/step - loss: 1.4560 - accuracy: 0.4834 - val_loss: 1.5093 - val_accuracy: 0.4760\n",
      "Epoch 34/50\n",
      "45/45 [==============================] - 5s 114ms/step - loss: 1.4577 - accuracy: 0.4834 - val_loss: 1.4906 - val_accuracy: 0.4810\n",
      "Epoch 35/50\n",
      "45/45 [==============================] - 5s 114ms/step - loss: 1.4413 - accuracy: 0.4875 - val_loss: 1.7164 - val_accuracy: 0.4170\n",
      "Epoch 36/50\n",
      "45/45 [==============================] - 6s 129ms/step - loss: 1.4701 - accuracy: 0.4838 - val_loss: 1.5054 - val_accuracy: 0.4716\n",
      "Epoch 37/50\n",
      "45/45 [==============================] - 6s 131ms/step - loss: 1.4393 - accuracy: 0.4939 - val_loss: 1.5025 - val_accuracy: 0.4770\n",
      "Epoch 38/50\n",
      "45/45 [==============================] - 6s 144ms/step - loss: 1.4393 - accuracy: 0.4905 - val_loss: 1.5086 - val_accuracy: 0.4696\n",
      "Epoch 39/50\n",
      "45/45 [==============================] - 5s 116ms/step - loss: 1.4050 - accuracy: 0.5031 - val_loss: 1.5245 - val_accuracy: 0.4610\n",
      "Epoch 40/50\n",
      "45/45 [==============================] - 6s 139ms/step - loss: 1.4234 - accuracy: 0.5011 - val_loss: 1.4591 - val_accuracy: 0.4814\n",
      "Epoch 41/50\n",
      "45/45 [==============================] - 7s 148ms/step - loss: 1.3918 - accuracy: 0.5100 - val_loss: 1.4736 - val_accuracy: 0.4816\n",
      "Epoch 42/50\n",
      "45/45 [==============================] - 7s 145ms/step - loss: 1.4200 - accuracy: 0.5046 - val_loss: 1.4147 - val_accuracy: 0.5066\n",
      "Epoch 43/50\n",
      "45/45 [==============================] - 6s 128ms/step - loss: 1.4118 - accuracy: 0.5051 - val_loss: 1.4647 - val_accuracy: 0.4838\n",
      "Epoch 44/50\n",
      "45/45 [==============================] - 5s 117ms/step - loss: 1.3819 - accuracy: 0.5163 - val_loss: 1.4943 - val_accuracy: 0.4732\n",
      "Epoch 45/50\n",
      "45/45 [==============================] - 5s 118ms/step - loss: 1.3809 - accuracy: 0.5117 - val_loss: 1.4506 - val_accuracy: 0.4872\n",
      "Epoch 46/50\n",
      "45/45 [==============================] - 5s 118ms/step - loss: 1.3794 - accuracy: 0.5123 - val_loss: 1.4803 - val_accuracy: 0.4788\n",
      "Epoch 47/50\n",
      "45/45 [==============================] - 5s 117ms/step - loss: 1.3685 - accuracy: 0.5211 - val_loss: 1.4632 - val_accuracy: 0.4792\n",
      "Epoch 48/50\n",
      "45/45 [==============================] - 6s 123ms/step - loss: 1.3637 - accuracy: 0.5184 - val_loss: 1.5016 - val_accuracy: 0.4766\n",
      "Epoch 49/50\n",
      "45/45 [==============================] - 6s 123ms/step - loss: 1.3916 - accuracy: 0.5101 - val_loss: 1.4252 - val_accuracy: 0.5040\n",
      "Epoch 50/50\n",
      "45/45 [==============================] - 5s 122ms/step - loss: 1.3560 - accuracy: 0.5240 - val_loss: 1.4549 - val_accuracy: 0.4922\n",
      "CPU times: user 26min 29s, sys: 16.9 s, total: 26min 46s\n",
      "Wall time: 4min 37s\n"
     ]
    }
   ],
   "source": [
    "%%time\n",
    "\n",
    "'''\n",
    "Define the optimizer\n",
    "'''\n",
    "optimizer = tf.keras.optimizers.SGD(learning_rate=0.1)\n",
    "\n",
    "\n",
    "'''\n",
    "Compile the model\n",
    "'''\n",
    "model.compile(loss=\"sparse_categorical_crossentropy\",\n",
    "              optimizer=optimizer,\n",
    "              metrics=[\"accuracy\"])\n",
    "\n",
    "\n",
    "\n",
    "'''\n",
    "Create the early stopping callback function.\n",
    "'''\n",
    "early_stopping_cb = tf.keras.callbacks.EarlyStopping(monitor='val_loss',\n",
    "                                  min_delta=0, \n",
    "                                  patience=10, \n",
    "                                  verbose=1, \n",
    "                                  mode='auto',\n",
    "                                  restore_best_weights=False)\n",
    "\n",
    "'''\n",
    "Set the epochs and mini batch size\n",
    "'''\n",
    "no_of_epochs = 50\n",
    "size_of_mini_batch = 1000\n",
    "\n",
    "\n",
    "'''\n",
    "Train the model\n",
    "'''\n",
    "history = model.fit(X_train, y_train, \n",
    "                    batch_size=size_of_mini_batch, \n",
    "                    epochs=no_of_epochs,\n",
    "                    verbose=1,\n",
    "                    validation_data=(X_valid, y_valid),\n",
    "                    callbacks=[early_stopping_cb])"
   ]
  },
  {
   "cell_type": "markdown",
   "id": "5eda925a",
   "metadata": {},
   "source": [
    "##### History object"
   ]
  },
  {
   "cell_type": "code",
   "execution_count": 38,
   "id": "f9ae85c7",
   "metadata": {
    "scrolled": true
   },
   "outputs": [
    {
     "name": "stdout",
     "output_type": "stream",
     "text": [
      "Training Parameters:  {'verbose': 1, 'epochs': 50, 'steps': 45}\n",
      "\n",
      "List of Epochs:  [0, 1, 2, 3, 4, 5, 6, 7, 8, 9, 10, 11, 12, 13, 14, 15, 16, 17, 18, 19, 20, 21, 22, 23, 24, 25, 26, 27, 28, 29, 30, 31, 32, 33, 34, 35, 36, 37, 38, 39, 40, 41, 42, 43, 44, 45, 46, 47, 48, 49]\n",
      "\n",
      "Evaluation Metrics:  dict_keys(['loss', 'accuracy', 'val_loss', 'val_accuracy'])\n"
     ]
    }
   ],
   "source": [
    "print(\"Training Parameters: \", history.params)\n",
    "print(\"\\nList of Epochs: \", history.epoch)\n",
    "print(\"\\nEvaluation Metrics: \", history.history.keys())"
   ]
  },
  {
   "cell_type": "markdown",
   "id": "da8f15ca",
   "metadata": {},
   "source": [
    "##### Model evaluation"
   ]
  },
  {
   "cell_type": "code",
   "execution_count": 39,
   "id": "a04d8da2",
   "metadata": {},
   "outputs": [
    {
     "name": "stdout",
     "output_type": "stream",
     "text": [
      "Epochs:  50\n",
      "\n",
      "Test Data: Loss & Accuracy:  [1.4528534412384033, 0.48089998960494995]\n",
      "\n",
      "Train Accuracy:  0.5259333333333334\n",
      "\n",
      "Test Accuracy:  0.4809\n",
      "\n",
      "Test Confusion Matrix:\n",
      "[[679  28  55  13  30  17   6  65  78  29]\n",
      " [ 76 608   7  10  10  29   7  64  48 141]\n",
      " [107  22 351  49 158  84  43 155  17  14]\n",
      " [ 60  15  89 264  64 222  43 163  29  51]\n",
      " [ 83  12 137  40 401  54  45 198  22   8]\n",
      " [ 42  14  89 136  67 380  22 195  33  22]\n",
      " [ 25  21 104  77 195  93 317 137  17  14]\n",
      " [ 56  13  36  35  51  43   4 719   8  35]\n",
      " [223  69  15  12  16  24   1  38 554  48]\n",
      " [ 82 173  11  17   7  24  13  91  46 536]]\n",
      "\n",
      "Classification Report:\n",
      "              precision    recall  f1-score   support\n",
      "\n",
      "           0       0.47      0.68      0.56      1000\n",
      "           1       0.62      0.61      0.62      1000\n",
      "           2       0.39      0.35      0.37      1000\n",
      "           3       0.40      0.26      0.32      1000\n",
      "           4       0.40      0.40      0.40      1000\n",
      "           5       0.39      0.38      0.39      1000\n",
      "           6       0.63      0.32      0.42      1000\n",
      "           7       0.39      0.72      0.51      1000\n",
      "           8       0.65      0.55      0.60      1000\n",
      "           9       0.60      0.54      0.56      1000\n",
      "\n",
      "    accuracy                           0.48     10000\n",
      "   macro avg       0.50      0.48      0.47     10000\n",
      "weighted avg       0.50      0.48      0.47     10000\n",
      "\n"
     ]
    }
   ],
   "source": [
    "numOfEpochs = len(history.history['loss'])\n",
    "print(\"Epochs: \", numOfEpochs)\n",
    "\n",
    "print(\"\\nTest Data: Loss & Accuracy: \", model.evaluate(X_test, y_test, verbose=0))\n",
    "\n",
    "# model.predict() method returns 10 probabilities per class for each instance (Dimension Nx10)\n",
    "y_test_predicted = model.predict(X_test)\n",
    "y_test_predicted = np.argmax(y_test_predicted, axis=1) # get the label/index of the highest probability class\n",
    "\n",
    "\n",
    "y_train_predicted = model.predict(X_train)\n",
    "y_train_predicted = np.argmax(y_train_predicted, axis=1) # get the label/index of the highest probability class\n",
    "\n",
    "train_accuracy = np.mean(y_train_predicted == y_train)\n",
    "print(\"\\nTrain Accuracy: \", train_accuracy)\n",
    "\n",
    "test_accuracy = np.mean(y_test_predicted == y_test)\n",
    "print(\"\\nTest Accuracy: \", test_accuracy)\n",
    "\n",
    "print(\"\\nTest Confusion Matrix:\")\n",
    "print(confusion_matrix(y_test, y_test_predicted))\n",
    "\n",
    "print(\"\\nClassification Report:\")\n",
    "print(classification_report(y_test, y_test_predicted))"
   ]
  },
  {
   "cell_type": "markdown",
   "id": "57bfe77d",
   "metadata": {},
   "source": [
    "##### Plot Learning Curves"
   ]
  },
  {
   "cell_type": "code",
   "execution_count": 40,
   "id": "e0143b72",
   "metadata": {
    "scrolled": false
   },
   "outputs": [
    {
     "data": {
      "image/png": "[encoded data removed]",
      "text/plain": [
       "<Figure size 1296x432 with 2 Axes>"
      ]
     },
     "metadata": {
      "needs_background": "light"
     },
     "output_type": "display_data"
    }
   ],
   "source": [
    "plt.figure(figsize=(18,6))\n",
    "\n",
    "plt.subplot(121)\n",
    "plt.plot(range(1,numOfEpochs+1),history.history['val_accuracy'],label='validation')\n",
    "plt.plot(range(1,numOfEpochs+1),history.history['accuracy'],label='training')\n",
    "plt.legend(loc=0)\n",
    "plt.xlabel('Epochs')\n",
    "plt.ylabel('Accuracy')\n",
    "plt.xlim([1,numOfEpochs])\n",
    "plt.grid(True)\n",
    "plt.title(\"Model Accuracy\")\n",
    "\n",
    "plt.subplot(122)\n",
    "plt.plot(range(1,numOfEpochs+1),history.history['val_loss'],label='validation')\n",
    "plt.plot(range(1,numOfEpochs+1),history.history['loss'],label='training')\n",
    "plt.legend(loc=0)\n",
    "plt.xlabel('Epochs')\n",
    "plt.ylabel('Loss')\n",
    "plt.xlim([1,numOfEpochs])\n",
    "plt.grid(True)\n",
    "plt.title(\"Model Loss\")\n",
    "\n",
    "plt.show() "
   ]
  },
  {
   "cell_type": "markdown",
   "id": "f71096c8",
   "metadata": {},
   "source": [
    "#### Experiment 6"
   ]
  },
  {
   "cell_type": "markdown",
   "id": "cdc395f1",
   "metadata": {},
   "source": [
    "##### Build the MLP Model"
   ]
  },
  {
   "cell_type": "code",
   "execution_count": 75,
   "id": "9e5cd39f",
   "metadata": {},
   "outputs": [
    {
     "name": "stdout",
     "output_type": "stream",
     "text": [
      "Model: \"MLP_Multiclass_Classifier\"\n",
      "_________________________________________________________________\n",
      "Layer (type)                 Output Shape              Param #   \n",
      "=================================================================\n",
      "flatten (Flatten)            (None, 3072)              0         \n",
      "_________________________________________________________________\n",
      "dense (Dense)                (None, 300)               921900    \n",
      "_________________________________________________________________\n",
      "dense_1 (Dense)              (None, 100)               30100     \n",
      "_________________________________________________________________\n",
      "dense_2 (Dense)              (None, 10)                1010      \n",
      "=================================================================\n",
      "Total params: 953,010\n",
      "Trainable params: 953,010\n",
      "Non-trainable params: 0\n",
      "_________________________________________________________________\n",
      "CPU times: user 61 ms, sys: 9.17 ms, total: 70.2 ms\n",
      "Wall time: 43.7 ms\n"
     ]
    }
   ],
   "source": [
    "%%time\n",
    "\n",
    "'''\n",
    "Delete the TensorFlow graph before creating a new model, otherwise memory overflow will occur.\n",
    "'''\n",
    "tf.keras.backend.clear_session()\n",
    "\n",
    "'''\n",
    "To reproduce the same result by the model in each iteration, we use fixed seeds for random number generation. \n",
    "'''\n",
    "np.random.seed(42)\n",
    "tf.random.set_seed(42)\n",
    "\n",
    "\n",
    "'''\n",
    "Set the values for weight initializer and activation function\n",
    "'''\n",
    "kernel_initializer = 'random_normal'\n",
    "activation = 'relu'\n",
    "number_of_classes = 10\n",
    "\n",
    "\n",
    "'''\n",
    "Create a Sequential model composed of a single stack of layers connected sequentially. \n",
    "- Add the layers one by one.\n",
    "- Apply Dropout regularization\n",
    "'''\n",
    "model = tf.keras.models.Sequential(name=\"MLP_Multiclass_Classifier\")\n",
    "model.add(tf.keras.layers.Flatten(input_shape=[3072]))\n",
    "model.add(tf.keras.layers.Dense(units=300, kernel_initializer=kernel_initializer, activation=activation, \n",
    "                             bias_initializer=\"zeros\"))\n",
    "# model.add(tf.keras.layers.Dropout(rate=0.1)) # add if needed\n",
    "model.add(tf.keras.layers.Dense(units=100, kernel_initializer=kernel_initializer, activation=activation,\n",
    "                            bias_initializer=\"zeros\"))\n",
    "# model.add(tf.keras.layers.Dropout(rate=0.1)) # add if needed\n",
    "model.add(tf.keras.layers.Dense(units=number_of_classes, kernel_initializer=kernel_initializer, \n",
    "                             activation=\"softmax\"))\n",
    "\n",
    "model.summary()"
   ]
  },
  {
   "cell_type": "markdown",
   "id": "46d3102f",
   "metadata": {},
   "source": [
    "##### Train the MLP Model"
   ]
  },
  {
   "cell_type": "code",
   "execution_count": 76,
   "id": "86d3e06a",
   "metadata": {},
   "outputs": [
    {
     "name": "stdout",
     "output_type": "stream",
     "text": [
      "Epoch 1/50\n",
      "45/45 [==============================] - 7s 155ms/step - loss: 2.2324 - accuracy: 0.1721 - val_loss: 1.9527 - val_accuracy: 0.3272\n",
      "Epoch 2/50\n",
      "45/45 [==============================] - 6s 121ms/step - loss: 2.0782 - accuracy: 0.2653 - val_loss: 2.0949 - val_accuracy: 0.2100\n",
      "Epoch 3/50\n",
      "45/45 [==============================] - 6s 127ms/step - loss: 1.9796 - accuracy: 0.2956 - val_loss: 1.8716 - val_accuracy: 0.3346\n",
      "Epoch 4/50\n",
      "45/45 [==============================] - 6s 123ms/step - loss: 1.8900 - accuracy: 0.3251 - val_loss: 1.8361 - val_accuracy: 0.3438\n",
      "Epoch 5/50\n",
      "45/45 [==============================] - 5s 120ms/step - loss: 1.8560 - accuracy: 0.3365 - val_loss: 1.9079 - val_accuracy: 0.3062\n",
      "Epoch 6/50\n",
      "45/45 [==============================] - 6s 137ms/step - loss: 1.8226 - accuracy: 0.3486 - val_loss: 1.7201 - val_accuracy: 0.3838\n",
      "Epoch 7/50\n",
      "45/45 [==============================] - 6s 122ms/step - loss: 1.7954 - accuracy: 0.3583 - val_loss: 1.7030 - val_accuracy: 0.4010\n",
      "Epoch 8/50\n",
      "45/45 [==============================] - 6s 129ms/step - loss: 1.7516 - accuracy: 0.3800 - val_loss: 1.7325 - val_accuracy: 0.3818\n",
      "Epoch 9/50\n",
      "45/45 [==============================] - 5s 118ms/step - loss: 1.7384 - accuracy: 0.3816 - val_loss: 1.7333 - val_accuracy: 0.3776\n",
      "Epoch 10/50\n",
      "45/45 [==============================] - 5s 115ms/step - loss: 1.7258 - accuracy: 0.3863 - val_loss: 1.6871 - val_accuracy: 0.4000\n",
      "Epoch 11/50\n",
      "45/45 [==============================] - 5s 115ms/step - loss: 1.6868 - accuracy: 0.4020 - val_loss: 1.6961 - val_accuracy: 0.3978\n",
      "Epoch 12/50\n",
      "45/45 [==============================] - 6s 129ms/step - loss: 1.6837 - accuracy: 0.3994 - val_loss: 1.6568 - val_accuracy: 0.4076\n",
      "Epoch 13/50\n",
      "45/45 [==============================] - 6s 129ms/step - loss: 1.6588 - accuracy: 0.4075 - val_loss: 1.7725 - val_accuracy: 0.3730\n",
      "Epoch 14/50\n",
      "45/45 [==============================] - 5s 116ms/step - loss: 1.6157 - accuracy: 0.4247 - val_loss: 1.5932 - val_accuracy: 0.4342\n",
      "Epoch 15/50\n",
      "45/45 [==============================] - 6s 125ms/step - loss: 1.6320 - accuracy: 0.4245 - val_loss: 1.5683 - val_accuracy: 0.4446\n",
      "Epoch 16/50\n",
      "45/45 [==============================] - 5s 121ms/step - loss: 1.6080 - accuracy: 0.4266 - val_loss: 1.5814 - val_accuracy: 0.4408\n",
      "Epoch 17/50\n",
      "45/45 [==============================] - 5s 118ms/step - loss: 1.6156 - accuracy: 0.4266 - val_loss: 1.5494 - val_accuracy: 0.4568\n",
      "Epoch 18/50\n",
      "45/45 [==============================] - 6s 126ms/step - loss: 1.5832 - accuracy: 0.4389 - val_loss: 1.6838 - val_accuracy: 0.4036\n",
      "Epoch 19/50\n",
      "45/45 [==============================] - 6s 135ms/step - loss: 1.5775 - accuracy: 0.4406 - val_loss: 1.6235 - val_accuracy: 0.4204\n",
      "Epoch 20/50\n",
      "45/45 [==============================] - 6s 129ms/step - loss: 1.5405 - accuracy: 0.4526 - val_loss: 1.6629 - val_accuracy: 0.4100\n",
      "Epoch 21/50\n",
      "45/45 [==============================] - 6s 137ms/step - loss: 1.5465 - accuracy: 0.4527 - val_loss: 1.5442 - val_accuracy: 0.4608\n",
      "Epoch 22/50\n",
      "45/45 [==============================] - 6s 126ms/step - loss: 1.5298 - accuracy: 0.4572 - val_loss: 1.5368 - val_accuracy: 0.4562\n",
      "Epoch 23/50\n",
      "45/45 [==============================] - 5s 117ms/step - loss: 1.5012 - accuracy: 0.4665 - val_loss: 1.5586 - val_accuracy: 0.4480\n",
      "Epoch 24/50\n",
      "45/45 [==============================] - 5s 116ms/step - loss: 1.6039 - accuracy: 0.4330 - val_loss: 1.5537 - val_accuracy: 0.4462\n",
      "Epoch 25/50\n",
      "45/45 [==============================] - 6s 133ms/step - loss: 1.5021 - accuracy: 0.4647 - val_loss: 1.5247 - val_accuracy: 0.4674\n",
      "Epoch 26/50\n",
      "45/45 [==============================] - 6s 131ms/step - loss: 1.4725 - accuracy: 0.4780 - val_loss: 1.6904 - val_accuracy: 0.4104\n",
      "Epoch 27/50\n",
      "45/45 [==============================] - 6s 128ms/step - loss: 1.5124 - accuracy: 0.4646 - val_loss: 1.5208 - val_accuracy: 0.4592\n",
      "Epoch 28/50\n",
      "45/45 [==============================] - 7s 147ms/step - loss: 1.4698 - accuracy: 0.4747 - val_loss: 1.5504 - val_accuracy: 0.4466\n",
      "Epoch 29/50\n",
      "45/45 [==============================] - 7s 166ms/step - loss: 1.4668 - accuracy: 0.4769 - val_loss: 1.5424 - val_accuracy: 0.4466\n",
      "Epoch 30/50\n",
      "45/45 [==============================] - 7s 155ms/step - loss: 1.4671 - accuracy: 0.4779 - val_loss: 1.4519 - val_accuracy: 0.4898\n",
      "Epoch 31/50\n",
      "45/45 [==============================] - 6s 133ms/step - loss: 1.4582 - accuracy: 0.4831 - val_loss: 1.5551 - val_accuracy: 0.4532\n",
      "Epoch 32/50\n",
      "45/45 [==============================] - 7s 149ms/step - loss: 1.4230 - accuracy: 0.4917 - val_loss: 1.4593 - val_accuracy: 0.4824\n",
      "Epoch 33/50\n",
      "45/45 [==============================] - 7s 146ms/step - loss: 1.4169 - accuracy: 0.4988 - val_loss: 1.5232 - val_accuracy: 0.4666\n",
      "Epoch 34/50\n",
      "45/45 [==============================] - 7s 147ms/step - loss: 1.4126 - accuracy: 0.4977 - val_loss: 1.6603 - val_accuracy: 0.4012\n",
      "Epoch 35/50\n",
      "45/45 [==============================] - 7s 145ms/step - loss: 1.4344 - accuracy: 0.4878 - val_loss: 1.7506 - val_accuracy: 0.4102\n",
      "Epoch 36/50\n",
      "45/45 [==============================] - 6s 127ms/step - loss: 1.4632 - accuracy: 0.4812 - val_loss: 1.5895 - val_accuracy: 0.4560\n",
      "Epoch 37/50\n",
      "45/45 [==============================] - 6s 142ms/step - loss: 1.4216 - accuracy: 0.4966 - val_loss: 1.4581 - val_accuracy: 0.4852\n",
      "Epoch 38/50\n",
      "45/45 [==============================] - 6s 137ms/step - loss: 1.4076 - accuracy: 0.4985 - val_loss: 1.4480 - val_accuracy: 0.4878\n",
      "Epoch 39/50\n",
      "45/45 [==============================] - 6s 126ms/step - loss: 1.3693 - accuracy: 0.5110 - val_loss: 1.4281 - val_accuracy: 0.5014\n",
      "Epoch 40/50\n",
      "45/45 [==============================] - 7s 146ms/step - loss: 1.3506 - accuracy: 0.5206 - val_loss: 1.4938 - val_accuracy: 0.4768\n",
      "Epoch 41/50\n",
      "45/45 [==============================] - 6s 127ms/step - loss: 1.3677 - accuracy: 0.5140 - val_loss: 1.4944 - val_accuracy: 0.4736\n",
      "Epoch 42/50\n",
      "45/45 [==============================] - 6s 123ms/step - loss: 1.3823 - accuracy: 0.5096 - val_loss: 1.4389 - val_accuracy: 0.4984\n",
      "Epoch 43/50\n",
      "45/45 [==============================] - 6s 132ms/step - loss: 1.3463 - accuracy: 0.5194 - val_loss: 1.4856 - val_accuracy: 0.4728\n",
      "Epoch 44/50\n",
      "45/45 [==============================] - 6s 140ms/step - loss: 1.3478 - accuracy: 0.5253 - val_loss: 1.4216 - val_accuracy: 0.5066\n",
      "Epoch 45/50\n",
      "45/45 [==============================] - 6s 139ms/step - loss: 1.3253 - accuracy: 0.5261 - val_loss: 1.4884 - val_accuracy: 0.4756\n",
      "Epoch 46/50\n",
      "45/45 [==============================] - 6s 142ms/step - loss: 1.3165 - accuracy: 0.5328 - val_loss: 1.5125 - val_accuracy: 0.4776\n",
      "Epoch 47/50\n",
      "45/45 [==============================] - 6s 144ms/step - loss: 1.3276 - accuracy: 0.5322 - val_loss: 1.4814 - val_accuracy: 0.4798\n",
      "Epoch 48/50\n",
      "45/45 [==============================] - 7s 146ms/step - loss: 1.3026 - accuracy: 0.5386 - val_loss: 1.5828 - val_accuracy: 0.4644\n",
      "Epoch 49/50\n",
      "45/45 [==============================] - 7s 145ms/step - loss: 1.3855 - accuracy: 0.5081 - val_loss: 1.4526 - val_accuracy: 0.4900\n",
      "Epoch 50/50\n",
      "45/45 [==============================] - 6s 126ms/step - loss: 1.3016 - accuracy: 0.5342 - val_loss: 1.4029 - val_accuracy: 0.5086\n",
      "CPU times: user 26min 57s, sys: 20.4 s, total: 27min 17s\n",
      "Wall time: 4min 58s\n"
     ]
    }
   ],
   "source": [
    "%%time\n",
    "\n",
    "'''\n",
    "Define the optimizer\n",
    "'''\n",
    "optimizer = tf.keras.optimizers.SGD(learning_rate=0.2)\n",
    "\n",
    "\n",
    "'''\n",
    "Compile the model\n",
    "'''\n",
    "model.compile(loss=\"sparse_categorical_crossentropy\",\n",
    "              optimizer=optimizer,\n",
    "              metrics=[\"accuracy\"])\n",
    "\n",
    "\n",
    "\n",
    "'''\n",
    "Create the early stopping callback function.\n",
    "'''\n",
    "early_stopping_cb = tf.keras.callbacks.EarlyStopping(monitor='val_loss',\n",
    "                                  min_delta=0, \n",
    "                                  patience=10, \n",
    "                                  verbose=1, \n",
    "                                  mode='auto',\n",
    "                                  restore_best_weights=False)\n",
    "\n",
    "'''\n",
    "Set the epochs and mini batch size\n",
    "'''\n",
    "no_of_epochs = 50\n",
    "size_of_mini_batch = 1000\n",
    "\n",
    "\n",
    "'''\n",
    "Train the model\n",
    "'''\n",
    "history = model.fit(X_train, y_train, \n",
    "                    batch_size=size_of_mini_batch, \n",
    "                    epochs=no_of_epochs,\n",
    "                    verbose=1,\n",
    "                    validation_data=(X_valid, y_valid),\n",
    "                    callbacks=[early_stopping_cb])"
   ]
  },
  {
   "cell_type": "markdown",
   "id": "0929cd27",
   "metadata": {},
   "source": [
    "##### History object"
   ]
  },
  {
   "cell_type": "code",
   "execution_count": 77,
   "id": "3ac86d62",
   "metadata": {
    "scrolled": false
   },
   "outputs": [
    {
     "name": "stdout",
     "output_type": "stream",
     "text": [
      "Training Parameters:  {'verbose': 1, 'epochs': 50, 'steps': 45}\n",
      "\n",
      "List of Epochs:  [0, 1, 2, 3, 4, 5, 6, 7, 8, 9, 10, 11, 12, 13, 14, 15, 16, 17, 18, 19, 20, 21, 22, 23, 24, 25, 26, 27, 28, 29, 30, 31, 32, 33, 34, 35, 36, 37, 38, 39, 40, 41, 42, 43, 44, 45, 46, 47, 48, 49]\n",
      "\n",
      "Evaluation Metrics:  dict_keys(['loss', 'accuracy', 'val_loss', 'val_accuracy'])\n"
     ]
    }
   ],
   "source": [
    "print(\"Training Parameters: \", history.params)\n",
    "print(\"\\nList of Epochs: \", history.epoch)\n",
    "print(\"\\nEvaluation Metrics: \", history.history.keys())"
   ]
  },
  {
   "cell_type": "markdown",
   "id": "66a9f9fa",
   "metadata": {},
   "source": [
    "##### Model evaluation"
   ]
  },
  {
   "cell_type": "code",
   "execution_count": 78,
   "id": "77afd4c1",
   "metadata": {},
   "outputs": [
    {
     "name": "stdout",
     "output_type": "stream",
     "text": [
      "Epochs:  50\n",
      "\n",
      "Test Data: Loss & Accuracy:  [1.3942852020263672, 0.5065000057220459]\n",
      "\n",
      "Train Accuracy:  0.5677777777777778\n",
      "\n",
      "Test Accuracy:  0.5065\n",
      "\n",
      "Test Confusion Matrix:\n",
      "[[632  21  96  31  41  12  12  32  90  33]\n",
      " [ 65 611  26  40  13  17  11  33  58 126]\n",
      " [ 77  14 418 137 177  33  50  68   9  17]\n",
      " [ 34  15 112 475  76 119  72  54  13  30]\n",
      " [ 58   6 151  91 490  36  60  82  18   8]\n",
      " [ 27  13 124 318  81 293  39  75  15  15]\n",
      " [ 17  11  95 152 168  36 457  33  14  17]\n",
      " [ 54  11  76  86 102  46  16 569   6  34]\n",
      " [177  54  27  42  27  14   3  24 589  43]\n",
      " [ 75 163  17  56  19  20  22  51  46 531]]\n",
      "\n",
      "Classification Report:\n",
      "              precision    recall  f1-score   support\n",
      "\n",
      "           0       0.52      0.63      0.57      1000\n",
      "           1       0.66      0.61      0.64      1000\n",
      "           2       0.37      0.42      0.39      1000\n",
      "           3       0.33      0.47      0.39      1000\n",
      "           4       0.41      0.49      0.45      1000\n",
      "           5       0.47      0.29      0.36      1000\n",
      "           6       0.62      0.46      0.52      1000\n",
      "           7       0.56      0.57      0.56      1000\n",
      "           8       0.69      0.59      0.63      1000\n",
      "           9       0.62      0.53      0.57      1000\n",
      "\n",
      "    accuracy                           0.51     10000\n",
      "   macro avg       0.52      0.51      0.51     10000\n",
      "weighted avg       0.52      0.51      0.51     10000\n",
      "\n"
     ]
    }
   ],
   "source": [
    "numOfEpochs = len(history.history['loss'])\n",
    "print(\"Epochs: \", numOfEpochs)\n",
    "\n",
    "print(\"\\nTest Data: Loss & Accuracy: \", model.evaluate(X_test, y_test, verbose=0))\n",
    "\n",
    "# model.predict() method returns 10 probabilities per class for each instance (Dimension Nx10)\n",
    "y_test_predicted = model.predict(X_test)\n",
    "y_test_predicted = np.argmax(y_test_predicted, axis=1) # get the label/index of the highest probability class\n",
    "\n",
    "\n",
    "y_train_predicted = model.predict(X_train)\n",
    "y_train_predicted = np.argmax(y_train_predicted, axis=1) # get the label/index of the highest probability class\n",
    "\n",
    "train_accuracy = np.mean(y_train_predicted == y_train)\n",
    "print(\"\\nTrain Accuracy: \", train_accuracy)\n",
    "\n",
    "test_accuracy = np.mean(y_test_predicted == y_test)\n",
    "print(\"\\nTest Accuracy: \", test_accuracy)\n",
    "\n",
    "print(\"\\nTest Confusion Matrix:\")\n",
    "print(confusion_matrix(y_test, y_test_predicted))\n",
    "\n",
    "print(\"\\nClassification Report:\")\n",
    "print(classification_report(y_test, y_test_predicted))"
   ]
  },
  {
   "cell_type": "markdown",
   "id": "36f83e07",
   "metadata": {},
   "source": [
    "##### Plot Learning Curves"
   ]
  },
  {
   "cell_type": "code",
   "execution_count": 79,
   "id": "7aa88cae",
   "metadata": {
    "scrolled": true
   },
   "outputs": [
    {
     "data": {
      "image/png": "[encoded data removed]",
      "text/plain": [
       "<Figure size 1296x432 with 2 Axes>"
      ]
     },
     "metadata": {
      "needs_background": "light"
     },
     "output_type": "display_data"
    }
   ],
   "source": [
    "plt.figure(figsize=(18,6))\n",
    "\n",
    "plt.subplot(121)\n",
    "plt.plot(range(1,numOfEpochs+1),history.history['val_accuracy'],label='validation')\n",
    "plt.plot(range(1,numOfEpochs+1),history.history['accuracy'],label='training')\n",
    "plt.legend(loc=0)\n",
    "plt.xlabel('Epochs')\n",
    "plt.ylabel('Accuracy')\n",
    "plt.xlim([1,numOfEpochs])\n",
    "plt.grid(True)\n",
    "plt.title(\"Model Accuracy\")\n",
    "\n",
    "plt.subplot(122)\n",
    "plt.plot(range(1,numOfEpochs+1),history.history['val_loss'],label='validation')\n",
    "plt.plot(range(1,numOfEpochs+1),history.history['loss'],label='training')\n",
    "plt.legend(loc=0)\n",
    "plt.xlabel('Epochs')\n",
    "plt.ylabel('Loss')\n",
    "plt.xlim([1,numOfEpochs])\n",
    "plt.grid(True)\n",
    "plt.title(\"Model Loss\")\n",
    "\n",
    "plt.show() "
   ]
  },
  {
   "cell_type": "markdown",
   "id": "9d95c116",
   "metadata": {},
   "source": [
    "#### Experiment 7"
   ]
  },
  {
   "cell_type": "markdown",
   "id": "441692fc",
   "metadata": {},
   "source": [
    "##### Build the MLP Model"
   ]
  },
  {
   "cell_type": "code",
   "execution_count": 80,
   "id": "779a6fb3",
   "metadata": {},
   "outputs": [
    {
     "name": "stdout",
     "output_type": "stream",
     "text": [
      "Model: \"MLP_Multiclass_Classifier\"\n",
      "_________________________________________________________________\n",
      "Layer (type)                 Output Shape              Param #   \n",
      "=================================================================\n",
      "flatten (Flatten)            (None, 3072)              0         \n",
      "_________________________________________________________________\n",
      "dense (Dense)                (None, 300)               921900    \n",
      "_________________________________________________________________\n",
      "dense_1 (Dense)              (None, 100)               30100     \n",
      "_________________________________________________________________\n",
      "dense_2 (Dense)              (None, 10)                1010      \n",
      "=================================================================\n",
      "Total params: 953,010\n",
      "Trainable params: 953,010\n",
      "Non-trainable params: 0\n",
      "_________________________________________________________________\n",
      "CPU times: user 52 ms, sys: 16.3 ms, total: 68.3 ms\n",
      "Wall time: 34.9 ms\n"
     ]
    }
   ],
   "source": [
    "%%time\n",
    "\n",
    "'''\n",
    "Delete the TensorFlow graph before creating a new model, otherwise memory overflow will occur.\n",
    "'''\n",
    "tf.keras.backend.clear_session()\n",
    "\n",
    "'''\n",
    "To reproduce the same result by the model in each iteration, we use fixed seeds for random number generation. \n",
    "'''\n",
    "np.random.seed(42)\n",
    "tf.random.set_seed(42)\n",
    "\n",
    "\n",
    "'''\n",
    "Set the values for weight initializer and activation function\n",
    "'''\n",
    "kernel_initializer = 'random_normal'\n",
    "activation = 'relu'\n",
    "number_of_classes = 10\n",
    "\n",
    "\n",
    "'''\n",
    "Create a Sequential model composed of a single stack of layers connected sequentially. \n",
    "- Add the layers one by one.\n",
    "- Apply Dropout regularization\n",
    "'''\n",
    "model = tf.keras.models.Sequential(name=\"MLP_Multiclass_Classifier\")\n",
    "model.add(tf.keras.layers.Flatten(input_shape=[3072]))\n",
    "model.add(tf.keras.layers.Dense(units=300, kernel_initializer=kernel_initializer, activation=activation, \n",
    "                             bias_initializer=\"zeros\"))\n",
    "# model.add(tf.keras.layers.Dropout(rate=0.1)) # add if needed\n",
    "model.add(tf.keras.layers.Dense(units=100, kernel_initializer=kernel_initializer, activation=activation,\n",
    "                            bias_initializer=\"zeros\"))\n",
    "# model.add(tf.keras.layers.Dropout(rate=0.1)) # add if needed\n",
    "model.add(tf.keras.layers.Dense(units=number_of_classes, kernel_initializer=kernel_initializer, \n",
    "                             activation=\"softmax\"))\n",
    "\n",
    "model.summary()"
   ]
  },
  {
   "cell_type": "markdown",
   "id": "b325d1d5",
   "metadata": {},
   "source": [
    "##### Train the MLP Model"
   ]
  },
  {
   "cell_type": "code",
   "execution_count": 81,
   "id": "4e770bec",
   "metadata": {
    "scrolled": false
   },
   "outputs": [
    {
     "name": "stdout",
     "output_type": "stream",
     "text": [
      "Epoch 1/50\n",
      "90/90 [==============================] - 7s 71ms/step - loss: 2.1787 - accuracy: 0.2091 - val_loss: 1.9241 - val_accuracy: 0.3200\n",
      "Epoch 2/50\n",
      "90/90 [==============================] - 6s 71ms/step - loss: 1.9415 - accuracy: 0.3099 - val_loss: 1.8152 - val_accuracy: 0.3454\n",
      "Epoch 3/50\n",
      "90/90 [==============================] - 6s 65ms/step - loss: 1.8495 - accuracy: 0.3465 - val_loss: 1.7417 - val_accuracy: 0.3818\n",
      "Epoch 4/50\n",
      "90/90 [==============================] - 6s 64ms/step - loss: 1.7895 - accuracy: 0.3649 - val_loss: 1.7593 - val_accuracy: 0.3694\n",
      "Epoch 5/50\n",
      "90/90 [==============================] - 6s 64ms/step - loss: 1.7401 - accuracy: 0.3816 - val_loss: 1.7491 - val_accuracy: 0.3694\n",
      "Epoch 6/50\n",
      "90/90 [==============================] - 6s 62ms/step - loss: 1.7119 - accuracy: 0.3958 - val_loss: 1.6443 - val_accuracy: 0.4110\n",
      "Epoch 7/50\n",
      "90/90 [==============================] - 6s 64ms/step - loss: 1.6752 - accuracy: 0.4060 - val_loss: 1.6394 - val_accuracy: 0.4168\n",
      "Epoch 8/50\n",
      "90/90 [==============================] - 6s 65ms/step - loss: 1.6496 - accuracy: 0.4197 - val_loss: 1.6294 - val_accuracy: 0.4140\n",
      "Epoch 9/50\n",
      "90/90 [==============================] - 7s 79ms/step - loss: 1.6345 - accuracy: 0.4243 - val_loss: 1.6599 - val_accuracy: 0.4074\n",
      "Epoch 10/50\n",
      "90/90 [==============================] - 7s 78ms/step - loss: 1.6027 - accuracy: 0.4341 - val_loss: 1.5967 - val_accuracy: 0.4242\n",
      "Epoch 11/50\n",
      "90/90 [==============================] - 6s 64ms/step - loss: 1.5823 - accuracy: 0.4400 - val_loss: 1.6337 - val_accuracy: 0.4226\n",
      "Epoch 12/50\n",
      "90/90 [==============================] - 7s 74ms/step - loss: 1.5627 - accuracy: 0.4461 - val_loss: 1.5362 - val_accuracy: 0.4586\n",
      "Epoch 13/50\n",
      "90/90 [==============================] - 7s 81ms/step - loss: 1.5436 - accuracy: 0.4526 - val_loss: 1.5944 - val_accuracy: 0.4314\n",
      "Epoch 14/50\n",
      "90/90 [==============================] - 7s 82ms/step - loss: 1.5350 - accuracy: 0.4580 - val_loss: 1.5688 - val_accuracy: 0.4410\n",
      "Epoch 15/50\n",
      "90/90 [==============================] - 8s 85ms/step - loss: 1.5265 - accuracy: 0.4555 - val_loss: 1.5402 - val_accuracy: 0.4558\n",
      "Epoch 16/50\n",
      "90/90 [==============================] - 7s 75ms/step - loss: 1.5027 - accuracy: 0.4683 - val_loss: 1.5217 - val_accuracy: 0.4522\n",
      "Epoch 17/50\n",
      "90/90 [==============================] - 6s 69ms/step - loss: 1.4820 - accuracy: 0.4766 - val_loss: 1.4924 - val_accuracy: 0.4728\n",
      "Epoch 18/50\n",
      "90/90 [==============================] - 8s 88ms/step - loss: 1.4693 - accuracy: 0.4795 - val_loss: 1.4856 - val_accuracy: 0.4812\n",
      "Epoch 19/50\n",
      "90/90 [==============================] - 6s 68ms/step - loss: 1.4450 - accuracy: 0.4931 - val_loss: 1.5353 - val_accuracy: 0.4604\n",
      "Epoch 20/50\n",
      "90/90 [==============================] - 6s 64ms/step - loss: 1.4265 - accuracy: 0.4939 - val_loss: 1.4763 - val_accuracy: 0.4830\n",
      "Epoch 21/50\n",
      "90/90 [==============================] - 6s 63ms/step - loss: 1.4387 - accuracy: 0.4898 - val_loss: 1.5374 - val_accuracy: 0.4580\n",
      "Epoch 22/50\n",
      "90/90 [==============================] - 6s 63ms/step - loss: 1.4260 - accuracy: 0.4920 - val_loss: 1.5122 - val_accuracy: 0.4524\n",
      "Epoch 23/50\n",
      "90/90 [==============================] - 6s 62ms/step - loss: 1.4030 - accuracy: 0.5019 - val_loss: 1.4696 - val_accuracy: 0.4876\n",
      "Epoch 24/50\n",
      "90/90 [==============================] - 6s 71ms/step - loss: 1.3990 - accuracy: 0.5045 - val_loss: 1.4408 - val_accuracy: 0.4950\n",
      "Epoch 25/50\n",
      "90/90 [==============================] - 6s 71ms/step - loss: 1.3974 - accuracy: 0.5058 - val_loss: 1.4553 - val_accuracy: 0.4888\n",
      "Epoch 26/50\n",
      "90/90 [==============================] - 6s 63ms/step - loss: 1.3641 - accuracy: 0.5192 - val_loss: 1.4777 - val_accuracy: 0.4724\n",
      "Epoch 27/50\n",
      "90/90 [==============================] - 6s 66ms/step - loss: 1.3661 - accuracy: 0.5207 - val_loss: 1.4044 - val_accuracy: 0.5152\n",
      "Epoch 28/50\n",
      "90/90 [==============================] - 7s 77ms/step - loss: 1.3692 - accuracy: 0.5121 - val_loss: 1.4139 - val_accuracy: 0.4962\n",
      "Epoch 29/50\n",
      "90/90 [==============================] - 8s 83ms/step - loss: 1.3477 - accuracy: 0.5262 - val_loss: 1.5012 - val_accuracy: 0.4772\n",
      "Epoch 30/50\n",
      "90/90 [==============================] - 7s 83ms/step - loss: 1.3459 - accuracy: 0.5231 - val_loss: 1.4318 - val_accuracy: 0.4962\n",
      "Epoch 31/50\n",
      "90/90 [==============================] - 6s 72ms/step - loss: 1.3294 - accuracy: 0.5311 - val_loss: 1.4441 - val_accuracy: 0.4998\n",
      "Epoch 32/50\n",
      "90/90 [==============================] - 7s 73ms/step - loss: 1.3121 - accuracy: 0.5339 - val_loss: 1.4015 - val_accuracy: 0.5080\n",
      "Epoch 33/50\n",
      "90/90 [==============================] - 7s 76ms/step - loss: 1.3211 - accuracy: 0.5378 - val_loss: 1.4940 - val_accuracy: 0.4636\n",
      "Epoch 34/50\n",
      "90/90 [==============================] - 7s 81ms/step - loss: 1.2867 - accuracy: 0.5429 - val_loss: 1.5183 - val_accuracy: 0.4782\n",
      "Epoch 35/50\n",
      "90/90 [==============================] - 7s 76ms/step - loss: 1.2984 - accuracy: 0.5455 - val_loss: 1.4576 - val_accuracy: 0.4910\n",
      "Epoch 36/50\n",
      "90/90 [==============================] - 6s 70ms/step - loss: 1.2856 - accuracy: 0.5453 - val_loss: 1.3877 - val_accuracy: 0.5134\n",
      "Epoch 37/50\n",
      "90/90 [==============================] - 6s 65ms/step - loss: 1.2692 - accuracy: 0.5495 - val_loss: 1.3980 - val_accuracy: 0.5136\n",
      "Epoch 38/50\n",
      "90/90 [==============================] - 6s 71ms/step - loss: 1.2484 - accuracy: 0.5604 - val_loss: 1.4348 - val_accuracy: 0.5016\n",
      "Epoch 39/50\n",
      "90/90 [==============================] - 6s 64ms/step - loss: 1.2566 - accuracy: 0.5561 - val_loss: 1.3822 - val_accuracy: 0.5176\n",
      "Epoch 40/50\n",
      "90/90 [==============================] - 6s 66ms/step - loss: 1.2554 - accuracy: 0.5569 - val_loss: 1.3608 - val_accuracy: 0.5244\n",
      "Epoch 41/50\n",
      "90/90 [==============================] - 6s 65ms/step - loss: 1.2373 - accuracy: 0.5656 - val_loss: 1.4900 - val_accuracy: 0.4800\n",
      "Epoch 42/50\n",
      "90/90 [==============================] - 6s 65ms/step - loss: 1.2450 - accuracy: 0.5595 - val_loss: 1.3922 - val_accuracy: 0.5258\n",
      "Epoch 43/50\n",
      "90/90 [==============================] - 6s 64ms/step - loss: 1.2320 - accuracy: 0.5636 - val_loss: 1.4767 - val_accuracy: 0.4862\n",
      "Epoch 44/50\n",
      "90/90 [==============================] - 7s 74ms/step - loss: 1.2380 - accuracy: 0.5679 - val_loss: 1.4134 - val_accuracy: 0.4996\n",
      "Epoch 45/50\n",
      "90/90 [==============================] - 6s 67ms/step - loss: 1.2240 - accuracy: 0.5711 - val_loss: 1.3860 - val_accuracy: 0.5172\n",
      "Epoch 46/50\n",
      "90/90 [==============================] - 6s 64ms/step - loss: 1.1852 - accuracy: 0.5814 - val_loss: 1.4072 - val_accuracy: 0.5110\n",
      "Epoch 47/50\n",
      "90/90 [==============================] - 6s 68ms/step - loss: 1.2008 - accuracy: 0.5783 - val_loss: 1.3899 - val_accuracy: 0.5182\n",
      "Epoch 48/50\n",
      "90/90 [==============================] - 6s 66ms/step - loss: 1.2031 - accuracy: 0.5759 - val_loss: 1.3893 - val_accuracy: 0.5168\n",
      "Epoch 49/50\n",
      "90/90 [==============================] - 6s 67ms/step - loss: 1.1795 - accuracy: 0.5797 - val_loss: 1.3646 - val_accuracy: 0.5250\n",
      "Epoch 50/50\n",
      "90/90 [==============================] - 6s 67ms/step - loss: 1.1738 - accuracy: 0.5884 - val_loss: 1.4275 - val_accuracy: 0.5006\n",
      "Epoch 00050: early stopping\n",
      "CPU times: user 27min 5s, sys: 24.1 s, total: 27min 29s\n",
      "Wall time: 5min 17s\n"
     ]
    }
   ],
   "source": [
    "%%time\n",
    "\n",
    "'''\n",
    "Define the optimizer\n",
    "'''\n",
    "optimizer = tf.keras.optimizers.SGD(learning_rate=0.1)\n",
    "\n",
    "\n",
    "'''\n",
    "Compile the model\n",
    "'''\n",
    "model.compile(loss=\"sparse_categorical_crossentropy\",\n",
    "              optimizer=optimizer,\n",
    "              metrics=[\"accuracy\"])\n",
    "\n",
    "\n",
    "\n",
    "'''\n",
    "Create the early stopping callback function.\n",
    "'''\n",
    "early_stopping_cb = tf.keras.callbacks.EarlyStopping(monitor='val_loss',\n",
    "                                  min_delta=0, \n",
    "                                  patience=10, \n",
    "                                  verbose=1, \n",
    "                                  mode='auto',\n",
    "                                  restore_best_weights=False)\n",
    "\n",
    "'''\n",
    "Set the epochs and mini batch size\n",
    "'''\n",
    "no_of_epochs = 50\n",
    "size_of_mini_batch = 500\n",
    "\n",
    "\n",
    "'''\n",
    "Train the model\n",
    "'''\n",
    "history = model.fit(X_train, y_train, \n",
    "                    batch_size=size_of_mini_batch, \n",
    "                    epochs=no_of_epochs,\n",
    "                    verbose=1,\n",
    "                    validation_data=(X_valid, y_valid),\n",
    "                    callbacks=[early_stopping_cb])"
   ]
  },
  {
   "cell_type": "markdown",
   "id": "877d2655",
   "metadata": {},
   "source": [
    "##### History object"
   ]
  },
  {
   "cell_type": "code",
   "execution_count": 82,
   "id": "39733cfa",
   "metadata": {
    "scrolled": true
   },
   "outputs": [
    {
     "name": "stdout",
     "output_type": "stream",
     "text": [
      "Training Parameters:  {'verbose': 1, 'epochs': 50, 'steps': 90}\n",
      "\n",
      "List of Epochs:  [0, 1, 2, 3, 4, 5, 6, 7, 8, 9, 10, 11, 12, 13, 14, 15, 16, 17, 18, 19, 20, 21, 22, 23, 24, 25, 26, 27, 28, 29, 30, 31, 32, 33, 34, 35, 36, 37, 38, 39, 40, 41, 42, 43, 44, 45, 46, 47, 48, 49]\n",
      "\n",
      "Evaluation Metrics:  dict_keys(['loss', 'accuracy', 'val_loss', 'val_accuracy'])\n"
     ]
    }
   ],
   "source": [
    "print(\"Training Parameters: \", history.params)\n",
    "print(\"\\nList of Epochs: \", history.epoch)\n",
    "print(\"\\nEvaluation Metrics: \", history.history.keys())"
   ]
  },
  {
   "cell_type": "markdown",
   "id": "aa29c045",
   "metadata": {},
   "source": [
    "##### Model evaluation"
   ]
  },
  {
   "cell_type": "code",
   "execution_count": 83,
   "id": "2a4ac955",
   "metadata": {},
   "outputs": [
    {
     "name": "stdout",
     "output_type": "stream",
     "text": [
      "Epochs:  50\n",
      "\n",
      "Test Data: Loss & Accuracy:  [1.4207123517990112, 0.4999000132083893]\n",
      "\n",
      "Train Accuracy:  0.5830444444444445\n",
      "\n",
      "Test Accuracy:  0.4999\n",
      "\n",
      "Test Confusion Matrix:\n",
      "[[570  21 111  34  16  13  30   7 124  74]\n",
      " [ 28 538  30  46   6  17  21   8  65 241]\n",
      " [ 57  10 546 131  57  58  97   7  14  23]\n",
      " [ 24   9 138 451  18 154 128  11  21  46]\n",
      " [ 47   6 291 111 273  49 153  23  28  19]\n",
      " [ 15   3 159 306  26 343  90  12  21  25]\n",
      " [ 10   8 129 104  35  44 636   3   8  23]\n",
      " [ 44   8 156 131  72  89  58 338  18  86]\n",
      " [106  44  38  48   5  26  14   1 637  81]\n",
      " [ 28  89  34  68   4  17  27  10  56 667]]\n",
      "\n",
      "Classification Report:\n",
      "              precision    recall  f1-score   support\n",
      "\n",
      "           0       0.61      0.57      0.59      1000\n",
      "           1       0.73      0.54      0.62      1000\n",
      "           2       0.33      0.55      0.41      1000\n",
      "           3       0.32      0.45      0.37      1000\n",
      "           4       0.53      0.27      0.36      1000\n",
      "           5       0.42      0.34      0.38      1000\n",
      "           6       0.51      0.64      0.56      1000\n",
      "           7       0.80      0.34      0.48      1000\n",
      "           8       0.64      0.64      0.64      1000\n",
      "           9       0.52      0.67      0.58      1000\n",
      "\n",
      "    accuracy                           0.50     10000\n",
      "   macro avg       0.54      0.50      0.50     10000\n",
      "weighted avg       0.54      0.50      0.50     10000\n",
      "\n"
     ]
    }
   ],
   "source": [
    "numOfEpochs = len(history.history['loss'])\n",
    "print(\"Epochs: \", numOfEpochs)\n",
    "\n",
    "print(\"\\nTest Data: Loss & Accuracy: \", model.evaluate(X_test, y_test, verbose=0))\n",
    "\n",
    "# model.predict() method returns 10 probabilities per class for each instance (Dimension Nx10)\n",
    "y_test_predicted = model.predict(X_test)\n",
    "y_test_predicted = np.argmax(y_test_predicted, axis=1) # get the label/index of the highest probability class\n",
    "\n",
    "\n",
    "y_train_predicted = model.predict(X_train)\n",
    "y_train_predicted = np.argmax(y_train_predicted, axis=1) # get the label/index of the highest probability class\n",
    "\n",
    "train_accuracy = np.mean(y_train_predicted == y_train)\n",
    "print(\"\\nTrain Accuracy: \", train_accuracy)\n",
    "\n",
    "test_accuracy = np.mean(y_test_predicted == y_test)\n",
    "print(\"\\nTest Accuracy: \", test_accuracy)\n",
    "\n",
    "print(\"\\nTest Confusion Matrix:\")\n",
    "print(confusion_matrix(y_test, y_test_predicted))\n",
    "\n",
    "print(\"\\nClassification Report:\")\n",
    "print(classification_report(y_test, y_test_predicted))"
   ]
  },
  {
   "cell_type": "markdown",
   "id": "80e9ab86",
   "metadata": {},
   "source": [
    "##### Plot Learning Curves"
   ]
  },
  {
   "cell_type": "code",
   "execution_count": 84,
   "id": "47a65262",
   "metadata": {
    "scrolled": false
   },
   "outputs": [
    {
     "data": {
      "image/png": "[encoded data removed]",
      "text/plain": [
       "<Figure size 1296x432 with 2 Axes>"
      ]
     },
     "metadata": {
      "needs_background": "light"
     },
     "output_type": "display_data"
    }
   ],
   "source": [
    "plt.figure(figsize=(18,6))\n",
    "\n",
    "plt.subplot(121)\n",
    "plt.plot(range(1,numOfEpochs+1),history.history['val_accuracy'],label='validation')\n",
    "plt.plot(range(1,numOfEpochs+1),history.history['accuracy'],label='training')\n",
    "plt.legend(loc=0)\n",
    "plt.xlabel('Epochs')\n",
    "plt.ylabel('Accuracy')\n",
    "plt.xlim([1,numOfEpochs])\n",
    "plt.grid(True)\n",
    "plt.title(\"Model Accuracy\")\n",
    "\n",
    "plt.subplot(122)\n",
    "plt.plot(range(1,numOfEpochs+1),history.history['val_loss'],label='validation')\n",
    "plt.plot(range(1,numOfEpochs+1),history.history['loss'],label='training')\n",
    "plt.legend(loc=0)\n",
    "plt.xlabel('Epochs')\n",
    "plt.ylabel('Loss')\n",
    "plt.xlim([1,numOfEpochs])\n",
    "plt.grid(True)\n",
    "plt.title(\"Model Loss\")\n",
    "\n",
    "plt.show() "
   ]
  },
  {
   "cell_type": "markdown",
   "id": "765575b3",
   "metadata": {},
   "source": [
    "#### Experiment 8"
   ]
  },
  {
   "cell_type": "markdown",
   "id": "72297894",
   "metadata": {},
   "source": [
    "##### Build the MLP Model"
   ]
  },
  {
   "cell_type": "code",
   "execution_count": 106,
   "id": "0eb95377",
   "metadata": {},
   "outputs": [
    {
     "name": "stdout",
     "output_type": "stream",
     "text": [
      "Model: \"MLP_Multiclass_Classifier\"\n",
      "_________________________________________________________________\n",
      "Layer (type)                 Output Shape              Param #   \n",
      "=================================================================\n",
      "flatten (Flatten)            (None, 3072)              0         \n",
      "_________________________________________________________________\n",
      "dense (Dense)                (None, 300)               921900    \n",
      "_________________________________________________________________\n",
      "dropout (Dropout)            (None, 300)               0         \n",
      "_________________________________________________________________\n",
      "dense_1 (Dense)              (None, 100)               30100     \n",
      "_________________________________________________________________\n",
      "dropout_1 (Dropout)          (None, 100)               0         \n",
      "_________________________________________________________________\n",
      "dense_2 (Dense)              (None, 10)                1010      \n",
      "=================================================================\n",
      "Total params: 953,010\n",
      "Trainable params: 953,010\n",
      "Non-trainable params: 0\n",
      "_________________________________________________________________\n",
      "CPU times: user 62.7 ms, sys: 29.7 ms, total: 92.4 ms\n",
      "Wall time: 48 ms\n"
     ]
    }
   ],
   "source": [
    "%%time\n",
    "\n",
    "'''\n",
    "Delete the TensorFlow graph before creating a new model, otherwise memory overflow will occur.\n",
    "'''\n",
    "tf.keras.backend.clear_session()\n",
    "\n",
    "'''\n",
    "To reproduce the same result by the model in each iteration, we use fixed seeds for random number generation. \n",
    "'''\n",
    "np.random.seed(42)\n",
    "tf.random.set_seed(42)\n",
    "\n",
    "\n",
    "'''\n",
    "Set the values for weight initializer and activation function\n",
    "'''\n",
    "kernel_initializer = 'random_normal'\n",
    "activation = 'relu'\n",
    "number_of_classes = 10\n",
    "\n",
    "\n",
    "'''\n",
    "Create a Sequential model composed of a single stack of layers connected sequentially. \n",
    "- Add the layers one by one.\n",
    "- Apply Dropout regularization\n",
    "'''\n",
    "model = tf.keras.models.Sequential(name=\"MLP_Multiclass_Classifier\")\n",
    "model.add(tf.keras.layers.Flatten(input_shape=[3072]))\n",
    "model.add(tf.keras.layers.Dense(units=300, kernel_initializer=kernel_initializer, activation=activation, \n",
    "                             bias_initializer=\"zeros\"))\n",
    "model.add(tf.keras.layers.Dropout(rate=0.1)) # add if needed\n",
    "model.add(tf.keras.layers.Dense(units=100, kernel_initializer=kernel_initializer, activation=activation,\n",
    "                            bias_initializer=\"zeros\"))\n",
    "model.add(tf.keras.layers.Dropout(rate=0.1)) # add if needed\n",
    "model.add(tf.keras.layers.Dense(units=number_of_classes, kernel_initializer=kernel_initializer, \n",
    "                             activation=\"softmax\"))\n",
    "\n",
    "model.summary()"
   ]
  },
  {
   "cell_type": "markdown",
   "id": "e0da6ef1",
   "metadata": {},
   "source": [
    "##### Train the MLP Model"
   ]
  },
  {
   "cell_type": "code",
   "execution_count": 107,
   "id": "e2f16170",
   "metadata": {
    "scrolled": true
   },
   "outputs": [
    {
     "name": "stdout",
     "output_type": "stream",
     "text": [
      "Epoch 1/100\n",
      "45/45 [==============================] - 6s 134ms/step - loss: 2.2318 - accuracy: 0.1722 - val_loss: 2.0441 - val_accuracy: 0.2634\n",
      "Epoch 2/100\n",
      "45/45 [==============================] - 6s 125ms/step - loss: 2.0378 - accuracy: 0.2738 - val_loss: 1.9395 - val_accuracy: 0.3028\n",
      "Epoch 3/100\n",
      "45/45 [==============================] - 5s 118ms/step - loss: 1.9552 - accuracy: 0.2993 - val_loss: 1.9528 - val_accuracy: 0.3002\n",
      "Epoch 4/100\n",
      "45/45 [==============================] - 5s 117ms/step - loss: 1.9012 - accuracy: 0.3192 - val_loss: 1.7983 - val_accuracy: 0.3534\n",
      "Epoch 5/100\n",
      "45/45 [==============================] - 5s 119ms/step - loss: 1.8433 - accuracy: 0.3413 - val_loss: 1.7666 - val_accuracy: 0.3714\n",
      "Epoch 6/100\n",
      "45/45 [==============================] - 5s 119ms/step - loss: 1.8110 - accuracy: 0.3539 - val_loss: 1.8073 - val_accuracy: 0.3474\n",
      "Epoch 7/100\n",
      "45/45 [==============================] - 6s 133ms/step - loss: 1.7733 - accuracy: 0.3696 - val_loss: 1.8321 - val_accuracy: 0.3342\n",
      "Epoch 8/100\n",
      "45/45 [==============================] - 5s 122ms/step - loss: 1.7600 - accuracy: 0.3763 - val_loss: 1.7018 - val_accuracy: 0.4062\n",
      "Epoch 9/100\n",
      "45/45 [==============================] - 6s 130ms/step - loss: 1.7762 - accuracy: 0.3680 - val_loss: 1.8853 - val_accuracy: 0.3270\n",
      "Epoch 10/100\n",
      "45/45 [==============================] - 5s 119ms/step - loss: 1.7808 - accuracy: 0.3681 - val_loss: 1.7488 - val_accuracy: 0.3852\n",
      "Epoch 11/100\n",
      "45/45 [==============================] - 5s 116ms/step - loss: 1.7244 - accuracy: 0.3873 - val_loss: 1.6234 - val_accuracy: 0.4180\n",
      "Epoch 12/100\n",
      "45/45 [==============================] - 5s 116ms/step - loss: 1.6981 - accuracy: 0.3925 - val_loss: 1.6457 - val_accuracy: 0.4132\n",
      "Epoch 13/100\n",
      "45/45 [==============================] - 5s 116ms/step - loss: 1.6700 - accuracy: 0.4040 - val_loss: 1.6792 - val_accuracy: 0.3962\n",
      "Epoch 14/100\n",
      "45/45 [==============================] - 5s 116ms/step - loss: 1.6400 - accuracy: 0.4177 - val_loss: 1.6141 - val_accuracy: 0.4264\n",
      "Epoch 15/100\n",
      "45/45 [==============================] - 5s 115ms/step - loss: 1.6429 - accuracy: 0.4162 - val_loss: 1.6404 - val_accuracy: 0.4290\n",
      "Epoch 16/100\n",
      "45/45 [==============================] - 5s 117ms/step - loss: 1.6201 - accuracy: 0.4238 - val_loss: 1.6622 - val_accuracy: 0.4206\n",
      "Epoch 17/100\n",
      "45/45 [==============================] - 5s 118ms/step - loss: 1.6216 - accuracy: 0.4263 - val_loss: 1.5310 - val_accuracy: 0.4638\n",
      "Epoch 18/100\n",
      "45/45 [==============================] - 5s 118ms/step - loss: 1.6166 - accuracy: 0.4253 - val_loss: 1.5568 - val_accuracy: 0.4516\n",
      "Epoch 19/100\n",
      "45/45 [==============================] - 5s 118ms/step - loss: 1.5900 - accuracy: 0.4373 - val_loss: 1.6692 - val_accuracy: 0.4016\n",
      "Epoch 20/100\n",
      "45/45 [==============================] - 5s 117ms/step - loss: 1.5886 - accuracy: 0.4358 - val_loss: 1.5170 - val_accuracy: 0.4734\n",
      "Epoch 21/100\n",
      "45/45 [==============================] - 5s 116ms/step - loss: 1.5440 - accuracy: 0.4483 - val_loss: 1.5258 - val_accuracy: 0.4636\n",
      "Epoch 22/100\n",
      "45/45 [==============================] - 5s 116ms/step - loss: 1.5534 - accuracy: 0.4502 - val_loss: 1.5099 - val_accuracy: 0.4596\n",
      "Epoch 23/100\n",
      "45/45 [==============================] - 5s 117ms/step - loss: 1.5277 - accuracy: 0.4579 - val_loss: 1.5239 - val_accuracy: 0.4600\n",
      "Epoch 24/100\n",
      "45/45 [==============================] - 5s 116ms/step - loss: 1.5331 - accuracy: 0.4559 - val_loss: 1.5143 - val_accuracy: 0.4616\n",
      "Epoch 25/100\n",
      "45/45 [==============================] - 5s 117ms/step - loss: 1.5466 - accuracy: 0.4501 - val_loss: 1.6370 - val_accuracy: 0.4428\n",
      "Epoch 26/100\n",
      "45/45 [==============================] - 5s 117ms/step - loss: 1.5497 - accuracy: 0.4517 - val_loss: 1.5752 - val_accuracy: 0.4446\n",
      "Epoch 27/100\n",
      "45/45 [==============================] - 5s 117ms/step - loss: 1.5242 - accuracy: 0.4561 - val_loss: 1.5291 - val_accuracy: 0.4714\n",
      "Epoch 28/100\n",
      "45/45 [==============================] - 5s 117ms/step - loss: 1.5138 - accuracy: 0.4652 - val_loss: 1.4816 - val_accuracy: 0.4800\n",
      "Epoch 29/100\n",
      "45/45 [==============================] - 5s 117ms/step - loss: 1.4973 - accuracy: 0.4668 - val_loss: 1.5343 - val_accuracy: 0.4522\n",
      "Epoch 30/100\n",
      "45/45 [==============================] - 6s 131ms/step - loss: 1.5010 - accuracy: 0.4703 - val_loss: 1.4518 - val_accuracy: 0.4896\n",
      "Epoch 31/100\n",
      "45/45 [==============================] - 5s 120ms/step - loss: 1.4955 - accuracy: 0.4726 - val_loss: 1.4682 - val_accuracy: 0.4730\n",
      "Epoch 32/100\n",
      "45/45 [==============================] - 6s 131ms/step - loss: 1.4522 - accuracy: 0.4819 - val_loss: 1.4912 - val_accuracy: 0.4598\n",
      "Epoch 33/100\n",
      "45/45 [==============================] - 5s 117ms/step - loss: 1.4889 - accuracy: 0.4731 - val_loss: 1.4983 - val_accuracy: 0.4812\n",
      "Epoch 34/100\n",
      "45/45 [==============================] - 5s 117ms/step - loss: 1.4650 - accuracy: 0.4822 - val_loss: 1.5324 - val_accuracy: 0.4586\n",
      "Epoch 35/100\n",
      "45/45 [==============================] - 5s 117ms/step - loss: 1.4643 - accuracy: 0.4798 - val_loss: 1.4318 - val_accuracy: 0.4974\n",
      "Epoch 36/100\n",
      "45/45 [==============================] - 5s 119ms/step - loss: 1.4474 - accuracy: 0.4875 - val_loss: 1.4517 - val_accuracy: 0.4922\n",
      "Epoch 37/100\n",
      "45/45 [==============================] - 5s 118ms/step - loss: 1.4317 - accuracy: 0.4904 - val_loss: 1.4395 - val_accuracy: 0.4972\n",
      "Epoch 38/100\n",
      "45/45 [==============================] - 5s 117ms/step - loss: 1.4246 - accuracy: 0.4937 - val_loss: 1.4278 - val_accuracy: 0.4988\n",
      "Epoch 39/100\n",
      "45/45 [==============================] - 5s 119ms/step - loss: 1.4169 - accuracy: 0.4946 - val_loss: 1.4433 - val_accuracy: 0.4846\n",
      "Epoch 40/100\n",
      "45/45 [==============================] - 5s 121ms/step - loss: 1.4062 - accuracy: 0.4968 - val_loss: 1.5287 - val_accuracy: 0.4548\n",
      "Epoch 41/100\n",
      "45/45 [==============================] - 6s 123ms/step - loss: 1.3949 - accuracy: 0.5050 - val_loss: 1.4302 - val_accuracy: 0.4962\n",
      "Epoch 42/100\n",
      "45/45 [==============================] - 5s 118ms/step - loss: 1.4051 - accuracy: 0.5031 - val_loss: 1.6089 - val_accuracy: 0.4396\n",
      "Epoch 43/100\n",
      "45/45 [==============================] - 5s 117ms/step - loss: 1.4460 - accuracy: 0.4884 - val_loss: 1.4255 - val_accuracy: 0.4990\n",
      "Epoch 44/100\n",
      "45/45 [==============================] - 5s 118ms/step - loss: 1.3823 - accuracy: 0.5083 - val_loss: 1.4833 - val_accuracy: 0.4802\n",
      "Epoch 45/100\n",
      "45/45 [==============================] - 5s 118ms/step - loss: 1.4014 - accuracy: 0.5015 - val_loss: 1.4332 - val_accuracy: 0.4934\n",
      "Epoch 46/100\n",
      "45/45 [==============================] - 5s 118ms/step - loss: 1.3779 - accuracy: 0.5117 - val_loss: 1.4604 - val_accuracy: 0.4840\n",
      "Epoch 47/100\n",
      "45/45 [==============================] - 5s 117ms/step - loss: 1.3692 - accuracy: 0.5150 - val_loss: 1.4625 - val_accuracy: 0.4806\n",
      "Epoch 48/100\n",
      "45/45 [==============================] - 5s 118ms/step - loss: 1.3921 - accuracy: 0.5036 - val_loss: 1.5853 - val_accuracy: 0.4512\n",
      "Epoch 49/100\n",
      "45/45 [==============================] - 5s 118ms/step - loss: 1.4186 - accuracy: 0.4980 - val_loss: 1.4327 - val_accuracy: 0.4912\n",
      "Epoch 50/100\n",
      "45/45 [==============================] - 5s 119ms/step - loss: 1.3486 - accuracy: 0.5252 - val_loss: 1.3910 - val_accuracy: 0.5190\n",
      "Epoch 51/100\n",
      "45/45 [==============================] - 5s 119ms/step - loss: 1.3540 - accuracy: 0.5206 - val_loss: 1.4828 - val_accuracy: 0.4844\n",
      "Epoch 52/100\n",
      "45/45 [==============================] - 7s 153ms/step - loss: 1.3626 - accuracy: 0.5197 - val_loss: 1.4027 - val_accuracy: 0.5066\n",
      "Epoch 53/100\n",
      "45/45 [==============================] - 6s 128ms/step - loss: 1.3577 - accuracy: 0.5167 - val_loss: 1.4633 - val_accuracy: 0.4770\n",
      "Epoch 54/100\n",
      "45/45 [==============================] - 7s 160ms/step - loss: 1.3412 - accuracy: 0.5256 - val_loss: 1.4149 - val_accuracy: 0.5016\n",
      "Epoch 55/100\n",
      "45/45 [==============================] - 5s 120ms/step - loss: 1.3382 - accuracy: 0.5224 - val_loss: 1.4281 - val_accuracy: 0.4850\n",
      "Epoch 56/100\n",
      "45/45 [==============================] - 5s 120ms/step - loss: 1.3227 - accuracy: 0.5315 - val_loss: 1.4661 - val_accuracy: 0.4846\n",
      "Epoch 57/100\n",
      "45/45 [==============================] - 5s 119ms/step - loss: 1.3290 - accuracy: 0.5298 - val_loss: 1.3944 - val_accuracy: 0.5034\n"
     ]
    },
    {
     "name": "stdout",
     "output_type": "stream",
     "text": [
      "Epoch 58/100\n",
      "45/45 [==============================] - 5s 116ms/step - loss: 1.3072 - accuracy: 0.5310 - val_loss: 1.5654 - val_accuracy: 0.4556\n",
      "Epoch 59/100\n",
      "45/45 [==============================] - 5s 115ms/step - loss: 1.3716 - accuracy: 0.5116 - val_loss: 1.3724 - val_accuracy: 0.5150\n",
      "Epoch 60/100\n",
      "45/45 [==============================] - 5s 118ms/step - loss: 1.2845 - accuracy: 0.5434 - val_loss: 1.3992 - val_accuracy: 0.5052\n",
      "Epoch 61/100\n",
      "45/45 [==============================] - 5s 116ms/step - loss: 1.3060 - accuracy: 0.5372 - val_loss: 1.4105 - val_accuracy: 0.5000\n",
      "Epoch 62/100\n",
      "45/45 [==============================] - 5s 116ms/step - loss: 1.2974 - accuracy: 0.5385 - val_loss: 1.3727 - val_accuracy: 0.5098\n",
      "Epoch 63/100\n",
      "45/45 [==============================] - 5s 116ms/step - loss: 1.2813 - accuracy: 0.5425 - val_loss: 1.4302 - val_accuracy: 0.5048\n",
      "Epoch 64/100\n",
      "45/45 [==============================] - 5s 116ms/step - loss: 1.2942 - accuracy: 0.5396 - val_loss: 1.4525 - val_accuracy: 0.4990\n",
      "Epoch 65/100\n",
      "45/45 [==============================] - 5s 116ms/step - loss: 1.3069 - accuracy: 0.5366 - val_loss: 1.3982 - val_accuracy: 0.5082\n",
      "Epoch 66/100\n",
      "45/45 [==============================] - 5s 116ms/step - loss: 1.2702 - accuracy: 0.5480 - val_loss: 1.3888 - val_accuracy: 0.5132\n",
      "Epoch 67/100\n",
      "45/45 [==============================] - 5s 117ms/step - loss: 1.2708 - accuracy: 0.5483 - val_loss: 1.4622 - val_accuracy: 0.4800\n",
      "Epoch 68/100\n",
      "45/45 [==============================] - 5s 116ms/step - loss: 1.2820 - accuracy: 0.5434 - val_loss: 1.3569 - val_accuracy: 0.5224\n",
      "Epoch 69/100\n",
      "45/45 [==============================] - 5s 116ms/step - loss: 1.2539 - accuracy: 0.5530 - val_loss: 1.3802 - val_accuracy: 0.5202\n",
      "Epoch 70/100\n",
      "45/45 [==============================] - 5s 116ms/step - loss: 1.2585 - accuracy: 0.5537 - val_loss: 1.3745 - val_accuracy: 0.5156\n",
      "Epoch 71/100\n",
      "45/45 [==============================] - 5s 116ms/step - loss: 1.2821 - accuracy: 0.5448 - val_loss: 1.4147 - val_accuracy: 0.4954\n",
      "Epoch 72/100\n",
      "45/45 [==============================] - 5s 116ms/step - loss: 1.2586 - accuracy: 0.5535 - val_loss: 1.3557 - val_accuracy: 0.5354\n",
      "Epoch 73/100\n",
      "45/45 [==============================] - 5s 116ms/step - loss: 1.2698 - accuracy: 0.5514 - val_loss: 1.3939 - val_accuracy: 0.5156\n",
      "Epoch 74/100\n",
      "45/45 [==============================] - 6s 125ms/step - loss: 1.2475 - accuracy: 0.5574 - val_loss: 1.3875 - val_accuracy: 0.5154\n",
      "Epoch 75/100\n",
      "45/45 [==============================] - 6s 128ms/step - loss: 1.2339 - accuracy: 0.5578 - val_loss: 1.3890 - val_accuracy: 0.5144\n",
      "Epoch 76/100\n",
      "45/45 [==============================] - 6s 133ms/step - loss: 1.2230 - accuracy: 0.5640 - val_loss: 1.3961 - val_accuracy: 0.5084\n",
      "Epoch 77/100\n",
      "45/45 [==============================] - 5s 117ms/step - loss: 1.2416 - accuracy: 0.5595 - val_loss: 1.3444 - val_accuracy: 0.5282\n",
      "Epoch 78/100\n",
      "45/45 [==============================] - 5s 117ms/step - loss: 1.2305 - accuracy: 0.5596 - val_loss: 1.3899 - val_accuracy: 0.5172\n",
      "Epoch 79/100\n",
      "45/45 [==============================] - 5s 117ms/step - loss: 1.2299 - accuracy: 0.5645 - val_loss: 1.3641 - val_accuracy: 0.5302\n",
      "Epoch 80/100\n",
      "45/45 [==============================] - 5s 117ms/step - loss: 1.2130 - accuracy: 0.5699 - val_loss: 1.3262 - val_accuracy: 0.5320\n",
      "Epoch 81/100\n",
      "45/45 [==============================] - 5s 117ms/step - loss: 1.2330 - accuracy: 0.5606 - val_loss: 1.3785 - val_accuracy: 0.5122\n",
      "Epoch 82/100\n",
      "45/45 [==============================] - 5s 118ms/step - loss: 1.2104 - accuracy: 0.5680 - val_loss: 1.4198 - val_accuracy: 0.5000\n",
      "Epoch 83/100\n",
      "45/45 [==============================] - 5s 118ms/step - loss: 1.2035 - accuracy: 0.5690 - val_loss: 1.3809 - val_accuracy: 0.5120\n",
      "Epoch 84/100\n",
      "45/45 [==============================] - 5s 117ms/step - loss: 1.2157 - accuracy: 0.5686 - val_loss: 1.4154 - val_accuracy: 0.5092\n",
      "Epoch 85/100\n",
      "45/45 [==============================] - 5s 117ms/step - loss: 1.2083 - accuracy: 0.5679 - val_loss: 1.3359 - val_accuracy: 0.5370\n",
      "Epoch 86/100\n",
      "45/45 [==============================] - 5s 117ms/step - loss: 1.1949 - accuracy: 0.5792 - val_loss: 1.4302 - val_accuracy: 0.5086\n",
      "Epoch 87/100\n",
      "45/45 [==============================] - 5s 118ms/step - loss: 1.1897 - accuracy: 0.5754 - val_loss: 1.4237 - val_accuracy: 0.4990\n",
      "Epoch 88/100\n",
      "45/45 [==============================] - 5s 122ms/step - loss: 1.1918 - accuracy: 0.5795 - val_loss: 1.3559 - val_accuracy: 0.5244\n",
      "Epoch 89/100\n",
      "45/45 [==============================] - 5s 119ms/step - loss: 1.1827 - accuracy: 0.5772 - val_loss: 1.4179 - val_accuracy: 0.5130\n",
      "Epoch 90/100\n",
      "45/45 [==============================] - 5s 119ms/step - loss: 1.1879 - accuracy: 0.5750 - val_loss: 1.3289 - val_accuracy: 0.5380\n",
      "Epoch 00090: early stopping\n",
      "CPU times: user 48min 11s, sys: 24.1 s, total: 48min 35s\n",
      "Wall time: 8min 5s\n"
     ]
    }
   ],
   "source": [
    "%%time\n",
    "\n",
    "'''\n",
    "Define the optimizer\n",
    "'''\n",
    "optimizer = tf.keras.optimizers.SGD(learning_rate=0.2)\n",
    "\n",
    "\n",
    "'''\n",
    "Compile the model\n",
    "'''\n",
    "model.compile(loss=\"sparse_categorical_crossentropy\",\n",
    "              optimizer=optimizer,\n",
    "              metrics=[\"accuracy\"])\n",
    "\n",
    "\n",
    "\n",
    "'''\n",
    "Create the early stopping callback function.\n",
    "'''\n",
    "early_stopping_cb = tf.keras.callbacks.EarlyStopping(monitor='val_loss',\n",
    "                                  min_delta=0, \n",
    "                                  patience=10, \n",
    "                                  verbose=1, \n",
    "                                  mode='auto',\n",
    "                                  restore_best_weights=False)\n",
    "\n",
    "'''\n",
    "Set the epochs and mini batch size\n",
    "'''\n",
    "no_of_epochs = 100\n",
    "size_of_mini_batch = 1000\n",
    "\n",
    "\n",
    "'''\n",
    "Train the model\n",
    "'''\n",
    "history = model.fit(X_train, y_train, \n",
    "                    batch_size=size_of_mini_batch, \n",
    "                    epochs=no_of_epochs,\n",
    "                    verbose=1,\n",
    "                    validation_data=(X_valid, y_valid),\n",
    "                    callbacks=[early_stopping_cb])"
   ]
  },
  {
   "cell_type": "markdown",
   "id": "2fd24c6e",
   "metadata": {},
   "source": [
    "##### History object"
   ]
  },
  {
   "cell_type": "code",
   "execution_count": 108,
   "id": "dc21380e",
   "metadata": {
    "scrolled": true
   },
   "outputs": [
    {
     "name": "stdout",
     "output_type": "stream",
     "text": [
      "Training Parameters:  {'verbose': 1, 'epochs': 100, 'steps': 45}\n",
      "\n",
      "List of Epochs:  [0, 1, 2, 3, 4, 5, 6, 7, 8, 9, 10, 11, 12, 13, 14, 15, 16, 17, 18, 19, 20, 21, 22, 23, 24, 25, 26, 27, 28, 29, 30, 31, 32, 33, 34, 35, 36, 37, 38, 39, 40, 41, 42, 43, 44, 45, 46, 47, 48, 49, 50, 51, 52, 53, 54, 55, 56, 57, 58, 59, 60, 61, 62, 63, 64, 65, 66, 67, 68, 69, 70, 71, 72, 73, 74, 75, 76, 77, 78, 79, 80, 81, 82, 83, 84, 85, 86, 87, 88, 89]\n",
      "\n",
      "Evaluation Metrics:  dict_keys(['loss', 'accuracy', 'val_loss', 'val_accuracy'])\n"
     ]
    }
   ],
   "source": [
    "print(\"Training Parameters: \", history.params)\n",
    "print(\"\\nList of Epochs: \", history.epoch)\n",
    "print(\"\\nEvaluation Metrics: \", history.history.keys())"
   ]
  },
  {
   "cell_type": "markdown",
   "id": "b771874b",
   "metadata": {},
   "source": [
    "##### Model evaluation"
   ]
  },
  {
   "cell_type": "code",
   "execution_count": 109,
   "id": "40c3e672",
   "metadata": {},
   "outputs": [
    {
     "name": "stdout",
     "output_type": "stream",
     "text": [
      "Epochs:  90\n",
      "\n",
      "Test Data: Loss & Accuracy:  [1.3277033567428589, 0.5307000279426575]\n",
      "\n",
      "Train Accuracy:  0.6362444444444444\n",
      "\n",
      "Test Accuracy:  0.5307\n",
      "\n",
      "Test Confusion Matrix:\n",
      "[[530  34  65  34  40  25  30  22 183  37]\n",
      " [ 25 676  17  34   8  27  15  19  71 108]\n",
      " [ 65  16 449 104  98  83 115  41  18  11]\n",
      " [ 15  13  84 393  42 222 156  29  23  23]\n",
      " [ 41  10 181  70 411  55 158  46  22   6]\n",
      " [ 14   6 101 219  49 457  85  34  20  15]\n",
      " [  7  17  84  77  73  49 660  10  15   8]\n",
      " [ 20   8  69  84 103 115  41 515  17  28]\n",
      " [ 76  65  16  41  19  28  15  10 692  38]\n",
      " [ 30 179  12  58  18  31  26  34  88 524]]\n",
      "\n",
      "Classification Report:\n",
      "              precision    recall  f1-score   support\n",
      "\n",
      "           0       0.64      0.53      0.58      1000\n",
      "           1       0.66      0.68      0.67      1000\n",
      "           2       0.42      0.45      0.43      1000\n",
      "           3       0.35      0.39      0.37      1000\n",
      "           4       0.48      0.41      0.44      1000\n",
      "           5       0.42      0.46      0.44      1000\n",
      "           6       0.51      0.66      0.57      1000\n",
      "           7       0.68      0.52      0.59      1000\n",
      "           8       0.60      0.69      0.64      1000\n",
      "           9       0.66      0.52      0.58      1000\n",
      "\n",
      "    accuracy                           0.53     10000\n",
      "   macro avg       0.54      0.53      0.53     10000\n",
      "weighted avg       0.54      0.53      0.53     10000\n",
      "\n"
     ]
    }
   ],
   "source": [
    "numOfEpochs = len(history.history['loss'])\n",
    "print(\"Epochs: \", numOfEpochs)\n",
    "\n",
    "print(\"\\nTest Data: Loss & Accuracy: \", model.evaluate(X_test, y_test, verbose=0))\n",
    "\n",
    "# model.predict() method returns 10 probabilities per class for each instance (Dimension Nx10)\n",
    "y_test_predicted = model.predict(X_test)\n",
    "y_test_predicted = np.argmax(y_test_predicted, axis=1) # get the label/index of the highest probability class\n",
    "\n",
    "\n",
    "y_train_predicted = model.predict(X_train)\n",
    "y_train_predicted = np.argmax(y_train_predicted, axis=1) # get the label/index of the highest probability class\n",
    "\n",
    "train_accuracy = np.mean(y_train_predicted == y_train)\n",
    "print(\"\\nTrain Accuracy: \", train_accuracy)\n",
    "\n",
    "test_accuracy = np.mean(y_test_predicted == y_test)\n",
    "print(\"\\nTest Accuracy: \", test_accuracy)\n",
    "\n",
    "print(\"\\nTest Confusion Matrix:\")\n",
    "print(confusion_matrix(y_test, y_test_predicted))\n",
    "\n",
    "print(\"\\nClassification Report:\")\n",
    "print(classification_report(y_test, y_test_predicted))"
   ]
  },
  {
   "cell_type": "markdown",
   "id": "c15243e8",
   "metadata": {},
   "source": [
    "##### Plot Learning Curves"
   ]
  },
  {
   "cell_type": "code",
   "execution_count": 110,
   "id": "88645ce4",
   "metadata": {
    "scrolled": false
   },
   "outputs": [
    {
     "data": {
      "image/png": "[encoded data removed]",
      "text/plain": [
       "<Figure size 1296x432 with 2 Axes>"
      ]
     },
     "metadata": {
      "needs_background": "light"
     },
     "output_type": "display_data"
    }
   ],
   "source": [
    "plt.figure(figsize=(18,6))\n",
    "\n",
    "plt.subplot(121)\n",
    "plt.plot(range(1,numOfEpochs+1),history.history['val_accuracy'],label='validation')\n",
    "plt.plot(range(1,numOfEpochs+1),history.history['accuracy'],label='training')\n",
    "plt.legend(loc=0)\n",
    "plt.xlabel('Epochs')\n",
    "plt.ylabel('Accuracy')\n",
    "plt.xlim([1,numOfEpochs])\n",
    "plt.grid(True)\n",
    "plt.title(\"Model Accuracy\")\n",
    "\n",
    "plt.subplot(122)\n",
    "plt.plot(range(1,numOfEpochs+1),history.history['val_loss'],label='validation')\n",
    "plt.plot(range(1,numOfEpochs+1),history.history['loss'],label='training')\n",
    "plt.legend(loc=0)\n",
    "plt.xlabel('Epochs')\n",
    "plt.ylabel('Loss')\n",
    "plt.xlim([1,numOfEpochs])\n",
    "plt.grid(True)\n",
    "plt.title(\"Model Loss\")\n",
    "\n",
    "plt.show() "
   ]
  }
 ],
 "metadata": {
  "kernelspec": {
   "display_name": "Python 3 (ipykernel)",
   "language": "python",
   "name": "python3"
  },
  "language_info": {
   "codemirror_mode": {
    "name": "ipython",
    "version": 3
   },
   "file_extension": ".py",
   "mimetype": "text/x-python",
   "name": "python",
   "nbconvert_exporter": "python",
   "pygments_lexer": "ipython3",
   "version": "3.9.9"
  }
 },
 "nbformat": 4,
 "nbformat_minor": 5
}
