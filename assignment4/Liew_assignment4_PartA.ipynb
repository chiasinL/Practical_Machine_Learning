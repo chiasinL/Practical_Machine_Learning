{
 "cells": [
  {
   "cell_type": "markdown",
   "id": "1fe1db9f",
   "metadata": {},
   "source": [
    "# Assignment 4\n",
    "\n",
    "Name        : Chia Sin Liew   \n",
    "Last edited : May 4th, 2022 \n",
    "\n",
    "The goal of this assignment is to solve regression and classification problems using following models.\n",
    "\n",
    "- **Part A**: Extensive Study of the MLP Model\n",
    "- **Part B**: Design an MLP for Optimal Performance"
   ]
  },
  {
   "cell_type": "markdown",
   "id": "6f8505f2",
   "metadata": {},
   "source": [
    "## Part A: Extensive Study of the MLP Model\n",
    "\n",
    "You will create Multi-Layer Perceptron (MLP) neural network models based on the specification. The MLP model will be trained using the Backpropagation algorithm that is implemented using the mini-batch Stochastic Gradient Descent (SGD) optimization algorithm.\n",
    "\n",
    "**Mini-batch Size & Training:**\n",
    "The size of mini-batches should be set to 64. A network should be trained for 50 epochs with *early stopping* on.\n",
    "\n",
    "### **Dataset**:\n",
    "You will use the MNIST (Modified National Institute of Standards and Technology) dataset, which is a set of 70,000 small images of digits handwritten by high school students and employees of the US Census Bureau. Each image is labeled with the digit it represents.\n",
    "\n",
    "There are 70,000 images. Each image is grayscale 28 x 28 pixels, and each feature simply represents one pixel’s intensity, from 0 (white) to 255 (black). The task is to classify a given image of a handwritten digit into one of 10 classes representing integer values from 0 to 9, inclusively.\n",
    "\n",
    "You may directly load this dataset using the Keras API:\n",
    "https://keras.io/api/datasets/mnist/\n",
    "\n",
    "The train set contains 60,000 images, from which you should randomly select 5000 images as the validation set."
   ]
  },
  {
   "cell_type": "code",
   "execution_count": 1,
   "id": "6add69ea",
   "metadata": {},
   "outputs": [],
   "source": [
    "import numpy as np\n",
    "import matplotlib.pyplot as plt\n",
    "\n",
    "from sklearn.metrics import confusion_matrix, accuracy_score, classification_report\n",
    "\n",
    "import tensorflow as tf"
   ]
  },
  {
   "cell_type": "markdown",
   "id": "cb16b990",
   "metadata": {},
   "source": [
    "### **Experiments:**\n",
    "You will perform multi-class classification on the MNIST dataset using the following 10 models. After loading the dataset, create a separate validation subset with 5000 samples. Then, scale the data.\n",
    "\n",
    "Create the models based on the architecture, SGD learning rate and layer configurations given below.\n",
    "\n",
    "| Architecture|  | SGD Learning Rate |\n",
    "| ------------|- | ----------------- |\n",
    "| Experiment 1 to 7 | 2 hidden layers| 0.1 |\n",
    "| | Hidden layer 1: neurons=300 | |\n",
    "| | Hidden layer 2: neurons=100 | |\n",
    "| Experiment 8 | 2 hidden layers| 0.5 |\n",
    "| | Hidden layer 1: neurons=300 | |\n",
    "| | Hidden layer 2: neurons=100 | |\n",
    "| Experiment 9 | 10 hidden layers each with 100 neurons | 0.1 |\n",
    "| Experiment 10 | 20 hidden layers each with 100 neurons | 0.1 |"
   ]
  },
  {
   "cell_type": "markdown",
   "id": "ac66e6f9",
   "metadata": {},
   "source": [
    "#### Load and scale data"
   ]
  },
  {
   "cell_type": "code",
   "execution_count": 3,
   "id": "33c15062",
   "metadata": {},
   "outputs": [
    {
     "name": "stdout",
     "output_type": "stream",
     "text": [
      "No. of Training Samples:  (55000, 28, 28)\n",
      "No. of Training Labels:  (55000,)\n",
      "\n",
      "No. of Validation Samples:  (5000, 28, 28)\n",
      "No. of Validation Labels:  (5000,)\n",
      "\n",
      "No. of Testing Samples:  (10000, 28, 28)\n",
      "No. of Testing Labels:  (10000,)\n",
      "\n",
      "X type:  float64\n",
      "y type:  uint8\n"
     ]
    }
   ],
   "source": [
    "# Load the full training & test data\n",
    "(X_train_full, y_train_full), (X_test, y_test) = tf.keras.datasets.mnist.load_data()\n",
    "\n",
    "\n",
    "# Create a validation subset as well as scale (max-min scaling) the data\n",
    "X_valid, X_train = X_train_full[:5000] / 255.0, X_train_full[5000:] / 255.0\n",
    "y_valid, y_train = y_train_full[:5000], y_train_full[5000:]\n",
    "X_test = X_test / 255.0\n",
    "\n",
    "print(\"No. of Training Samples: \", X_train.shape)\n",
    "print(\"No. of Training Labels: \", y_train.shape)\n",
    "\n",
    "print(\"\\nNo. of Validation Samples: \", X_valid.shape)\n",
    "print(\"No. of Validation Labels: \", y_valid.shape)\n",
    "\n",
    "print(\"\\nNo. of Testing Samples: \", X_test.shape)\n",
    "print(\"No. of Testing Labels: \", y_test.shape)\n",
    "\n",
    "print(\"\\nX type: \", X_train.dtype)\n",
    "print(\"y type: \", y_train.dtype)"
   ]
  },
  {
   "cell_type": "markdown",
   "id": "56b649ed",
   "metadata": {},
   "source": [
    "#### **Experiment 1:**"
   ]
  },
  {
   "cell_type": "markdown",
   "id": "be07c0a3",
   "metadata": {},
   "source": [
    "##### Build the MLP Model"
   ]
  },
  {
   "cell_type": "code",
   "execution_count": 10,
   "id": "7fe3d86f",
   "metadata": {},
   "outputs": [
    {
     "name": "stdout",
     "output_type": "stream",
     "text": [
      "Model: \"MLP_Multiclass_Classifier\"\n",
      "_________________________________________________________________\n",
      "Layer (type)                 Output Shape              Param #   \n",
      "=================================================================\n",
      "flatten (Flatten)            (None, 784)               0         \n",
      "_________________________________________________________________\n",
      "dense (Dense)                (None, 300)               235500    \n",
      "_________________________________________________________________\n",
      "dense_1 (Dense)              (None, 100)               30100     \n",
      "_________________________________________________________________\n",
      "dense_2 (Dense)              (None, 10)                1010      \n",
      "=================================================================\n",
      "Total params: 266,610\n",
      "Trainable params: 266,610\n",
      "Non-trainable params: 0\n",
      "_________________________________________________________________\n",
      "CPU times: user 35.1 ms, sys: 7.62 ms, total: 42.7 ms\n",
      "Wall time: 36.9 ms\n"
     ]
    }
   ],
   "source": [
    "%%time\n",
    "\n",
    "'''\n",
    "Delete the TensorFlow graph before creating a new model, otherwise memory overflow will occur.\n",
    "'''\n",
    "tf.keras.backend.clear_session()\n",
    "\n",
    "'''\n",
    "To reproduce the same result by the model in each iteration, we use fixed seeds for random number generation. \n",
    "'''\n",
    "np.random.seed(42)\n",
    "tf.random.set_seed(42)\n",
    "\n",
    "\n",
    "'''\n",
    "Set the values for weight initializer and activation function\n",
    "'''\n",
    "kernel_initializer = 'zeros'\n",
    "activation = 'sigmoid'\n",
    "number_of_classes = 10\n",
    "\n",
    "\n",
    "'''\n",
    "Create a Sequential model composed of a single stack of layers connected sequentially. \n",
    "- Add the layers one by one.\n",
    "- Apply Dropout regularization\n",
    "'''\n",
    "model = tf.keras.models.Sequential(name=\"MLP_Multiclass_Classifier\")\n",
    "model.add(tf.keras.layers.Flatten(input_shape=[28, 28]))\n",
    "model.add(tf.keras.layers.Dense(units=300, kernel_initializer=kernel_initializer, activation=activation, \n",
    "                             bias_initializer=\"zeros\"))\n",
    "# model.add(tf.keras.layers.Dropout(rate=0.1)) # add if needed\n",
    "model.add(tf.keras.layers.Dense(units=100, kernel_initializer=kernel_initializer, activation=activation,\n",
    "                            bias_initializer=\"zeros\"))\n",
    "# model.add(tf.keras.layers.Dropout(rate=0.1)) # add if needed\n",
    "model.add(tf.keras.layers.Dense(units=number_of_classes, kernel_initializer=kernel_initializer, \n",
    "                             activation=\"softmax\"))\n",
    "\n",
    "model.summary()"
   ]
  },
  {
   "cell_type": "markdown",
   "id": "cc4c32be",
   "metadata": {},
   "source": [
    "##### Train the MLP Model"
   ]
  },
  {
   "cell_type": "code",
   "execution_count": 11,
   "id": "ea6a107a",
   "metadata": {},
   "outputs": [
    {
     "name": "stdout",
     "output_type": "stream",
     "text": [
      "Epoch 1/50\n",
      "860/860 [==============================] - 4s 5ms/step - loss: 2.3105 - accuracy: 0.1006 - val_loss: 2.3120 - val_accuracy: 0.1126\n",
      "Epoch 2/50\n",
      "860/860 [==============================] - 4s 4ms/step - loss: 2.3049 - accuracy: 0.1094 - val_loss: 2.3028 - val_accuracy: 0.0958\n",
      "Epoch 3/50\n",
      "860/860 [==============================] - 4s 5ms/step - loss: 2.3035 - accuracy: 0.1106 - val_loss: 2.3007 - val_accuracy: 0.1126\n",
      "Epoch 4/50\n",
      "860/860 [==============================] - 4s 5ms/step - loss: 2.2932 - accuracy: 0.1191 - val_loss: 2.2273 - val_accuracy: 0.1898\n",
      "Epoch 5/50\n",
      "860/860 [==============================] - 4s 4ms/step - loss: 2.1628 - accuracy: 0.2236 - val_loss: 1.9880 - val_accuracy: 0.2690\n",
      "Epoch 6/50\n",
      "860/860 [==============================] - 4s 4ms/step - loss: 1.9538 - accuracy: 0.2789 - val_loss: 1.8784 - val_accuracy: 0.3018\n",
      "Epoch 7/50\n",
      "860/860 [==============================] - 4s 5ms/step - loss: 1.8569 - accuracy: 0.3032 - val_loss: 1.7947 - val_accuracy: 0.3168\n",
      "Epoch 8/50\n",
      "860/860 [==============================] - 4s 5ms/step - loss: 1.7800 - accuracy: 0.3197 - val_loss: 1.7376 - val_accuracy: 0.3340\n",
      "Epoch 9/50\n",
      "860/860 [==============================] - 4s 5ms/step - loss: 1.7337 - accuracy: 0.3313 - val_loss: 1.7016 - val_accuracy: 0.3458\n",
      "Epoch 10/50\n",
      "860/860 [==============================] - 4s 5ms/step - loss: 1.7000 - accuracy: 0.3428 - val_loss: 1.6765 - val_accuracy: 0.3436\n",
      "Epoch 11/50\n",
      "860/860 [==============================] - 4s 5ms/step - loss: 1.6772 - accuracy: 0.3452 - val_loss: 1.6584 - val_accuracy: 0.3664\n",
      "Epoch 12/50\n",
      "860/860 [==============================] - 4s 5ms/step - loss: 1.6609 - accuracy: 0.3605 - val_loss: 1.6445 - val_accuracy: 0.3670\n",
      "Epoch 13/50\n",
      "860/860 [==============================] - 4s 5ms/step - loss: 1.6475 - accuracy: 0.3579 - val_loss: 1.6363 - val_accuracy: 0.3654\n",
      "Epoch 14/50\n",
      "860/860 [==============================] - 4s 5ms/step - loss: 1.6447 - accuracy: 0.3594 - val_loss: 1.6323 - val_accuracy: 0.3544\n",
      "Epoch 15/50\n",
      "860/860 [==============================] - 4s 4ms/step - loss: 1.6302 - accuracy: 0.3621 - val_loss: 1.6193 - val_accuracy: 0.3878\n",
      "Epoch 16/50\n",
      "860/860 [==============================] - 4s 4ms/step - loss: 1.6279 - accuracy: 0.3642 - val_loss: 1.6145 - val_accuracy: 0.3754\n",
      "Epoch 17/50\n",
      "860/860 [==============================] - 4s 4ms/step - loss: 1.6191 - accuracy: 0.3653 - val_loss: 1.6097 - val_accuracy: 0.3910\n",
      "Epoch 18/50\n",
      "860/860 [==============================] - 4s 4ms/step - loss: 1.6113 - accuracy: 0.3746 - val_loss: 1.6074 - val_accuracy: 0.3910\n",
      "Epoch 19/50\n",
      "860/860 [==============================] - 4s 5ms/step - loss: 1.6104 - accuracy: 0.3743 - val_loss: 1.6018 - val_accuracy: 0.3772\n",
      "Epoch 20/50\n",
      "860/860 [==============================] - 4s 5ms/step - loss: 1.6086 - accuracy: 0.3729 - val_loss: 1.5965 - val_accuracy: 0.3714\n",
      "Epoch 21/50\n",
      "860/860 [==============================] - 4s 4ms/step - loss: 1.5997 - accuracy: 0.3738 - val_loss: 1.5939 - val_accuracy: 0.3928\n",
      "Epoch 22/50\n",
      "860/860 [==============================] - 4s 5ms/step - loss: 1.6055 - accuracy: 0.3711 - val_loss: 1.5886 - val_accuracy: 0.3800\n",
      "Epoch 23/50\n",
      "860/860 [==============================] - 4s 5ms/step - loss: 1.5959 - accuracy: 0.3771 - val_loss: 1.5848 - val_accuracy: 0.3828\n",
      "Epoch 24/50\n",
      "860/860 [==============================] - 4s 4ms/step - loss: 1.5961 - accuracy: 0.3728 - val_loss: 1.5826 - val_accuracy: 0.3846\n",
      "Epoch 25/50\n",
      "860/860 [==============================] - 4s 4ms/step - loss: 1.5950 - accuracy: 0.3762 - val_loss: 1.5894 - val_accuracy: 0.3916\n",
      "Epoch 26/50\n",
      "860/860 [==============================] - 4s 4ms/step - loss: 1.5801 - accuracy: 0.3880 - val_loss: 1.5729 - val_accuracy: 0.3872\n",
      "Epoch 27/50\n",
      "860/860 [==============================] - 4s 5ms/step - loss: 1.5798 - accuracy: 0.3819 - val_loss: 1.5703 - val_accuracy: 0.3986\n",
      "Epoch 28/50\n",
      "860/860 [==============================] - 4s 4ms/step - loss: 1.5751 - accuracy: 0.3848 - val_loss: 1.5627 - val_accuracy: 0.3836\n",
      "Epoch 29/50\n",
      "860/860 [==============================] - 5s 5ms/step - loss: 1.5601 - accuracy: 0.3872 - val_loss: 1.5542 - val_accuracy: 0.3950\n",
      "Epoch 30/50\n",
      "860/860 [==============================] - 4s 5ms/step - loss: 1.5535 - accuracy: 0.3954 - val_loss: 1.5380 - val_accuracy: 0.4094\n",
      "Epoch 31/50\n",
      "860/860 [==============================] - 4s 5ms/step - loss: 1.5341 - accuracy: 0.4073 - val_loss: 1.5237 - val_accuracy: 0.4070\n",
      "Epoch 32/50\n",
      "860/860 [==============================] - 4s 5ms/step - loss: 1.5175 - accuracy: 0.4162 - val_loss: 1.4998 - val_accuracy: 0.4436\n",
      "Epoch 33/50\n",
      "860/860 [==============================] - 4s 5ms/step - loss: 1.5044 - accuracy: 0.4292 - val_loss: 1.4834 - val_accuracy: 0.4450\n",
      "Epoch 34/50\n",
      "860/860 [==============================] - 4s 5ms/step - loss: 1.4809 - accuracy: 0.4396 - val_loss: 1.4668 - val_accuracy: 0.4502\n",
      "Epoch 35/50\n",
      "860/860 [==============================] - 4s 5ms/step - loss: 1.4712 - accuracy: 0.4387 - val_loss: 1.4601 - val_accuracy: 0.4414\n",
      "Epoch 36/50\n",
      "860/860 [==============================] - 4s 5ms/step - loss: 1.4625 - accuracy: 0.4463 - val_loss: 1.4456 - val_accuracy: 0.4610\n",
      "Epoch 37/50\n",
      "860/860 [==============================] - 4s 5ms/step - loss: 1.4533 - accuracy: 0.4505 - val_loss: 1.4458 - val_accuracy: 0.4590\n",
      "Epoch 38/50\n",
      "860/860 [==============================] - 4s 5ms/step - loss: 1.4455 - accuracy: 0.4527 - val_loss: 1.4334 - val_accuracy: 0.4678\n",
      "Epoch 39/50\n",
      "860/860 [==============================] - 4s 5ms/step - loss: 1.4397 - accuracy: 0.4507 - val_loss: 1.4273 - val_accuracy: 0.4654\n",
      "Epoch 40/50\n",
      "860/860 [==============================] - 5s 5ms/step - loss: 1.4321 - accuracy: 0.4542 - val_loss: 1.4262 - val_accuracy: 0.4678\n",
      "Epoch 41/50\n",
      "860/860 [==============================] - 5s 5ms/step - loss: 1.4239 - accuracy: 0.4612 - val_loss: 1.4192 - val_accuracy: 0.4714\n",
      "Epoch 42/50\n",
      "860/860 [==============================] - 5s 5ms/step - loss: 1.4261 - accuracy: 0.4590 - val_loss: 1.4167 - val_accuracy: 0.4692\n",
      "Epoch 43/50\n",
      "860/860 [==============================] - 5s 5ms/step - loss: 1.4227 - accuracy: 0.4611 - val_loss: 1.4172 - val_accuracy: 0.4710\n",
      "Epoch 44/50\n",
      "860/860 [==============================] - 5s 5ms/step - loss: 1.4206 - accuracy: 0.4613 - val_loss: 1.4117 - val_accuracy: 0.4792\n",
      "Epoch 45/50\n",
      "860/860 [==============================] - 5s 5ms/step - loss: 1.4232 - accuracy: 0.4613 - val_loss: 1.4054 - val_accuracy: 0.4756\n",
      "Epoch 46/50\n",
      "860/860 [==============================] - 5s 5ms/step - loss: 1.4174 - accuracy: 0.4631 - val_loss: 1.4019 - val_accuracy: 0.4818\n",
      "Epoch 47/50\n",
      "860/860 [==============================] - 5s 5ms/step - loss: 1.4096 - accuracy: 0.4663 - val_loss: 1.4020 - val_accuracy: 0.4708\n",
      "Epoch 48/50\n",
      "860/860 [==============================] - 5s 6ms/step - loss: 1.4098 - accuracy: 0.4647 - val_loss: 1.4030 - val_accuracy: 0.4736\n",
      "Epoch 49/50\n",
      "860/860 [==============================] - 5s 6ms/step - loss: 1.4040 - accuracy: 0.4675 - val_loss: 1.4001 - val_accuracy: 0.4750\n",
      "Epoch 50/50\n",
      "860/860 [==============================] - 4s 5ms/step - loss: 1.3968 - accuracy: 0.4694 - val_loss: 1.3959 - val_accuracy: 0.4722\n",
      "CPU times: user 9min 59s, sys: 31.8 s, total: 10min 31s\n",
      "Wall time: 3min 29s\n"
     ]
    }
   ],
   "source": [
    "%%time\n",
    "\n",
    "'''\n",
    "Define the optimizer\n",
    "'''\n",
    "optimizer = tf.keras.optimizers.SGD(learning_rate=0.1)\n",
    "\n",
    "\n",
    "'''\n",
    "Compile the model\n",
    "'''\n",
    "model.compile(loss=\"sparse_categorical_crossentropy\",\n",
    "              optimizer=optimizer,\n",
    "              metrics=[\"accuracy\"])\n",
    "\n",
    "\n",
    "\n",
    "'''\n",
    "Create the early stopping callback function.\n",
    "'''\n",
    "early_stopping_cb = tf.keras.callbacks.EarlyStopping(monitor='val_loss',\n",
    "                                  min_delta=0, \n",
    "                                  patience=10, \n",
    "                                  verbose=1, \n",
    "                                  mode='auto',\n",
    "                                  restore_best_weights=False)\n",
    "\n",
    "'''\n",
    "Set the epochs and mini batch size\n",
    "'''\n",
    "no_of_epochs = 50\n",
    "size_of_mini_batch = 64\n",
    "\n",
    "\n",
    "'''\n",
    "Train the model\n",
    "'''\n",
    "history = model.fit(X_train, y_train, \n",
    "                    batch_size=size_of_mini_batch, \n",
    "                    epochs=no_of_epochs,\n",
    "                    verbose=1,\n",
    "                    validation_data=(X_valid, y_valid),\n",
    "                    callbacks=[early_stopping_cb])"
   ]
  },
  {
   "cell_type": "markdown",
   "id": "083125af",
   "metadata": {},
   "source": [
    "##### History object"
   ]
  },
  {
   "cell_type": "code",
   "execution_count": 12,
   "id": "fcc42eee",
   "metadata": {
    "scrolled": true
   },
   "outputs": [
    {
     "name": "stdout",
     "output_type": "stream",
     "text": [
      "Training Parameters:  {'verbose': 1, 'epochs': 50, 'steps': 860}\n",
      "\n",
      "List of Epochs:  [0, 1, 2, 3, 4, 5, 6, 7, 8, 9, 10, 11, 12, 13, 14, 15, 16, 17, 18, 19, 20, 21, 22, 23, 24, 25, 26, 27, 28, 29, 30, 31, 32, 33, 34, 35, 36, 37, 38, 39, 40, 41, 42, 43, 44, 45, 46, 47, 48, 49]\n",
      "\n",
      "Evaluation Metrics:  dict_keys(['loss', 'accuracy', 'val_loss', 'val_accuracy'])\n"
     ]
    }
   ],
   "source": [
    "print(\"Training Parameters: \", history.params)\n",
    "print(\"\\nList of Epochs: \", history.epoch)\n",
    "print(\"\\nEvaluation Metrics: \", history.history.keys())"
   ]
  },
  {
   "cell_type": "markdown",
   "id": "c785c438",
   "metadata": {},
   "source": [
    "##### Model evaluation"
   ]
  },
  {
   "cell_type": "code",
   "execution_count": 13,
   "id": "7f5975b4",
   "metadata": {},
   "outputs": [
    {
     "name": "stdout",
     "output_type": "stream",
     "text": [
      "Epochs:  50\n",
      "\n",
      "Test Data: Loss & Accuracy:  [1.3834935426712036, 0.4634000062942505]\n",
      "\n",
      "Train Accuracy:  0.4686727272727273\n",
      "\n",
      "Test Accuracy:  0.4634\n",
      "\n",
      "Test Confusion Matrix:\n",
      "[[919   0   4   2   1   0  54   0   0   0]\n",
      " [  0 968   4   4  17   2   2 130   0   8]\n",
      " [ 10   1 243 102  61  86 404  22  92  11]\n",
      " [  3   5 136 268 192  88  64  73 145  36]\n",
      " [  0  15  31 136 354  16  15 238  41 136]\n",
      " [  8   2 249 142  60  96 161  11 152  11]\n",
      " [ 47   0  89  10   5  12 777   2  15   1]\n",
      " [  0 144   6  25  58   3   1 747   7  37]\n",
      " [  5   6 147 277 138  86 115  47 134  19]\n",
      " [  1  26   9  41 183   1   9 602   9 128]]\n",
      "\n",
      "Classification Report:\n",
      "              precision    recall  f1-score   support\n",
      "\n",
      "           0       0.93      0.94      0.93       980\n",
      "           1       0.83      0.85      0.84      1135\n",
      "           2       0.26      0.24      0.25      1032\n",
      "           3       0.27      0.27      0.27      1010\n",
      "           4       0.33      0.36      0.35       982\n",
      "           5       0.25      0.11      0.15       892\n",
      "           6       0.49      0.81      0.61       958\n",
      "           7       0.40      0.73      0.52      1028\n",
      "           8       0.23      0.14      0.17       974\n",
      "           9       0.33      0.13      0.18      1009\n",
      "\n",
      "    accuracy                           0.46     10000\n",
      "   macro avg       0.43      0.46      0.43     10000\n",
      "weighted avg       0.44      0.46      0.43     10000\n",
      "\n"
     ]
    }
   ],
   "source": [
    "numOfEpochs = len(history.history['loss'])\n",
    "print(\"Epochs: \", numOfEpochs)\n",
    "\n",
    "print(\"\\nTest Data: Loss & Accuracy: \", model.evaluate(X_test, y_test, verbose=0))\n",
    "\n",
    "# model.predict() method returns 10 probabilities per class for each instance (Dimension Nx10)\n",
    "y_test_predicted = model.predict(X_test)\n",
    "y_test_predicted = np.argmax(y_test_predicted, axis=1) # get the label/index of the highest probability class\n",
    "\n",
    "\n",
    "y_train_predicted = model.predict(X_train)\n",
    "y_train_predicted = np.argmax(y_train_predicted, axis=1) # get the label/index of the highest probability class\n",
    "\n",
    "train_accuracy = np.mean(y_train_predicted == y_train)\n",
    "print(\"\\nTrain Accuracy: \", train_accuracy)\n",
    "\n",
    "test_accuracy = np.mean(y_test_predicted == y_test)\n",
    "print(\"\\nTest Accuracy: \", test_accuracy)\n",
    "\n",
    "print(\"\\nTest Confusion Matrix:\")\n",
    "print(confusion_matrix(y_test, y_test_predicted))\n",
    "\n",
    "print(\"\\nClassification Report:\")\n",
    "print(classification_report(y_test, y_test_predicted))"
   ]
  },
  {
   "cell_type": "markdown",
   "id": "02949164",
   "metadata": {},
   "source": [
    "##### Plot Learning Curves"
   ]
  },
  {
   "cell_type": "code",
   "execution_count": 14,
   "id": "e9710f51",
   "metadata": {
    "scrolled": false
   },
   "outputs": [
    {
     "data": {
      "image/png": "[encoded data removed]",
      "text/plain": [
       "<Figure size 1296x432 with 2 Axes>"
      ]
     },
     "metadata": {
      "needs_background": "light"
     },
     "output_type": "display_data"
    }
   ],
   "source": [
    "plt.figure(figsize=(18,6))\n",
    "\n",
    "plt.subplot(121)\n",
    "plt.plot(range(1,numOfEpochs+1),history.history['val_accuracy'],label='validation')\n",
    "plt.plot(range(1,numOfEpochs+1),history.history['accuracy'],label='training')\n",
    "plt.legend(loc=0)\n",
    "plt.xlabel('Epochs')\n",
    "plt.ylabel('Accuracy')\n",
    "plt.xlim([1,numOfEpochs])\n",
    "plt.grid(True)\n",
    "plt.title(\"Model Accuracy\")\n",
    "\n",
    "plt.subplot(122)\n",
    "plt.plot(range(1,numOfEpochs+1),history.history['val_loss'],label='validation')\n",
    "plt.plot(range(1,numOfEpochs+1),history.history['loss'],label='training')\n",
    "plt.legend(loc=0)\n",
    "plt.xlabel('Epochs')\n",
    "plt.ylabel('Loss')\n",
    "plt.xlim([1,numOfEpochs])\n",
    "plt.grid(True)\n",
    "plt.title(\"Model Loss\")\n",
    "\n",
    "plt.show() "
   ]
  },
  {
   "cell_type": "markdown",
   "id": "f816da4b",
   "metadata": {},
   "source": [
    "#### Experiment 2"
   ]
  },
  {
   "cell_type": "markdown",
   "id": "cc077e8e",
   "metadata": {},
   "source": [
    "##### Build the MLP Model"
   ]
  },
  {
   "cell_type": "code",
   "execution_count": 15,
   "id": "99c09ed9",
   "metadata": {},
   "outputs": [
    {
     "name": "stdout",
     "output_type": "stream",
     "text": [
      "Model: \"MLP_Multiclass_Classifier\"\n",
      "_________________________________________________________________\n",
      "Layer (type)                 Output Shape              Param #   \n",
      "=================================================================\n",
      "flatten (Flatten)            (None, 784)               0         \n",
      "_________________________________________________________________\n",
      "dense (Dense)                (None, 300)               235500    \n",
      "_________________________________________________________________\n",
      "dense_1 (Dense)              (None, 100)               30100     \n",
      "_________________________________________________________________\n",
      "dense_2 (Dense)              (None, 10)                1010      \n",
      "=================================================================\n",
      "Total params: 266,610\n",
      "Trainable params: 266,610\n",
      "Non-trainable params: 0\n",
      "_________________________________________________________________\n",
      "CPU times: user 33.1 ms, sys: 3.89 ms, total: 37 ms\n",
      "Wall time: 34.3 ms\n"
     ]
    }
   ],
   "source": [
    "%%time\n",
    "\n",
    "'''\n",
    "Delete the TensorFlow graph before creating a new model, otherwise memory overflow will occur.\n",
    "'''\n",
    "tf.keras.backend.clear_session()\n",
    "\n",
    "'''\n",
    "To reproduce the same result by the model in each iteration, we use fixed seeds for random number generation. \n",
    "'''\n",
    "np.random.seed(42)\n",
    "tf.random.set_seed(42)\n",
    "\n",
    "\n",
    "'''\n",
    "Set the values for weight initializer and activation function\n",
    "'''\n",
    "kernel_initializer = 'ones'\n",
    "activation = 'sigmoid'\n",
    "number_of_classes = 10\n",
    "\n",
    "\n",
    "'''\n",
    "Create a Sequential model composed of a single stack of layers connected sequentially. \n",
    "- Add the layers one by one.\n",
    "- Apply Dropout regularization\n",
    "'''\n",
    "model = tf.keras.models.Sequential(name=\"MLP_Multiclass_Classifier\")\n",
    "model.add(tf.keras.layers.Flatten(input_shape=[28, 28]))\n",
    "model.add(tf.keras.layers.Dense(units=300, kernel_initializer=kernel_initializer, activation=activation, \n",
    "                             bias_initializer=\"zeros\"))\n",
    "# model.add(tf.keras.layers.Dropout(rate=0.1)) # add if needed\n",
    "model.add(tf.keras.layers.Dense(units=100, kernel_initializer=kernel_initializer, activation=activation,\n",
    "                            bias_initializer=\"zeros\"))\n",
    "# model.add(tf.keras.layers.Dropout(rate=0.1)) # add if needed\n",
    "model.add(tf.keras.layers.Dense(units=number_of_classes, kernel_initializer=kernel_initializer, \n",
    "                             activation=\"softmax\"))\n",
    "\n",
    "model.summary()"
   ]
  },
  {
   "cell_type": "markdown",
   "id": "7608ad93",
   "metadata": {},
   "source": [
    "##### Train the MLP Model"
   ]
  },
  {
   "cell_type": "code",
   "execution_count": 16,
   "id": "a18017c3",
   "metadata": {},
   "outputs": [
    {
     "name": "stdout",
     "output_type": "stream",
     "text": [
      "Epoch 1/50\n",
      "860/860 [==============================] - 4s 5ms/step - loss: 2.3827 - accuracy: 0.1022 - val_loss: 2.5068 - val_accuracy: 0.1126\n",
      "Epoch 2/50\n",
      "860/860 [==============================] - 4s 4ms/step - loss: 2.3749 - accuracy: 0.1003 - val_loss: 2.4203 - val_accuracy: 0.1070\n",
      "Epoch 3/50\n",
      "860/860 [==============================] - 4s 5ms/step - loss: 2.3824 - accuracy: 0.1021 - val_loss: 2.5249 - val_accuracy: 0.1002\n",
      "Epoch 4/50\n",
      "860/860 [==============================] - 4s 5ms/step - loss: 2.3806 - accuracy: 0.1013 - val_loss: 2.5012 - val_accuracy: 0.0990\n",
      "Epoch 5/50\n",
      "860/860 [==============================] - 4s 5ms/step - loss: 2.3838 - accuracy: 0.0986 - val_loss: 2.5983 - val_accuracy: 0.0924\n",
      "Epoch 6/50\n",
      "860/860 [==============================] - 4s 4ms/step - loss: 2.3842 - accuracy: 0.1002 - val_loss: 2.5453 - val_accuracy: 0.0986\n",
      "Epoch 7/50\n",
      "860/860 [==============================] - 4s 5ms/step - loss: 2.3803 - accuracy: 0.1027 - val_loss: 2.6859 - val_accuracy: 0.1100\n",
      "Epoch 8/50\n",
      "860/860 [==============================] - 4s 5ms/step - loss: 2.3852 - accuracy: 0.1006 - val_loss: 2.4578 - val_accuracy: 0.1126\n",
      "Epoch 9/50\n",
      "860/860 [==============================] - 4s 4ms/step - loss: 2.3828 - accuracy: 0.1024 - val_loss: 2.9158 - val_accuracy: 0.1002\n",
      "Epoch 10/50\n",
      "860/860 [==============================] - 4s 4ms/step - loss: 2.3780 - accuracy: 0.1040 - val_loss: 2.6203 - val_accuracy: 0.0986\n",
      "Epoch 11/50\n",
      "860/860 [==============================] - 4s 5ms/step - loss: 2.3908 - accuracy: 0.0994 - val_loss: 2.5215 - val_accuracy: 0.1126\n",
      "Epoch 12/50\n",
      "860/860 [==============================] - 4s 5ms/step - loss: 2.3878 - accuracy: 0.0993 - val_loss: 2.5321 - val_accuracy: 0.0990\n",
      "Epoch 00012: early stopping\n",
      "CPU times: user 2min 19s, sys: 7.43 s, total: 2min 26s\n",
      "Wall time: 48.9 s\n"
     ]
    }
   ],
   "source": [
    "%%time\n",
    "\n",
    "'''\n",
    "Define the optimizer\n",
    "'''\n",
    "optimizer = tf.keras.optimizers.SGD(learning_rate=0.1)\n",
    "\n",
    "\n",
    "'''\n",
    "Compile the model\n",
    "'''\n",
    "model.compile(loss=\"sparse_categorical_crossentropy\",\n",
    "              optimizer=optimizer,\n",
    "              metrics=[\"accuracy\"])\n",
    "\n",
    "\n",
    "\n",
    "'''\n",
    "Create the early stopping callback function.\n",
    "'''\n",
    "early_stopping_cb = tf.keras.callbacks.EarlyStopping(monitor='val_loss',\n",
    "                                  min_delta=0, \n",
    "                                  patience=10, \n",
    "                                  verbose=1, \n",
    "                                  mode='auto',\n",
    "                                  restore_best_weights=False)\n",
    "\n",
    "'''\n",
    "Set the epochs and mini batch size\n",
    "'''\n",
    "no_of_epochs = 50\n",
    "size_of_mini_batch = 64\n",
    "\n",
    "\n",
    "'''\n",
    "Train the model\n",
    "'''\n",
    "history = model.fit(X_train, y_train, \n",
    "                    batch_size=size_of_mini_batch, \n",
    "                    epochs=no_of_epochs,\n",
    "                    verbose=1,\n",
    "                    validation_data=(X_valid, y_valid),\n",
    "                    callbacks=[early_stopping_cb])"
   ]
  },
  {
   "cell_type": "markdown",
   "id": "552dd4b0",
   "metadata": {},
   "source": [
    "##### History object"
   ]
  },
  {
   "cell_type": "code",
   "execution_count": 6,
   "id": "ada3e095",
   "metadata": {
    "scrolled": true
   },
   "outputs": [
    {
     "name": "stdout",
     "output_type": "stream",
     "text": [
      "Training Parameters:  {'verbose': 1, 'epochs': 50, 'steps': 860}\n",
      "\n",
      "List of Epochs:  [0, 1, 2, 3, 4, 5, 6, 7, 8, 9, 10, 11, 12, 13, 14, 15, 16, 17, 18, 19, 20, 21, 22, 23, 24, 25, 26, 27, 28, 29, 30, 31, 32, 33, 34, 35, 36, 37, 38, 39, 40, 41, 42, 43, 44, 45, 46, 47, 48, 49]\n",
      "\n",
      "Evaluation Metrics:  dict_keys(['loss', 'accuracy', 'val_loss', 'val_accuracy'])\n"
     ]
    }
   ],
   "source": [
    "print(\"Training Parameters: \", history.params)\n",
    "print(\"\\nList of Epochs: \", history.epoch)\n",
    "print(\"\\nEvaluation Metrics: \", history.history.keys())"
   ]
  },
  {
   "cell_type": "markdown",
   "id": "2719e6ae",
   "metadata": {},
   "source": [
    "##### Model evaluation"
   ]
  },
  {
   "cell_type": "code",
   "execution_count": 7,
   "id": "7e594d4f",
   "metadata": {},
   "outputs": [
    {
     "name": "stdout",
     "output_type": "stream",
     "text": [
      "Epochs:  50\n",
      "\n",
      "Test Data: Loss & Accuracy:  [0.13303634524345398, 0.9598000049591064]\n",
      "\n",
      "Train Accuracy:  0.9629818181818182\n",
      "\n",
      "Test Accuracy:  0.9598\n",
      "\n",
      "Test Confusion Matrix:\n",
      "[[ 966    0    1    3    0    3    4    2    0    1]\n",
      " [   0 1120    3    2    0    2    3    2    3    0]\n",
      " [   7    1  987    5    4    1    9   10    8    0]\n",
      " [   1    1   10  977    0    6    0    6    9    0]\n",
      " [   1    1    4    0  938    1    7    2    2   26]\n",
      " [   9    3    0   16    3  827   14    3   12    5]\n",
      " [   9    3    3    1    3    8  926    0    5    0]\n",
      " [   2    5   16    2    5    0    0  981    1   16]\n",
      " [   5    2    3   12    4   12    6    4  922    4]\n",
      " [   7    5    1    6   17    7    1    9    2  954]]\n",
      "\n",
      "Classification Report:\n",
      "              precision    recall  f1-score   support\n",
      "\n",
      "           0       0.96      0.99      0.97       980\n",
      "           1       0.98      0.99      0.98      1135\n",
      "           2       0.96      0.96      0.96      1032\n",
      "           3       0.95      0.97      0.96      1010\n",
      "           4       0.96      0.96      0.96       982\n",
      "           5       0.95      0.93      0.94       892\n",
      "           6       0.95      0.97      0.96       958\n",
      "           7       0.96      0.95      0.96      1028\n",
      "           8       0.96      0.95      0.95       974\n",
      "           9       0.95      0.95      0.95      1009\n",
      "\n",
      "    accuracy                           0.96     10000\n",
      "   macro avg       0.96      0.96      0.96     10000\n",
      "weighted avg       0.96      0.96      0.96     10000\n",
      "\n"
     ]
    }
   ],
   "source": [
    "numOfEpochs = len(history.history['loss'])\n",
    "print(\"Epochs: \", numOfEpochs)\n",
    "\n",
    "print(\"\\nTest Data: Loss & Accuracy: \", model.evaluate(X_test, y_test, verbose=0))\n",
    "\n",
    "# model.predict() method returns 10 probabilities per class for each instance (Dimension Nx10)\n",
    "y_test_predicted = model.predict(X_test)\n",
    "y_test_predicted = np.argmax(y_test_predicted, axis=1) # get the label/index of the highest probability class\n",
    "\n",
    "\n",
    "y_train_predicted = model.predict(X_train)\n",
    "y_train_predicted = np.argmax(y_train_predicted, axis=1) # get the label/index of the highest probability class\n",
    "\n",
    "train_accuracy = np.mean(y_train_predicted == y_train)\n",
    "print(\"\\nTrain Accuracy: \", train_accuracy)\n",
    "\n",
    "test_accuracy = np.mean(y_test_predicted == y_test)\n",
    "print(\"\\nTest Accuracy: \", test_accuracy)\n",
    "\n",
    "print(\"\\nTest Confusion Matrix:\")\n",
    "print(confusion_matrix(y_test, y_test_predicted))\n",
    "\n",
    "print(\"\\nClassification Report:\")\n",
    "print(classification_report(y_test, y_test_predicted))"
   ]
  },
  {
   "cell_type": "markdown",
   "id": "17b15aaf",
   "metadata": {},
   "source": [
    "##### Plot Learning Curves"
   ]
  },
  {
   "cell_type": "code",
   "execution_count": 8,
   "id": "7628094e",
   "metadata": {
    "scrolled": false
   },
   "outputs": [
    {
     "data": {
      "image/png": "[encoded data removed]",
      "text/plain": [
       "<Figure size 1296x432 with 2 Axes>"
      ]
     },
     "metadata": {
      "needs_background": "light"
     },
     "output_type": "display_data"
    }
   ],
   "source": [
    "plt.figure(figsize=(18,6))\n",
    "\n",
    "plt.subplot(121)\n",
    "plt.plot(range(1,numOfEpochs+1),history.history['val_accuracy'],label='validation')\n",
    "plt.plot(range(1,numOfEpochs+1),history.history['accuracy'],label='training')\n",
    "plt.legend(loc=0)\n",
    "plt.xlabel('Epochs')\n",
    "plt.ylabel('Accuracy')\n",
    "plt.xlim([1,numOfEpochs])\n",
    "plt.grid(True)\n",
    "plt.title(\"Model Accuracy\")\n",
    "\n",
    "plt.subplot(122)\n",
    "plt.plot(range(1,numOfEpochs+1),history.history['val_loss'],label='validation')\n",
    "plt.plot(range(1,numOfEpochs+1),history.history['loss'],label='training')\n",
    "plt.legend(loc=0)\n",
    "plt.xlabel('Epochs')\n",
    "plt.ylabel('Loss')\n",
    "plt.xlim([1,numOfEpochs])\n",
    "plt.grid(True)\n",
    "plt.title(\"Model Loss\")\n",
    "\n",
    "plt.show() "
   ]
  },
  {
   "cell_type": "markdown",
   "id": "d785afa0",
   "metadata": {},
   "source": [
    "#### Experiment 3"
   ]
  },
  {
   "cell_type": "markdown",
   "id": "5ca1805d",
   "metadata": {},
   "source": [
    "##### Build the MLP Model"
   ]
  },
  {
   "cell_type": "code",
   "execution_count": 17,
   "id": "2711a9fb",
   "metadata": {
    "scrolled": true
   },
   "outputs": [
    {
     "name": "stdout",
     "output_type": "stream",
     "text": [
      "Model: \"MLP_Multiclass_Classifier\"\n",
      "_________________________________________________________________\n",
      "Layer (type)                 Output Shape              Param #   \n",
      "=================================================================\n",
      "flatten (Flatten)            (None, 784)               0         \n",
      "_________________________________________________________________\n",
      "dense (Dense)                (None, 300)               235500    \n",
      "_________________________________________________________________\n",
      "dense_1 (Dense)              (None, 100)               30100     \n",
      "_________________________________________________________________\n",
      "dense_2 (Dense)              (None, 10)                1010      \n",
      "=================================================================\n",
      "Total params: 266,610\n",
      "Trainable params: 266,610\n",
      "Non-trainable params: 0\n",
      "_________________________________________________________________\n",
      "CPU times: user 42.6 ms, sys: 40.5 ms, total: 83.2 ms\n",
      "Wall time: 167 ms\n"
     ]
    }
   ],
   "source": [
    "%%time\n",
    "\n",
    "'''\n",
    "Delete the TensorFlow graph before creating a new model, otherwise memory overflow will occur.\n",
    "'''\n",
    "tf.keras.backend.clear_session()\n",
    "\n",
    "'''\n",
    "To reproduce the same result by the model in each iteration, we use fixed seeds for random number generation. \n",
    "'''\n",
    "np.random.seed(42)\n",
    "tf.random.set_seed(42)\n",
    "\n",
    "\n",
    "'''\n",
    "Set the values for weight initializer and activation function\n",
    "'''\n",
    "kernel_initializer = 'random_normal'\n",
    "activation = 'sigmoid'\n",
    "number_of_classes = 10\n",
    "\n",
    "\n",
    "'''\n",
    "Create a Sequential model composed of a single stack of layers connected sequentially. \n",
    "- Add the layers one by one.\n",
    "- Apply Dropout regularization\n",
    "'''\n",
    "model = tf.keras.models.Sequential(name=\"MLP_Multiclass_Classifier\")\n",
    "model.add(tf.keras.layers.Flatten(input_shape=[28, 28]))\n",
    "model.add(tf.keras.layers.Dense(units=300, kernel_initializer=kernel_initializer, activation=activation, \n",
    "                             bias_initializer=\"zeros\"))\n",
    "# model.add(tf.keras.layers.Dropout(rate=0.1)) # add if needed\n",
    "model.add(tf.keras.layers.Dense(units=100, kernel_initializer=kernel_initializer, activation=activation,\n",
    "                            bias_initializer=\"zeros\"))\n",
    "# model.add(tf.keras.layers.Dropout(rate=0.1)) # add if needed\n",
    "model.add(tf.keras.layers.Dense(units=number_of_classes, kernel_initializer=kernel_initializer, \n",
    "                             activation=\"softmax\"))\n",
    "\n",
    "model.summary()"
   ]
  },
  {
   "cell_type": "markdown",
   "id": "472a17f1",
   "metadata": {},
   "source": [
    "##### Train the MLP Model"
   ]
  },
  {
   "cell_type": "code",
   "execution_count": 18,
   "id": "f4da5a11",
   "metadata": {},
   "outputs": [
    {
     "name": "stdout",
     "output_type": "stream",
     "text": [
      "Epoch 1/50\n",
      "860/860 [==============================] - 5s 5ms/step - loss: 2.1119 - accuracy: 0.2591 - val_loss: 0.8378 - val_accuracy: 0.7512\n",
      "Epoch 2/50\n",
      "860/860 [==============================] - 4s 4ms/step - loss: 0.7115 - accuracy: 0.7970 - val_loss: 0.4401 - val_accuracy: 0.8812\n",
      "Epoch 3/50\n",
      "860/860 [==============================] - 4s 4ms/step - loss: 0.4383 - accuracy: 0.8760 - val_loss: 0.3549 - val_accuracy: 0.8994\n",
      "Epoch 4/50\n",
      "860/860 [==============================] - 4s 5ms/step - loss: 0.3631 - accuracy: 0.8965 - val_loss: 0.3192 - val_accuracy: 0.9090\n",
      "Epoch 5/50\n",
      "860/860 [==============================] - 4s 4ms/step - loss: 0.3331 - accuracy: 0.9037 - val_loss: 0.2967 - val_accuracy: 0.9154\n",
      "Epoch 6/50\n",
      "860/860 [==============================] - 4s 4ms/step - loss: 0.3123 - accuracy: 0.9089 - val_loss: 0.2846 - val_accuracy: 0.9196\n",
      "Epoch 7/50\n",
      "860/860 [==============================] - 4s 5ms/step - loss: 0.2912 - accuracy: 0.9170 - val_loss: 0.2601 - val_accuracy: 0.9240\n",
      "Epoch 8/50\n",
      "860/860 [==============================] - 4s 4ms/step - loss: 0.2749 - accuracy: 0.9187 - val_loss: 0.2678 - val_accuracy: 0.9218\n",
      "Epoch 9/50\n",
      "860/860 [==============================] - 4s 5ms/step - loss: 0.2602 - accuracy: 0.9255 - val_loss: 0.2364 - val_accuracy: 0.9310\n",
      "Epoch 10/50\n",
      "860/860 [==============================] - 4s 5ms/step - loss: 0.2450 - accuracy: 0.9265 - val_loss: 0.2256 - val_accuracy: 0.9336\n",
      "Epoch 11/50\n",
      "860/860 [==============================] - 4s 5ms/step - loss: 0.2314 - accuracy: 0.9317 - val_loss: 0.2200 - val_accuracy: 0.9352\n",
      "Epoch 12/50\n",
      "860/860 [==============================] - 4s 5ms/step - loss: 0.2155 - accuracy: 0.9374 - val_loss: 0.2064 - val_accuracy: 0.9352\n",
      "Epoch 13/50\n",
      "860/860 [==============================] - 4s 5ms/step - loss: 0.2010 - accuracy: 0.9411 - val_loss: 0.1935 - val_accuracy: 0.9426\n",
      "Epoch 14/50\n",
      "860/860 [==============================] - 4s 5ms/step - loss: 0.1983 - accuracy: 0.9417 - val_loss: 0.1881 - val_accuracy: 0.9462\n",
      "Epoch 15/50\n",
      "860/860 [==============================] - 4s 5ms/step - loss: 0.1841 - accuracy: 0.9470 - val_loss: 0.1760 - val_accuracy: 0.9492\n",
      "Epoch 16/50\n",
      "860/860 [==============================] - 4s 4ms/step - loss: 0.1797 - accuracy: 0.9484 - val_loss: 0.1690 - val_accuracy: 0.9526\n",
      "Epoch 17/50\n",
      "860/860 [==============================] - 4s 4ms/step - loss: 0.1724 - accuracy: 0.9506 - val_loss: 0.1650 - val_accuracy: 0.9534\n",
      "Epoch 18/50\n",
      "860/860 [==============================] - 4s 4ms/step - loss: 0.1577 - accuracy: 0.9536 - val_loss: 0.1575 - val_accuracy: 0.9564\n",
      "Epoch 19/50\n",
      "860/860 [==============================] - 4s 5ms/step - loss: 0.1546 - accuracy: 0.9547 - val_loss: 0.1484 - val_accuracy: 0.9566\n",
      "Epoch 20/50\n",
      "860/860 [==============================] - 5s 5ms/step - loss: 0.1482 - accuracy: 0.9560 - val_loss: 0.1532 - val_accuracy: 0.9568\n",
      "Epoch 21/50\n",
      "860/860 [==============================] - 4s 5ms/step - loss: 0.1405 - accuracy: 0.9591 - val_loss: 0.1389 - val_accuracy: 0.9606\n",
      "Epoch 22/50\n",
      "860/860 [==============================] - 4s 5ms/step - loss: 0.1393 - accuracy: 0.9607 - val_loss: 0.1332 - val_accuracy: 0.9612\n",
      "Epoch 23/50\n",
      "860/860 [==============================] - 4s 5ms/step - loss: 0.1348 - accuracy: 0.9615 - val_loss: 0.1319 - val_accuracy: 0.9626\n",
      "Epoch 24/50\n",
      "860/860 [==============================] - 5s 5ms/step - loss: 0.1262 - accuracy: 0.9639 - val_loss: 0.1261 - val_accuracy: 0.9638\n",
      "Epoch 25/50\n",
      "860/860 [==============================] - 4s 5ms/step - loss: 0.1226 - accuracy: 0.9644 - val_loss: 0.1214 - val_accuracy: 0.9658\n",
      "Epoch 26/50\n",
      "860/860 [==============================] - 4s 5ms/step - loss: 0.1145 - accuracy: 0.9678 - val_loss: 0.1200 - val_accuracy: 0.9666\n",
      "Epoch 27/50\n",
      "860/860 [==============================] - 5s 6ms/step - loss: 0.1085 - accuracy: 0.9686 - val_loss: 0.1157 - val_accuracy: 0.9680\n",
      "Epoch 28/50\n",
      "860/860 [==============================] - 5s 5ms/step - loss: 0.1089 - accuracy: 0.9685 - val_loss: 0.1122 - val_accuracy: 0.9688\n",
      "Epoch 29/50\n",
      "860/860 [==============================] - 5s 6ms/step - loss: 0.1037 - accuracy: 0.9698 - val_loss: 0.1104 - val_accuracy: 0.9698\n",
      "Epoch 30/50\n",
      "860/860 [==============================] - 4s 5ms/step - loss: 0.1002 - accuracy: 0.9716 - val_loss: 0.1092 - val_accuracy: 0.9696\n",
      "Epoch 31/50\n",
      "860/860 [==============================] - 4s 5ms/step - loss: 0.0922 - accuracy: 0.9736 - val_loss: 0.1042 - val_accuracy: 0.9710\n",
      "Epoch 32/50\n",
      "860/860 [==============================] - 5s 5ms/step - loss: 0.0956 - accuracy: 0.9723 - val_loss: 0.1132 - val_accuracy: 0.9666\n",
      "Epoch 33/50\n",
      "860/860 [==============================] - 4s 5ms/step - loss: 0.0919 - accuracy: 0.9742 - val_loss: 0.0997 - val_accuracy: 0.9712\n",
      "Epoch 34/50\n",
      "860/860 [==============================] - 4s 5ms/step - loss: 0.0876 - accuracy: 0.9750 - val_loss: 0.1000 - val_accuracy: 0.9722\n",
      "Epoch 35/50\n",
      "860/860 [==============================] - 4s 5ms/step - loss: 0.0814 - accuracy: 0.9767 - val_loss: 0.0980 - val_accuracy: 0.9716\n",
      "Epoch 36/50\n",
      "860/860 [==============================] - 4s 5ms/step - loss: 0.0816 - accuracy: 0.9767 - val_loss: 0.0982 - val_accuracy: 0.9722\n",
      "Epoch 37/50\n",
      "860/860 [==============================] - 5s 5ms/step - loss: 0.0812 - accuracy: 0.9768 - val_loss: 0.0910 - val_accuracy: 0.9746\n",
      "Epoch 38/50\n",
      "860/860 [==============================] - 4s 5ms/step - loss: 0.0754 - accuracy: 0.9785 - val_loss: 0.0921 - val_accuracy: 0.9724\n",
      "Epoch 39/50\n",
      "860/860 [==============================] - 4s 5ms/step - loss: 0.0749 - accuracy: 0.9788 - val_loss: 0.0922 - val_accuracy: 0.9754\n",
      "Epoch 40/50\n",
      "860/860 [==============================] - 5s 5ms/step - loss: 0.0729 - accuracy: 0.9787 - val_loss: 0.0929 - val_accuracy: 0.9728\n",
      "Epoch 41/50\n",
      "860/860 [==============================] - 5s 5ms/step - loss: 0.0692 - accuracy: 0.9797 - val_loss: 0.0852 - val_accuracy: 0.9756\n",
      "Epoch 42/50\n",
      "860/860 [==============================] - 5s 5ms/step - loss: 0.0660 - accuracy: 0.9820 - val_loss: 0.0888 - val_accuracy: 0.9752\n",
      "Epoch 43/50\n",
      "860/860 [==============================] - 4s 5ms/step - loss: 0.0652 - accuracy: 0.9818 - val_loss: 0.0871 - val_accuracy: 0.9750\n",
      "Epoch 44/50\n",
      "860/860 [==============================] - 4s 5ms/step - loss: 0.0639 - accuracy: 0.9823 - val_loss: 0.0815 - val_accuracy: 0.9756\n",
      "Epoch 45/50\n",
      "860/860 [==============================] - 4s 5ms/step - loss: 0.0615 - accuracy: 0.9827 - val_loss: 0.0869 - val_accuracy: 0.9750\n",
      "Epoch 46/50\n",
      "860/860 [==============================] - 5s 5ms/step - loss: 0.0604 - accuracy: 0.9835 - val_loss: 0.0871 - val_accuracy: 0.9752\n",
      "Epoch 47/50\n",
      "860/860 [==============================] - 5s 6ms/step - loss: 0.0593 - accuracy: 0.9829 - val_loss: 0.0796 - val_accuracy: 0.9766\n",
      "Epoch 48/50\n",
      "860/860 [==============================] - 5s 6ms/step - loss: 0.0568 - accuracy: 0.9843 - val_loss: 0.0843 - val_accuracy: 0.9740\n",
      "Epoch 49/50\n",
      "860/860 [==============================] - 5s 6ms/step - loss: 0.0550 - accuracy: 0.9849 - val_loss: 0.0762 - val_accuracy: 0.9786\n",
      "Epoch 50/50\n",
      "860/860 [==============================] - 5s 6ms/step - loss: 0.0520 - accuracy: 0.9861 - val_loss: 0.0815 - val_accuracy: 0.9756\n",
      "CPU times: user 10min 17s, sys: 32.1 s, total: 10min 49s\n",
      "Wall time: 3min 37s\n"
     ]
    }
   ],
   "source": [
    "%%time\n",
    "\n",
    "'''\n",
    "Define the optimizer\n",
    "'''\n",
    "optimizer = tf.keras.optimizers.SGD(learning_rate=0.1)\n",
    "\n",
    "\n",
    "'''\n",
    "Compile the model\n",
    "'''\n",
    "model.compile(loss=\"sparse_categorical_crossentropy\",\n",
    "              optimizer=optimizer,\n",
    "              metrics=[\"accuracy\"])\n",
    "\n",
    "\n",
    "\n",
    "'''\n",
    "Create the early stopping callback function.\n",
    "'''\n",
    "early_stopping_cb = tf.keras.callbacks.EarlyStopping(monitor='val_loss',\n",
    "                                  min_delta=0, \n",
    "                                  patience=10, \n",
    "                                  verbose=1, \n",
    "                                  mode='auto',\n",
    "                                  restore_best_weights=False)\n",
    "\n",
    "'''\n",
    "Set the epochs and mini batch size\n",
    "'''\n",
    "no_of_epochs = 50\n",
    "size_of_mini_batch = 64\n",
    "\n",
    "\n",
    "'''\n",
    "Train the model\n",
    "'''\n",
    "history = model.fit(X_train, y_train, \n",
    "                    batch_size=size_of_mini_batch, \n",
    "                    epochs=no_of_epochs,\n",
    "                    verbose=1,\n",
    "                    validation_data=(X_valid, y_valid),\n",
    "                    callbacks=[early_stopping_cb])"
   ]
  },
  {
   "cell_type": "markdown",
   "id": "8fa7b7a5",
   "metadata": {},
   "source": [
    "##### History object"
   ]
  },
  {
   "cell_type": "code",
   "execution_count": 19,
   "id": "e7a8e757",
   "metadata": {
    "scrolled": false
   },
   "outputs": [
    {
     "name": "stdout",
     "output_type": "stream",
     "text": [
      "Training Parameters:  {'verbose': 1, 'epochs': 50, 'steps': 860}\n",
      "\n",
      "List of Epochs:  [0, 1, 2, 3, 4, 5, 6, 7, 8, 9, 10, 11, 12, 13, 14, 15, 16, 17, 18, 19, 20, 21, 22, 23, 24, 25, 26, 27, 28, 29, 30, 31, 32, 33, 34, 35, 36, 37, 38, 39, 40, 41, 42, 43, 44, 45, 46, 47, 48, 49]\n",
      "\n",
      "Evaluation Metrics:  dict_keys(['loss', 'accuracy', 'val_loss', 'val_accuracy'])\n"
     ]
    }
   ],
   "source": [
    "print(\"Training Parameters: \", history.params)\n",
    "print(\"\\nList of Epochs: \", history.epoch)\n",
    "print(\"\\nEvaluation Metrics: \", history.history.keys())"
   ]
  },
  {
   "cell_type": "markdown",
   "id": "d4e65724",
   "metadata": {},
   "source": [
    "##### Model evaluation"
   ]
  },
  {
   "cell_type": "code",
   "execution_count": 20,
   "id": "6e3c66ed",
   "metadata": {},
   "outputs": [
    {
     "name": "stdout",
     "output_type": "stream",
     "text": [
      "Epochs:  50\n",
      "\n",
      "Test Data: Loss & Accuracy:  [0.08313347399234772, 0.9745000004768372]\n",
      "\n",
      "Train Accuracy:  0.9854181818181819\n",
      "\n",
      "Test Accuracy:  0.9745\n",
      "\n",
      "Test Confusion Matrix:\n",
      "[[ 962    0    2    2    1    4    4    3    1    1]\n",
      " [   0 1125    2    1    0    1    2    2    2    0]\n",
      " [   1    2 1007    7    2    0    2    8    3    0]\n",
      " [   0    0    4  994    0    2    0    7    2    1]\n",
      " [   0    0    2    0  957    1    5    2    0   15]\n",
      " [   5    1    0   15    3  857    3    1    4    3]\n",
      " [   5    3    0    1    4    3  939    0    3    0]\n",
      " [   1    3    8    3    1    0    0 1001    1   10]\n",
      " [   2    0    4   17    3    5    5    6  928    4]\n",
      " [   3    3    0    8   10    1    1    8    0  975]]\n",
      "\n",
      "Classification Report:\n",
      "              precision    recall  f1-score   support\n",
      "\n",
      "           0       0.98      0.98      0.98       980\n",
      "           1       0.99      0.99      0.99      1135\n",
      "           2       0.98      0.98      0.98      1032\n",
      "           3       0.95      0.98      0.97      1010\n",
      "           4       0.98      0.97      0.98       982\n",
      "           5       0.98      0.96      0.97       892\n",
      "           6       0.98      0.98      0.98       958\n",
      "           7       0.96      0.97      0.97      1028\n",
      "           8       0.98      0.95      0.97       974\n",
      "           9       0.97      0.97      0.97      1009\n",
      "\n",
      "    accuracy                           0.97     10000\n",
      "   macro avg       0.97      0.97      0.97     10000\n",
      "weighted avg       0.97      0.97      0.97     10000\n",
      "\n"
     ]
    }
   ],
   "source": [
    "numOfEpochs = len(history.history['loss'])\n",
    "print(\"Epochs: \", numOfEpochs)\n",
    "\n",
    "print(\"\\nTest Data: Loss & Accuracy: \", model.evaluate(X_test, y_test, verbose=0))\n",
    "\n",
    "# model.predict() method returns 10 probabilities per class for each instance (Dimension Nx10)\n",
    "y_test_predicted = model.predict(X_test)\n",
    "y_test_predicted = np.argmax(y_test_predicted, axis=1) # get the label/index of the highest probability class\n",
    "\n",
    "\n",
    "y_train_predicted = model.predict(X_train)\n",
    "y_train_predicted = np.argmax(y_train_predicted, axis=1) # get the label/index of the highest probability class\n",
    "\n",
    "train_accuracy = np.mean(y_train_predicted == y_train)\n",
    "print(\"\\nTrain Accuracy: \", train_accuracy)\n",
    "\n",
    "test_accuracy = np.mean(y_test_predicted == y_test)\n",
    "print(\"\\nTest Accuracy: \", test_accuracy)\n",
    "\n",
    "print(\"\\nTest Confusion Matrix:\")\n",
    "print(confusion_matrix(y_test, y_test_predicted))\n",
    "\n",
    "print(\"\\nClassification Report:\")\n",
    "print(classification_report(y_test, y_test_predicted))"
   ]
  },
  {
   "cell_type": "markdown",
   "id": "8267c8fa",
   "metadata": {},
   "source": [
    "##### Plot Learning Curves"
   ]
  },
  {
   "cell_type": "code",
   "execution_count": 23,
   "id": "9263c6ba",
   "metadata": {
    "scrolled": false
   },
   "outputs": [
    {
     "data": {
      "image/png": "[encoded data removed]",
      "text/plain": [
       "<Figure size 1296x432 with 2 Axes>"
      ]
     },
     "metadata": {
      "needs_background": "light"
     },
     "output_type": "display_data"
    }
   ],
   "source": [
    "plt.figure(figsize=(18,6))\n",
    "\n",
    "plt.subplot(121)\n",
    "plt.plot(range(1,numOfEpochs+1),history.history['val_accuracy'],label='validation')\n",
    "plt.plot(range(1,numOfEpochs+1),history.history['accuracy'],label='training')\n",
    "plt.legend(loc=0)\n",
    "plt.xlabel('Epochs')\n",
    "plt.ylabel('Accuracy')\n",
    "plt.xlim([1,numOfEpochs])\n",
    "plt.grid(True)\n",
    "plt.title(\"Model Accuracy\")\n",
    "\n",
    "plt.subplot(122)\n",
    "plt.plot(range(1,numOfEpochs+1),history.history['val_loss'],label='validation')\n",
    "plt.plot(range(1,numOfEpochs+1),history.history['loss'],label='training')\n",
    "plt.legend(loc=0)\n",
    "plt.xlabel('Epochs')\n",
    "plt.ylabel('Loss')\n",
    "plt.xlim([1,numOfEpochs])\n",
    "plt.grid(True)\n",
    "plt.title(\"Model Loss\")\n",
    "\n",
    "plt.show() "
   ]
  },
  {
   "cell_type": "markdown",
   "id": "1f8cf6af",
   "metadata": {},
   "source": [
    "#### Experiment 4"
   ]
  },
  {
   "cell_type": "markdown",
   "id": "20dd41db",
   "metadata": {},
   "source": [
    "##### Build the MLP Model"
   ]
  },
  {
   "cell_type": "code",
   "execution_count": 17,
   "id": "3249b016",
   "metadata": {
    "scrolled": true
   },
   "outputs": [
    {
     "name": "stdout",
     "output_type": "stream",
     "text": [
      "Model: \"MLP_Multiclass_Classifier\"\n",
      "_________________________________________________________________\n",
      "Layer (type)                 Output Shape              Param #   \n",
      "=================================================================\n",
      "flatten (Flatten)            (None, 784)               0         \n",
      "_________________________________________________________________\n",
      "dense (Dense)                (None, 300)               235500    \n",
      "_________________________________________________________________\n",
      "dense_1 (Dense)              (None, 100)               30100     \n",
      "_________________________________________________________________\n",
      "dense_2 (Dense)              (None, 10)                1010      \n",
      "=================================================================\n",
      "Total params: 266,610\n",
      "Trainable params: 266,610\n",
      "Non-trainable params: 0\n",
      "_________________________________________________________________\n",
      "CPU times: user 42.6 ms, sys: 40.5 ms, total: 83.2 ms\n",
      "Wall time: 167 ms\n"
     ]
    }
   ],
   "source": [
    "%%time\n",
    "\n",
    "'''\n",
    "Delete the TensorFlow graph before creating a new model, otherwise memory overflow will occur.\n",
    "'''\n",
    "tf.keras.backend.clear_session()\n",
    "\n",
    "'''\n",
    "To reproduce the same result by the model in each iteration, we use fixed seeds for random number generation. \n",
    "'''\n",
    "np.random.seed(42)\n",
    "tf.random.set_seed(42)\n",
    "\n",
    "\n",
    "'''\n",
    "Set the values for weight initializer and activation function\n",
    "'''\n",
    "kernel_initializer = 'random_normal'\n",
    "activation = 'tanh'\n",
    "number_of_classes = 10\n",
    "\n",
    "\n",
    "'''\n",
    "Create a Sequential model composed of a single stack of layers connected sequentially. \n",
    "- Add the layers one by one.\n",
    "- Apply Dropout regularization\n",
    "'''\n",
    "model = tf.keras.models.Sequential(name=\"MLP_Multiclass_Classifier\")\n",
    "model.add(tf.keras.layers.Flatten(input_shape=[28, 28]))\n",
    "model.add(tf.keras.layers.Dense(units=300, kernel_initializer=kernel_initializer, activation=activation, \n",
    "                             bias_initializer=\"zeros\"))\n",
    "# model.add(tf.keras.layers.Dropout(rate=0.1)) # add if needed\n",
    "model.add(tf.keras.layers.Dense(units=100, kernel_initializer=kernel_initializer, activation=activation,\n",
    "                            bias_initializer=\"zeros\"))\n",
    "# model.add(tf.keras.layers.Dropout(rate=0.1)) # add if needed\n",
    "model.add(tf.keras.layers.Dense(units=number_of_classes, kernel_initializer=kernel_initializer, \n",
    "                             activation=\"softmax\"))\n",
    "\n",
    "model.summary()"
   ]
  },
  {
   "cell_type": "markdown",
   "id": "65217039",
   "metadata": {},
   "source": [
    "##### Train the MLP Model"
   ]
  },
  {
   "cell_type": "code",
   "execution_count": 24,
   "id": "b354e4b9",
   "metadata": {},
   "outputs": [
    {
     "name": "stdout",
     "output_type": "stream",
     "text": [
      "Epoch 1/50\n",
      "860/860 [==============================] - 4s 5ms/step - loss: 0.0501 - accuracy: 0.9871 - val_loss: 0.0779 - val_accuracy: 0.9774\n",
      "Epoch 2/50\n",
      "860/860 [==============================] - 5s 6ms/step - loss: 0.0484 - accuracy: 0.9867 - val_loss: 0.0823 - val_accuracy: 0.9762\n",
      "Epoch 3/50\n",
      "860/860 [==============================] - 4s 5ms/step - loss: 0.0497 - accuracy: 0.9867 - val_loss: 0.0741 - val_accuracy: 0.9790\n",
      "Epoch 4/50\n",
      "860/860 [==============================] - 5s 5ms/step - loss: 0.0464 - accuracy: 0.9874 - val_loss: 0.0750 - val_accuracy: 0.9790\n",
      "Epoch 5/50\n",
      "860/860 [==============================] - 4s 5ms/step - loss: 0.0453 - accuracy: 0.9876 - val_loss: 0.0751 - val_accuracy: 0.9782\n",
      "Epoch 6/50\n",
      "860/860 [==============================] - 4s 5ms/step - loss: 0.0437 - accuracy: 0.9879 - val_loss: 0.0738 - val_accuracy: 0.9780\n",
      "Epoch 7/50\n",
      "860/860 [==============================] - 4s 5ms/step - loss: 0.0435 - accuracy: 0.9882 - val_loss: 0.0738 - val_accuracy: 0.9792\n",
      "Epoch 8/50\n",
      "860/860 [==============================] - 4s 4ms/step - loss: 0.0412 - accuracy: 0.9890 - val_loss: 0.0771 - val_accuracy: 0.9764\n",
      "Epoch 9/50\n",
      "860/860 [==============================] - 4s 4ms/step - loss: 0.0417 - accuracy: 0.9896 - val_loss: 0.0710 - val_accuracy: 0.9798\n",
      "Epoch 10/50\n",
      "860/860 [==============================] - 4s 5ms/step - loss: 0.0392 - accuracy: 0.9893 - val_loss: 0.0691 - val_accuracy: 0.9808\n",
      "Epoch 11/50\n",
      "860/860 [==============================] - 4s 5ms/step - loss: 0.0375 - accuracy: 0.9902 - val_loss: 0.0713 - val_accuracy: 0.9796\n",
      "Epoch 12/50\n",
      "860/860 [==============================] - 5s 5ms/step - loss: 0.0359 - accuracy: 0.9910 - val_loss: 0.0725 - val_accuracy: 0.9788\n",
      "Epoch 13/50\n",
      "860/860 [==============================] - 4s 5ms/step - loss: 0.0338 - accuracy: 0.9906 - val_loss: 0.0689 - val_accuracy: 0.9798\n",
      "Epoch 14/50\n",
      "860/860 [==============================] - 4s 5ms/step - loss: 0.0360 - accuracy: 0.9909 - val_loss: 0.0707 - val_accuracy: 0.9782\n",
      "Epoch 15/50\n",
      "860/860 [==============================] - 5s 6ms/step - loss: 0.0322 - accuracy: 0.9921 - val_loss: 0.0700 - val_accuracy: 0.9784\n",
      "Epoch 16/50\n",
      "860/860 [==============================] - 4s 5ms/step - loss: 0.0340 - accuracy: 0.9919 - val_loss: 0.0701 - val_accuracy: 0.9784\n",
      "Epoch 17/50\n",
      "860/860 [==============================] - 4s 5ms/step - loss: 0.0311 - accuracy: 0.9926 - val_loss: 0.0701 - val_accuracy: 0.9796\n",
      "Epoch 18/50\n",
      "860/860 [==============================] - 5s 5ms/step - loss: 0.0297 - accuracy: 0.9928 - val_loss: 0.0695 - val_accuracy: 0.9792\n",
      "Epoch 19/50\n",
      "860/860 [==============================] - 5s 6ms/step - loss: 0.0294 - accuracy: 0.9925 - val_loss: 0.0682 - val_accuracy: 0.9794\n",
      "Epoch 20/50\n",
      "860/860 [==============================] - 5s 6ms/step - loss: 0.0294 - accuracy: 0.9936 - val_loss: 0.0681 - val_accuracy: 0.9804\n",
      "Epoch 21/50\n",
      "860/860 [==============================] - 5s 5ms/step - loss: 0.0278 - accuracy: 0.9930 - val_loss: 0.0674 - val_accuracy: 0.9798\n",
      "Epoch 22/50\n",
      "860/860 [==============================] - 5s 5ms/step - loss: 0.0278 - accuracy: 0.9934 - val_loss: 0.0683 - val_accuracy: 0.9796\n",
      "Epoch 23/50\n",
      "860/860 [==============================] - 5s 5ms/step - loss: 0.0286 - accuracy: 0.9931 - val_loss: 0.0698 - val_accuracy: 0.9794\n",
      "Epoch 24/50\n",
      "860/860 [==============================] - 4s 5ms/step - loss: 0.0256 - accuracy: 0.9948 - val_loss: 0.0667 - val_accuracy: 0.9812\n",
      "Epoch 25/50\n",
      "860/860 [==============================] - 4s 5ms/step - loss: 0.0249 - accuracy: 0.9941 - val_loss: 0.0656 - val_accuracy: 0.9806\n",
      "Epoch 26/50\n",
      "860/860 [==============================] - 5s 6ms/step - loss: 0.0234 - accuracy: 0.9952 - val_loss: 0.0673 - val_accuracy: 0.9804\n",
      "Epoch 27/50\n",
      "860/860 [==============================] - 5s 6ms/step - loss: 0.0223 - accuracy: 0.9952 - val_loss: 0.0647 - val_accuracy: 0.9812\n",
      "Epoch 28/50\n",
      "860/860 [==============================] - 4s 5ms/step - loss: 0.0234 - accuracy: 0.9950 - val_loss: 0.0673 - val_accuracy: 0.9804\n",
      "Epoch 29/50\n",
      "860/860 [==============================] - 5s 6ms/step - loss: 0.0215 - accuracy: 0.9956 - val_loss: 0.0658 - val_accuracy: 0.9810\n",
      "Epoch 30/50\n",
      "860/860 [==============================] - 5s 6ms/step - loss: 0.0218 - accuracy: 0.9959 - val_loss: 0.0667 - val_accuracy: 0.9802\n",
      "Epoch 31/50\n",
      "860/860 [==============================] - 4s 5ms/step - loss: 0.0190 - accuracy: 0.9967 - val_loss: 0.0653 - val_accuracy: 0.9824\n",
      "Epoch 32/50\n",
      "860/860 [==============================] - 4s 5ms/step - loss: 0.0209 - accuracy: 0.9960 - val_loss: 0.0648 - val_accuracy: 0.9806\n",
      "Epoch 33/50\n",
      "860/860 [==============================] - 4s 5ms/step - loss: 0.0196 - accuracy: 0.9963 - val_loss: 0.0649 - val_accuracy: 0.9816\n",
      "Epoch 34/50\n",
      "860/860 [==============================] - 5s 5ms/step - loss: 0.0193 - accuracy: 0.9964 - val_loss: 0.0682 - val_accuracy: 0.9798\n",
      "Epoch 35/50\n",
      "860/860 [==============================] - 4s 5ms/step - loss: 0.0183 - accuracy: 0.9968 - val_loss: 0.0660 - val_accuracy: 0.9812\n",
      "Epoch 36/50\n",
      "860/860 [==============================] - 4s 5ms/step - loss: 0.0187 - accuracy: 0.9971 - val_loss: 0.0675 - val_accuracy: 0.9804\n",
      "Epoch 37/50\n",
      "860/860 [==============================] - 5s 6ms/step - loss: 0.0177 - accuracy: 0.9970 - val_loss: 0.0639 - val_accuracy: 0.9814\n",
      "Epoch 38/50\n",
      "860/860 [==============================] - 5s 6ms/step - loss: 0.0171 - accuracy: 0.9973 - val_loss: 0.0647 - val_accuracy: 0.9814\n",
      "Epoch 39/50\n",
      "860/860 [==============================] - 5s 6ms/step - loss: 0.0160 - accuracy: 0.9977 - val_loss: 0.0672 - val_accuracy: 0.9810\n",
      "Epoch 40/50\n",
      "860/860 [==============================] - 4s 5ms/step - loss: 0.0163 - accuracy: 0.9974 - val_loss: 0.0655 - val_accuracy: 0.9822\n",
      "Epoch 41/50\n",
      "860/860 [==============================] - 5s 5ms/step - loss: 0.0149 - accuracy: 0.9978 - val_loss: 0.0635 - val_accuracy: 0.9818\n",
      "Epoch 42/50\n",
      "860/860 [==============================] - 5s 6ms/step - loss: 0.0148 - accuracy: 0.9981 - val_loss: 0.0647 - val_accuracy: 0.9818\n",
      "Epoch 43/50\n",
      "860/860 [==============================] - 5s 6ms/step - loss: 0.0147 - accuracy: 0.9980 - val_loss: 0.0662 - val_accuracy: 0.9822\n",
      "Epoch 44/50\n",
      "860/860 [==============================] - 5s 6ms/step - loss: 0.0142 - accuracy: 0.9979 - val_loss: 0.0637 - val_accuracy: 0.9822\n",
      "Epoch 45/50\n",
      "860/860 [==============================] - 4s 5ms/step - loss: 0.0134 - accuracy: 0.9984 - val_loss: 0.0643 - val_accuracy: 0.9814\n",
      "Epoch 46/50\n",
      "860/860 [==============================] - 4s 5ms/step - loss: 0.0135 - accuracy: 0.9981 - val_loss: 0.0665 - val_accuracy: 0.9810\n",
      "Epoch 47/50\n",
      "860/860 [==============================] - 5s 5ms/step - loss: 0.0132 - accuracy: 0.9983 - val_loss: 0.0639 - val_accuracy: 0.9826\n",
      "Epoch 48/50\n",
      "860/860 [==============================] - 5s 5ms/step - loss: 0.0129 - accuracy: 0.9984 - val_loss: 0.0661 - val_accuracy: 0.9802\n",
      "Epoch 49/50\n",
      "860/860 [==============================] - 5s 6ms/step - loss: 0.0125 - accuracy: 0.9986 - val_loss: 0.0641 - val_accuracy: 0.9816\n",
      "Epoch 50/50\n",
      "860/860 [==============================] - 5s 6ms/step - loss: 0.0121 - accuracy: 0.9985 - val_loss: 0.0658 - val_accuracy: 0.9812\n",
      "CPU times: user 10min 38s, sys: 35.2 s, total: 11min 13s\n",
      "Wall time: 3min 48s\n"
     ]
    }
   ],
   "source": [
    "%%time\n",
    "\n",
    "'''\n",
    "Define the optimizer\n",
    "'''\n",
    "optimizer = tf.keras.optimizers.SGD(learning_rate=0.1)\n",
    "\n",
    "\n",
    "'''\n",
    "Compile the model\n",
    "'''\n",
    "model.compile(loss=\"sparse_categorical_crossentropy\",\n",
    "              optimizer=optimizer,\n",
    "              metrics=[\"accuracy\"])\n",
    "\n",
    "\n",
    "\n",
    "'''\n",
    "Create the early stopping callback function.\n",
    "'''\n",
    "early_stopping_cb = tf.keras.callbacks.EarlyStopping(monitor='val_loss',\n",
    "                                  min_delta=0, \n",
    "                                  patience=10, \n",
    "                                  verbose=1, \n",
    "                                  mode='auto',\n",
    "                                  restore_best_weights=False)\n",
    "\n",
    "'''\n",
    "Set the epochs and mini batch size\n",
    "'''\n",
    "no_of_epochs = 50\n",
    "size_of_mini_batch = 64\n",
    "\n",
    "\n",
    "'''\n",
    "Train the model\n",
    "'''\n",
    "history = model.fit(X_train, y_train, \n",
    "                    batch_size=size_of_mini_batch, \n",
    "                    epochs=no_of_epochs,\n",
    "                    verbose=1,\n",
    "                    validation_data=(X_valid, y_valid),\n",
    "                    callbacks=[early_stopping_cb])"
   ]
  },
  {
   "cell_type": "markdown",
   "id": "723f6925",
   "metadata": {},
   "source": [
    "##### History object"
   ]
  },
  {
   "cell_type": "code",
   "execution_count": 25,
   "id": "98a181a7",
   "metadata": {
    "scrolled": false
   },
   "outputs": [
    {
     "name": "stdout",
     "output_type": "stream",
     "text": [
      "Training Parameters:  {'verbose': 1, 'epochs': 50, 'steps': 860}\n",
      "\n",
      "List of Epochs:  [0, 1, 2, 3, 4, 5, 6, 7, 8, 9, 10, 11, 12, 13, 14, 15, 16, 17, 18, 19, 20, 21, 22, 23, 24, 25, 26, 27, 28, 29, 30, 31, 32, 33, 34, 35, 36, 37, 38, 39, 40, 41, 42, 43, 44, 45, 46, 47, 48, 49]\n",
      "\n",
      "Evaluation Metrics:  dict_keys(['loss', 'accuracy', 'val_loss', 'val_accuracy'])\n"
     ]
    }
   ],
   "source": [
    "print(\"Training Parameters: \", history.params)\n",
    "print(\"\\nList of Epochs: \", history.epoch)\n",
    "print(\"\\nEvaluation Metrics: \", history.history.keys())"
   ]
  },
  {
   "cell_type": "markdown",
   "id": "afa3b6b8",
   "metadata": {},
   "source": [
    "##### Model evaluation"
   ]
  },
  {
   "cell_type": "code",
   "execution_count": 26,
   "id": "bc17bede",
   "metadata": {},
   "outputs": [
    {
     "name": "stdout",
     "output_type": "stream",
     "text": [
      "Epochs:  50\n",
      "\n",
      "Test Data: Loss & Accuracy:  [0.06665831804275513, 0.9800999760627747]\n",
      "\n",
      "Train Accuracy:  0.9989272727272728\n",
      "\n",
      "Test Accuracy:  0.9801\n",
      "\n",
      "Test Confusion Matrix:\n",
      "[[ 967    0    4    1    1    2    2    1    1    1]\n",
      " [   0 1126    1    1    0    1    2    1    2    1]\n",
      " [   1    1 1015    3    1    0    0    5    6    0]\n",
      " [   2    0    4  994    0    2    0    4    3    1]\n",
      " [   1    0    0    1  962    0    6    2    0   10]\n",
      " [   3    1    0   12    2  865    3    1    3    2]\n",
      " [   5    2    2    1    3    2  942    0    1    0]\n",
      " [   2    4    8    2    2    0    0 1001    1    8]\n",
      " [   3    0    3    7    4    3    3    4  943    4]\n",
      " [   1    2    0    4    8    2    1    4    1  986]]\n",
      "\n",
      "Classification Report:\n",
      "              precision    recall  f1-score   support\n",
      "\n",
      "           0       0.98      0.99      0.98       980\n",
      "           1       0.99      0.99      0.99      1135\n",
      "           2       0.98      0.98      0.98      1032\n",
      "           3       0.97      0.98      0.98      1010\n",
      "           4       0.98      0.98      0.98       982\n",
      "           5       0.99      0.97      0.98       892\n",
      "           6       0.98      0.98      0.98       958\n",
      "           7       0.98      0.97      0.98      1028\n",
      "           8       0.98      0.97      0.97       974\n",
      "           9       0.97      0.98      0.98      1009\n",
      "\n",
      "    accuracy                           0.98     10000\n",
      "   macro avg       0.98      0.98      0.98     10000\n",
      "weighted avg       0.98      0.98      0.98     10000\n",
      "\n"
     ]
    }
   ],
   "source": [
    "numOfEpochs = len(history.history['loss'])\n",
    "print(\"Epochs: \", numOfEpochs)\n",
    "\n",
    "print(\"\\nTest Data: Loss & Accuracy: \", model.evaluate(X_test, y_test, verbose=0))\n",
    "\n",
    "# model.predict() method returns 10 probabilities per class for each instance (Dimension Nx10)\n",
    "y_test_predicted = model.predict(X_test)\n",
    "y_test_predicted = np.argmax(y_test_predicted, axis=1) # get the label/index of the highest probability class\n",
    "\n",
    "\n",
    "y_train_predicted = model.predict(X_train)\n",
    "y_train_predicted = np.argmax(y_train_predicted, axis=1) # get the label/index of the highest probability class\n",
    "\n",
    "train_accuracy = np.mean(y_train_predicted == y_train)\n",
    "print(\"\\nTrain Accuracy: \", train_accuracy)\n",
    "\n",
    "test_accuracy = np.mean(y_test_predicted == y_test)\n",
    "print(\"\\nTest Accuracy: \", test_accuracy)\n",
    "\n",
    "print(\"\\nTest Confusion Matrix:\")\n",
    "print(confusion_matrix(y_test, y_test_predicted))\n",
    "\n",
    "print(\"\\nClassification Report:\")\n",
    "print(classification_report(y_test, y_test_predicted))"
   ]
  },
  {
   "cell_type": "markdown",
   "id": "2f6a0a89",
   "metadata": {},
   "source": [
    "##### Plot Learning Curves"
   ]
  },
  {
   "cell_type": "code",
   "execution_count": 27,
   "id": "9158e6a2",
   "metadata": {
    "scrolled": false
   },
   "outputs": [
    {
     "data": {
      "image/png": "[encoded data removed]",
      "text/plain": [
       "<Figure size 1296x432 with 2 Axes>"
      ]
     },
     "metadata": {
      "needs_background": "light"
     },
     "output_type": "display_data"
    }
   ],
   "source": [
    "plt.figure(figsize=(18,6))\n",
    "\n",
    "plt.subplot(121)\n",
    "plt.plot(range(1,numOfEpochs+1),history.history['val_accuracy'],label='validation')\n",
    "plt.plot(range(1,numOfEpochs+1),history.history['accuracy'],label='training')\n",
    "plt.legend(loc=0)\n",
    "plt.xlabel('Epochs')\n",
    "plt.ylabel('Accuracy')\n",
    "plt.xlim([1,numOfEpochs])\n",
    "plt.grid(True)\n",
    "plt.title(\"Model Accuracy\")\n",
    "\n",
    "plt.subplot(122)\n",
    "plt.plot(range(1,numOfEpochs+1),history.history['val_loss'],label='validation')\n",
    "plt.plot(range(1,numOfEpochs+1),history.history['loss'],label='training')\n",
    "plt.legend(loc=0)\n",
    "plt.xlabel('Epochs')\n",
    "plt.ylabel('Loss')\n",
    "plt.xlim([1,numOfEpochs])\n",
    "plt.grid(True)\n",
    "plt.title(\"Model Loss\")\n",
    "\n",
    "plt.show() "
   ]
  },
  {
   "cell_type": "markdown",
   "id": "40b964dd",
   "metadata": {},
   "source": [
    "#### Experiment 5"
   ]
  },
  {
   "cell_type": "markdown",
   "id": "a0ff4cf1",
   "metadata": {},
   "source": [
    "##### Build the MLP Model"
   ]
  },
  {
   "cell_type": "code",
   "execution_count": 28,
   "id": "51e849f2",
   "metadata": {
    "scrolled": true
   },
   "outputs": [
    {
     "name": "stdout",
     "output_type": "stream",
     "text": [
      "Model: \"MLP_Multiclass_Classifier\"\n",
      "_________________________________________________________________\n",
      "Layer (type)                 Output Shape              Param #   \n",
      "=================================================================\n",
      "flatten (Flatten)            (None, 784)               0         \n",
      "_________________________________________________________________\n",
      "dense (Dense)                (None, 300)               235500    \n",
      "_________________________________________________________________\n",
      "dense_1 (Dense)              (None, 100)               30100     \n",
      "_________________________________________________________________\n",
      "dense_2 (Dense)              (None, 10)                1010      \n",
      "=================================================================\n",
      "Total params: 266,610\n",
      "Trainable params: 266,610\n",
      "Non-trainable params: 0\n",
      "_________________________________________________________________\n",
      "CPU times: user 60.9 ms, sys: 5.72 ms, total: 66.6 ms\n",
      "Wall time: 30.3 ms\n"
     ]
    }
   ],
   "source": [
    "%%time\n",
    "\n",
    "'''\n",
    "Delete the TensorFlow graph before creating a new model, otherwise memory overflow will occur.\n",
    "'''\n",
    "tf.keras.backend.clear_session()\n",
    "\n",
    "'''\n",
    "To reproduce the same result by the model in each iteration, we use fixed seeds for random number generation. \n",
    "'''\n",
    "np.random.seed(42)\n",
    "tf.random.set_seed(42)\n",
    "\n",
    "\n",
    "'''\n",
    "Set the values for weight initializer and activation function\n",
    "'''\n",
    "kernel_initializer = 'random_normal'\n",
    "activation = 'relu'\n",
    "number_of_classes = 10\n",
    "\n",
    "\n",
    "'''\n",
    "Create a Sequential model composed of a single stack of layers connected sequentially. \n",
    "- Add the layers one by one.\n",
    "- Apply Dropout regularization\n",
    "'''\n",
    "model = tf.keras.models.Sequential(name=\"MLP_Multiclass_Classifier\")\n",
    "model.add(tf.keras.layers.Flatten(input_shape=[28, 28]))\n",
    "model.add(tf.keras.layers.Dense(units=300, kernel_initializer=kernel_initializer, activation=activation, \n",
    "                             bias_initializer=\"zeros\"))\n",
    "# model.add(tf.keras.layers.Dropout(rate=0.1)) # add if needed\n",
    "model.add(tf.keras.layers.Dense(units=100, kernel_initializer=kernel_initializer, activation=activation,\n",
    "                            bias_initializer=\"zeros\"))\n",
    "# model.add(tf.keras.layers.Dropout(rate=0.1)) # add if needed\n",
    "model.add(tf.keras.layers.Dense(units=number_of_classes, kernel_initializer=kernel_initializer, \n",
    "                             activation=\"softmax\"))\n",
    "\n",
    "model.summary()"
   ]
  },
  {
   "cell_type": "markdown",
   "id": "c4b8b28a",
   "metadata": {},
   "source": [
    "##### Train the MLP Model"
   ]
  },
  {
   "cell_type": "code",
   "execution_count": 29,
   "id": "2064e7f4",
   "metadata": {},
   "outputs": [
    {
     "name": "stdout",
     "output_type": "stream",
     "text": [
      "Epoch 1/50\n",
      "860/860 [==============================] - 5s 6ms/step - loss: 0.7941 - accuracy: 0.7732 - val_loss: 0.1954 - val_accuracy: 0.9454\n",
      "Epoch 2/50\n",
      "860/860 [==============================] - 4s 5ms/step - loss: 0.1896 - accuracy: 0.9444 - val_loss: 0.1437 - val_accuracy: 0.9600\n",
      "Epoch 3/50\n",
      "860/860 [==============================] - 5s 6ms/step - loss: 0.1282 - accuracy: 0.9623 - val_loss: 0.1011 - val_accuracy: 0.9718\n",
      "Epoch 4/50\n",
      "860/860 [==============================] - 5s 6ms/step - loss: 0.0911 - accuracy: 0.9731 - val_loss: 0.0891 - val_accuracy: 0.9758\n",
      "Epoch 5/50\n",
      "860/860 [==============================] - 5s 6ms/step - loss: 0.0712 - accuracy: 0.9796 - val_loss: 0.0856 - val_accuracy: 0.9756\n",
      "Epoch 6/50\n",
      "860/860 [==============================] - 4s 5ms/step - loss: 0.0559 - accuracy: 0.9838 - val_loss: 0.0728 - val_accuracy: 0.9790\n",
      "Epoch 7/50\n",
      "860/860 [==============================] - 5s 5ms/step - loss: 0.0462 - accuracy: 0.9869 - val_loss: 0.0741 - val_accuracy: 0.9802\n",
      "Epoch 8/50\n",
      "860/860 [==============================] - 5s 6ms/step - loss: 0.0354 - accuracy: 0.9894 - val_loss: 0.0862 - val_accuracy: 0.9750\n",
      "Epoch 9/50\n",
      "860/860 [==============================] - 5s 6ms/step - loss: 0.0320 - accuracy: 0.9915 - val_loss: 0.0667 - val_accuracy: 0.9818\n",
      "Epoch 10/50\n",
      "860/860 [==============================] - 5s 5ms/step - loss: 0.0236 - accuracy: 0.9939 - val_loss: 0.0632 - val_accuracy: 0.9830\n",
      "Epoch 11/50\n",
      "860/860 [==============================] - 4s 5ms/step - loss: 0.0193 - accuracy: 0.9954 - val_loss: 0.0677 - val_accuracy: 0.9812\n",
      "Epoch 12/50\n",
      "860/860 [==============================] - 4s 5ms/step - loss: 0.0150 - accuracy: 0.9967 - val_loss: 0.0713 - val_accuracy: 0.9806\n",
      "Epoch 13/50\n",
      "860/860 [==============================] - 4s 5ms/step - loss: 0.0109 - accuracy: 0.9981 - val_loss: 0.0805 - val_accuracy: 0.9800\n",
      "Epoch 14/50\n",
      "860/860 [==============================] - 5s 6ms/step - loss: 0.0106 - accuracy: 0.9981 - val_loss: 0.0661 - val_accuracy: 0.9840\n",
      "Epoch 15/50\n",
      "860/860 [==============================] - 5s 6ms/step - loss: 0.0070 - accuracy: 0.9991 - val_loss: 0.0754 - val_accuracy: 0.9780\n",
      "Epoch 16/50\n",
      "860/860 [==============================] - 4s 5ms/step - loss: 0.0074 - accuracy: 0.9991 - val_loss: 0.0692 - val_accuracy: 0.9820\n",
      "Epoch 17/50\n",
      "860/860 [==============================] - 4s 5ms/step - loss: 0.0049 - accuracy: 0.9996 - val_loss: 0.0702 - val_accuracy: 0.9826\n",
      "Epoch 18/50\n",
      "860/860 [==============================] - 4s 4ms/step - loss: 0.0040 - accuracy: 0.9998 - val_loss: 0.0706 - val_accuracy: 0.9834\n",
      "Epoch 19/50\n",
      "860/860 [==============================] - 4s 5ms/step - loss: 0.0033 - accuracy: 0.9998 - val_loss: 0.0710 - val_accuracy: 0.9840\n",
      "Epoch 20/50\n",
      "860/860 [==============================] - 4s 5ms/step - loss: 0.0030 - accuracy: 0.9999 - val_loss: 0.0738 - val_accuracy: 0.9826\n",
      "Epoch 00020: early stopping\n",
      "CPU times: user 4min 15s, sys: 14.1 s, total: 4min 29s\n",
      "Wall time: 1min 31s\n"
     ]
    }
   ],
   "source": [
    "%%time\n",
    "\n",
    "'''\n",
    "Define the optimizer\n",
    "'''\n",
    "optimizer = tf.keras.optimizers.SGD(learning_rate=0.1)\n",
    "\n",
    "\n",
    "'''\n",
    "Compile the model\n",
    "'''\n",
    "model.compile(loss=\"sparse_categorical_crossentropy\",\n",
    "              optimizer=optimizer,\n",
    "              metrics=[\"accuracy\"])\n",
    "\n",
    "\n",
    "\n",
    "'''\n",
    "Create the early stopping callback function.\n",
    "'''\n",
    "early_stopping_cb = tf.keras.callbacks.EarlyStopping(monitor='val_loss',\n",
    "                                  min_delta=0, \n",
    "                                  patience=10, \n",
    "                                  verbose=1, \n",
    "                                  mode='auto',\n",
    "                                  restore_best_weights=False)\n",
    "\n",
    "'''\n",
    "Set the epochs and mini batch size\n",
    "'''\n",
    "no_of_epochs = 50\n",
    "size_of_mini_batch = 64\n",
    "\n",
    "\n",
    "'''\n",
    "Train the model\n",
    "'''\n",
    "history = model.fit(X_train, y_train, \n",
    "                    batch_size=size_of_mini_batch, \n",
    "                    epochs=no_of_epochs,\n",
    "                    verbose=1,\n",
    "                    validation_data=(X_valid, y_valid),\n",
    "                    callbacks=[early_stopping_cb])"
   ]
  },
  {
   "cell_type": "markdown",
   "id": "1d164989",
   "metadata": {},
   "source": [
    "##### History object"
   ]
  },
  {
   "cell_type": "code",
   "execution_count": 30,
   "id": "68b784e0",
   "metadata": {
    "scrolled": true
   },
   "outputs": [
    {
     "name": "stdout",
     "output_type": "stream",
     "text": [
      "Training Parameters:  {'verbose': 1, 'epochs': 50, 'steps': 860}\n",
      "\n",
      "List of Epochs:  [0, 1, 2, 3, 4, 5, 6, 7, 8, 9, 10, 11, 12, 13, 14, 15, 16, 17, 18, 19]\n",
      "\n",
      "Evaluation Metrics:  dict_keys(['loss', 'accuracy', 'val_loss', 'val_accuracy'])\n"
     ]
    }
   ],
   "source": [
    "print(\"Training Parameters: \", history.params)\n",
    "print(\"\\nList of Epochs: \", history.epoch)\n",
    "print(\"\\nEvaluation Metrics: \", history.history.keys())"
   ]
  },
  {
   "cell_type": "markdown",
   "id": "54105936",
   "metadata": {},
   "source": [
    "##### Model evaluation"
   ]
  },
  {
   "cell_type": "code",
   "execution_count": 31,
   "id": "dd50b50e",
   "metadata": {
    "scrolled": true
   },
   "outputs": [
    {
     "name": "stdout",
     "output_type": "stream",
     "text": [
      "Epochs:  20\n",
      "\n",
      "Test Data: Loss & Accuracy:  [0.06454778462648392, 0.98089998960495]\n",
      "\n",
      "Train Accuracy:  0.9999454545454546\n",
      "\n",
      "Test Accuracy:  0.9809\n",
      "\n",
      "Test Confusion Matrix:\n",
      "[[ 968    0    1    0    1    1    2    2    4    1]\n",
      " [   0 1126    1    1    0    0    2    1    4    0]\n",
      " [   4    2 1006    2    4    0    2    6    6    0]\n",
      " [   0    0    3  996    0    2    0    2    3    4]\n",
      " [   1    0    4    0  967    0    2    1    0    7]\n",
      " [   2    0    0    9    1  867    5    1    5    2]\n",
      " [   4    2    1    1    4    2  942    0    2    0]\n",
      " [   2    4    6    3    1    0    0 1002    5    5]\n",
      " [   4    0    3    4    0    1    4    2  954    2]\n",
      " [   2    2    0    6    6    3    1    4    4  981]]\n",
      "\n",
      "Classification Report:\n",
      "              precision    recall  f1-score   support\n",
      "\n",
      "           0       0.98      0.99      0.98       980\n",
      "           1       0.99      0.99      0.99      1135\n",
      "           2       0.98      0.97      0.98      1032\n",
      "           3       0.97      0.99      0.98      1010\n",
      "           4       0.98      0.98      0.98       982\n",
      "           5       0.99      0.97      0.98       892\n",
      "           6       0.98      0.98      0.98       958\n",
      "           7       0.98      0.97      0.98      1028\n",
      "           8       0.97      0.98      0.97       974\n",
      "           9       0.98      0.97      0.98      1009\n",
      "\n",
      "    accuracy                           0.98     10000\n",
      "   macro avg       0.98      0.98      0.98     10000\n",
      "weighted avg       0.98      0.98      0.98     10000\n",
      "\n"
     ]
    }
   ],
   "source": [
    "numOfEpochs = len(history.history['loss'])\n",
    "print(\"Epochs: \", numOfEpochs)\n",
    "\n",
    "print(\"\\nTest Data: Loss & Accuracy: \", model.evaluate(X_test, y_test, verbose=0))\n",
    "\n",
    "# model.predict() method returns 10 probabilities per class for each instance (Dimension Nx10)\n",
    "y_test_predicted = model.predict(X_test)\n",
    "y_test_predicted = np.argmax(y_test_predicted, axis=1) # get the label/index of the highest probability class\n",
    "\n",
    "\n",
    "y_train_predicted = model.predict(X_train)\n",
    "y_train_predicted = np.argmax(y_train_predicted, axis=1) # get the label/index of the highest probability class\n",
    "\n",
    "train_accuracy = np.mean(y_train_predicted == y_train)\n",
    "print(\"\\nTrain Accuracy: \", train_accuracy)\n",
    "\n",
    "test_accuracy = np.mean(y_test_predicted == y_test)\n",
    "print(\"\\nTest Accuracy: \", test_accuracy)\n",
    "\n",
    "print(\"\\nTest Confusion Matrix:\")\n",
    "print(confusion_matrix(y_test, y_test_predicted))\n",
    "\n",
    "print(\"\\nClassification Report:\")\n",
    "print(classification_report(y_test, y_test_predicted))"
   ]
  },
  {
   "cell_type": "markdown",
   "id": "acc89304",
   "metadata": {},
   "source": [
    "##### Plot Learning Curves"
   ]
  },
  {
   "cell_type": "code",
   "execution_count": 32,
   "id": "a5af99f1",
   "metadata": {
    "scrolled": false
   },
   "outputs": [
    {
     "data": {
      "image/png": "[encoded data removed]",
      "text/plain": [
       "<Figure size 1296x432 with 2 Axes>"
      ]
     },
     "metadata": {
      "needs_background": "light"
     },
     "output_type": "display_data"
    }
   ],
   "source": [
    "plt.figure(figsize=(18,6))\n",
    "\n",
    "plt.subplot(121)\n",
    "plt.plot(range(1,numOfEpochs+1),history.history['val_accuracy'],label='validation')\n",
    "plt.plot(range(1,numOfEpochs+1),history.history['accuracy'],label='training')\n",
    "plt.legend(loc=0)\n",
    "plt.xlabel('Epochs')\n",
    "plt.ylabel('Accuracy')\n",
    "plt.xlim([1,numOfEpochs])\n",
    "plt.grid(True)\n",
    "plt.title(\"Model Accuracy\")\n",
    "\n",
    "plt.subplot(122)\n",
    "plt.plot(range(1,numOfEpochs+1),history.history['val_loss'],label='validation')\n",
    "plt.plot(range(1,numOfEpochs+1),history.history['loss'],label='training')\n",
    "plt.legend(loc=0)\n",
    "plt.xlabel('Epochs')\n",
    "plt.ylabel('Loss')\n",
    "plt.xlim([1,numOfEpochs])\n",
    "plt.grid(True)\n",
    "plt.title(\"Model Loss\")\n",
    "\n",
    "plt.show() "
   ]
  },
  {
   "cell_type": "markdown",
   "id": "99c520ef",
   "metadata": {},
   "source": [
    "#### Experiment 6"
   ]
  },
  {
   "cell_type": "markdown",
   "id": "768d21fe",
   "metadata": {},
   "source": [
    "##### Build the MLP Model"
   ]
  },
  {
   "cell_type": "code",
   "execution_count": 33,
   "id": "d480f5d4",
   "metadata": {
    "scrolled": true
   },
   "outputs": [
    {
     "name": "stdout",
     "output_type": "stream",
     "text": [
      "Model: \"MLP_Multiclass_Classifier\"\n",
      "_________________________________________________________________\n",
      "Layer (type)                 Output Shape              Param #   \n",
      "=================================================================\n",
      "flatten (Flatten)            (None, 784)               0         \n",
      "_________________________________________________________________\n",
      "dense (Dense)                (None, 300)               235500    \n",
      "_________________________________________________________________\n",
      "dropout (Dropout)            (None, 300)               0         \n",
      "_________________________________________________________________\n",
      "dense_1 (Dense)              (None, 100)               30100     \n",
      "_________________________________________________________________\n",
      "dropout_1 (Dropout)          (None, 100)               0         \n",
      "_________________________________________________________________\n",
      "dense_2 (Dense)              (None, 10)                1010      \n",
      "=================================================================\n",
      "Total params: 266,610\n",
      "Trainable params: 266,610\n",
      "Non-trainable params: 0\n",
      "_________________________________________________________________\n",
      "CPU times: user 35.9 ms, sys: 2.91 ms, total: 38.8 ms\n",
      "Wall time: 30.5 ms\n"
     ]
    }
   ],
   "source": [
    "%%time\n",
    "\n",
    "'''\n",
    "Delete the TensorFlow graph before creating a new model, otherwise memory overflow will occur.\n",
    "'''\n",
    "tf.keras.backend.clear_session()\n",
    "\n",
    "'''\n",
    "To reproduce the same result by the model in each iteration, we use fixed seeds for random number generation. \n",
    "'''\n",
    "np.random.seed(42)\n",
    "tf.random.set_seed(42)\n",
    "\n",
    "\n",
    "'''\n",
    "Set the values for weight initializer and activation function\n",
    "'''\n",
    "kernel_initializer = 'random_normal'\n",
    "activation = 'relu'\n",
    "number_of_classes = 10\n",
    "\n",
    "\n",
    "'''\n",
    "Create a Sequential model composed of a single stack of layers connected sequentially. \n",
    "- Add the layers one by one.\n",
    "- Apply Dropout regularization\n",
    "'''\n",
    "model = tf.keras.models.Sequential(name=\"MLP_Multiclass_Classifier\")\n",
    "model.add(tf.keras.layers.Flatten(input_shape=[28, 28]))\n",
    "model.add(tf.keras.layers.Dense(units=300, kernel_initializer=kernel_initializer, activation=activation, \n",
    "                             bias_initializer=\"zeros\"))\n",
    "model.add(tf.keras.layers.Dropout(rate=0.1)) # add if needed\n",
    "model.add(tf.keras.layers.Dense(units=100, kernel_initializer=kernel_initializer, activation=activation,\n",
    "                            bias_initializer=\"zeros\"))\n",
    "model.add(tf.keras.layers.Dropout(rate=0.1)) # add if needed\n",
    "model.add(tf.keras.layers.Dense(units=number_of_classes, kernel_initializer=kernel_initializer, \n",
    "                             activation=\"softmax\"))\n",
    "\n",
    "model.summary()"
   ]
  },
  {
   "cell_type": "markdown",
   "id": "4d96e27d",
   "metadata": {},
   "source": [
    "##### Train the MLP Model"
   ]
  },
  {
   "cell_type": "code",
   "execution_count": 34,
   "id": "378204f4",
   "metadata": {},
   "outputs": [
    {
     "name": "stdout",
     "output_type": "stream",
     "text": [
      "Epoch 1/50\n",
      "860/860 [==============================] - 6s 6ms/step - loss: 0.8369 - accuracy: 0.7511 - val_loss: 0.1950 - val_accuracy: 0.9454\n",
      "Epoch 2/50\n",
      "860/860 [==============================] - 4s 5ms/step - loss: 0.2102 - accuracy: 0.9366 - val_loss: 0.1423 - val_accuracy: 0.9582\n",
      "Epoch 3/50\n",
      "860/860 [==============================] - 4s 5ms/step - loss: 0.1492 - accuracy: 0.9550 - val_loss: 0.1001 - val_accuracy: 0.9698\n",
      "Epoch 4/50\n",
      "860/860 [==============================] - 5s 6ms/step - loss: 0.1113 - accuracy: 0.9679 - val_loss: 0.0911 - val_accuracy: 0.9734\n",
      "Epoch 5/50\n",
      "860/860 [==============================] - 5s 5ms/step - loss: 0.0892 - accuracy: 0.9728 - val_loss: 0.0927 - val_accuracy: 0.9698\n",
      "Epoch 6/50\n",
      "860/860 [==============================] - 5s 5ms/step - loss: 0.0755 - accuracy: 0.9771 - val_loss: 0.0743 - val_accuracy: 0.9786\n",
      "Epoch 7/50\n",
      "860/860 [==============================] - 5s 5ms/step - loss: 0.0649 - accuracy: 0.9802 - val_loss: 0.0741 - val_accuracy: 0.9784\n",
      "Epoch 8/50\n",
      "860/860 [==============================] - 5s 6ms/step - loss: 0.0554 - accuracy: 0.9832 - val_loss: 0.0785 - val_accuracy: 0.9750\n",
      "Epoch 9/50\n",
      "860/860 [==============================] - 5s 5ms/step - loss: 0.0499 - accuracy: 0.9850 - val_loss: 0.0650 - val_accuracy: 0.9808\n",
      "Epoch 10/50\n",
      "860/860 [==============================] - 5s 6ms/step - loss: 0.0423 - accuracy: 0.9871 - val_loss: 0.0606 - val_accuracy: 0.9832\n",
      "Epoch 11/50\n",
      "860/860 [==============================] - 4s 5ms/step - loss: 0.0366 - accuracy: 0.9885 - val_loss: 0.0604 - val_accuracy: 0.9824\n",
      "Epoch 12/50\n",
      "860/860 [==============================] - 4s 5ms/step - loss: 0.0356 - accuracy: 0.9895 - val_loss: 0.0781 - val_accuracy: 0.9772\n",
      "Epoch 13/50\n",
      "860/860 [==============================] - 4s 5ms/step - loss: 0.0305 - accuracy: 0.9904 - val_loss: 0.0588 - val_accuracy: 0.9834\n",
      "Epoch 14/50\n",
      "860/860 [==============================] - 4s 5ms/step - loss: 0.0281 - accuracy: 0.9914 - val_loss: 0.0601 - val_accuracy: 0.9824\n",
      "Epoch 15/50\n",
      "860/860 [==============================] - 5s 5ms/step - loss: 0.0237 - accuracy: 0.9930 - val_loss: 0.0611 - val_accuracy: 0.9820\n",
      "Epoch 16/50\n",
      "860/860 [==============================] - 4s 5ms/step - loss: 0.0240 - accuracy: 0.9926 - val_loss: 0.0589 - val_accuracy: 0.9836\n",
      "Epoch 17/50\n",
      "860/860 [==============================] - 5s 5ms/step - loss: 0.0205 - accuracy: 0.9936 - val_loss: 0.0664 - val_accuracy: 0.9816\n",
      "Epoch 18/50\n",
      "860/860 [==============================] - 4s 5ms/step - loss: 0.0199 - accuracy: 0.9940 - val_loss: 0.0617 - val_accuracy: 0.9822\n",
      "Epoch 19/50\n",
      "860/860 [==============================] - 4s 5ms/step - loss: 0.0168 - accuracy: 0.9949 - val_loss: 0.0603 - val_accuracy: 0.9840\n",
      "Epoch 20/50\n",
      "860/860 [==============================] - 4s 5ms/step - loss: 0.0163 - accuracy: 0.9951 - val_loss: 0.0665 - val_accuracy: 0.9822\n",
      "Epoch 21/50\n",
      "860/860 [==============================] - 4s 5ms/step - loss: 0.0152 - accuracy: 0.9957 - val_loss: 0.0655 - val_accuracy: 0.9824\n",
      "Epoch 22/50\n",
      "860/860 [==============================] - 4s 5ms/step - loss: 0.0135 - accuracy: 0.9964 - val_loss: 0.0688 - val_accuracy: 0.9832\n",
      "Epoch 23/50\n",
      "860/860 [==============================] - 4s 5ms/step - loss: 0.0138 - accuracy: 0.9963 - val_loss: 0.0634 - val_accuracy: 0.9836\n",
      "Epoch 00023: early stopping\n",
      "CPU times: user 4min 46s, sys: 15.8 s, total: 5min 2s\n",
      "Wall time: 1min 42s\n"
     ]
    }
   ],
   "source": [
    "%%time\n",
    "\n",
    "'''\n",
    "Define the optimizer\n",
    "'''\n",
    "optimizer = tf.keras.optimizers.SGD(learning_rate=0.1)\n",
    "\n",
    "\n",
    "'''\n",
    "Compile the model\n",
    "'''\n",
    "model.compile(loss=\"sparse_categorical_crossentropy\",\n",
    "              optimizer=optimizer,\n",
    "              metrics=[\"accuracy\"])\n",
    "\n",
    "\n",
    "\n",
    "'''\n",
    "Create the early stopping callback function.\n",
    "'''\n",
    "early_stopping_cb = tf.keras.callbacks.EarlyStopping(monitor='val_loss',\n",
    "                                  min_delta=0, \n",
    "                                  patience=10, \n",
    "                                  verbose=1, \n",
    "                                  mode='auto',\n",
    "                                  restore_best_weights=False)\n",
    "\n",
    "'''\n",
    "Set the epochs and mini batch size\n",
    "'''\n",
    "no_of_epochs = 50\n",
    "size_of_mini_batch = 64\n",
    "\n",
    "\n",
    "'''\n",
    "Train the model\n",
    "'''\n",
    "history = model.fit(X_train, y_train, \n",
    "                    batch_size=size_of_mini_batch, \n",
    "                    epochs=no_of_epochs,\n",
    "                    verbose=1,\n",
    "                    validation_data=(X_valid, y_valid),\n",
    "                    callbacks=[early_stopping_cb])"
   ]
  },
  {
   "cell_type": "markdown",
   "id": "6f195ec2",
   "metadata": {},
   "source": [
    "##### History object"
   ]
  },
  {
   "cell_type": "code",
   "execution_count": 35,
   "id": "b210d1af",
   "metadata": {
    "scrolled": false
   },
   "outputs": [
    {
     "name": "stdout",
     "output_type": "stream",
     "text": [
      "Training Parameters:  {'verbose': 1, 'epochs': 50, 'steps': 860}\n",
      "\n",
      "List of Epochs:  [0, 1, 2, 3, 4, 5, 6, 7, 8, 9, 10, 11, 12, 13, 14, 15, 16, 17, 18, 19, 20, 21, 22]\n",
      "\n",
      "Evaluation Metrics:  dict_keys(['loss', 'accuracy', 'val_loss', 'val_accuracy'])\n"
     ]
    }
   ],
   "source": [
    "print(\"Training Parameters: \", history.params)\n",
    "print(\"\\nList of Epochs: \", history.epoch)\n",
    "print(\"\\nEvaluation Metrics: \", history.history.keys())"
   ]
  },
  {
   "cell_type": "markdown",
   "id": "b998c437",
   "metadata": {},
   "source": [
    "##### Model evaluation"
   ]
  },
  {
   "cell_type": "code",
   "execution_count": 36,
   "id": "f9216967",
   "metadata": {},
   "outputs": [
    {
     "name": "stdout",
     "output_type": "stream",
     "text": [
      "Epochs:  23\n",
      "\n",
      "Test Data: Loss & Accuracy:  [0.062048908323049545, 0.9817000031471252]\n",
      "\n",
      "Train Accuracy:  0.9990363636363636\n",
      "\n",
      "Test Accuracy:  0.9817\n",
      "\n",
      "Test Confusion Matrix:\n",
      "[[ 971    0    1    0    0    1    4    0    2    1]\n",
      " [   0 1126    2    1    0    0    3    1    2    0]\n",
      " [   5    2 1010    3    3    0    1    3    4    1]\n",
      " [   0    0    4  993    0    3    0    1    2    7]\n",
      " [   1    0    3    0  963    0    4    0    0   11]\n",
      " [   2    0    0    5    1  877    4    1    1    1]\n",
      " [   5    3    0    1    2    2  945    0    0    0]\n",
      " [   2    6    7    3    1    0    0  999    5    5]\n",
      " [   6    0    4    2    2    2    5    2  948    3]\n",
      " [   2    2    0    4    7    2    2    3    2  985]]\n",
      "\n",
      "Classification Report:\n",
      "              precision    recall  f1-score   support\n",
      "\n",
      "           0       0.98      0.99      0.98       980\n",
      "           1       0.99      0.99      0.99      1135\n",
      "           2       0.98      0.98      0.98      1032\n",
      "           3       0.98      0.98      0.98      1010\n",
      "           4       0.98      0.98      0.98       982\n",
      "           5       0.99      0.98      0.99       892\n",
      "           6       0.98      0.99      0.98       958\n",
      "           7       0.99      0.97      0.98      1028\n",
      "           8       0.98      0.97      0.98       974\n",
      "           9       0.97      0.98      0.97      1009\n",
      "\n",
      "    accuracy                           0.98     10000\n",
      "   macro avg       0.98      0.98      0.98     10000\n",
      "weighted avg       0.98      0.98      0.98     10000\n",
      "\n"
     ]
    }
   ],
   "source": [
    "numOfEpochs = len(history.history['loss'])\n",
    "print(\"Epochs: \", numOfEpochs)\n",
    "\n",
    "print(\"\\nTest Data: Loss & Accuracy: \", model.evaluate(X_test, y_test, verbose=0))\n",
    "\n",
    "# model.predict() method returns 10 probabilities per class for each instance (Dimension Nx10)\n",
    "y_test_predicted = model.predict(X_test)\n",
    "y_test_predicted = np.argmax(y_test_predicted, axis=1) # get the label/index of the highest probability class\n",
    "\n",
    "\n",
    "y_train_predicted = model.predict(X_train)\n",
    "y_train_predicted = np.argmax(y_train_predicted, axis=1) # get the label/index of the highest probability class\n",
    "\n",
    "train_accuracy = np.mean(y_train_predicted == y_train)\n",
    "print(\"\\nTrain Accuracy: \", train_accuracy)\n",
    "\n",
    "test_accuracy = np.mean(y_test_predicted == y_test)\n",
    "print(\"\\nTest Accuracy: \", test_accuracy)\n",
    "\n",
    "print(\"\\nTest Confusion Matrix:\")\n",
    "print(confusion_matrix(y_test, y_test_predicted))\n",
    "\n",
    "print(\"\\nClassification Report:\")\n",
    "print(classification_report(y_test, y_test_predicted))"
   ]
  },
  {
   "cell_type": "markdown",
   "id": "ca399ee3",
   "metadata": {},
   "source": [
    "##### Plot Learning Curves"
   ]
  },
  {
   "cell_type": "code",
   "execution_count": 37,
   "id": "299e8fb5",
   "metadata": {
    "scrolled": false
   },
   "outputs": [
    {
     "data": {
      "image/png": "[encoded data removed]",
      "text/plain": [
       "<Figure size 1296x432 with 2 Axes>"
      ]
     },
     "metadata": {
      "needs_background": "light"
     },
     "output_type": "display_data"
    }
   ],
   "source": [
    "plt.figure(figsize=(18,6))\n",
    "\n",
    "plt.subplot(121)\n",
    "plt.plot(range(1,numOfEpochs+1),history.history['val_accuracy'],label='validation')\n",
    "plt.plot(range(1,numOfEpochs+1),history.history['accuracy'],label='training')\n",
    "plt.legend(loc=0)\n",
    "plt.xlabel('Epochs')\n",
    "plt.ylabel('Accuracy')\n",
    "plt.xlim([1,numOfEpochs])\n",
    "plt.grid(True)\n",
    "plt.title(\"Model Accuracy\")\n",
    "\n",
    "plt.subplot(122)\n",
    "plt.plot(range(1,numOfEpochs+1),history.history['val_loss'],label='validation')\n",
    "plt.plot(range(1,numOfEpochs+1),history.history['loss'],label='training')\n",
    "plt.legend(loc=0)\n",
    "plt.xlabel('Epochs')\n",
    "plt.ylabel('Loss')\n",
    "plt.xlim([1,numOfEpochs])\n",
    "plt.grid(True)\n",
    "plt.title(\"Model Loss\")\n",
    "\n",
    "plt.show() "
   ]
  },
  {
   "cell_type": "markdown",
   "id": "71b50113",
   "metadata": {},
   "source": [
    "#### Experiment 7"
   ]
  },
  {
   "cell_type": "markdown",
   "id": "379d8acd",
   "metadata": {},
   "source": [
    "##### Build the MLP Model"
   ]
  },
  {
   "cell_type": "code",
   "execution_count": 38,
   "id": "c7ad8223",
   "metadata": {
    "scrolled": true
   },
   "outputs": [
    {
     "name": "stdout",
     "output_type": "stream",
     "text": [
      "Model: \"MLP_Multiclass_Classifier\"\n",
      "_________________________________________________________________\n",
      "Layer (type)                 Output Shape              Param #   \n",
      "=================================================================\n",
      "flatten (Flatten)            (None, 784)               0         \n",
      "_________________________________________________________________\n",
      "dense (Dense)                (None, 300)               235500    \n",
      "_________________________________________________________________\n",
      "dropout (Dropout)            (None, 300)               0         \n",
      "_________________________________________________________________\n",
      "dense_1 (Dense)              (None, 100)               30100     \n",
      "_________________________________________________________________\n",
      "dropout_1 (Dropout)          (None, 100)               0         \n",
      "_________________________________________________________________\n",
      "dense_2 (Dense)              (None, 10)                1010      \n",
      "=================================================================\n",
      "Total params: 266,610\n",
      "Trainable params: 266,610\n",
      "Non-trainable params: 0\n",
      "_________________________________________________________________\n",
      "CPU times: user 41.3 ms, sys: 25.6 ms, total: 66.9 ms\n",
      "Wall time: 52.1 ms\n"
     ]
    }
   ],
   "source": [
    "%%time\n",
    "\n",
    "'''\n",
    "Delete the TensorFlow graph before creating a new model, otherwise memory overflow will occur.\n",
    "'''\n",
    "tf.keras.backend.clear_session()\n",
    "\n",
    "'''\n",
    "To reproduce the same result by the model in each iteration, we use fixed seeds for random number generation. \n",
    "'''\n",
    "np.random.seed(42)\n",
    "tf.random.set_seed(42)\n",
    "\n",
    "\n",
    "'''\n",
    "Set the values for weight initializer and activation function\n",
    "'''\n",
    "kernel_initializer = 'random_normal'\n",
    "activation = 'relu'\n",
    "number_of_classes = 10\n",
    "\n",
    "\n",
    "'''\n",
    "Create a Sequential model composed of a single stack of layers connected sequentially. \n",
    "- Add the layers one by one.\n",
    "- Apply Dropout regularization\n",
    "'''\n",
    "model = tf.keras.models.Sequential(name=\"MLP_Multiclass_Classifier\")\n",
    "model.add(tf.keras.layers.Flatten(input_shape=[28, 28]))\n",
    "model.add(tf.keras.layers.Dense(units=300, kernel_initializer=kernel_initializer, activation=activation, \n",
    "                             bias_initializer=\"zeros\"))\n",
    "model.add(tf.keras.layers.Dropout(rate=0.5)) # add if needed\n",
    "model.add(tf.keras.layers.Dense(units=100, kernel_initializer=kernel_initializer, activation=activation,\n",
    "                            bias_initializer=\"zeros\"))\n",
    "model.add(tf.keras.layers.Dropout(rate=0.1)) # add if needed\n",
    "model.add(tf.keras.layers.Dense(units=number_of_classes, kernel_initializer=kernel_initializer, \n",
    "                             activation=\"softmax\"))\n",
    "\n",
    "model.summary()"
   ]
  },
  {
   "cell_type": "markdown",
   "id": "139d2f8b",
   "metadata": {},
   "source": [
    "##### Train the MLP Model"
   ]
  },
  {
   "cell_type": "code",
   "execution_count": 39,
   "id": "daf648ff",
   "metadata": {},
   "outputs": [
    {
     "name": "stdout",
     "output_type": "stream",
     "text": [
      "Epoch 1/50\n",
      "860/860 [==============================] - 5s 6ms/step - loss: 0.9443 - accuracy: 0.7029 - val_loss: 0.2043 - val_accuracy: 0.9406\n",
      "Epoch 2/50\n",
      "860/860 [==============================] - 7s 8ms/step - loss: 0.2703 - accuracy: 0.9167 - val_loss: 0.1465 - val_accuracy: 0.9594\n",
      "Epoch 3/50\n",
      "860/860 [==============================] - 5s 6ms/step - loss: 0.2020 - accuracy: 0.9400 - val_loss: 0.1130 - val_accuracy: 0.9668\n",
      "Epoch 4/50\n",
      "860/860 [==============================] - 5s 6ms/step - loss: 0.1643 - accuracy: 0.9505 - val_loss: 0.0999 - val_accuracy: 0.9720\n",
      "Epoch 5/50\n",
      "860/860 [==============================] - 5s 6ms/step - loss: 0.1442 - accuracy: 0.9551 - val_loss: 0.0920 - val_accuracy: 0.9738\n",
      "Epoch 6/50\n",
      "860/860 [==============================] - 6s 7ms/step - loss: 0.1295 - accuracy: 0.9594 - val_loss: 0.0850 - val_accuracy: 0.9760\n",
      "Epoch 7/50\n",
      "860/860 [==============================] - 6s 7ms/step - loss: 0.1163 - accuracy: 0.9643 - val_loss: 0.0803 - val_accuracy: 0.9768\n",
      "Epoch 8/50\n",
      "860/860 [==============================] - 5s 6ms/step - loss: 0.1077 - accuracy: 0.9660 - val_loss: 0.0748 - val_accuracy: 0.9778\n",
      "Epoch 9/50\n",
      "860/860 [==============================] - 5s 5ms/step - loss: 0.1038 - accuracy: 0.9687 - val_loss: 0.0727 - val_accuracy: 0.9788\n",
      "Epoch 10/50\n",
      "860/860 [==============================] - 4s 5ms/step - loss: 0.0935 - accuracy: 0.9709 - val_loss: 0.0676 - val_accuracy: 0.9796\n",
      "Epoch 11/50\n",
      "860/860 [==============================] - 4s 5ms/step - loss: 0.0897 - accuracy: 0.9701 - val_loss: 0.0741 - val_accuracy: 0.9794\n",
      "Epoch 12/50\n",
      "860/860 [==============================] - 4s 5ms/step - loss: 0.0860 - accuracy: 0.9722 - val_loss: 0.0722 - val_accuracy: 0.9788\n",
      "Epoch 13/50\n",
      "860/860 [==============================] - 5s 6ms/step - loss: 0.0799 - accuracy: 0.9744 - val_loss: 0.0680 - val_accuracy: 0.9824\n",
      "Epoch 14/50\n",
      "860/860 [==============================] - 5s 6ms/step - loss: 0.0759 - accuracy: 0.9768 - val_loss: 0.0676 - val_accuracy: 0.9820\n",
      "Epoch 15/50\n",
      "860/860 [==============================] - 5s 5ms/step - loss: 0.0697 - accuracy: 0.9775 - val_loss: 0.0658 - val_accuracy: 0.9796\n",
      "Epoch 16/50\n",
      "860/860 [==============================] - 4s 5ms/step - loss: 0.0686 - accuracy: 0.9794 - val_loss: 0.0665 - val_accuracy: 0.9822\n",
      "Epoch 17/50\n",
      "860/860 [==============================] - 5s 6ms/step - loss: 0.0675 - accuracy: 0.9783 - val_loss: 0.0644 - val_accuracy: 0.9820\n",
      "Epoch 18/50\n",
      "860/860 [==============================] - 5s 6ms/step - loss: 0.0617 - accuracy: 0.9793 - val_loss: 0.0624 - val_accuracy: 0.9830\n",
      "Epoch 19/50\n",
      "860/860 [==============================] - 5s 6ms/step - loss: 0.0619 - accuracy: 0.9796 - val_loss: 0.0636 - val_accuracy: 0.9816\n",
      "Epoch 20/50\n",
      "860/860 [==============================] - 6s 7ms/step - loss: 0.0560 - accuracy: 0.9810 - val_loss: 0.0632 - val_accuracy: 0.9818\n",
      "Epoch 21/50\n",
      "860/860 [==============================] - 5s 5ms/step - loss: 0.0581 - accuracy: 0.9806 - val_loss: 0.0620 - val_accuracy: 0.9846\n",
      "Epoch 22/50\n",
      "860/860 [==============================] - 5s 6ms/step - loss: 0.0569 - accuracy: 0.9812 - val_loss: 0.0619 - val_accuracy: 0.9824\n",
      "Epoch 23/50\n",
      "860/860 [==============================] - 5s 6ms/step - loss: 0.0568 - accuracy: 0.9818 - val_loss: 0.0633 - val_accuracy: 0.9838\n",
      "Epoch 24/50\n",
      "860/860 [==============================] - 6s 7ms/step - loss: 0.0546 - accuracy: 0.9820 - val_loss: 0.0668 - val_accuracy: 0.9826\n",
      "Epoch 25/50\n",
      "860/860 [==============================] - 5s 6ms/step - loss: 0.0504 - accuracy: 0.9831 - val_loss: 0.0615 - val_accuracy: 0.9822\n",
      "Epoch 26/50\n",
      "860/860 [==============================] - 6s 7ms/step - loss: 0.0490 - accuracy: 0.9839 - val_loss: 0.0630 - val_accuracy: 0.9840\n",
      "Epoch 27/50\n",
      "860/860 [==============================] - 5s 6ms/step - loss: 0.0483 - accuracy: 0.9840 - val_loss: 0.0623 - val_accuracy: 0.9836\n",
      "Epoch 28/50\n",
      "860/860 [==============================] - 5s 6ms/step - loss: 0.0488 - accuracy: 0.9832 - val_loss: 0.0666 - val_accuracy: 0.9830\n",
      "Epoch 29/50\n",
      "860/860 [==============================] - 5s 5ms/step - loss: 0.0462 - accuracy: 0.9842 - val_loss: 0.0617 - val_accuracy: 0.9838\n",
      "Epoch 30/50\n",
      "860/860 [==============================] - 4s 5ms/step - loss: 0.0432 - accuracy: 0.9852 - val_loss: 0.0618 - val_accuracy: 0.9848\n",
      "Epoch 31/50\n",
      "860/860 [==============================] - 5s 6ms/step - loss: 0.0395 - accuracy: 0.9872 - val_loss: 0.0612 - val_accuracy: 0.9836\n",
      "Epoch 32/50\n",
      "860/860 [==============================] - 5s 6ms/step - loss: 0.0420 - accuracy: 0.9865 - val_loss: 0.0624 - val_accuracy: 0.9836\n",
      "Epoch 33/50\n",
      "860/860 [==============================] - 4s 5ms/step - loss: 0.0424 - accuracy: 0.9859 - val_loss: 0.0607 - val_accuracy: 0.9850\n",
      "Epoch 34/50\n",
      "860/860 [==============================] - 5s 6ms/step - loss: 0.0403 - accuracy: 0.9866 - val_loss: 0.0605 - val_accuracy: 0.9842\n",
      "Epoch 35/50\n",
      "860/860 [==============================] - 6s 7ms/step - loss: 0.0384 - accuracy: 0.9872 - val_loss: 0.0600 - val_accuracy: 0.9832\n",
      "Epoch 36/50\n",
      "860/860 [==============================] - 5s 6ms/step - loss: 0.0400 - accuracy: 0.9866 - val_loss: 0.0622 - val_accuracy: 0.9838\n",
      "Epoch 37/50\n",
      "860/860 [==============================] - 6s 6ms/step - loss: 0.0396 - accuracy: 0.9868 - val_loss: 0.0628 - val_accuracy: 0.9844\n",
      "Epoch 38/50\n",
      "860/860 [==============================] - 5s 6ms/step - loss: 0.0388 - accuracy: 0.9868 - val_loss: 0.0619 - val_accuracy: 0.9840\n",
      "Epoch 39/50\n",
      "860/860 [==============================] - 5s 6ms/step - loss: 0.0356 - accuracy: 0.9883 - val_loss: 0.0633 - val_accuracy: 0.9848\n",
      "Epoch 40/50\n",
      "860/860 [==============================] - 5s 6ms/step - loss: 0.0360 - accuracy: 0.9877 - val_loss: 0.0610 - val_accuracy: 0.9842\n",
      "Epoch 41/50\n",
      "860/860 [==============================] - 5s 5ms/step - loss: 0.0367 - accuracy: 0.9883 - val_loss: 0.0619 - val_accuracy: 0.9836\n",
      "Epoch 42/50\n",
      "860/860 [==============================] - 5s 6ms/step - loss: 0.0334 - accuracy: 0.9890 - val_loss: 0.0617 - val_accuracy: 0.9846\n",
      "Epoch 43/50\n",
      "860/860 [==============================] - 5s 5ms/step - loss: 0.0359 - accuracy: 0.9878 - val_loss: 0.0615 - val_accuracy: 0.9850\n",
      "Epoch 44/50\n",
      "860/860 [==============================] - 5s 6ms/step - loss: 0.0328 - accuracy: 0.9895 - val_loss: 0.0613 - val_accuracy: 0.9846\n",
      "Epoch 45/50\n",
      "860/860 [==============================] - 5s 5ms/step - loss: 0.0317 - accuracy: 0.9896 - val_loss: 0.0600 - val_accuracy: 0.9842\n",
      "Epoch 46/50\n",
      "860/860 [==============================] - 5s 5ms/step - loss: 0.0314 - accuracy: 0.9895 - val_loss: 0.0641 - val_accuracy: 0.9844\n",
      "Epoch 47/50\n",
      "860/860 [==============================] - 5s 6ms/step - loss: 0.0315 - accuracy: 0.9889 - val_loss: 0.0627 - val_accuracy: 0.9836\n",
      "Epoch 48/50\n",
      "860/860 [==============================] - 6s 7ms/step - loss: 0.0319 - accuracy: 0.9892 - val_loss: 0.0606 - val_accuracy: 0.9854\n",
      "Epoch 49/50\n",
      "860/860 [==============================] - 5s 6ms/step - loss: 0.0326 - accuracy: 0.9882 - val_loss: 0.0663 - val_accuracy: 0.9854\n",
      "Epoch 50/50\n",
      "860/860 [==============================] - 5s 6ms/step - loss: 0.0310 - accuracy: 0.9892 - val_loss: 0.0621 - val_accuracy: 0.9844\n",
      "CPU times: user 11min 18s, sys: 40.1 s, total: 11min 58s\n",
      "Wall time: 4min 12s\n"
     ]
    }
   ],
   "source": [
    "%%time\n",
    "\n",
    "'''\n",
    "Define the optimizer\n",
    "'''\n",
    "optimizer = tf.keras.optimizers.SGD(learning_rate=0.1)\n",
    "\n",
    "\n",
    "'''\n",
    "Compile the model\n",
    "'''\n",
    "model.compile(loss=\"sparse_categorical_crossentropy\",\n",
    "              optimizer=optimizer,\n",
    "              metrics=[\"accuracy\"])\n",
    "\n",
    "\n",
    "\n",
    "'''\n",
    "Create the early stopping callback function.\n",
    "'''\n",
    "early_stopping_cb = tf.keras.callbacks.EarlyStopping(monitor='val_loss',\n",
    "                                  min_delta=0, \n",
    "                                  patience=10, \n",
    "                                  verbose=1, \n",
    "                                  mode='auto',\n",
    "                                  restore_best_weights=False)\n",
    "\n",
    "'''\n",
    "Set the epochs and mini batch size\n",
    "'''\n",
    "no_of_epochs = 50\n",
    "size_of_mini_batch = 64\n",
    "\n",
    "\n",
    "'''\n",
    "Train the model\n",
    "'''\n",
    "history = model.fit(X_train, y_train, \n",
    "                    batch_size=size_of_mini_batch, \n",
    "                    epochs=no_of_epochs,\n",
    "                    verbose=1,\n",
    "                    validation_data=(X_valid, y_valid),\n",
    "                    callbacks=[early_stopping_cb])"
   ]
  },
  {
   "cell_type": "markdown",
   "id": "bcdfa20a",
   "metadata": {},
   "source": [
    "##### History object"
   ]
  },
  {
   "cell_type": "code",
   "execution_count": 40,
   "id": "cf9810fd",
   "metadata": {
    "scrolled": false
   },
   "outputs": [
    {
     "name": "stdout",
     "output_type": "stream",
     "text": [
      "Training Parameters:  {'verbose': 1, 'epochs': 50, 'steps': 860}\n",
      "\n",
      "List of Epochs:  [0, 1, 2, 3, 4, 5, 6, 7, 8, 9, 10, 11, 12, 13, 14, 15, 16, 17, 18, 19, 20, 21, 22, 23, 24, 25, 26, 27, 28, 29, 30, 31, 32, 33, 34, 35, 36, 37, 38, 39, 40, 41, 42, 43, 44, 45, 46, 47, 48, 49]\n",
      "\n",
      "Evaluation Metrics:  dict_keys(['loss', 'accuracy', 'val_loss', 'val_accuracy'])\n"
     ]
    }
   ],
   "source": [
    "print(\"Training Parameters: \", history.params)\n",
    "print(\"\\nList of Epochs: \", history.epoch)\n",
    "print(\"\\nEvaluation Metrics: \", history.history.keys())"
   ]
  },
  {
   "cell_type": "markdown",
   "id": "719cd199",
   "metadata": {},
   "source": [
    "##### Model evaluation"
   ]
  },
  {
   "cell_type": "code",
   "execution_count": 41,
   "id": "0b452fd2",
   "metadata": {},
   "outputs": [
    {
     "name": "stdout",
     "output_type": "stream",
     "text": [
      "Epochs:  50\n",
      "\n",
      "Test Data: Loss & Accuracy:  [0.06274193525314331, 0.9824000000953674]\n",
      "\n",
      "Train Accuracy:  0.9991272727272728\n",
      "\n",
      "Test Accuracy:  0.9824\n",
      "\n",
      "Test Confusion Matrix:\n",
      "[[ 970    1    2    1    0    1    2    1    1    1]\n",
      " [   0 1128    1    1    0    1    2    1    1    0]\n",
      " [   0    1 1016    3    1    0    1    7    3    0]\n",
      " [   0    0    3  999    0    1    0    5    1    1]\n",
      " [   1    0    0    0  966    0    6    3    1    5]\n",
      " [   2    0    0   10    1  871    2    1    3    2]\n",
      " [   6    2    0    1    2    3  943    0    1    0]\n",
      " [   1    4    7    2    0    0    0 1010    0    4]\n",
      " [   4    1    3   11    6    4    1    3  938    3]\n",
      " [   2    3    0    4   10    1    1    5    0  983]]\n",
      "\n",
      "Classification Report:\n",
      "              precision    recall  f1-score   support\n",
      "\n",
      "           0       0.98      0.99      0.99       980\n",
      "           1       0.99      0.99      0.99      1135\n",
      "           2       0.98      0.98      0.98      1032\n",
      "           3       0.97      0.99      0.98      1010\n",
      "           4       0.98      0.98      0.98       982\n",
      "           5       0.99      0.98      0.98       892\n",
      "           6       0.98      0.98      0.98       958\n",
      "           7       0.97      0.98      0.98      1028\n",
      "           8       0.99      0.96      0.98       974\n",
      "           9       0.98      0.97      0.98      1009\n",
      "\n",
      "    accuracy                           0.98     10000\n",
      "   macro avg       0.98      0.98      0.98     10000\n",
      "weighted avg       0.98      0.98      0.98     10000\n",
      "\n"
     ]
    }
   ],
   "source": [
    "numOfEpochs = len(history.history['loss'])\n",
    "print(\"Epochs: \", numOfEpochs)\n",
    "\n",
    "print(\"\\nTest Data: Loss & Accuracy: \", model.evaluate(X_test, y_test, verbose=0))\n",
    "\n",
    "# model.predict() method returns 10 probabilities per class for each instance (Dimension Nx10)\n",
    "y_test_predicted = model.predict(X_test)\n",
    "y_test_predicted = np.argmax(y_test_predicted, axis=1) # get the label/index of the highest probability class\n",
    "\n",
    "\n",
    "y_train_predicted = model.predict(X_train)\n",
    "y_train_predicted = np.argmax(y_train_predicted, axis=1) # get the label/index of the highest probability class\n",
    "\n",
    "train_accuracy = np.mean(y_train_predicted == y_train)\n",
    "print(\"\\nTrain Accuracy: \", train_accuracy)\n",
    "\n",
    "test_accuracy = np.mean(y_test_predicted == y_test)\n",
    "print(\"\\nTest Accuracy: \", test_accuracy)\n",
    "\n",
    "print(\"\\nTest Confusion Matrix:\")\n",
    "print(confusion_matrix(y_test, y_test_predicted))\n",
    "\n",
    "print(\"\\nClassification Report:\")\n",
    "print(classification_report(y_test, y_test_predicted))"
   ]
  },
  {
   "cell_type": "markdown",
   "id": "d66c247c",
   "metadata": {},
   "source": [
    "##### Plot Learning Curves"
   ]
  },
  {
   "cell_type": "code",
   "execution_count": 42,
   "id": "dbec411c",
   "metadata": {
    "scrolled": false
   },
   "outputs": [
    {
     "data": {
      "image/png": "[encoded data removed]",
      "text/plain": [
       "<Figure size 1296x432 with 2 Axes>"
      ]
     },
     "metadata": {
      "needs_background": "light"
     },
     "output_type": "display_data"
    }
   ],
   "source": [
    "plt.figure(figsize=(18,6))\n",
    "\n",
    "plt.subplot(121)\n",
    "plt.plot(range(1,numOfEpochs+1),history.history['val_accuracy'],label='validation')\n",
    "plt.plot(range(1,numOfEpochs+1),history.history['accuracy'],label='training')\n",
    "plt.legend(loc=0)\n",
    "plt.xlabel('Epochs')\n",
    "plt.ylabel('Accuracy')\n",
    "plt.xlim([1,numOfEpochs])\n",
    "plt.grid(True)\n",
    "plt.title(\"Model Accuracy\")\n",
    "\n",
    "plt.subplot(122)\n",
    "plt.plot(range(1,numOfEpochs+1),history.history['val_loss'],label='validation')\n",
    "plt.plot(range(1,numOfEpochs+1),history.history['loss'],label='training')\n",
    "plt.legend(loc=0)\n",
    "plt.xlabel('Epochs')\n",
    "plt.ylabel('Loss')\n",
    "plt.xlim([1,numOfEpochs])\n",
    "plt.grid(True)\n",
    "plt.title(\"Model Loss\")\n",
    "\n",
    "plt.show() "
   ]
  },
  {
   "cell_type": "markdown",
   "id": "0ac1a9df",
   "metadata": {},
   "source": [
    "#### Experiment 8"
   ]
  },
  {
   "cell_type": "markdown",
   "id": "11f1188e",
   "metadata": {},
   "source": [
    "##### Build the MLP Model"
   ]
  },
  {
   "cell_type": "code",
   "execution_count": 43,
   "id": "c5d9d66d",
   "metadata": {
    "scrolled": true
   },
   "outputs": [
    {
     "name": "stdout",
     "output_type": "stream",
     "text": [
      "Model: \"MLP_Multiclass_Classifier\"\n",
      "_________________________________________________________________\n",
      "Layer (type)                 Output Shape              Param #   \n",
      "=================================================================\n",
      "flatten (Flatten)            (None, 784)               0         \n",
      "_________________________________________________________________\n",
      "dense (Dense)                (None, 300)               235500    \n",
      "_________________________________________________________________\n",
      "dropout (Dropout)            (None, 300)               0         \n",
      "_________________________________________________________________\n",
      "dense_1 (Dense)              (None, 100)               30100     \n",
      "_________________________________________________________________\n",
      "dropout_1 (Dropout)          (None, 100)               0         \n",
      "_________________________________________________________________\n",
      "dense_2 (Dense)              (None, 10)                1010      \n",
      "=================================================================\n",
      "Total params: 266,610\n",
      "Trainable params: 266,610\n",
      "Non-trainable params: 0\n",
      "_________________________________________________________________\n",
      "CPU times: user 39.4 ms, sys: 5.78 ms, total: 45.1 ms\n",
      "Wall time: 34.5 ms\n"
     ]
    }
   ],
   "source": [
    "%%time\n",
    "\n",
    "'''\n",
    "Delete the TensorFlow graph before creating a new model, otherwise memory overflow will occur.\n",
    "'''\n",
    "tf.keras.backend.clear_session()\n",
    "\n",
    "'''\n",
    "To reproduce the same result by the model in each iteration, we use fixed seeds for random number generation. \n",
    "'''\n",
    "np.random.seed(42)\n",
    "tf.random.set_seed(42)\n",
    "\n",
    "\n",
    "'''\n",
    "Set the values for weight initializer and activation function\n",
    "'''\n",
    "kernel_initializer = 'random_normal'\n",
    "activation = 'relu'\n",
    "number_of_classes = 10\n",
    "\n",
    "\n",
    "'''\n",
    "Create a Sequential model composed of a single stack of layers connected sequentially. \n",
    "- Add the layers one by one.\n",
    "- Apply Dropout regularization\n",
    "'''\n",
    "model = tf.keras.models.Sequential(name=\"MLP_Multiclass_Classifier\")\n",
    "model.add(tf.keras.layers.Flatten(input_shape=[28, 28]))\n",
    "model.add(tf.keras.layers.Dense(units=300, kernel_initializer=kernel_initializer, activation=activation, \n",
    "                             bias_initializer=\"zeros\"))\n",
    "model.add(tf.keras.layers.Dropout(rate=0.5)) # add if needed\n",
    "model.add(tf.keras.layers.Dense(units=100, kernel_initializer=kernel_initializer, activation=activation,\n",
    "                            bias_initializer=\"zeros\"))\n",
    "model.add(tf.keras.layers.Dropout(rate=0.1)) # add if needed\n",
    "model.add(tf.keras.layers.Dense(units=number_of_classes, kernel_initializer=kernel_initializer, \n",
    "                             activation=\"softmax\"))\n",
    "\n",
    "model.summary()"
   ]
  },
  {
   "cell_type": "markdown",
   "id": "d28df8c1",
   "metadata": {},
   "source": [
    "##### Train the MLP Model"
   ]
  },
  {
   "cell_type": "code",
   "execution_count": 44,
   "id": "f2b5fb0c",
   "metadata": {},
   "outputs": [
    {
     "name": "stdout",
     "output_type": "stream",
     "text": [
      "Epoch 1/50\n",
      "860/860 [==============================] - 5s 6ms/step - loss: 0.6663 - accuracy: 0.7825 - val_loss: 0.1370 - val_accuracy: 0.9600\n",
      "Epoch 2/50\n",
      "860/860 [==============================] - 5s 5ms/step - loss: 0.2145 - accuracy: 0.9350 - val_loss: 0.1141 - val_accuracy: 0.9668\n",
      "Epoch 3/50\n",
      "860/860 [==============================] - 5s 6ms/step - loss: 0.1770 - accuracy: 0.9455 - val_loss: 0.0890 - val_accuracy: 0.9724\n",
      "Epoch 4/50\n",
      "860/860 [==============================] - 5s 5ms/step - loss: 0.1452 - accuracy: 0.9556 - val_loss: 0.1063 - val_accuracy: 0.9682\n",
      "Epoch 5/50\n",
      "860/860 [==============================] - 5s 5ms/step - loss: 0.1299 - accuracy: 0.9594 - val_loss: 0.0836 - val_accuracy: 0.9736\n",
      "Epoch 6/50\n",
      "860/860 [==============================] - 5s 5ms/step - loss: 0.1255 - accuracy: 0.9603 - val_loss: 0.0830 - val_accuracy: 0.9760\n",
      "Epoch 7/50\n",
      "860/860 [==============================] - 5s 6ms/step - loss: 0.1176 - accuracy: 0.9633 - val_loss: 0.0816 - val_accuracy: 0.9770\n",
      "Epoch 8/50\n",
      "860/860 [==============================] - 5s 5ms/step - loss: 0.1134 - accuracy: 0.9638 - val_loss: 0.0769 - val_accuracy: 0.9772\n",
      "Epoch 9/50\n",
      "860/860 [==============================] - 5s 5ms/step - loss: 0.1060 - accuracy: 0.9667 - val_loss: 0.0832 - val_accuracy: 0.9762\n",
      "Epoch 10/50\n",
      "860/860 [==============================] - 5s 5ms/step - loss: 0.1020 - accuracy: 0.9674 - val_loss: 0.0727 - val_accuracy: 0.9780\n",
      "Epoch 11/50\n",
      "860/860 [==============================] - 5s 5ms/step - loss: 0.0992 - accuracy: 0.9686 - val_loss: 0.0725 - val_accuracy: 0.9802\n",
      "Epoch 12/50\n",
      "860/860 [==============================] - 5s 6ms/step - loss: 0.0884 - accuracy: 0.9726 - val_loss: 0.0788 - val_accuracy: 0.9766\n",
      "Epoch 13/50\n",
      "860/860 [==============================] - 5s 5ms/step - loss: 0.0861 - accuracy: 0.9725 - val_loss: 0.0759 - val_accuracy: 0.9786\n",
      "Epoch 14/50\n",
      "860/860 [==============================] - 5s 6ms/step - loss: 0.0868 - accuracy: 0.9726 - val_loss: 0.0822 - val_accuracy: 0.9748\n",
      "Epoch 15/50\n",
      "860/860 [==============================] - 5s 6ms/step - loss: 0.0822 - accuracy: 0.9743 - val_loss: 0.0653 - val_accuracy: 0.9822\n",
      "Epoch 16/50\n",
      "860/860 [==============================] - 5s 6ms/step - loss: 0.0799 - accuracy: 0.9740 - val_loss: 0.0658 - val_accuracy: 0.9808\n",
      "Epoch 17/50\n",
      "860/860 [==============================] - 5s 6ms/step - loss: 0.0797 - accuracy: 0.9745 - val_loss: 0.0888 - val_accuracy: 0.9762\n",
      "Epoch 18/50\n",
      "860/860 [==============================] - 6s 7ms/step - loss: 0.0779 - accuracy: 0.9753 - val_loss: 0.0802 - val_accuracy: 0.9770\n",
      "Epoch 19/50\n",
      "860/860 [==============================] - 5s 6ms/step - loss: 0.0779 - accuracy: 0.9764 - val_loss: 0.0730 - val_accuracy: 0.9800\n",
      "Epoch 20/50\n",
      "860/860 [==============================] - 5s 6ms/step - loss: 0.0746 - accuracy: 0.9769 - val_loss: 0.0672 - val_accuracy: 0.9804\n",
      "Epoch 21/50\n",
      "860/860 [==============================] - 5s 6ms/step - loss: 0.0729 - accuracy: 0.9759 - val_loss: 0.0716 - val_accuracy: 0.9804\n",
      "Epoch 22/50\n",
      "860/860 [==============================] - 5s 6ms/step - loss: 0.0674 - accuracy: 0.9787 - val_loss: 0.0728 - val_accuracy: 0.9820\n",
      "Epoch 23/50\n",
      "860/860 [==============================] - 6s 7ms/step - loss: 0.0740 - accuracy: 0.9779 - val_loss: 0.0870 - val_accuracy: 0.9782\n",
      "Epoch 24/50\n",
      "860/860 [==============================] - 5s 5ms/step - loss: 0.0695 - accuracy: 0.9782 - val_loss: 0.0734 - val_accuracy: 0.9780\n",
      "Epoch 25/50\n",
      "860/860 [==============================] - 5s 6ms/step - loss: 0.0694 - accuracy: 0.9788 - val_loss: 0.0640 - val_accuracy: 0.9822\n",
      "Epoch 26/50\n",
      "860/860 [==============================] - 5s 5ms/step - loss: 0.0655 - accuracy: 0.9798 - val_loss: 0.0673 - val_accuracy: 0.9820\n",
      "Epoch 27/50\n",
      "860/860 [==============================] - 5s 5ms/step - loss: 0.0620 - accuracy: 0.9793 - val_loss: 0.0695 - val_accuracy: 0.9808\n",
      "Epoch 28/50\n",
      "860/860 [==============================] - 5s 6ms/step - loss: 0.0629 - accuracy: 0.9799 - val_loss: 0.0730 - val_accuracy: 0.9822\n",
      "Epoch 29/50\n",
      "860/860 [==============================] - 6s 6ms/step - loss: 0.0633 - accuracy: 0.9798 - val_loss: 0.0719 - val_accuracy: 0.9800\n",
      "Epoch 30/50\n",
      "860/860 [==============================] - 7s 8ms/step - loss: 0.0638 - accuracy: 0.9804 - val_loss: 0.0675 - val_accuracy: 0.9814\n",
      "Epoch 31/50\n",
      "860/860 [==============================] - 5s 6ms/step - loss: 0.0568 - accuracy: 0.9817 - val_loss: 0.0807 - val_accuracy: 0.9780\n",
      "Epoch 32/50\n",
      "860/860 [==============================] - 5s 5ms/step - loss: 0.0649 - accuracy: 0.9796 - val_loss: 0.0752 - val_accuracy: 0.9820\n",
      "Epoch 33/50\n",
      "860/860 [==============================] - 5s 5ms/step - loss: 0.0597 - accuracy: 0.9811 - val_loss: 0.0639 - val_accuracy: 0.9808\n",
      "Epoch 34/50\n",
      "860/860 [==============================] - 5s 6ms/step - loss: 0.0600 - accuracy: 0.9824 - val_loss: 0.0692 - val_accuracy: 0.9816\n",
      "Epoch 35/50\n",
      "860/860 [==============================] - 5s 6ms/step - loss: 0.0576 - accuracy: 0.9817 - val_loss: 0.0652 - val_accuracy: 0.9814\n",
      "Epoch 36/50\n",
      "860/860 [==============================] - 5s 6ms/step - loss: 0.0557 - accuracy: 0.9824 - val_loss: 0.0704 - val_accuracy: 0.9804\n",
      "Epoch 37/50\n",
      "860/860 [==============================] - 6s 7ms/step - loss: 0.0590 - accuracy: 0.9813 - val_loss: 0.0707 - val_accuracy: 0.9824\n",
      "Epoch 38/50\n",
      "860/860 [==============================] - 5s 6ms/step - loss: 0.0587 - accuracy: 0.9814 - val_loss: 0.0709 - val_accuracy: 0.9820\n",
      "Epoch 39/50\n",
      "860/860 [==============================] - 5s 6ms/step - loss: 0.0525 - accuracy: 0.9836 - val_loss: 0.0766 - val_accuracy: 0.9818\n",
      "Epoch 40/50\n",
      "860/860 [==============================] - 5s 6ms/step - loss: 0.0557 - accuracy: 0.9827 - val_loss: 0.0786 - val_accuracy: 0.9806\n",
      "Epoch 41/50\n",
      "860/860 [==============================] - 6s 7ms/step - loss: 0.0551 - accuracy: 0.9839 - val_loss: 0.0748 - val_accuracy: 0.9814\n",
      "Epoch 42/50\n",
      "860/860 [==============================] - 6s 7ms/step - loss: 0.0570 - accuracy: 0.9823 - val_loss: 0.0782 - val_accuracy: 0.9804\n",
      "Epoch 43/50\n",
      "860/860 [==============================] - 5s 6ms/step - loss: 0.0565 - accuracy: 0.9829 - val_loss: 0.0672 - val_accuracy: 0.9836\n",
      "Epoch 00043: early stopping\n",
      "CPU times: user 9min 50s, sys: 35.9 s, total: 10min 26s\n",
      "Wall time: 3min 37s\n"
     ]
    }
   ],
   "source": [
    "%%time\n",
    "\n",
    "'''\n",
    "Define the optimizer\n",
    "'''\n",
    "optimizer = tf.keras.optimizers.SGD(learning_rate=0.5)\n",
    "\n",
    "\n",
    "'''\n",
    "Compile the model\n",
    "'''\n",
    "model.compile(loss=\"sparse_categorical_crossentropy\",\n",
    "              optimizer=optimizer,\n",
    "              metrics=[\"accuracy\"])\n",
    "\n",
    "\n",
    "\n",
    "'''\n",
    "Create the early stopping callback function.\n",
    "'''\n",
    "early_stopping_cb = tf.keras.callbacks.EarlyStopping(monitor='val_loss',\n",
    "                                  min_delta=0, \n",
    "                                  patience=10, \n",
    "                                  verbose=1, \n",
    "                                  mode='auto',\n",
    "                                  restore_best_weights=False)\n",
    "\n",
    "'''\n",
    "Set the epochs and mini batch size\n",
    "'''\n",
    "no_of_epochs = 50\n",
    "size_of_mini_batch = 64\n",
    "\n",
    "\n",
    "'''\n",
    "Train the model\n",
    "'''\n",
    "history = model.fit(X_train, y_train, \n",
    "                    batch_size=size_of_mini_batch, \n",
    "                    epochs=no_of_epochs,\n",
    "                    verbose=1,\n",
    "                    validation_data=(X_valid, y_valid),\n",
    "                    callbacks=[early_stopping_cb])"
   ]
  },
  {
   "cell_type": "markdown",
   "id": "54c30898",
   "metadata": {},
   "source": [
    "##### History object"
   ]
  },
  {
   "cell_type": "code",
   "execution_count": 45,
   "id": "1810102e",
   "metadata": {
    "scrolled": false
   },
   "outputs": [
    {
     "name": "stdout",
     "output_type": "stream",
     "text": [
      "Training Parameters:  {'verbose': 1, 'epochs': 50, 'steps': 860}\n",
      "\n",
      "List of Epochs:  [0, 1, 2, 3, 4, 5, 6, 7, 8, 9, 10, 11, 12, 13, 14, 15, 16, 17, 18, 19, 20, 21, 22, 23, 24, 25, 26, 27, 28, 29, 30, 31, 32, 33, 34, 35, 36, 37, 38, 39, 40, 41, 42]\n",
      "\n",
      "Evaluation Metrics:  dict_keys(['loss', 'accuracy', 'val_loss', 'val_accuracy'])\n"
     ]
    }
   ],
   "source": [
    "print(\"Training Parameters: \", history.params)\n",
    "print(\"\\nList of Epochs: \", history.epoch)\n",
    "print(\"\\nEvaluation Metrics: \", history.history.keys())"
   ]
  },
  {
   "cell_type": "markdown",
   "id": "a71d0167",
   "metadata": {},
   "source": [
    "##### Model evaluation"
   ]
  },
  {
   "cell_type": "code",
   "execution_count": 46,
   "id": "1432e616",
   "metadata": {},
   "outputs": [
    {
     "name": "stdout",
     "output_type": "stream",
     "text": [
      "Epochs:  43\n",
      "\n",
      "Test Data: Loss & Accuracy:  [0.07149183005094528, 0.9818000197410583]\n",
      "\n",
      "Train Accuracy:  0.9975454545454545\n",
      "\n",
      "Test Accuracy:  0.9818\n",
      "\n",
      "Test Confusion Matrix:\n",
      "[[ 971    1    0    1    0    1    4    1    0    1]\n",
      " [   0 1126    0    2    0    1    2    1    3    0]\n",
      " [   4    0 1010    3    2    0    3    7    3    0]\n",
      " [   0    0    4  996    0    2    0    2    2    4]\n",
      " [   0    0    1    1  959    0    8    1    1   11]\n",
      " [   2    0    0   10    0  872    5    1    2    0]\n",
      " [   4    2    0    1    2    3  946    0    0    0]\n",
      " [   0    4   10    1    0    0    0 1009    3    1]\n",
      " [   5    1    1    5    3    2    1    3  952    1]\n",
      " [   1    2    0    9    7    2    1    4    6  977]]\n",
      "\n",
      "Classification Report:\n",
      "              precision    recall  f1-score   support\n",
      "\n",
      "           0       0.98      0.99      0.99       980\n",
      "           1       0.99      0.99      0.99      1135\n",
      "           2       0.98      0.98      0.98      1032\n",
      "           3       0.97      0.99      0.98      1010\n",
      "           4       0.99      0.98      0.98       982\n",
      "           5       0.99      0.98      0.98       892\n",
      "           6       0.98      0.99      0.98       958\n",
      "           7       0.98      0.98      0.98      1028\n",
      "           8       0.98      0.98      0.98       974\n",
      "           9       0.98      0.97      0.98      1009\n",
      "\n",
      "    accuracy                           0.98     10000\n",
      "   macro avg       0.98      0.98      0.98     10000\n",
      "weighted avg       0.98      0.98      0.98     10000\n",
      "\n"
     ]
    }
   ],
   "source": [
    "numOfEpochs = len(history.history['loss'])\n",
    "print(\"Epochs: \", numOfEpochs)\n",
    "\n",
    "print(\"\\nTest Data: Loss & Accuracy: \", model.evaluate(X_test, y_test, verbose=0))\n",
    "\n",
    "# model.predict() method returns 10 probabilities per class for each instance (Dimension Nx10)\n",
    "y_test_predicted = model.predict(X_test)\n",
    "y_test_predicted = np.argmax(y_test_predicted, axis=1) # get the label/index of the highest probability class\n",
    "\n",
    "\n",
    "y_train_predicted = model.predict(X_train)\n",
    "y_train_predicted = np.argmax(y_train_predicted, axis=1) # get the label/index of the highest probability class\n",
    "\n",
    "train_accuracy = np.mean(y_train_predicted == y_train)\n",
    "print(\"\\nTrain Accuracy: \", train_accuracy)\n",
    "\n",
    "test_accuracy = np.mean(y_test_predicted == y_test)\n",
    "print(\"\\nTest Accuracy: \", test_accuracy)\n",
    "\n",
    "print(\"\\nTest Confusion Matrix:\")\n",
    "print(confusion_matrix(y_test, y_test_predicted))\n",
    "\n",
    "print(\"\\nClassification Report:\")\n",
    "print(classification_report(y_test, y_test_predicted))"
   ]
  },
  {
   "cell_type": "markdown",
   "id": "bea28f45",
   "metadata": {},
   "source": [
    "##### Plot Learning Curves"
   ]
  },
  {
   "cell_type": "code",
   "execution_count": 47,
   "id": "11ca1ef2",
   "metadata": {
    "scrolled": false
   },
   "outputs": [
    {
     "data": {
      "image/png": "[encoded data removed]",
      "text/plain": [
       "<Figure size 1296x432 with 2 Axes>"
      ]
     },
     "metadata": {
      "needs_background": "light"
     },
     "output_type": "display_data"
    }
   ],
   "source": [
    "plt.figure(figsize=(18,6))\n",
    "\n",
    "plt.subplot(121)\n",
    "plt.plot(range(1,numOfEpochs+1),history.history['val_accuracy'],label='validation')\n",
    "plt.plot(range(1,numOfEpochs+1),history.history['accuracy'],label='training')\n",
    "plt.legend(loc=0)\n",
    "plt.xlabel('Epochs')\n",
    "plt.ylabel('Accuracy')\n",
    "plt.xlim([1,numOfEpochs])\n",
    "plt.grid(True)\n",
    "plt.title(\"Model Accuracy\")\n",
    "\n",
    "plt.subplot(122)\n",
    "plt.plot(range(1,numOfEpochs+1),history.history['val_loss'],label='validation')\n",
    "plt.plot(range(1,numOfEpochs+1),history.history['loss'],label='training')\n",
    "plt.legend(loc=0)\n",
    "plt.xlabel('Epochs')\n",
    "plt.ylabel('Loss')\n",
    "plt.xlim([1,numOfEpochs])\n",
    "plt.grid(True)\n",
    "plt.title(\"Model Loss\")\n",
    "\n",
    "plt.show() "
   ]
  },
  {
   "cell_type": "markdown",
   "id": "9ceb0bde",
   "metadata": {},
   "source": [
    "#### Experiment 9"
   ]
  },
  {
   "cell_type": "markdown",
   "id": "6d00599f",
   "metadata": {},
   "source": [
    "##### Build the MLP Model"
   ]
  },
  {
   "cell_type": "code",
   "execution_count": 53,
   "id": "5ec6c41e",
   "metadata": {
    "scrolled": true
   },
   "outputs": [
    {
     "name": "stdout",
     "output_type": "stream",
     "text": [
      "Model: \"MLP_Multiclass_Classifier\"\n",
      "_________________________________________________________________\n",
      "Layer (type)                 Output Shape              Param #   \n",
      "=================================================================\n",
      "flatten (Flatten)            (None, 784)               0         \n",
      "_________________________________________________________________\n",
      "dense (Dense)                (None, 100)               78500     \n",
      "_________________________________________________________________\n",
      "dense_1 (Dense)              (None, 100)               10100     \n",
      "_________________________________________________________________\n",
      "dense_2 (Dense)              (None, 100)               10100     \n",
      "_________________________________________________________________\n",
      "dense_3 (Dense)              (None, 100)               10100     \n",
      "_________________________________________________________________\n",
      "dense_4 (Dense)              (None, 100)               10100     \n",
      "_________________________________________________________________\n",
      "dense_5 (Dense)              (None, 100)               10100     \n",
      "_________________________________________________________________\n",
      "dense_6 (Dense)              (None, 100)               10100     \n",
      "_________________________________________________________________\n",
      "dense_7 (Dense)              (None, 100)               10100     \n",
      "_________________________________________________________________\n",
      "dense_8 (Dense)              (None, 100)               10100     \n",
      "_________________________________________________________________\n",
      "dense_9 (Dense)              (None, 100)               10100     \n",
      "_________________________________________________________________\n",
      "dense_10 (Dense)             (None, 10)                1010      \n",
      "=================================================================\n",
      "Total params: 170,410\n",
      "Trainable params: 170,410\n",
      "Non-trainable params: 0\n",
      "_________________________________________________________________\n",
      "CPU times: user 74.7 ms, sys: 4.64 ms, total: 79.3 ms\n",
      "Wall time: 71.1 ms\n"
     ]
    }
   ],
   "source": [
    "%%time\n",
    "\n",
    "'''\n",
    "Delete the TensorFlow graph before creating a new model, otherwise memory overflow will occur.\n",
    "'''\n",
    "tf.keras.backend.clear_session()\n",
    "\n",
    "'''\n",
    "To reproduce the same result by the model in each iteration, we use fixed seeds for random number generation. \n",
    "'''\n",
    "np.random.seed(42)\n",
    "tf.random.set_seed(42)\n",
    "\n",
    "\n",
    "'''\n",
    "Set the values for weight initializer and activation function\n",
    "'''\n",
    "kernel_initializer = 'random_normal'\n",
    "activation = 'relu'\n",
    "number_of_classes = 10\n",
    "\n",
    "\n",
    "'''\n",
    "Create a Sequential model composed of a single stack of layers connected sequentially. \n",
    "- Add the layers one by one.\n",
    "- Apply Dropout regularization\n",
    "'''\n",
    "model = tf.keras.models.Sequential(name=\"MLP_Multiclass_Classifier\")\n",
    "model.add(tf.keras.layers.Flatten(input_shape=[28, 28]))\n",
    "# hidden layers\n",
    "model.add(tf.keras.layers.Dense(units=100, kernel_initializer=kernel_initializer, activation=activation, \n",
    "                             bias_initializer=\"zeros\"))\n",
    "model.add(tf.keras.layers.Dense(units=100, kernel_initializer=kernel_initializer, activation=activation,\n",
    "                            bias_initializer=\"zeros\"))\n",
    "model.add(tf.keras.layers.Dense(units=100, kernel_initializer=kernel_initializer, activation=activation,\n",
    "                            bias_initializer=\"zeros\"))\n",
    "model.add(tf.keras.layers.Dense(units=100, kernel_initializer=kernel_initializer, activation=activation,\n",
    "                            bias_initializer=\"zeros\"))\n",
    "model.add(tf.keras.layers.Dense(units=100, kernel_initializer=kernel_initializer, activation=activation,\n",
    "                            bias_initializer=\"zeros\"))\n",
    "model.add(tf.keras.layers.Dense(units=100, kernel_initializer=kernel_initializer, activation=activation,\n",
    "                            bias_initializer=\"zeros\"))\n",
    "model.add(tf.keras.layers.Dense(units=100, kernel_initializer=kernel_initializer, activation=activation,\n",
    "                            bias_initializer=\"zeros\"))\n",
    "model.add(tf.keras.layers.Dense(units=100, kernel_initializer=kernel_initializer, activation=activation,\n",
    "                            bias_initializer=\"zeros\"))\n",
    "model.add(tf.keras.layers.Dense(units=100, kernel_initializer=kernel_initializer, activation=activation,\n",
    "                            bias_initializer=\"zeros\"))\n",
    "model.add(tf.keras.layers.Dense(units=100, kernel_initializer=kernel_initializer, activation=activation,\n",
    "                            bias_initializer=\"zeros\"))\n",
    "\n",
    "# output layer\n",
    "model.add(tf.keras.layers.Dense(units=number_of_classes, kernel_initializer=kernel_initializer, \n",
    "                             activation=\"softmax\"))\n",
    "\n",
    "model.summary()"
   ]
  },
  {
   "cell_type": "markdown",
   "id": "d34a4438",
   "metadata": {},
   "source": [
    "##### Train the MLP Model"
   ]
  },
  {
   "cell_type": "code",
   "execution_count": 54,
   "id": "183555c3",
   "metadata": {},
   "outputs": [
    {
     "name": "stdout",
     "output_type": "stream",
     "text": [
      "Epoch 1/50\n",
      "860/860 [==============================] - 5s 6ms/step - loss: 2.3018 - accuracy: 0.1115 - val_loss: 2.3013 - val_accuracy: 0.1126\n",
      "Epoch 2/50\n",
      "860/860 [==============================] - 6s 7ms/step - loss: 2.3011 - accuracy: 0.1158 - val_loss: 2.3006 - val_accuracy: 0.1126\n",
      "Epoch 3/50\n",
      "860/860 [==============================] - 6s 7ms/step - loss: 2.3011 - accuracy: 0.1157 - val_loss: 2.3011 - val_accuracy: 0.1126\n",
      "Epoch 4/50\n",
      "860/860 [==============================] - 4s 5ms/step - loss: 2.3014 - accuracy: 0.1133 - val_loss: 2.3012 - val_accuracy: 0.1126\n",
      "Epoch 5/50\n",
      "860/860 [==============================] - 5s 5ms/step - loss: 2.3015 - accuracy: 0.1134 - val_loss: 2.3023 - val_accuracy: 0.1126\n",
      "Epoch 6/50\n",
      "860/860 [==============================] - 4s 5ms/step - loss: 2.3016 - accuracy: 0.1135 - val_loss: 2.3013 - val_accuracy: 0.1126\n",
      "Epoch 7/50\n",
      "860/860 [==============================] - 5s 6ms/step - loss: 2.3015 - accuracy: 0.1111 - val_loss: 2.3012 - val_accuracy: 0.1126\n",
      "Epoch 8/50\n",
      "860/860 [==============================] - 4s 5ms/step - loss: 2.3016 - accuracy: 0.1124 - val_loss: 2.3009 - val_accuracy: 0.1126\n",
      "Epoch 9/50\n",
      "860/860 [==============================] - 5s 6ms/step - loss: 2.3016 - accuracy: 0.1128 - val_loss: 2.3018 - val_accuracy: 0.1126\n",
      "Epoch 10/50\n",
      "860/860 [==============================] - 5s 6ms/step - loss: 2.3018 - accuracy: 0.1105 - val_loss: 2.3011 - val_accuracy: 0.1126\n",
      "Epoch 11/50\n",
      "860/860 [==============================] - 6s 6ms/step - loss: 2.3016 - accuracy: 0.1117 - val_loss: 2.3010 - val_accuracy: 0.1126\n",
      "Epoch 12/50\n",
      "860/860 [==============================] - 5s 6ms/step - loss: 2.3015 - accuracy: 0.1119 - val_loss: 2.3014 - val_accuracy: 0.1126\n",
      "Epoch 00012: early stopping\n",
      "CPU times: user 1min 59s, sys: 6.62 s, total: 2min 5s\n",
      "Wall time: 59.9 s\n"
     ]
    }
   ],
   "source": [
    "%%time\n",
    "\n",
    "'''\n",
    "Define the optimizer\n",
    "'''\n",
    "optimizer = tf.keras.optimizers.SGD(learning_rate=0.1)\n",
    "\n",
    "\n",
    "'''\n",
    "Compile the model\n",
    "'''\n",
    "model.compile(loss=\"sparse_categorical_crossentropy\",\n",
    "              optimizer=optimizer,\n",
    "              metrics=[\"accuracy\"])\n",
    "\n",
    "\n",
    "\n",
    "'''\n",
    "Create the early stopping callback function.\n",
    "'''\n",
    "early_stopping_cb = tf.keras.callbacks.EarlyStopping(monitor='val_loss',\n",
    "                                  min_delta=0, \n",
    "                                  patience=10, \n",
    "                                  verbose=1, \n",
    "                                  mode='auto',\n",
    "                                  restore_best_weights=False)\n",
    "\n",
    "'''\n",
    "Set the epochs and mini batch size\n",
    "'''\n",
    "no_of_epochs = 50\n",
    "size_of_mini_batch = 64\n",
    "\n",
    "\n",
    "'''\n",
    "Train the model\n",
    "'''\n",
    "history = model.fit(X_train, y_train, \n",
    "                    batch_size=size_of_mini_batch, \n",
    "                    epochs=no_of_epochs,\n",
    "                    verbose=1,\n",
    "                    validation_data=(X_valid, y_valid),\n",
    "                    callbacks=[early_stopping_cb])"
   ]
  },
  {
   "cell_type": "markdown",
   "id": "1fddea39",
   "metadata": {},
   "source": [
    "##### History object"
   ]
  },
  {
   "cell_type": "code",
   "execution_count": 55,
   "id": "310eaa9a",
   "metadata": {
    "scrolled": true
   },
   "outputs": [
    {
     "name": "stdout",
     "output_type": "stream",
     "text": [
      "Training Parameters:  {'verbose': 1, 'epochs': 50, 'steps': 860}\n",
      "\n",
      "List of Epochs:  [0, 1, 2, 3, 4, 5, 6, 7, 8, 9, 10, 11]\n",
      "\n",
      "Evaluation Metrics:  dict_keys(['loss', 'accuracy', 'val_loss', 'val_accuracy'])\n"
     ]
    }
   ],
   "source": [
    "print(\"Training Parameters: \", history.params)\n",
    "print(\"\\nList of Epochs: \", history.epoch)\n",
    "print(\"\\nEvaluation Metrics: \", history.history.keys())"
   ]
  },
  {
   "cell_type": "markdown",
   "id": "e9b1b369",
   "metadata": {},
   "source": [
    "##### Model evaluation"
   ]
  },
  {
   "cell_type": "code",
   "execution_count": 56,
   "id": "fca1c082",
   "metadata": {},
   "outputs": [
    {
     "name": "stdout",
     "output_type": "stream",
     "text": [
      "Epochs:  12\n",
      "\n",
      "Test Data: Loss & Accuracy:  [2.3011956214904785, 0.11349999904632568]\n",
      "\n",
      "Train Accuracy:  0.11234545454545454\n",
      "\n",
      "Test Accuracy:  0.1135\n",
      "\n",
      "Test Confusion Matrix:\n",
      "[[   0  980    0    0    0    0    0    0    0    0]\n",
      " [   0 1135    0    0    0    0    0    0    0    0]\n",
      " [   0 1032    0    0    0    0    0    0    0    0]\n",
      " [   0 1010    0    0    0    0    0    0    0    0]\n",
      " [   0  982    0    0    0    0    0    0    0    0]\n",
      " [   0  892    0    0    0    0    0    0    0    0]\n",
      " [   0  958    0    0    0    0    0    0    0    0]\n",
      " [   0 1028    0    0    0    0    0    0    0    0]\n",
      " [   0  974    0    0    0    0    0    0    0    0]\n",
      " [   0 1009    0    0    0    0    0    0    0    0]]\n",
      "\n",
      "Classification Report:\n",
      "              precision    recall  f1-score   support\n",
      "\n",
      "           0       0.00      0.00      0.00       980\n",
      "           1       0.11      1.00      0.20      1135\n",
      "           2       0.00      0.00      0.00      1032\n",
      "           3       0.00      0.00      0.00      1010\n",
      "           4       0.00      0.00      0.00       982\n",
      "           5       0.00      0.00      0.00       892\n",
      "           6       0.00      0.00      0.00       958\n",
      "           7       0.00      0.00      0.00      1028\n",
      "           8       0.00      0.00      0.00       974\n",
      "           9       0.00      0.00      0.00      1009\n",
      "\n",
      "    accuracy                           0.11     10000\n",
      "   macro avg       0.01      0.10      0.02     10000\n",
      "weighted avg       0.01      0.11      0.02     10000\n",
      "\n"
     ]
    },
    {
     "name": "stderr",
     "output_type": "stream",
     "text": [
      "/opt/homebrew/anaconda3/envs/ML/lib/python3.9/site-packages/sklearn/metrics/_classification.py:1318: UndefinedMetricWarning: Precision and F-score are ill-defined and being set to 0.0 in labels with no predicted samples. Use `zero_division` parameter to control this behavior.\n",
      "  _warn_prf(average, modifier, msg_start, len(result))\n",
      "/opt/homebrew/anaconda3/envs/ML/lib/python3.9/site-packages/sklearn/metrics/_classification.py:1318: UndefinedMetricWarning: Precision and F-score are ill-defined and being set to 0.0 in labels with no predicted samples. Use `zero_division` parameter to control this behavior.\n",
      "  _warn_prf(average, modifier, msg_start, len(result))\n",
      "/opt/homebrew/anaconda3/envs/ML/lib/python3.9/site-packages/sklearn/metrics/_classification.py:1318: UndefinedMetricWarning: Precision and F-score are ill-defined and being set to 0.0 in labels with no predicted samples. Use `zero_division` parameter to control this behavior.\n",
      "  _warn_prf(average, modifier, msg_start, len(result))\n"
     ]
    }
   ],
   "source": [
    "numOfEpochs = len(history.history['loss'])\n",
    "print(\"Epochs: \", numOfEpochs)\n",
    "\n",
    "print(\"\\nTest Data: Loss & Accuracy: \", model.evaluate(X_test, y_test, verbose=0))\n",
    "\n",
    "# model.predict() method returns 10 probabilities per class for each instance (Dimension Nx10)\n",
    "y_test_predicted = model.predict(X_test)\n",
    "y_test_predicted = np.argmax(y_test_predicted, axis=1) # get the label/index of the highest probability class\n",
    "\n",
    "\n",
    "y_train_predicted = model.predict(X_train)\n",
    "y_train_predicted = np.argmax(y_train_predicted, axis=1) # get the label/index of the highest probability class\n",
    "\n",
    "train_accuracy = np.mean(y_train_predicted == y_train)\n",
    "print(\"\\nTrain Accuracy: \", train_accuracy)\n",
    "\n",
    "test_accuracy = np.mean(y_test_predicted == y_test)\n",
    "print(\"\\nTest Accuracy: \", test_accuracy)\n",
    "\n",
    "print(\"\\nTest Confusion Matrix:\")\n",
    "print(confusion_matrix(y_test, y_test_predicted))\n",
    "\n",
    "print(\"\\nClassification Report:\")\n",
    "print(classification_report(y_test, y_test_predicted))"
   ]
  },
  {
   "cell_type": "markdown",
   "id": "eb889b4f",
   "metadata": {},
   "source": [
    "##### Plot Learning Curves"
   ]
  },
  {
   "cell_type": "code",
   "execution_count": 52,
   "id": "26c1cc9a",
   "metadata": {
    "scrolled": false
   },
   "outputs": [
    {
     "data": {
      "image/png": "[encoded data removed]",
      "text/plain": [
       "<Figure size 1296x432 with 2 Axes>"
      ]
     },
     "metadata": {
      "needs_background": "light"
     },
     "output_type": "display_data"
    }
   ],
   "source": [
    "plt.figure(figsize=(18,6))\n",
    "\n",
    "plt.subplot(121)\n",
    "plt.plot(range(1,numOfEpochs+1),history.history['val_accuracy'],label='validation')\n",
    "plt.plot(range(1,numOfEpochs+1),history.history['accuracy'],label='training')\n",
    "plt.legend(loc=0)\n",
    "plt.xlabel('Epochs')\n",
    "plt.ylabel('Accuracy')\n",
    "plt.xlim([1,numOfEpochs])\n",
    "plt.grid(True)\n",
    "plt.title(\"Model Accuracy\")\n",
    "\n",
    "plt.subplot(122)\n",
    "plt.plot(range(1,numOfEpochs+1),history.history['val_loss'],label='validation')\n",
    "plt.plot(range(1,numOfEpochs+1),history.history['loss'],label='training')\n",
    "plt.legend(loc=0)\n",
    "plt.xlabel('Epochs')\n",
    "plt.ylabel('Loss')\n",
    "plt.xlim([1,numOfEpochs])\n",
    "plt.grid(True)\n",
    "plt.title(\"Model Loss\")\n",
    "\n",
    "plt.show() "
   ]
  },
  {
   "cell_type": "markdown",
   "id": "967d16b4",
   "metadata": {},
   "source": [
    "#### Experiment 10"
   ]
  },
  {
   "cell_type": "markdown",
   "id": "b03250d7",
   "metadata": {},
   "source": [
    "##### Build the MLP Model"
   ]
  },
  {
   "cell_type": "code",
   "execution_count": 57,
   "id": "64f357cc",
   "metadata": {
    "scrolled": true
   },
   "outputs": [
    {
     "name": "stdout",
     "output_type": "stream",
     "text": [
      "Model: \"MLP_Multiclass_Classifier\"\n",
      "_________________________________________________________________\n",
      "Layer (type)                 Output Shape              Param #   \n",
      "=================================================================\n",
      "flatten (Flatten)            (None, 784)               0         \n",
      "_________________________________________________________________\n",
      "dense (Dense)                (None, 100)               78500     \n",
      "_________________________________________________________________\n",
      "dense_1 (Dense)              (None, 100)               10100     \n",
      "_________________________________________________________________\n",
      "dense_2 (Dense)              (None, 100)               10100     \n",
      "_________________________________________________________________\n",
      "dense_3 (Dense)              (None, 100)               10100     \n",
      "_________________________________________________________________\n",
      "dense_4 (Dense)              (None, 100)               10100     \n",
      "_________________________________________________________________\n",
      "dense_5 (Dense)              (None, 100)               10100     \n",
      "_________________________________________________________________\n",
      "dense_6 (Dense)              (None, 100)               10100     \n",
      "_________________________________________________________________\n",
      "dense_7 (Dense)              (None, 100)               10100     \n",
      "_________________________________________________________________\n",
      "dense_8 (Dense)              (None, 100)               10100     \n",
      "_________________________________________________________________\n",
      "dense_9 (Dense)              (None, 100)               10100     \n",
      "_________________________________________________________________\n",
      "dense_10 (Dense)             (None, 100)               10100     \n",
      "_________________________________________________________________\n",
      "dense_11 (Dense)             (None, 100)               10100     \n",
      "_________________________________________________________________\n",
      "dense_12 (Dense)             (None, 100)               10100     \n",
      "_________________________________________________________________\n",
      "dense_13 (Dense)             (None, 100)               10100     \n",
      "_________________________________________________________________\n",
      "dense_14 (Dense)             (None, 100)               10100     \n",
      "_________________________________________________________________\n",
      "dense_15 (Dense)             (None, 100)               10100     \n",
      "_________________________________________________________________\n",
      "dense_16 (Dense)             (None, 100)               10100     \n",
      "_________________________________________________________________\n",
      "dense_17 (Dense)             (None, 100)               10100     \n",
      "_________________________________________________________________\n",
      "dense_18 (Dense)             (None, 100)               10100     \n",
      "_________________________________________________________________\n",
      "dense_19 (Dense)             (None, 100)               10100     \n",
      "_________________________________________________________________\n",
      "dense_20 (Dense)             (None, 10)                1010      \n",
      "=================================================================\n",
      "Total params: 271,410\n",
      "Trainable params: 271,410\n",
      "Non-trainable params: 0\n",
      "_________________________________________________________________\n",
      "CPU times: user 126 ms, sys: 13.3 ms, total: 139 ms\n",
      "Wall time: 129 ms\n"
     ]
    }
   ],
   "source": [
    "%%time\n",
    "\n",
    "'''\n",
    "Delete the TensorFlow graph before creating a new model, otherwise memory overflow will occur.\n",
    "'''\n",
    "tf.keras.backend.clear_session()\n",
    "\n",
    "'''\n",
    "To reproduce the same result by the model in each iteration, we use fixed seeds for random number generation. \n",
    "'''\n",
    "np.random.seed(42)\n",
    "tf.random.set_seed(42)\n",
    "\n",
    "\n",
    "'''\n",
    "Set the values for weight initializer and activation function\n",
    "'''\n",
    "kernel_initializer = 'random_normal'\n",
    "activation = 'relu'\n",
    "number_of_classes = 10\n",
    "\n",
    "\n",
    "'''\n",
    "Create a Sequential model composed of a single stack of layers connected sequentially. \n",
    "- Add the layers one by one.\n",
    "- Apply Dropout regularization\n",
    "'''\n",
    "model = tf.keras.models.Sequential(name=\"MLP_Multiclass_Classifier\")\n",
    "model.add(tf.keras.layers.Flatten(input_shape=[28, 28]))\n",
    "# hidden layers\n",
    "model.add(tf.keras.layers.Dense(units=100, kernel_initializer=kernel_initializer, activation=activation, \n",
    "                             bias_initializer=\"zeros\"))\n",
    "model.add(tf.keras.layers.Dense(units=100, kernel_initializer=kernel_initializer, activation=activation,\n",
    "                            bias_initializer=\"zeros\"))\n",
    "model.add(tf.keras.layers.Dense(units=100, kernel_initializer=kernel_initializer, activation=activation,\n",
    "                            bias_initializer=\"zeros\"))\n",
    "model.add(tf.keras.layers.Dense(units=100, kernel_initializer=kernel_initializer, activation=activation,\n",
    "                            bias_initializer=\"zeros\"))\n",
    "model.add(tf.keras.layers.Dense(units=100, kernel_initializer=kernel_initializer, activation=activation,\n",
    "                            bias_initializer=\"zeros\"))\n",
    "model.add(tf.keras.layers.Dense(units=100, kernel_initializer=kernel_initializer, activation=activation,\n",
    "                            bias_initializer=\"zeros\"))\n",
    "model.add(tf.keras.layers.Dense(units=100, kernel_initializer=kernel_initializer, activation=activation,\n",
    "                            bias_initializer=\"zeros\"))\n",
    "model.add(tf.keras.layers.Dense(units=100, kernel_initializer=kernel_initializer, activation=activation,\n",
    "                            bias_initializer=\"zeros\"))\n",
    "model.add(tf.keras.layers.Dense(units=100, kernel_initializer=kernel_initializer, activation=activation,\n",
    "                            bias_initializer=\"zeros\"))\n",
    "model.add(tf.keras.layers.Dense(units=100, kernel_initializer=kernel_initializer, activation=activation,\n",
    "                            bias_initializer=\"zeros\"))\n",
    "model.add(tf.keras.layers.Dense(units=100, kernel_initializer=kernel_initializer, activation=activation, \n",
    "                             bias_initializer=\"zeros\"))\n",
    "model.add(tf.keras.layers.Dense(units=100, kernel_initializer=kernel_initializer, activation=activation,\n",
    "                            bias_initializer=\"zeros\"))\n",
    "model.add(tf.keras.layers.Dense(units=100, kernel_initializer=kernel_initializer, activation=activation,\n",
    "                            bias_initializer=\"zeros\"))\n",
    "model.add(tf.keras.layers.Dense(units=100, kernel_initializer=kernel_initializer, activation=activation,\n",
    "                            bias_initializer=\"zeros\"))\n",
    "model.add(tf.keras.layers.Dense(units=100, kernel_initializer=kernel_initializer, activation=activation,\n",
    "                            bias_initializer=\"zeros\"))\n",
    "model.add(tf.keras.layers.Dense(units=100, kernel_initializer=kernel_initializer, activation=activation,\n",
    "                            bias_initializer=\"zeros\"))\n",
    "model.add(tf.keras.layers.Dense(units=100, kernel_initializer=kernel_initializer, activation=activation,\n",
    "                            bias_initializer=\"zeros\"))\n",
    "model.add(tf.keras.layers.Dense(units=100, kernel_initializer=kernel_initializer, activation=activation,\n",
    "                            bias_initializer=\"zeros\"))\n",
    "model.add(tf.keras.layers.Dense(units=100, kernel_initializer=kernel_initializer, activation=activation,\n",
    "                            bias_initializer=\"zeros\"))\n",
    "model.add(tf.keras.layers.Dense(units=100, kernel_initializer=kernel_initializer, activation=activation,\n",
    "                            bias_initializer=\"zeros\"))\n",
    "# output layer\n",
    "model.add(tf.keras.layers.Dense(units=number_of_classes, kernel_initializer=kernel_initializer, \n",
    "                             activation=\"softmax\"))\n",
    "\n",
    "model.summary()"
   ]
  },
  {
   "cell_type": "markdown",
   "id": "21f03330",
   "metadata": {},
   "source": [
    "##### Train the MLP Model"
   ]
  },
  {
   "cell_type": "code",
   "execution_count": 58,
   "id": "b710d355",
   "metadata": {},
   "outputs": [
    {
     "name": "stdout",
     "output_type": "stream",
     "text": [
      "Epoch 1/50\n",
      "860/860 [==============================] - 9s 10ms/step - loss: 2.3018 - accuracy: 0.1109 - val_loss: 2.3013 - val_accuracy: 0.1126\n",
      "Epoch 2/50\n",
      "860/860 [==============================] - 9s 11ms/step - loss: 2.3011 - accuracy: 0.1158 - val_loss: 2.3006 - val_accuracy: 0.1126\n",
      "Epoch 3/50\n",
      "860/860 [==============================] - 8s 9ms/step - loss: 2.3011 - accuracy: 0.1157 - val_loss: 2.3011 - val_accuracy: 0.1126\n",
      "Epoch 4/50\n",
      "860/860 [==============================] - 9s 10ms/step - loss: 2.3014 - accuracy: 0.1133 - val_loss: 2.3012 - val_accuracy: 0.1126\n",
      "Epoch 5/50\n",
      "860/860 [==============================] - 7s 8ms/step - loss: 2.3015 - accuracy: 0.1134 - val_loss: 2.3023 - val_accuracy: 0.1126\n",
      "Epoch 6/50\n",
      "860/860 [==============================] - 7s 8ms/step - loss: 2.3016 - accuracy: 0.1135 - val_loss: 2.3013 - val_accuracy: 0.1126\n",
      "Epoch 7/50\n",
      "860/860 [==============================] - 7s 9ms/step - loss: 2.3015 - accuracy: 0.1111 - val_loss: 2.3011 - val_accuracy: 0.1126\n",
      "Epoch 8/50\n",
      "860/860 [==============================] - 7s 8ms/step - loss: 2.3016 - accuracy: 0.1124 - val_loss: 2.3009 - val_accuracy: 0.1126\n",
      "Epoch 9/50\n",
      "860/860 [==============================] - 8s 10ms/step - loss: 2.3016 - accuracy: 0.1128 - val_loss: 2.3018 - val_accuracy: 0.1126\n",
      "Epoch 10/50\n",
      "860/860 [==============================] - 9s 10ms/step - loss: 2.3018 - accuracy: 0.1104 - val_loss: 2.3011 - val_accuracy: 0.1126\n",
      "Epoch 11/50\n",
      "860/860 [==============================] - 10s 11ms/step - loss: 2.3016 - accuracy: 0.1117 - val_loss: 2.3010 - val_accuracy: 0.1126\n",
      "Epoch 12/50\n",
      "860/860 [==============================] - 7s 9ms/step - loss: 2.3015 - accuracy: 0.1119 - val_loss: 2.3014 - val_accuracy: 0.1126\n",
      "Epoch 00012: early stopping\n",
      "CPU times: user 3min, sys: 8.82 s, total: 3min 9s\n",
      "Wall time: 1min 37s\n"
     ]
    }
   ],
   "source": [
    "%%time\n",
    "\n",
    "'''\n",
    "Define the optimizer\n",
    "'''\n",
    "optimizer = tf.keras.optimizers.SGD(learning_rate=0.1)\n",
    "\n",
    "\n",
    "'''\n",
    "Compile the model\n",
    "'''\n",
    "model.compile(loss=\"sparse_categorical_crossentropy\",\n",
    "              optimizer=optimizer,\n",
    "              metrics=[\"accuracy\"])\n",
    "\n",
    "\n",
    "\n",
    "'''\n",
    "Create the early stopping callback function.\n",
    "'''\n",
    "early_stopping_cb = tf.keras.callbacks.EarlyStopping(monitor='val_loss',\n",
    "                                  min_delta=0, \n",
    "                                  patience=10, \n",
    "                                  verbose=1, \n",
    "                                  mode='auto',\n",
    "                                  restore_best_weights=False)\n",
    "\n",
    "'''\n",
    "Set the epochs and mini batch size\n",
    "'''\n",
    "no_of_epochs = 50\n",
    "size_of_mini_batch = 64\n",
    "\n",
    "\n",
    "'''\n",
    "Train the model\n",
    "'''\n",
    "history = model.fit(X_train, y_train, \n",
    "                    batch_size=size_of_mini_batch, \n",
    "                    epochs=no_of_epochs,\n",
    "                    verbose=1,\n",
    "                    validation_data=(X_valid, y_valid),\n",
    "                    callbacks=[early_stopping_cb])"
   ]
  },
  {
   "cell_type": "markdown",
   "id": "61f787ef",
   "metadata": {},
   "source": [
    "##### History object"
   ]
  },
  {
   "cell_type": "code",
   "execution_count": 59,
   "id": "b23ffa77",
   "metadata": {
    "scrolled": true
   },
   "outputs": [
    {
     "name": "stdout",
     "output_type": "stream",
     "text": [
      "Training Parameters:  {'verbose': 1, 'epochs': 50, 'steps': 860}\n",
      "\n",
      "List of Epochs:  [0, 1, 2, 3, 4, 5, 6, 7, 8, 9, 10, 11]\n",
      "\n",
      "Evaluation Metrics:  dict_keys(['loss', 'accuracy', 'val_loss', 'val_accuracy'])\n"
     ]
    }
   ],
   "source": [
    "print(\"Training Parameters: \", history.params)\n",
    "print(\"\\nList of Epochs: \", history.epoch)\n",
    "print(\"\\nEvaluation Metrics: \", history.history.keys())"
   ]
  },
  {
   "cell_type": "markdown",
   "id": "789a29ff",
   "metadata": {},
   "source": [
    "##### Model evaluation"
   ]
  },
  {
   "cell_type": "code",
   "execution_count": 60,
   "id": "2a181d8e",
   "metadata": {},
   "outputs": [
    {
     "name": "stdout",
     "output_type": "stream",
     "text": [
      "Epochs:  12\n",
      "\n",
      "Test Data: Loss & Accuracy:  [2.30120849609375, 0.11349999904632568]\n",
      "\n",
      "Train Accuracy:  0.11234545454545454\n",
      "\n",
      "Test Accuracy:  0.1135\n",
      "\n",
      "Test Confusion Matrix:\n",
      "[[   0  980    0    0    0    0    0    0    0    0]\n",
      " [   0 1135    0    0    0    0    0    0    0    0]\n",
      " [   0 1032    0    0    0    0    0    0    0    0]\n",
      " [   0 1010    0    0    0    0    0    0    0    0]\n",
      " [   0  982    0    0    0    0    0    0    0    0]\n",
      " [   0  892    0    0    0    0    0    0    0    0]\n",
      " [   0  958    0    0    0    0    0    0    0    0]\n",
      " [   0 1028    0    0    0    0    0    0    0    0]\n",
      " [   0  974    0    0    0    0    0    0    0    0]\n",
      " [   0 1009    0    0    0    0    0    0    0    0]]\n",
      "\n",
      "Classification Report:\n",
      "              precision    recall  f1-score   support\n",
      "\n",
      "           0       0.00      0.00      0.00       980\n",
      "           1       0.11      1.00      0.20      1135\n",
      "           2       0.00      0.00      0.00      1032\n",
      "           3       0.00      0.00      0.00      1010\n",
      "           4       0.00      0.00      0.00       982\n",
      "           5       0.00      0.00      0.00       892\n",
      "           6       0.00      0.00      0.00       958\n",
      "           7       0.00      0.00      0.00      1028\n",
      "           8       0.00      0.00      0.00       974\n",
      "           9       0.00      0.00      0.00      1009\n",
      "\n",
      "    accuracy                           0.11     10000\n",
      "   macro avg       0.01      0.10      0.02     10000\n",
      "weighted avg       0.01      0.11      0.02     10000\n",
      "\n"
     ]
    },
    {
     "name": "stderr",
     "output_type": "stream",
     "text": [
      "/opt/homebrew/anaconda3/envs/ML/lib/python3.9/site-packages/sklearn/metrics/_classification.py:1318: UndefinedMetricWarning: Precision and F-score are ill-defined and being set to 0.0 in labels with no predicted samples. Use `zero_division` parameter to control this behavior.\n",
      "  _warn_prf(average, modifier, msg_start, len(result))\n",
      "/opt/homebrew/anaconda3/envs/ML/lib/python3.9/site-packages/sklearn/metrics/_classification.py:1318: UndefinedMetricWarning: Precision and F-score are ill-defined and being set to 0.0 in labels with no predicted samples. Use `zero_division` parameter to control this behavior.\n",
      "  _warn_prf(average, modifier, msg_start, len(result))\n",
      "/opt/homebrew/anaconda3/envs/ML/lib/python3.9/site-packages/sklearn/metrics/_classification.py:1318: UndefinedMetricWarning: Precision and F-score are ill-defined and being set to 0.0 in labels with no predicted samples. Use `zero_division` parameter to control this behavior.\n",
      "  _warn_prf(average, modifier, msg_start, len(result))\n"
     ]
    }
   ],
   "source": [
    "numOfEpochs = len(history.history['loss'])\n",
    "print(\"Epochs: \", numOfEpochs)\n",
    "\n",
    "print(\"\\nTest Data: Loss & Accuracy: \", model.evaluate(X_test, y_test, verbose=0))\n",
    "\n",
    "# model.predict() method returns 10 probabilities per class for each instance (Dimension Nx10)\n",
    "y_test_predicted = model.predict(X_test)\n",
    "y_test_predicted = np.argmax(y_test_predicted, axis=1) # get the label/index of the highest probability class\n",
    "\n",
    "\n",
    "y_train_predicted = model.predict(X_train)\n",
    "y_train_predicted = np.argmax(y_train_predicted, axis=1) # get the label/index of the highest probability class\n",
    "\n",
    "train_accuracy = np.mean(y_train_predicted == y_train)\n",
    "print(\"\\nTrain Accuracy: \", train_accuracy)\n",
    "\n",
    "test_accuracy = np.mean(y_test_predicted == y_test)\n",
    "print(\"\\nTest Accuracy: \", test_accuracy)\n",
    "\n",
    "print(\"\\nTest Confusion Matrix:\")\n",
    "print(confusion_matrix(y_test, y_test_predicted))\n",
    "\n",
    "print(\"\\nClassification Report:\")\n",
    "print(classification_report(y_test, y_test_predicted))"
   ]
  },
  {
   "cell_type": "markdown",
   "id": "768c4e21",
   "metadata": {},
   "source": [
    "##### Plot Learning Curves"
   ]
  },
  {
   "cell_type": "code",
   "execution_count": 61,
   "id": "6b57aad4",
   "metadata": {
    "scrolled": false
   },
   "outputs": [
    {
     "data": {
      "image/png": "[encoded data removed]",
      "text/plain": [
       "<Figure size 1296x432 with 2 Axes>"
      ]
     },
     "metadata": {
      "needs_background": "light"
     },
     "output_type": "display_data"
    }
   ],
   "source": [
    "plt.figure(figsize=(18,6))\n",
    "\n",
    "plt.subplot(121)\n",
    "plt.plot(range(1,numOfEpochs+1),history.history['val_accuracy'],label='validation')\n",
    "plt.plot(range(1,numOfEpochs+1),history.history['accuracy'],label='training')\n",
    "plt.legend(loc=0)\n",
    "plt.xlabel('Epochs')\n",
    "plt.ylabel('Accuracy')\n",
    "plt.xlim([1,numOfEpochs])\n",
    "plt.grid(True)\n",
    "plt.title(\"Model Accuracy\")\n",
    "\n",
    "plt.subplot(122)\n",
    "plt.plot(range(1,numOfEpochs+1),history.history['val_loss'],label='validation')\n",
    "plt.plot(range(1,numOfEpochs+1),history.history['loss'],label='training')\n",
    "plt.legend(loc=0)\n",
    "plt.xlabel('Epochs')\n",
    "plt.ylabel('Loss')\n",
    "plt.xlim([1,numOfEpochs])\n",
    "plt.grid(True)\n",
    "plt.title(\"Model Loss\")\n",
    "\n",
    "plt.show() "
   ]
  },
  {
   "cell_type": "code",
   "execution_count": null,
   "id": "58386003",
   "metadata": {},
   "outputs": [],
   "source": []
  }
 ],
 "metadata": {
  "kernelspec": {
   "display_name": "Python 3 (ipykernel)",
   "language": "python",
   "name": "python3"
  },
  "language_info": {
   "codemirror_mode": {
    "name": "ipython",
    "version": 3
   },
   "file_extension": ".py",
   "mimetype": "text/x-python",
   "name": "python",
   "nbconvert_exporter": "python",
   "pygments_lexer": "ipython3",
   "version": "3.9.9"
  }
 },
 "nbformat": 4,
 "nbformat_minor": 5
}
